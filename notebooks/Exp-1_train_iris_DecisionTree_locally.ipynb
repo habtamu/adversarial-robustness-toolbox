{
 "cells": [
  {
   "cell_type": "markdown",
   "metadata": {},
   "source": [
    "<table style=\"border: none\" align=\"center\">\n",
    "   <tr style=\"border: none\">\n",
    "      <th style=\"border: none\"><font face=\"verdana\" size=\"4\" color=\"black\"><b>  EXP:1 Decision Tree  </b></font></font></th>\n",
    "   </tr> \n",
    "</table>"
   ]
  },
  {
   "cell_type": "markdown",
   "metadata": {},
   "source": [
    "In this notebook we demonstrate Model training and adversarial training using ART on the IRIS dataset.\n",
    "\n",
    "## Contents\n",
    "\n",
    "1.\t[Load prereqs and data](#prereqs)\n",
    "2.  [Data scale, Train and evaluate a baseline classifier](#classifier)\n",
    "3.  [Adversarially train a robust classifier](#adv_training)\n",
    "4.\t[Evaluate the robust classifier](#evaluation)"
   ]
  },
  {
   "cell_type": "markdown",
   "metadata": {},
   "source": [
    "<a id=\"prereqs\"></a>\n",
    "## 1. Load prereqs and data"
   ]
  },
  {
   "cell_type": "code",
   "execution_count": 32,
   "metadata": {},
   "outputs": [
    {
     "name": "stdin",
     "output_type": "stream",
     "text": [
      "Once deleted, variables cannot be recovered. Proceed (y/[n])?  y\n"
     ]
    }
   ],
   "source": [
    "%reset"
   ]
  },
  {
   "cell_type": "code",
   "execution_count": 33,
   "metadata": {},
   "outputs": [
    {
     "name": "stdout",
     "output_type": "stream",
     "text": [
      "2020-11-24T23:09:38+01:00\n",
      "\n",
      "CPython 3.8.3\n",
      "IPython 7.19.0\n",
      "\n",
      "compiler   : MSC v.1916 64 bit (AMD64)\n",
      "system     : Windows\n",
      "release    : 7\n",
      "machine    : AMD64\n",
      "processor  : Intel64 Family 6 Model 37 Stepping 5, GenuineIntel\n",
      "CPU cores  : 4\n",
      "interpreter: 64bit\n"
     ]
    }
   ],
   "source": [
    "%watermark"
   ]
  },
  {
   "cell_type": "code",
   "execution_count": 34,
   "metadata": {},
   "outputs": [],
   "source": [
    "# Initialization:\n",
    "%reload_ext autoreload\n",
    "%autoreload 2\n",
    "\n",
    "# import warnings filter\n",
    "import warnings\n",
    "warnings.filterwarnings('ignore')\n",
    "# ignore all future warnings\n",
    "warnings.simplefilter(action='ignore', category=FutureWarning)"
   ]
  },
  {
   "cell_type": "code",
   "execution_count": 37,
   "metadata": {},
   "outputs": [
    {
     "name": "stdout",
     "output_type": "stream",
     "text": [
      "Habtamu desalegn \n",
      "last updated: 2020-11-24 \n",
      "\n",
      "CPython 3.8.3\n",
      "IPython 7.19.0\n",
      "\n",
      "numpy 1.19.4\n",
      "pandas 1.1.3\n",
      "scipy 1.5.3\n",
      "matplotlib 3.3.3\n",
      "sklearn 0.23.2\n",
      "mlxtend 0.17.3\n"
     ]
    }
   ],
   "source": [
    "%reload_ext watermark\n",
    "%watermark  -d -u -a \"Habtamu desalegn\" -v -p numpy,pandas,scipy,matplotlib,sklearn,mlxtend"
   ]
  },
  {
   "cell_type": "code",
   "execution_count": 36,
   "metadata": {},
   "outputs": [],
   "source": [
    "# Downloading the Libraries and Dependencies:\n",
    "import os\n",
    "import numpy as np\n",
    "import pandas as pd\n",
    "from IPython.display import Image\n",
    "from typing import Tuple\n",
    "\n",
    "%matplotlib inline\n",
    "import matplotlib.pyplot as plt"
   ]
  },
  {
   "cell_type": "markdown",
   "metadata": {},
   "source": [
    "#### Loading the IRIS dataset"
   ]
  },
  {
   "cell_type": "code",
   "execution_count": 38,
   "metadata": {},
   "outputs": [
    {
     "data": {
      "text/html": [
       "<div>\n",
       "<style scoped>\n",
       "    .dataframe tbody tr th:only-of-type {\n",
       "        vertical-align: middle;\n",
       "    }\n",
       "\n",
       "    .dataframe tbody tr th {\n",
       "        vertical-align: top;\n",
       "    }\n",
       "\n",
       "    .dataframe thead th {\n",
       "        text-align: right;\n",
       "    }\n",
       "</style>\n",
       "<table border=\"1\" class=\"dataframe\">\n",
       "  <thead>\n",
       "    <tr style=\"text-align: right;\">\n",
       "      <th></th>\n",
       "      <th>sepal_length</th>\n",
       "      <th>sepal_width</th>\n",
       "      <th>petal_length</th>\n",
       "      <th>petal_width</th>\n",
       "      <th>species</th>\n",
       "    </tr>\n",
       "  </thead>\n",
       "  <tbody>\n",
       "    <tr>\n",
       "      <th>0</th>\n",
       "      <td>5.1</td>\n",
       "      <td>3.5</td>\n",
       "      <td>1.4</td>\n",
       "      <td>0.2</td>\n",
       "      <td>Iris-setosa</td>\n",
       "    </tr>\n",
       "    <tr>\n",
       "      <th>1</th>\n",
       "      <td>4.9</td>\n",
       "      <td>3.0</td>\n",
       "      <td>1.4</td>\n",
       "      <td>0.2</td>\n",
       "      <td>Iris-setosa</td>\n",
       "    </tr>\n",
       "    <tr>\n",
       "      <th>2</th>\n",
       "      <td>4.7</td>\n",
       "      <td>3.2</td>\n",
       "      <td>1.3</td>\n",
       "      <td>0.2</td>\n",
       "      <td>Iris-setosa</td>\n",
       "    </tr>\n",
       "    <tr>\n",
       "      <th>3</th>\n",
       "      <td>4.6</td>\n",
       "      <td>3.1</td>\n",
       "      <td>1.5</td>\n",
       "      <td>0.2</td>\n",
       "      <td>Iris-setosa</td>\n",
       "    </tr>\n",
       "    <tr>\n",
       "      <th>4</th>\n",
       "      <td>5.0</td>\n",
       "      <td>3.6</td>\n",
       "      <td>1.4</td>\n",
       "      <td>0.2</td>\n",
       "      <td>Iris-setosa</td>\n",
       "    </tr>\n",
       "  </tbody>\n",
       "</table>\n",
       "</div>"
      ],
      "text/plain": [
       "   sepal_length  sepal_width  petal_length  petal_width      species\n",
       "0           5.1          3.5           1.4          0.2  Iris-setosa\n",
       "1           4.9          3.0           1.4          0.2  Iris-setosa\n",
       "2           4.7          3.2           1.3          0.2  Iris-setosa\n",
       "3           4.6          3.1           1.5          0.2  Iris-setosa\n",
       "4           5.0          3.6           1.4          0.2  Iris-setosa"
      ]
     },
     "execution_count": 38,
     "metadata": {},
     "output_type": "execute_result"
    }
   ],
   "source": [
    "COLUMNS = [\"sepal_length\",\"sepal_width\",\"petal_length\",\"petal_width\",\"species\"]\n",
    "PATH = 'https://archive.ics.uci.edu/ml/machine-learning-databases/iris/iris.data'\n",
    "df = pd.read_csv(PATH, header=None, index_col=None, names = COLUMNS)\n",
    "df.head()"
   ]
  },
  {
   "cell_type": "code",
   "execution_count": 39,
   "metadata": {},
   "outputs": [],
   "source": [
    "from sklearn.preprocessing import LabelEncoder\n",
    "\n",
    "X = df.drop('species', axis=1).values\n",
    "y = df['species']\n",
    "\n",
    "enc = LabelEncoder()\n",
    "y = enc.fit_transform(y)"
   ]
  },
  {
   "cell_type": "code",
   "execution_count": 40,
   "metadata": {},
   "outputs": [],
   "source": [
    "from sklearn.model_selection import train_test_split\n",
    "X_train, X_test, y_train, y_test = train_test_split(X, y, test_size=0.3,random_state=42,shuffle=True)"
   ]
  },
  {
   "cell_type": "code",
   "execution_count": 41,
   "metadata": {},
   "outputs": [
    {
     "name": "stdout",
     "output_type": "stream",
     "text": [
      "X_train.shape: (105, 4)\n",
      "y_train.shape: (105,)\n",
      "X_test.shape: (45, 4)\n",
      "y_test.shape: (45,)\n"
     ]
    }
   ],
   "source": [
    "print(f'X_train.shape: {X_train.shape}')\n",
    "print(f'y_train.shape: {y_train.shape}')\n",
    "print(f'X_test.shape: {X_test.shape}')\n",
    "print(f'y_test.shape: {y_test.shape}')"
   ]
  },
  {
   "cell_type": "markdown",
   "metadata": {},
   "source": [
    "<a id=\"classifier\"></a>\n",
    "## 2. Preprocess ,Train and Evaluate a classifier\n",
    "\n",
    "1. [Data Scaling](#2_1)\n",
    "2. [Train a model: DecisionTree](#2_2)\n",
    "3. [Evaluate the model](#2_3)"
   ]
  },
  {
   "cell_type": "markdown",
   "metadata": {},
   "source": [
    "<a id=\"2_1\"></a>\n",
    "### 1. Data Scaling\n",
    "\n",
    "Bringing features onto the same scale"
   ]
  },
  {
   "cell_type": "code",
   "execution_count": 42,
   "metadata": {},
   "outputs": [],
   "source": [
    "from sklearn.preprocessing import MinMaxScaler\n",
    "from sklearn.preprocessing import StandardScaler\n",
    "\n",
    "def preprocess_minmax(X_train: np.ndarray, X_test: np.ndarray) -> Tuple[np.ndarray, np.ndarray]:\n",
    "    \"\"\"\n",
    "    Normalization -- Min-max scaling\n",
    "\n",
    "    Scales `X_train` to [0, 1] , `X_test` to [0, 1]\n",
    "\n",
    "    :param X_train: Data instances.\n",
    "    :param X_test: Data instances.\n",
    "    :return: Rescaled values of `X_train`, `X_test`.\n",
    "    \"\"\"\n",
    "    \n",
    "    # normalize\n",
    "    #print('normalized:', (ex - ex.min()) / (ex.max() - ex.min()))\n",
    "    \n",
    "    mms = MinMaxScaler()\n",
    "    X_train_norm = mms.fit_transform(X_train)\n",
    "    X_test_norm = mms.transform(X_test)\n",
    "    \n",
    "    return X_train_norm, X_test_norm\n",
    "\n",
    "def preprocess_standard(X_train: np.ndarray, X_test: np.ndarray) -> Tuple[np.ndarray, np.ndarray]:\n",
    "    \"\"\"\n",
    "    Standard scaling: Gaussian with zero mean and unit variance\n",
    "\n",
    "    Scales `X_train` to [0, 1] , `X_test` to [0, 1]\n",
    "\n",
    "    :param x: Data instances.\n",
    "    :param y: Labels.\n",
    "    :return: Rescaled values of `x`, `y`.\n",
    "    \"\"\"\n",
    "    \n",
    "    stdsc = StandardScaler()\n",
    "    X_train_std = stdsc.fit_transform(X_train)\n",
    "    X_test_std = stdsc.transform(X_test)\n",
    "    \n",
    "    return X_train_std, X_test_std"
   ]
  },
  {
   "cell_type": "code",
   "execution_count": 43,
   "metadata": {},
   "outputs": [],
   "source": [
    "# Preprocess - Training and testing set\n",
    "### standard\n",
    "#(X_train, X_test) = preprocess_standard(X_train[:,[0,1]], X_test[:,[0,1]])    #  0=sepal length, 1=sepal width\n",
    "(X_train, X_test) = preprocess_standard(X_train[:,2:], X_test[:,2:])           #  2=petal length, 3=petal width\n",
    "\n",
    "### normalize\n",
    "#(X_train, X_test) = preprocess_minmax(X_train[:,[0,1]], X_test[:,[0,1]])     #  0=sepal length, 1=sepal width\n",
    "#(X_train, X_test) = preprocess_minmax(X_train[:,2:], X_test[:,2:])           #  2=petal length, 3=petal width\n",
    "\n",
    "### with out normalization\n",
    "#(X_train, X_test) = X_train[:,[0,1]], X_test[:,[0,1]]      #  0=sepal length, 1=sepal width\n",
    "#(X_train, X_test) = X_train[:,2:], X_test[:,2:]            #  2=petal length, 3=petal width\n"
   ]
  },
  {
   "cell_type": "markdown",
   "metadata": {},
   "source": [
    "<a id=\"2_2_1\"></a>\n",
    "### 2.1 Training a DecisionTree via scikit-learn"
   ]
  },
  {
   "cell_type": "code",
   "execution_count": 44,
   "metadata": {},
   "outputs": [
    {
     "data": {
      "text/plain": [
       "DecisionTreeClassifier(criterion='entropy', max_depth=4, random_state=42)"
      ]
     },
     "execution_count": 44,
     "metadata": {},
     "output_type": "execute_result"
    }
   ],
   "source": [
    "from sklearn.tree import DecisionTreeClassifier\n",
    "\n",
    "model = DecisionTreeClassifier(criterion='entropy', \n",
    "                              max_depth=4, \n",
    "                              random_state=42)\n",
    "model.fit(X_train, y_train)"
   ]
  },
  {
   "cell_type": "code",
   "execution_count": 46,
   "metadata": {},
   "outputs": [],
   "source": [
    "def plot_decision_regions(X, y, classifier, test_idx=None, resolution=0.02):\n",
    "\n",
    "    # setup marker generator and color map\n",
    "    markers = ('s', 'x', 'o', '^', 'v')\n",
    "    colors = ('red', 'blue', 'lightgreen', 'gray', 'cyan')\n",
    "    cmap = ListedColormap(colors[:len(np.unique(y))])\n",
    "\n",
    "    # plot the decision surface\n",
    "    x1_min, x1_max = X[:, 0].min() - 1, X[:, 0].max() + 1\n",
    "    x2_min, x2_max = X[:, 1].min() - 1, X[:, 1].max() + 1\n",
    "    xx1, xx2 = np.meshgrid(np.arange(x1_min, x1_max, resolution),\n",
    "                           np.arange(x2_min, x2_max, resolution))\n",
    "    Z = classifier.predict(np.array([xx1.ravel(), xx2.ravel()]).T)\n",
    "    Z = Z.reshape(xx1.shape)\n",
    "    plt.contourf(xx1, xx2, Z, alpha=0.3, cmap=cmap)\n",
    "    plt.xlim(xx1.min(), xx1.max())\n",
    "    plt.ylim(xx2.min(), xx2.max())\n",
    "\n",
    "    for idx, cl in enumerate(np.unique(y)):\n",
    "        plt.scatter(x=X[y == cl, 0], \n",
    "                    y=X[y == cl, 1],\n",
    "                    alpha=0.8, \n",
    "                    c=colors[idx],\n",
    "                    marker=markers[idx], \n",
    "                    label=cl, \n",
    "                    edgecolor='black')\n",
    "\n",
    "    # highlight test examples\n",
    "    if test_idx:\n",
    "        # plot all examples\n",
    "        X_test, y_test = X[test_idx, :], y[test_idx]\n",
    "\n",
    "        plt.scatter(X_test[:, 0],\n",
    "                    X_test[:, 1],\n",
    "                    c='',\n",
    "                    edgecolor='black',\n",
    "                    alpha=1.0,\n",
    "                    linewidth=1,\n",
    "                    marker='o',\n",
    "                    s=100, \n",
    "                    label='test set')"
   ]
  },
  {
   "cell_type": "code",
   "execution_count": 47,
   "metadata": {
    "scrolled": true
   },
   "outputs": [
    {
     "data": {
      "image/png": "[encoded data removed]",
      "text/plain": [
       "<Figure size 432x288 with 1 Axes>"
      ]
     },
     "metadata": {
      "needs_background": "light"
     },
     "output_type": "display_data"
    }
   ],
   "source": [
    "plot_decision_regions(X_train, y_train, model)\n",
    "plt.xlabel('petal length [cm]')\n",
    "plt.ylabel('petal width [cm]')\n",
    "plt.legend(loc='upper left')\n",
    "plt.tight_layout()\n",
    "plt.show()"
   ]
  },
  {
   "cell_type": "code",
   "execution_count": 48,
   "metadata": {},
   "outputs": [
    {
     "data": {
      "image/png": "[encoded data removed]",
      "text/plain": [
       "<Figure size 432x288 with 1 Axes>"
      ]
     },
     "metadata": {
      "needs_background": "light"
     },
     "output_type": "display_data"
    }
   ],
   "source": [
    "X_combined = np.vstack((X_train, X_test))\n",
    "y_combined = np.hstack((y_train, y_test))\n",
    "plot_decision_regions(X_combined, y_combined, \n",
    "                      classifier=model,\n",
    "                      test_idx=range(105, 150))\n",
    "\n",
    "plt.xlabel('petal length [cm]')\n",
    "plt.ylabel('petal width [cm]')\n",
    "plt.legend(loc='upper left')\n",
    "plt.tight_layout()\n",
    "plt.show()"
   ]
  },
  {
   "cell_type": "code",
   "execution_count": 49,
   "metadata": {},
   "outputs": [
    {
     "data": {
      "image/png": "[encoded data removed]",
      "text/plain": [
       "<Figure size 720x504 with 1 Axes>"
      ]
     },
     "metadata": {
      "needs_background": "light"
     },
     "output_type": "display_data"
    }
   ],
   "source": [
    "from sklearn.tree import plot_tree\n",
    "\n",
    "\n",
    "plt.figure(figsize=(10, 7))\n",
    "\n",
    "plot_tree(model, \n",
    "          filled=True, \n",
    "          rounded=True,\n",
    "          class_names=['Setosa', \n",
    "                       'Versicolor',\n",
    "                       'Virginica'],\n",
    "          feature_names=['petal length', \n",
    "                         'petal width']) \n",
    "\n",
    "plt.show()"
   ]
  },
  {
   "cell_type": "markdown",
   "metadata": {},
   "source": [
    "<a id=\"2_3\"></a>\n",
    "### Evaluate the model\n",
    "\n",
    "Looking at different performance evaluation metrics"
   ]
  },
  {
   "cell_type": "code",
   "execution_count": 50,
   "metadata": {},
   "outputs": [
    {
     "name": "stdout",
     "output_type": "stream",
     "text": [
      "prediction: [1 0 2 1 1 0 1 2 1 1 2 0 0 0 0 1 2 1 1 2 0 2 0 2 2 2 2 2 0 0 0 0 1 0 0 2 1\n",
      " 0 0 0 2 1 1 0 0]\n",
      "y_true: [1 0 2 1 1 0 1 2 1 1 2 0 0 0 0 1 2 1 1 2 0 2 0 2 2 2 2 2 0 0 0 0 1 0 0 2 1\n",
      " 0 0 0 2 1 1 0 0]\n",
      "Misclassified examples:0\n",
      "confusion matrix:\n",
      " [[19  0  0]\n",
      " [ 0 13  0]\n",
      " [ 0  0 13]]\n",
      "Accuracy: 1.0\n",
      "\n",
      "[Precision]\n",
      "Individual: 1.00, 1.00, 1.00\n",
      "micro: 1.0\n",
      "macro: 1.0\n",
      "\n",
      "[Recall]\n",
      "Individual: 1.00, 1.00, 1.00\n",
      "micro: 1.0\n",
      "macro: 1.0\n",
      "\n",
      "[F1-score]\n",
      "Individual: 1.00, 1.00, 1.00\n",
      "micro: 1.0\n",
      "macro: 1.0\n",
      "\n",
      "[ROC AUC]\n",
      "macro: 1.0\n",
      "\n",
      "classification_report:\n",
      "               precision    recall  f1-score   support\n",
      "\n",
      "           0       1.00      1.00      1.00        19\n",
      "           1       1.00      1.00      1.00        13\n",
      "           2       1.00      1.00      1.00        13\n",
      "\n",
      "    accuracy                           1.00        45\n",
      "   macro avg       1.00      1.00      1.00        45\n",
      "weighted avg       1.00      1.00      1.00        45\n",
      "\n",
      "\n",
      "X_test:\n",
      " [[ 0.48403749 -0.05143998]\n",
      " [-1.26851205 -1.26670948]\n",
      " [ 1.76924049  1.43388941]\n",
      " [ 0.36720086  0.35364985]\n",
      " [ 0.54245581  0.21861991]]\n",
      "\n",
      "class probabilities:\n",
      " [[0. 1. 0.]\n",
      " [1. 0. 0.]\n",
      " [0. 0. 1.]\n",
      " [0. 1. 0.]\n",
      " [0. 1. 0.]]\n",
      "\n",
      "Predicting classes: [1 0 2 1 1]\n"
     ]
    }
   ],
   "source": [
    "from sklearn import metrics\n",
    "from sklearn.preprocessing import LabelBinarizer\n",
    "\n",
    "def multiclass_roc_auc_score(y_test, y_pred, average='macro'):\n",
    "    lb = LabelBinarizer()\n",
    "    y_test_bin = lb.fit_transform(y_test)\n",
    "    y_pred_bin = lb.fit_transform(y_pred)\n",
    "    \n",
    "    return metrics.roc_auc_score(y_test_bin, y_pred_bin, average)\n",
    "\n",
    "\n",
    "y_pred = model.predict(X_test)\n",
    "print(f\"prediction: {y_pred}\")\n",
    "print(f\"y_true: {y_test}\")\n",
    "print(f'Misclassified examples:{(y_test != y_pred).sum()}')\n",
    "\n",
    "# Confusion Matrix\n",
    "conf_mat = metrics.confusion_matrix(y_test, y_pred)\n",
    "print(f\"confusion matrix:\\n {conf_mat}\")\n",
    "\n",
    "# Accuracy\n",
    "accuracy = metrics.accuracy_score(y_test, y_pred)\n",
    "print(f\"Accuracy: {accuracy}\")\n",
    "\n",
    "# Precision\n",
    "print('\\n[Precision]')\n",
    "precision = metrics.precision_score(y_test, y_pred, average=None)\n",
    "print(f'Individual: {precision[0]:.2f}, {precision[1]:.2f}, {precision[2]:.2f}')\n",
    "precision = metrics.precision_score(y_test, y_pred, average='micro')\n",
    "print(f\"micro: {precision}\")\n",
    "precision = metrics.precision_score(y_test, y_pred, average='macro')\n",
    "print(f\"macro: {precision}\")\n",
    "\n",
    "# Recall\n",
    "print('\\n[Recall]')\n",
    "recall = metrics.recall_score(y_test, y_pred, average=None)\n",
    "print(f'Individual: {recall[0]:.2f}, {recall[1]:.2f}, {recall[2]:.2f}')\n",
    "recall = metrics.recall_score(y_test, y_pred, average='micro')\n",
    "print(f\"micro: {recall}\")\n",
    "recall = metrics.recall_score(y_test, y_pred, average='macro')\n",
    "print(f\"macro: {recall}\")\n",
    "\n",
    "# F1\n",
    "print('\\n[F1-score]')\n",
    "f1 = metrics.f1_score(y_test, y_pred, average=None)\n",
    "print(f'Individual: {f1[0]:.2f}, {f1[1]:.2f}, {f1[2]:.2f}')\n",
    "f1 = metrics.f1_score(y_test, y_pred, average='micro')\n",
    "print(f\"micro: {f1}\")\n",
    "f1 = metrics.f1_score(y_test, y_pred, average='macro')\n",
    "print(f\"macro: {f1}\")\n",
    "\n",
    "# AUC\n",
    "print('\\n[ROC AUC]')\n",
    "auc = multiclass_roc_auc_score(y_test, y_pred, average='macro')\n",
    "print(f\"macro: {auc}\")\n",
    "\n",
    "# classification_report\n",
    "print(f\"\\nclassification_report:\\n {metrics.classification_report(y_test, y_pred)}\")\n",
    "\n",
    "# Predicting classes and class probabilities\n",
    "print(f\"\\nX_test:\\n {X_test[0:5,:]}\")\n",
    "print(f\"\\nclass probabilities:\\n {model.predict_proba(X_test[0:5,:])}\")\n",
    "print(f\"\\nPredicting classes: {model.predict(X_test[0:5,:])}\")"
   ]
  },
  {
   "cell_type": "code",
   "execution_count": 52,
   "metadata": {},
   "outputs": [
    {
     "data": {
      "image/png": "[encoded data removed]",
      "text/plain": [
       "<Figure size 180x180 with 1 Axes>"
      ]
     },
     "metadata": {
      "needs_background": "light"
     },
     "output_type": "display_data"
    }
   ],
   "source": [
    "fig, ax = plt.subplots(figsize=(2.5, 2.5))\n",
    "ax.matshow(conf_mat, cmap=plt.cm.Blues, alpha=0.3)\n",
    "for i in range(conf_mat.shape[0]):\n",
    "    for j in range(conf_mat.shape[1]):\n",
    "        ax.text(x=j, y=i, s=conf_mat[i, j], va='center', ha='center')\n",
    "\n",
    "plt.xlabel('Predicted label')\n",
    "plt.ylabel('True label')\n",
    "\n",
    "plt.tight_layout()\n",
    "plt.show()"
   ]
  },
  {
   "cell_type": "code",
   "execution_count": 63,
   "metadata": {},
   "outputs": [
    {
     "data": {
      "text/plain": [
       "array([  2,   3,   4,   5,   6,   7,   8,   9,  10,  11,  12,  13,  14,\n",
       "        15,  16,  17,  18,  19,  20,  21,  22,  23,  24,  25,  26,  27,\n",
       "        28,  29,  30,  31,  32,  33,  34,  35,  36,  37,  38,  39,  40,\n",
       "        41,  42,  43,  44,  45,  46,  47,  48,  49,  50,  51,  52,  53,\n",
       "        54,  55,  56,  57,  58,  59,  60,  61,  62,  63,  64,  65,  66,\n",
       "        67,  68,  69,  70,  71,  72,  73,  74,  75,  76,  77,  78,  79,\n",
       "        80,  81,  82,  83,  84,  85,  86,  87,  88,  89,  90,  91,  92,\n",
       "        93,  94,  95,  96,  97,  98,  99, 100])"
      ]
     },
     "execution_count": 63,
     "metadata": {},
     "output_type": "execute_result"
    }
   ],
   "source": []
  },
  {
   "cell_type": "code",
   "execution_count": 64,
   "metadata": {},
   "outputs": [
    {
     "name": "stdout",
     "output_type": "stream",
     "text": [
      "Max f1_score on max_depth   2  is  1.0\n"
     ]
    },
    {
     "data": {
      "text/plain": [
       "<matplotlib.legend.Legend at 0x15491370>"
      ]
     },
     "execution_count": 64,
     "metadata": {},
     "output_type": "execute_result"
    },
    {
     "data": {
      "image/png": "[encoded data removed]",
      "text/plain": [
       "<Figure size 432x288 with 1 Axes>"
      ]
     },
     "metadata": {
      "needs_background": "light"
     },
     "output_type": "display_data"
    }
   ],
   "source": [
    "# imports\n",
    "import time\n",
    "\n",
    "def train_model(max_depth, X_train, y_train):\n",
    "    t1 = time.time()\n",
    "    model = DecisionTreeClassifier(max_depth = max_depth, random_state=42)\n",
    "    model.fit(X_train, y_train)\n",
    "    t2 = time.time()\n",
    "\n",
    "    return model, t2 - t1\n",
    "\n",
    "\n",
    "def evaluate_model(model, X_test, y_test):\n",
    "    y_pred = model.predict(X_test)\n",
    "    acc = metrics.accuracy_score(y_test, y_pred)\n",
    "    recall = metrics.recall_score(y_test, y_pred, average='macro')\n",
    "    precision = metrics.precision_score(y_test, y_pred, average='macro')\n",
    "    auc = multiclass_roc_auc_score(y_test, y_pred, average='macro')\n",
    "    f1 = metrics.f1_score(y_test, y_pred, average='macro')\n",
    "    \n",
    "    return acc, recall, precision, auc, f1\n",
    "\n",
    "\n",
    "max_c = 0;\n",
    "max_j = 0;\n",
    "\n",
    "y_acc = []\n",
    "y_recall = []\n",
    "y_precision = []\n",
    "y_auc = []\n",
    "y_fsc = []\n",
    "\n",
    "x_vals = np.linspace(2,100,99).astype(int)\n",
    "\n",
    "for j in x_vals:\n",
    "    # train model\n",
    "    clf, train_time = train_model(j , X_train, y_train)\n",
    "    acc, recall, precision, auc, f1 = evaluate_model(clf, X_test, y_test)\n",
    "    y_acc.append(acc)\n",
    "    y_recall.append(recall)\n",
    "    y_precision.append(precision)\n",
    "    y_auc.append(auc)\n",
    "    y_fsc.append(f1)\n",
    "    \n",
    "    if f1 > max_c:\n",
    "        max_c = f1\n",
    "        max_j = j\n",
    "        \n",
    "    \n",
    "print(\"Max f1_score on max_depth  \",  max_j, \" is \", max_c)\n",
    "plt.figure()\n",
    "plt.xlabel('Number of trees')\n",
    "plt.ylabel('score')\n",
    "plt.title('Decision Tree')\n",
    "plt.plot(x_vals, y_fsc, color = \"green\", label = \"f1_score\")\n",
    "plt.plot(x_vals, y_auc, color = \"red\", label = \"roc_auc_score\")\n",
    "plt.plot(x_vals, y_acc, color = \"black\", label = \"accuracy_score\")\n",
    "\n",
    "plt.legend()"
   ]
  },
  {
   "cell_type": "markdown",
   "metadata": {},
   "source": [
    "## 5 Adversarial-Robustness-Toolbox for scikit-learn DecisionTree"
   ]
  },
  {
   "cell_type": "code",
   "execution_count": 34,
   "metadata": {},
   "outputs": [],
   "source": [
    "from sklearn.tree import DecisionTreeClassifier\n",
    "from art.estimators.classification import SklearnClassifier\n",
    "from art.attacks.evasion import ZooAttack"
   ]
  },
  {
   "cell_type": "markdown",
   "metadata": {},
   "source": [
    "#### 1 Training scikit-learn DecisionTreesClassifier and attacking with ART Zeroth Order Optimization attack\n",
    "\n",
    "Create and apply Zeroth Order Optimization Attack with ART\n",
    "\n",
    "Generate adversarial samples:"
   ]
  },
  {
   "cell_type": "code",
   "execution_count": 36,
   "metadata": {},
   "outputs": [],
   "source": [
    "def get_adversarial_examples(X_train, X_test, y_train):\n",
    "    \n",
    "    # Create and fit DecisionTreeClassifier\n",
    "    model = DecisionTreeClassifier(max_depth=2, random_state=42)\n",
    "    model.fit(X=X_train, y=y_train)\n",
    "\n",
    "    # Create ART classifier for scikit-learn DecisionTreeClassifier\n",
    "    art_classifier = SklearnClassifier(model=model)\n",
    "\n",
    "    # Create ART Zeroth Order Optimization attack\n",
    "    zoo = ZooAttack(classifier=art_classifier, confidence=0.0, targeted=False, learning_rate=1e-1, max_iter=20,\n",
    "                    binary_search_steps=10, initial_const=1e-3, abort_early=True, use_resize=False, \n",
    "                    use_importance=False, nb_parallel=1, batch_size=1, variable_h=0.2)\n",
    "\n",
    "    # Generate adversarial samples with ART Zeroth Order Optimization attack\n",
    "    X_train_adv = zoo.generate(X_train)\n",
    "    X_test_adv  = zoo.generate(X_test)\n",
    "    \n",
    "    return X_train_adv, X_test_adv, model"
   ]
  },
  {
   "cell_type": "markdown",
   "metadata": {},
   "source": [
    "### Experiment : 2\n",
    "\n",
    "Generate adversarial samples:"
   ]
  },
  {
   "cell_type": "code",
   "execution_count": 37,
   "metadata": {},
   "outputs": [
    {
     "name": "stderr",
     "output_type": "stream",
     "text": [
      "ZOO: 100%|██████████████████████████████████████████████████████████████████████████████████████████| 105/105 [00:05<00:00, 18.58it/s]\n",
      "ZOO: 100%|████████████████████████████████████████████████████████████████████████████████████████████| 45/45 [00:02<00:00, 19.55it/s]\n"
     ]
    }
   ],
   "source": [
    "X_train_adv, X_test_adv, model = get_adversarial_examples(X_train, X_test, y_train)"
   ]
  },
  {
   "cell_type": "markdown",
   "metadata": {},
   "source": [
    "#### Evaluate DecisionTreesClassifier on benign and adversarial samples\n",
    "\n",
    "evaluate performance on those:\n",
    "\n",
    "1. Score\n",
    "2. Predict"
   ]
  },
  {
   "cell_type": "markdown",
   "metadata": {},
   "source": [
    "##### Score"
   ]
  },
  {
   "cell_type": "code",
   "execution_count": 38,
   "metadata": {},
   "outputs": [
    {
     "name": "stdout",
     "output_type": "stream",
     "text": [
      "Benign Training Score: 0.7619\n"
     ]
    }
   ],
   "source": [
    "score = model.score(X_train, y_train)\n",
    "print(\"Benign Training Score: %.4f\" % score)"
   ]
  },
  {
   "cell_type": "code",
   "execution_count": 39,
   "metadata": {},
   "outputs": [
    {
     "name": "stdout",
     "output_type": "stream",
     "text": [
      "Adversarial Training Score: 0.3333\n"
     ]
    }
   ],
   "source": [
    "score = model.score(X_train_adv, y_train)\n",
    "print(\"Adversarial Training Score: %.4f\" % score)"
   ]
  },
  {
   "cell_type": "markdown",
   "metadata": {},
   "source": [
    "#### Predict"
   ]
  },
  {
   "cell_type": "code",
   "execution_count": 51,
   "metadata": {},
   "outputs": [
    {
     "name": "stdout",
     "output_type": "stream",
     "text": [
      "[[0.6545455  0.10909089]\n",
      " [0.7454546  0.21818183]\n",
      " [0.59999996 0.0181818 ]\n",
      " [0.5272727  0.29090908]\n",
      " [0.4        0.14545454]]\n",
      "Benign Training Predicted Label: [1 2 1 0 0]\n"
     ]
    }
   ],
   "source": [
    "print(X_train[0:5, :])\n",
    "prediction = model.predict(X_train[0:5, :])\n",
    "print(f\"Benign Training Predicted Label: {prediction}\")"
   ]
  },
  {
   "cell_type": "code",
   "execution_count": 52,
   "metadata": {},
   "outputs": [
    {
     "name": "stdout",
     "output_type": "stream",
     "text": [
      "[[0.6545455  0.10909089]\n",
      " [0.71450156 0.21818183]\n",
      " [0.5771922  0.11813124]\n",
      " [0.6272324  0.29090908]\n",
      " [0.39713916 0.04582641]]\n",
      "Adversarial Training Predicted Label: [1 1 0 1 1]\n"
     ]
    }
   ],
   "source": [
    "print(X_train_adv[0:5, :])\n",
    "prediction = model.predict(X_train_adv[0:5, :])\n",
    "prediction\n",
    "print(f\"Adversarial Training Predicted Label: {prediction}\")"
   ]
  },
  {
   "cell_type": "markdown",
   "metadata": {},
   "source": [
    "##### Test score"
   ]
  },
  {
   "cell_type": "code",
   "execution_count": 53,
   "metadata": {},
   "outputs": [
    {
     "name": "stdout",
     "output_type": "stream",
     "text": [
      "Benign Test Score: 0.7778\n"
     ]
    }
   ],
   "source": [
    "score = model.score(X_test, y_test)\n",
    "print(\"Benign Test Score: %.4f\" % score)"
   ]
  },
  {
   "cell_type": "code",
   "execution_count": 54,
   "metadata": {},
   "outputs": [
    {
     "name": "stdout",
     "output_type": "stream",
     "text": [
      "[[0.7288136  0.08474576]\n",
      " [0.81355935 0.16949153]\n",
      " [0.7457627  0.1355932 ]\n",
      " [0.6101695  0.16949153]\n",
      " [0.49152544 0.18644066]]\n",
      "Benign Test Predicted Label: [2 2 2 1 0]\n"
     ]
    }
   ],
   "source": [
    "print(X_test[:5, :])\n",
    "prediction = model.predict(X_test[:5, :])\n",
    "print(f\"Benign Test Predicted Label: {prediction}\")"
   ]
  },
  {
   "cell_type": "code",
   "execution_count": 55,
   "metadata": {},
   "outputs": [
    {
     "name": "stdout",
     "output_type": "stream",
     "text": [
      "Adversarial Test Score: 0.2667\n"
     ]
    }
   ],
   "source": [
    "score = model.score(X_test_adv, y_test)\n",
    "print(\"Adversarial Test Score: %.4f\" % score)"
   ]
  },
  {
   "cell_type": "code",
   "execution_count": 58,
   "metadata": {},
   "outputs": [
    {
     "name": "stdout",
     "output_type": "stream",
     "text": [
      "[[0.6969388  0.08474576]\n",
      " [0.71685153 0.16949153]\n",
      " [0.71558434 0.1355932 ]\n",
      " [0.6101695  0.16949153]\n",
      " [0.49152544 0.09944782]]\n",
      "Adversarial Test Predicted Label: [1 1 1 1 1]\n"
     ]
    }
   ],
   "source": [
    "print(X_test_adv[0:5, :])\n",
    "prediction = model.predict(X_test_adv[0:5, :])\n",
    "print(f\"Adversarial Test Predicted Label: {prediction}\")"
   ]
  },
  {
   "cell_type": "code",
   "execution_count": null,
   "metadata": {},
   "outputs": [],
   "source": []
  }
 ],
 "metadata": {
  "kernelspec": {
   "display_name": "Python 3",
   "language": "python",
   "name": "python3"
  },
  "language_info": {
   "codemirror_mode": {
    "name": "ipython",
    "version": 3
   },
   "file_extension": ".py",
   "mimetype": "text/x-python",
   "name": "python",
   "nbconvert_exporter": "python",
   "pygments_lexer": "ipython3",
   "version": "3.8.3"
  }
 },
 "nbformat": 4,
 "nbformat_minor": 4
}
