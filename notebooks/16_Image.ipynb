{
 "cells": [
  {
   "cell_type": "code",
   "execution_count": null,
   "metadata": {},
   "outputs": [],
   "source": [
    "%reset"
   ]
  },
  {
   "cell_type": "markdown",
   "metadata": {},
   "source": [
    "### Outline\n",
    "1. [Load and transform the MNIST dataset](#1)\n",
    "2. [Create a model](#2)\n",
    "3. [Create and Train the ART classifier](#3)\n",
    "4. [Generate adversarial test examples](#4)\n",
    "5. [Evaluate the model on benign and adversarial samples](#5)\n",
    "    - [5.1 On Training Set](#5_1)\n",
    "    - [5.2 On Test Set](#5_2)\n",
    "\n",
    "- **Result**\n",
    "    - Training score **100%** Benign, **0%** adversarial samples\n",
    "    - Testing score **53.3%** Benign, **5.3%** adversarialsamples)"
   ]
  },
  {
   "cell_type": "code",
   "execution_count": 1,
   "metadata": {},
   "outputs": [],
   "source": [
    "import numpy as np\n",
    "from sklearn.preprocessing import MinMaxScaler\n",
    "from metric_multi_class import evaluate\n",
    "from matplotlib import pyplot as plt\n",
    "%matplotlib inline\n",
    "\n",
    "import warnings\n",
    "warnings.filterwarnings('ignore')"
   ]
  },
  {
   "cell_type": "markdown",
   "metadata": {},
   "source": [
    "<a id=\"1\"></a>\n",
    "**1. Load and transform the MNIST dataset**"
   ]
  },
  {
   "cell_type": "code",
   "execution_count": 2,
   "metadata": {},
   "outputs": [],
   "source": [
    "from dataset import load_mnist\n",
    "\n",
    "# Step 1: Load the MNIST dataset\n",
    "(X_train, y_train), (X_test, y_test), min_pixel_value, max_pixel_value = load_mnist()\n",
    "#X_train.shape (60000, 28, 28, 1)\n",
    "#_train.shape (60000, 10)\n",
    "#x_test.shape (10000, 28, 28, 1)\n",
    "#y_test.shape (10000, 10)\n",
    "\n",
    "# Flatten dataset\n",
    "n_samples_train = X_train.shape[0] #60000\n",
    "n_features_train = X_train.shape[1] * X_train.shape[2] * X_train.shape[3]  #784 (28*28*1)\n",
    "n_samples_test = X_test.shape[0] #10000\n",
    "n_features_test = X_test.shape[1] * X_test.shape[2] * X_test.shape[3] #784 (28*28*1)\n",
    "\n",
    "X_train = X_train.reshape(n_samples_train, n_features_train) #60000 X 784\n",
    "X_test = X_test.reshape(n_samples_test, n_features_test)     #10000 X 10\n",
    "\n",
    "# Todo remove this\n",
    "n_train = 100\n",
    "n_test = 75\n",
    "X_train = X_train[0:n_train]\n",
    "y_train = y_train[0:n_train]\n",
    "X_test = X_test[0:n_test]\n",
    "y_test = y_test[0:n_test]\n",
    "#X_train.shape (100, 784)\n",
    "#y_train.shape (100, 10)"
   ]
  },
  {
   "cell_type": "markdown",
   "metadata": {},
   "source": [
    "<a id=\"2\"></a>\n",
    "**2. Create the model**"
   ]
  },
  {
   "cell_type": "code",
   "execution_count": 3,
   "metadata": {},
   "outputs": [],
   "source": [
    "from sklearn.tree import DecisionTreeClassifier\n",
    "\n",
    "# Create the model\n",
    "model = DecisionTreeClassifier(criterion='gini', splitter='best', max_depth=None, min_samples_split=2, \n",
    "                               min_samples_leaf=1, min_weight_fraction_leaf=0.0, max_features=None, \n",
    "                               random_state=None, max_leaf_nodes=50, min_impurity_decrease=0.0, \n",
    "                               min_impurity_split=None, class_weight=None, presort=False) \n",
    "\n",
    "# from sklearn.svm import SVC\n",
    "# model = SVC(gamma='scale', probability=True, max_iter = -1, random_state=42)"
   ]
  },
  {
   "cell_type": "markdown",
   "metadata": {},
   "source": [
    "<a id=\"3\"></a>\n",
    "**3. Create and Train the ART classifier**"
   ]
  },
  {
   "cell_type": "code",
   "execution_count": 4,
   "metadata": {},
   "outputs": [],
   "source": [
    "from art.estimators.classification import SklearnClassifier\n",
    "\n",
    "# Create the ART classifier\n",
    "classifier = SklearnClassifier(model=model, clip_values=(min_pixel_value, max_pixel_value))\n",
    "\n",
    "# Train the ART classifier\n",
    "classifier.fit(X_train, y_train)"
   ]
  },
  {
   "cell_type": "markdown",
   "metadata": {},
   "source": [
    "<a id=\"4\"></a>\n",
    "**4. Generate adversarial test examples**"
   ]
  },
  {
   "cell_type": "code",
   "execution_count": 5,
   "metadata": {},
   "outputs": [],
   "source": [
    "from art.attacks.evasion import DecisionTreeAttack\n",
    "\n",
    "# Create ART attack\n",
    "attack = DecisionTreeAttack(classifier)"
   ]
  },
  {
   "cell_type": "code",
   "execution_count": 6,
   "metadata": {},
   "outputs": [
    {
     "name": "stderr",
     "output_type": "stream",
     "text": [
      "Decision tree attack: 100%|█████████████████████████████████| 100/100 [00:00<00:00, 892.81it/s]\n"
     ]
    }
   ],
   "source": [
    "# Generate adversarial samples with ART attack\n",
    "X_train_adv = attack.generate(X_train)"
   ]
  },
  {
   "cell_type": "code",
   "execution_count": 7,
   "metadata": {},
   "outputs": [
    {
     "name": "stderr",
     "output_type": "stream",
     "text": [
      "Decision tree attack: 100%|██████████████████████████████████| 75/75 [00:00<00:00, 1056.28it/s]\n"
     ]
    }
   ],
   "source": [
    "# Generate adversarial samples with ART attack\n",
    "X_test_adv = attack.generate(X_test)"
   ]
  },
  {
   "cell_type": "markdown",
   "metadata": {},
   "source": [
    "<a id=\"5\"></a>\n",
    "**5. Evaluate the model on benign and adversarial samples**\n",
    "- [5.1 On Training Set](#5_1)\n",
    "- [5.2 On Test Set](#5_2)"
   ]
  },
  {
   "cell_type": "markdown",
   "metadata": {},
   "source": [
    "<a id=\"5_1\"></a>\n",
    "**- 5.1. Evaluate the model on Training Set**"
   ]
  },
  {
   "cell_type": "code",
   "execution_count": 8,
   "metadata": {},
   "outputs": [
    {
     "name": "stdout",
     "output_type": "stream",
     "text": [
      "Benign training:\n",
      "y_pred: [5 0 4 1 9 2 1 3 1 4 3 5 3 6 1 7 2 8 6 9 4 0 9 1 1 2 4 3 2 7 3 8 6 9 0 5 6\n",
      " 0 7 6 1 8 7 9 3 9 8 5 9 3 3 0 7 4 9 8 0 9 4 1 4 4 6 0 4 5 6 1 0 0 1 7 1 6\n",
      " 3 0 2 1 1 7 9 0 2 6 7 8 3 9 0 4 6 7 4 6 8 0 7 8 3 1]\n",
      "Misclassified examples:0\n",
      "confusion matrix:\n",
      " [[13  0  0  0  0  0  0  0  0  0]\n",
      " [ 0 14  0  0  0  0  0  0  0  0]\n",
      " [ 0  0  6  0  0  0  0  0  0  0]\n",
      " [ 0  0  0 11  0  0  0  0  0  0]\n",
      " [ 0  0  0  0 11  0  0  0  0  0]\n",
      " [ 0  0  0  0  0  5  0  0  0  0]\n",
      " [ 0  0  0  0  0  0 11  0  0  0]\n",
      " [ 0  0  0  0  0  0  0 10  0  0]\n",
      " [ 0  0  0  0  0  0  0  0  8  0]\n",
      " [ 0  0  0  0  0  0  0  0  0 11]]\n",
      "accuracy: 1.0\n",
      "Precision[micro]: 1.0\n",
      "Precision[macro]: 1.0\n",
      "Recall[micro]: 1.0\n",
      "Recall[macro]: 1.0\n",
      "F1[micro]: 1.0\n",
      "F1[macro]: 1.0\n",
      "ROC AUC\n",
      "auc[micro]: 1.0\n",
      "auc[macro]: 1.0\n"
     ]
    }
   ],
   "source": [
    "print(f\"Benign training:\")\n",
    "evaluate(classifier, X_train, y_train) #benign sample"
   ]
  },
  {
   "cell_type": "code",
   "execution_count": 9,
   "metadata": {},
   "outputs": [
    {
     "data": {
      "image/png": "[encoded data removed]",
      "text/plain": [
       "<Figure size 288x288 with 1 Axes>"
      ]
     },
     "metadata": {
      "needs_background": "light"
     },
     "output_type": "display_data"
    }
   ],
   "source": [
    "plt.matshow(X_train[0, :].reshape((28, 28)))\n",
    "plt.clim(0, 1)"
   ]
  },
  {
   "cell_type": "code",
   "execution_count": 10,
   "metadata": {},
   "outputs": [
    {
     "name": "stdout",
     "output_type": "stream",
     "text": [
      "Benign Training Predicted Label: 5\n"
     ]
    }
   ],
   "source": [
    "prediction = classifier.predict(X_train[0:1, :])[0]\n",
    "print(\"Benign Training Predicted Label: %i\" % np.argmax(prediction))"
   ]
  },
  {
   "cell_type": "code",
   "execution_count": 11,
   "metadata": {},
   "outputs": [
    {
     "name": "stdout",
     "output_type": "stream",
     "text": [
      "Adversarial training:\n",
      "y_pred: [1 4 0 6 0 1 6 6 6 0 1 1 1 7 6 1 1 6 7 6 0 4 1 6 4 1 1 1 1 1 1 6 7 1 1 1 7\n",
      " 4 1 1 6 1 1 1 1 1 6 6 1 1 1 4 1 6 1 6 4 1 0 6 0 6 7 4 0 1 7 6 4 4 6 1 6 7\n",
      " 1 4 1 6 6 1 1 4 0 7 1 1 1 1 4 0 7 1 6 7 6 4 1 6 1 6]\n",
      "Misclassified examples:100\n",
      "confusion matrix:\n",
      " [[ 0  1  0  0 12  0  0  0  0  0]\n",
      " [ 0  0  0  0  1  0 13  0  0  0]\n",
      " [ 1  5  0  0  0  0  0  0  0  0]\n",
      " [ 0 10  0  0  0  0  1  0  0  0]\n",
      " [ 7  1  0  0  0  0  3  0  0  0]\n",
      " [ 0  4  0  0  0  0  1  0  0  0]\n",
      " [ 0  1  0  0  0  0  0 10  0  0]\n",
      " [ 0 10  0  0  0  0  0  0  0  0]\n",
      " [ 0  2  0  0  0  0  6  0  0  0]\n",
      " [ 1  9  0  0  0  0  1  0  0  0]]\n",
      "accuracy: 0.0\n",
      "Precision[micro]: 0.0\n",
      "Precision[macro]: 0.0\n",
      "Recall[micro]: 0.0\n",
      "Recall[macro]: 0.0\n",
      "F1[micro]: 0.0\n",
      "F1[macro]: 0.0\n",
      "ROC AUC\n",
      "auc[micro]: 0.4444444444444444\n",
      "auc[macro]: 0.4429237160445994\n"
     ]
    }
   ],
   "source": [
    "print(f\"Adversarial training:\")\n",
    "evaluate(classifier, X_train_adv, y_train) #adversarial sample"
   ]
  },
  {
   "cell_type": "code",
   "execution_count": 12,
   "metadata": {},
   "outputs": [
    {
     "data": {
      "image/png": "[encoded data removed]",
      "text/plain": [
       "<Figure size 288x288 with 1 Axes>"
      ]
     },
     "metadata": {
      "needs_background": "light"
     },
     "output_type": "display_data"
    }
   ],
   "source": [
    "plt.matshow(X_train_adv[0, :].reshape((28, 28)))\n",
    "plt.clim(0, 1)"
   ]
  },
  {
   "cell_type": "code",
   "execution_count": 13,
   "metadata": {},
   "outputs": [
    {
     "name": "stdout",
     "output_type": "stream",
     "text": [
      "Adversarial Training Predicted Label: 1\n"
     ]
    },
    {
     "data": {
      "text/plain": [
       "array([0., 1., 0., 0., 0., 0., 0., 0., 0., 0.])"
      ]
     },
     "execution_count": 13,
     "metadata": {},
     "output_type": "execute_result"
    }
   ],
   "source": [
    "prediction = classifier.predict(X_train_adv[0:1, :])[0]\n",
    "print(\"Adversarial Training Predicted Label: %i\"  % np.argmax(prediction))\n",
    "#[0. 0. 0. 1. 0. 0. 0. 0. 0. 0.]\n",
    "prediction"
   ]
  },
  {
   "cell_type": "markdown",
   "metadata": {},
   "source": [
    "<a id=\"5_2\"></a>\n",
    "**- 5.2. Evaluate the model on Test Set**"
   ]
  },
  {
   "cell_type": "markdown",
   "metadata": {},
   "source": [
    "### print(f\"Benign testing:\")\n",
    "evaluate(classifier, X_test, y_test) #benign sample"
   ]
  },
  {
   "cell_type": "code",
   "execution_count": 15,
   "metadata": {},
   "outputs": [
    {
     "data": {
      "image/png": "[encoded data removed]",
      "text/plain": [
       "<Figure size 288x288 with 1 Axes>"
      ]
     },
     "metadata": {
      "needs_background": "light"
     },
     "output_type": "display_data"
    }
   ],
   "source": [
    "plt.matshow(X_test[0, :].reshape((28, 28)))\n",
    "plt.clim(0, 1)"
   ]
  },
  {
   "cell_type": "code",
   "execution_count": 16,
   "metadata": {},
   "outputs": [
    {
     "name": "stdout",
     "output_type": "stream",
     "text": [
      "Benign Testing Predicted Label: 7\n"
     ]
    }
   ],
   "source": [
    "prediction = classifier.predict(X_test[0:1, :])[0]\n",
    "print(\"Benign Testing Predicted Label: %i\" % np.argmax(prediction))"
   ]
  },
  {
   "cell_type": "code",
   "execution_count": 17,
   "metadata": {},
   "outputs": [
    {
     "name": "stdout",
     "output_type": "stream",
     "text": [
      "Adversarial testing:\n",
      "y_pred: [1 1 6 4 0 6 1 1 0 1 4 0 1 4 6 1 1 1 1 1 1 1 6 6 1 4 1 0 1 6 1 1 1 0 1 1 1\n",
      " 6 1 6 6 1 6 1 1 1 6 1 4 0 7 1 4 1 0 1 0 6 0 1 1 6 1 6 6 1 0 0 6 0 1 4 1 1\n",
      " 6]\n",
      "Misclassified examples:71\n",
      "confusion matrix:\n",
      " [[ 1  2  0  0  5  0  0  0  0  0]\n",
      " [ 0  1  0  0  0  0 10  0  0  0]\n",
      " [ 0  6  0  0  0  0  0  0  0  0]\n",
      " [ 0  5  0  0  0  0  2  0  0  0]\n",
      " [ 6  4  0  0  1  0  1  0  0  0]\n",
      " [ 1  4  0  0  1  0  1  0  0  0]\n",
      " [ 3  1  0  0  0  0  1  1  0  0]\n",
      " [ 0  8  0  0  0  0  1  0  0  0]\n",
      " [ 0  0  0  0  0  0  1  0  0  0]\n",
      " [ 1  7  0  0  0  0  0  0  0  0]]\n",
      "accuracy: 0.05333333333333334\n",
      "Precision[micro]: 0.05333333333333334\n",
      "Precision[macro]: 0.03113297950759251\n",
      "Recall[micro]: 0.05333333333333334\n",
      "Recall[macro]: 0.04659090909090909\n",
      "F1[micro]: 0.06611570247933883\n",
      "F1[macro]: 0.0666072012328959\n",
      "ROC AUC\n",
      "auc[micro]: 0.47407407407407404\n",
      "auc[macro]: 0.46906656590354273\n"
     ]
    }
   ],
   "source": [
    "print(f\"Adversarial testing:\")\n",
    "evaluate(classifier, X_test_adv, y_test) #adversarial sample"
   ]
  },
  {
   "cell_type": "code",
   "execution_count": 18,
   "metadata": {},
   "outputs": [
    {
     "data": {
      "image/png": "[encoded data removed]",
      "text/plain": [
       "<Figure size 288x288 with 1 Axes>"
      ]
     },
     "metadata": {
      "needs_background": "light"
     },
     "output_type": "display_data"
    }
   ],
   "source": [
    "plt.matshow(X_test_adv[0, :].reshape((28, 28)))\n",
    "plt.clim(0, 1)"
   ]
  },
  {
   "cell_type": "code",
   "execution_count": 19,
   "metadata": {},
   "outputs": [
    {
     "name": "stdout",
     "output_type": "stream",
     "text": [
      "Adversarial Training Predicted Label: 1\n"
     ]
    }
   ],
   "source": [
    "prediction = classifier.predict(X_test_adv[0:1, :])[0]\n",
    "print(\"Adversarial Training Predicted Label: %i\"  % np.argmax(prediction))\n",
    "#[0. 0. 0. 1. 0. 0. 0. 0. 0. 0.]"
   ]
  },
  {
   "cell_type": "code",
   "execution_count": null,
   "metadata": {},
   "outputs": [],
   "source": []
  }
 ],
 "metadata": {
  "kernelspec": {
   "display_name": "Python 3",
   "language": "python",
   "name": "python3"
  },
  "language_info": {
   "codemirror_mode": {
    "name": "ipython",
    "version": 3
   },
   "file_extension": ".py",
   "mimetype": "text/x-python",
   "name": "python",
   "nbconvert_exporter": "python",
   "pygments_lexer": "ipython3",
   "version": "3.8.3"
  }
 },
 "nbformat": 4,
 "nbformat_minor": 4
}
