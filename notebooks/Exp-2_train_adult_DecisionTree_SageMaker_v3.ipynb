{
 "cells": [
  {
   "cell_type": "markdown",
   "metadata": {
    "nteract": {
     "transient": {
      "deleting": false
     }
    }
   },
   "source": [
    "# Adults Census Model Training with Sagemaker\n",
    "## Scikit-learn: Decision Tree Algorithm"
   ]
  },
  {
   "cell_type": "markdown",
   "metadata": {},
   "source": [
    "This notebook used to experiment Scikit-learn with Sagemaker by utilizing the pre-built container.\n",
    "\n",
    "[Analysis](#compaire)\n",
    "\n",
    "- **Performance metrics for Local and sagemaker training hardware are equal.**\n",
    "\n",
    "\n",
    "## Outline\n",
    "\n",
    "1. [Setup Development Environment](#setup)\n",
    "2. [Data Preparation](#data_prep)\n",
    "3. [Model Training](#train)\n",
    "4. [Model Comparison](#compaire)\n",
    "5. [Adversarially train a robust classifier](#adv_training)"
   ]
  },
  {
   "cell_type": "markdown",
   "metadata": {
    "nteract": {
     "transient": {
      "deleting": false
     }
    }
   },
   "source": [
    "<a id=\"setup\"></a>\n",
    "### 1 Set up Development Environment"
   ]
  },
  {
   "cell_type": "markdown",
   "metadata": {
    "nteract": {
     "transient": {
      "deleting": false
     }
    }
   },
   "source": [
    "Steps:\n",
    "- Import base Amazon SageMaker ML packages\n",
    "- Check the SDK version\n",
    "- Create S3 bucket"
   ]
  },
  {
   "cell_type": "code",
   "execution_count": 1,
   "metadata": {
    "gather": {
     "logged": 1606173132065
    }
   },
   "outputs": [
    {
     "name": "stdout",
     "output_type": "stream",
     "text": [
      "Ready to use Amazon SageMaker 2.16.4.dev0\n"
     ]
    }
   ],
   "source": [
    "# base packages to work with SageMaker\n",
    "import boto3\n",
    "from sagemaker import get_execution_role\n",
    "import sagemaker\n",
    "\n",
    "# check core SDK version number\n",
    "print(\"Ready to use Amazon SageMaker\", sagemaker.__version__)"
   ]
  },
  {
   "cell_type": "code",
   "execution_count": 2,
   "metadata": {},
   "outputs": [
    {
     "name": "stdout",
     "output_type": "stream",
     "text": [
      "Using S3 bucket: sagemaker-us-east-2-359732627051\n"
     ]
    }
   ],
   "source": [
    "# S3 prefix\n",
    "prefix = 'Scikit-adults'\n",
    "\n",
    "# Now let's define the S3 bucket\n",
    "sm_boto3 = boto3.client('sagemaker')\n",
    "sess = sagemaker.Session()\n",
    "region = sess.boto_session.region_name\n",
    "bucket = sess.default_bucket()  # this could also be a hard-coded bucket name\n",
    "print(f'Using S3 bucket: {bucket}' )"
   ]
  },
  {
   "cell_type": "code",
   "execution_count": 3,
   "metadata": {},
   "outputs": [],
   "source": [
    "# Python libraries that we'll use throughout the analysis\n",
    "import os\n",
    "import datetime\n",
    "import time\n",
    "import tarfile\n",
    "import pandas as pd\n",
    "import numpy as np"
   ]
  },
  {
   "cell_type": "markdown",
   "metadata": {},
   "source": [
    "<a id=\"data_prep\"></a>\n",
    "### 2. Data Preparation\n",
    "We download Adult Census Income Binary classfication dataset from github, prepreocessing, split it and send it to S3\n",
    "\n",
    "- 2.1 Download dataset\n",
    "- 2.2 Upload data to Amazon S3 bucket\n",
    "\n",
    "Dataset: https://archive.ics.uci.edu/ml/datasets/Adult\n",
    "\n",
    "**Ref:  Exp-2_train_adult_SVC_SageMaker-v3.ipynb**\n"
   ]
  },
  {
   "cell_type": "markdown",
   "metadata": {},
   "source": [
    "<a id=\"train\"></a>\n",
    "### 3 Model Training\n",
    "\n",
    "- 3.1 [Prepare a training script](#3_1)\n",
    "- 3.2 [Train Model](#3_2)\n",
    "    - 3.2.1 [Run locally](#3_2_1)\n",
    "    - 3.2.2 [Submit the Training Job to the Compute Cluster](#3_2_2)\n",
    "    - 3.2.3 [Run locally (My Desktop hardware)](#3_2_3)\n",
    "        - 3.2.3.1 [Setup](#3_2_3_1)\n",
    "        - 3.2.3.2 [Data Preparation](#3_2_3_2)\n",
    "        - 3.2.3.3 [Model Training](#3_2_3_3)"
   ]
  },
  {
   "cell_type": "markdown",
   "metadata": {},
   "source": [
    "<a id=\"3_1\"></a>\n",
    "#### 3.1 Prepare a training script\n",
    "The below script contains training model and can run (model training) both in SageMaker hardware for model training or locally (desktop, SageMaker notebook, etc)"
   ]
  },
  {
   "cell_type": "code",
   "execution_count": 4,
   "metadata": {},
   "outputs": [],
   "source": [
    "# Directory to write training script.\n",
    "# Code Directory\n",
    "import os\n",
    "script_folder = os.path.join(os.getcwd(), \"script\")\n",
    "os.makedirs(script_folder, exist_ok=True)"
   ]
  },
  {
   "cell_type": "code",
   "execution_count": 5,
   "metadata": {},
   "outputs": [
    {
     "name": "stdout",
     "output_type": "stream",
     "text": [
      "Writing /home/ec2-user/SageMaker/script/train_adult_CART.py\n"
     ]
    }
   ],
   "source": [
    "%%writefile $script_folder/train_adult_CART.py\n",
    "import os\n",
    "import time\n",
    "import argparse\n",
    "import joblib\n",
    "import pandas as pd\n",
    "import numpy as np\n",
    "\n",
    "from sklearn.preprocessing import LabelEncoder\n",
    "from sklearn.preprocessing import OneHotEncoder\n",
    "from sklearn.preprocessing import MinMaxScaler\n",
    "from sklearn.pipeline import Pipeline\n",
    "from sklearn.compose import ColumnTransformer\n",
    "from sklearn.model_selection import train_test_split\n",
    "from sklearn import metrics\n",
    "from sklearn.tree import DecisionTreeClassifier\n",
    "\n",
    "\n",
    "if __name__ =='__main__':\n",
    "    \n",
    "    start_time = time.time()\n",
    "    \n",
    "    print('extracting arguments')\n",
    "    parser = argparse.ArgumentParser()\n",
    "\n",
    "    # hyperparameters will be passed as arguments to the script.\n",
    "    # example: sklearn DecisionTreeClassifier hyperparameters\n",
    "    parser.add_argument('--max-leaf-nodes', type=int, default=30)\n",
    "    \n",
    "    # Data, model, and output directories\n",
    "    parser.add_argument('--model-dir', type=str, default=os.environ.get('SM_MODEL_DIR'))\n",
    "    parser.add_argument('--train', type=str, default=os.environ.get('SM_CHANNEL_TRAIN'))\n",
    "    parser.add_argument('--features', type=str)  # required name features for flexibity\n",
    "    parser.add_argument('--target', type=str, default='IncomeGroup')\n",
    "\n",
    "    args, _ = parser.parse_known_args()\n",
    "    print(f\"--model-dir: {args.model_dir}\")\n",
    "    print(f\"--train: {args.train}\")\n",
    "    \n",
    "    # Take the set of files and read them all into a single pandas dataframe\n",
    "    input_files = [ os.path.join(args.train, file) for file in os.listdir(args.train) ]\n",
    "    if len(input_files) == 0:\n",
    "        raise ValueError(('There are no files in {}.\\n' +\n",
    "                          'This usually indicates that the channel ({}) was incorrectly specified,\\n' +\n",
    "                          'the data specification in S3 was incorrectly specified or the role specified\\n' +\n",
    "                          'does not have permission to access the data.').format(args.train, \"train\"))\n",
    "    raw_data = [ pd.read_csv(file, engine=\"python\") for file in input_files ]\n",
    "    df = pd.concat(raw_data)\n",
    "    print(df.head())\n",
    "          \n",
    "    #Prepocessing\n",
    "    print('building datasets')\n",
    "    X = df[args.features.split()]\n",
    "    y = df[args.target]\n",
    "\n",
    "    # label encode the target variable to have the classes 0 and 1\n",
    "    y = LabelEncoder().fit_transform(y)\n",
    "    \n",
    "    cat_ix = X.select_dtypes(include=['object', 'bool']).columns\n",
    "    print(f\"cat_ix: {cat_ix}\")\n",
    "    num_ix = X.select_dtypes(include=['int64', 'float64']).columns\n",
    "    print(f\"num_ix: {num_ix}\")\n",
    "    \n",
    "    #use stratify for un balanced number of examples for each class label\n",
    "    X_train, X_test, y_train, y_test = train_test_split(X, y, test_size=0.3,random_state=42,shuffle=True)\n",
    "    print(f\"X_train:{X_train.shape}\")\n",
    "    print(f\"X_test: {X_test.shape}\")\n",
    "    print(f\"y_train:{y_train.shape}\")\n",
    "    print(f\"y_test: {y_test.shape}\")\n",
    "          \n",
    "    # Model Training: Support Vector Machines\n",
    "    print('training model')\n",
    "    MODEL = 'CART'\n",
    "    # define steps\n",
    "    model = DecisionTreeClassifier(max_leaf_nodes=args.max_leaf_nodes, random_state=42)\n",
    "    \n",
    "    steps = [('c',OneHotEncoder(handle_unknown='ignore'),cat_ix), ('n',MinMaxScaler(),num_ix)]\n",
    "    # one hot encode categorical, normalize numerical\n",
    "    ct = ColumnTransformer(steps)\n",
    "    # wrap the model a pipeline\n",
    "    pipe  = Pipeline(steps=[('transformer',ct),('cart',model)])\n",
    "    pipe.fit(X_train, y_train)\n",
    "    print(f\"model: {pipe}\")\n",
    "          \n",
    "    ## Evaluate the model\n",
    "\n",
    "    # using threshold\n",
    "    threshold = 0.5 # set threshold as 0.5\n",
    "    y_pred = (pipe.predict_proba(X_test)[:,1] >= threshold).astype(int) \n",
    "    print(f\"y_pred: {y_pred}\")\n",
    "    print(f'Misclassified examples:{(y_test != y_pred).sum()}')\n",
    "    print(pipe.predict_proba(X_test))\n",
    "          \n",
    "    print(f\"distinct y_pred: {np.unique(y_pred)}\")\n",
    "    print(f\"distinct y_test: {np.unique(y_test)}\")\n",
    "          \n",
    "    # Confusion Matrix\n",
    "    conf_mat = metrics.confusion_matrix(y_test, y_pred)\n",
    "    print(f\"confusion matrix:\\n {conf_mat}\")\n",
    "    \n",
    "    # AUC\n",
    "    auc = metrics.roc_auc_score(y_test, y_pred)\n",
    "    print(f\"auc: {auc}\")\n",
    "    \n",
    "    # Accuracy\n",
    "    accuracy = metrics.accuracy_score(y_test, y_pred)\n",
    "    print(f\"Accuracy: {accuracy}\") \n",
    "    \n",
    "    # Precision\n",
    "    precision = metrics.precision_score(y_test, y_pred)\n",
    "    print(f\"Precision: {precision}\")\n",
    "    \n",
    "    # Recall\n",
    "    recall = metrics.recall_score(y_test, y_pred)\n",
    "    print(f\"Recall: {recall}\")\n",
    "    \n",
    "    # F1\n",
    "    f1 = metrics.f1_score(y_test, y_pred)\n",
    "    print(f\"F1: {f1}\")\n",
    "    \n",
    "    # classification_report\n",
    "    print('classification_report')\n",
    "    print(metrics.classification_report(y_test, y_pred))\n",
    "        \n",
    "    # persist model\n",
    "    path = os.path.join(args.model_dir, f\"{MODEL}.joblib\")\n",
    "    joblib.dump(pipe, path)\n",
    "    print('model persisted at ' + path)\n",
    "    \n",
    "    time_elapsed = (time.time() - start_time)\n",
    "    print(\"Computational time:{}\".format(time_elapsed))"
   ]
  },
  {
   "cell_type": "markdown",
   "metadata": {
    "nteract": {
     "transient": {
      "deleting": false
     }
    }
   },
   "source": [
    "<a id=\"3_2\"></a>\n",
    "#### 3.2 Train Model\n",
    "\n",
    "- 3.2.1 [Run locally](#3_2_1)\n",
    "- 3.2.2 [Submit the Training Job to the Compute Cluster](#3_2_2)\n",
    "- 3.2.3 [Run locally (My Desktop hardware)](#3_2_3)\n",
    "\n",
    "\n",
    "\n",
    "<a id=\"3_2_1\"></a>\n",
    "##### 3.2.1 Run locally\n",
    "Here we can run model Training locally (such as desktop, SageMaker notebook, etc)\n",
    "\n",
    "script arguments allows us to remove from the script any SageMaker-specific configuration, and run locally"
   ]
  },
  {
   "cell_type": "code",
   "execution_count": 8,
   "metadata": {},
   "outputs": [
    {
     "name": "stdout",
     "output_type": "stream",
     "text": [
      "2020-12-07T21:30:56+00:00\n",
      "\n",
      "CPython 3.6.10\n",
      "IPython 7.12.0\n",
      "\n",
      "compiler   : GCC 7.3.0\n",
      "system     : Linux\n",
      "release    : 4.14.200-116.320.amzn1.x86_64\n",
      "machine    : x86_64\n",
      "processor  : x86_64\n",
      "CPU cores  : 2\n",
      "interpreter: 64bit\n"
     ]
    }
   ],
   "source": [
    "#! pip install watermark\n",
    "%reload_ext watermark\n",
    "%watermark"
   ]
  },
  {
   "cell_type": "code",
   "execution_count": 9,
   "metadata": {},
   "outputs": [
    {
     "name": "stdout",
     "output_type": "stream",
     "text": [
      "SageMaker Notebook Instance \n",
      "last updated: 2020-12-07 \n",
      "\n",
      "CPython 3.6.10\n",
      "IPython 7.12.0\n",
      "\n",
      "numpy 1.18.1\n",
      "pandas 1.0.1\n",
      "scipy 1.4.1\n",
      "sagemaker 2.16.4.dev0\n",
      "sklearn 0.22.1\n"
     ]
    }
   ],
   "source": [
    "%reload_ext watermark\n",
    "%watermark  -d -u -a \"SageMaker Notebook Instance\" -v -p numpy,pandas,scipy,sagemaker,sklearn"
   ]
  },
  {
   "cell_type": "markdown",
   "metadata": {},
   "source": [
    "--features 'age fnlwgt education education-num marital-status relationship race sex capital-gain capital-loss hours-per-week' "
   ]
  },
  {
   "cell_type": "code",
   "execution_count": 6,
   "metadata": {},
   "outputs": [
    {
     "name": "stdout",
     "output_type": "stream",
     "text": [
      "extracting arguments\n",
      "--model-dir: ./\n",
      "--train: ./data/\n",
      "   age          workclass  fnlwgt  ... hours-per-week  native-country IncomeGroup\n",
      "0   39          State-gov   77516  ...             40   United-States       <=50K\n",
      "1   50   Self-emp-not-inc   83311  ...             13   United-States       <=50K\n",
      "2   38            Private  215646  ...             40   United-States       <=50K\n",
      "3   53            Private  234721  ...             40   United-States       <=50K\n",
      "4   28            Private  338409  ...             40            Cuba       <=50K\n",
      "\n",
      "[5 rows x 15 columns]\n",
      "building datasets\n",
      "cat_ix: Index(['workclass', 'education', 'marital-status', 'occupation',\n",
      "       'relationship', 'race', 'sex', 'native-country'],\n",
      "      dtype='object')\n",
      "num_ix: Index(['age', 'fnlwgt', 'education-num', 'capital-gain', 'capital-loss',\n",
      "       'hours-per-week'],\n",
      "      dtype='object')\n",
      "X_train:(31655, 14)\n",
      "X_test: (13567, 14)\n",
      "y_train:(31655,)\n",
      "y_test: (13567,)\n",
      "training model\n",
      "model: Pipeline(memory=None,\n",
      "         steps=[('transformer',\n",
      "                 ColumnTransformer(n_jobs=None, remainder='drop',\n",
      "                                   sparse_threshold=0.3,\n",
      "                                   transformer_weights=None,\n",
      "                                   transformers=[('c',\n",
      "                                                  OneHotEncoder(categories='auto',\n",
      "                                                                drop=None,\n",
      "                                                                dtype=<class 'numpy.float64'>,\n",
      "                                                                handle_unknown='ignore',\n",
      "                                                                sparse=True),\n",
      "                                                  Index(['workclass', 'education', 'marital-status', 'occupation',\n",
      "       'relationship', 'race', 'sex...\n",
      "      dtype='object'))],\n",
      "                                   verbose=False)),\n",
      "                ('cart',\n",
      "                 DecisionTreeClassifier(ccp_alpha=0.0, class_weight=None,\n",
      "                                        criterion='gini', max_depth=None,\n",
      "                                        max_features=None, max_leaf_nodes=30,\n",
      "                                        min_impurity_decrease=0.0,\n",
      "                                        min_impurity_split=None,\n",
      "                                        min_samples_leaf=1, min_samples_split=2,\n",
      "                                        min_weight_fraction_leaf=0.0,\n",
      "                                        presort='deprecated', random_state=42,\n",
      "                                        splitter='best'))],\n",
      "         verbose=False)\n",
      "y_pred: [0 0 0 ... 0 0 0]\n",
      "Misclassified examples:1925\n",
      "[[0.62882096 0.37117904]\n",
      " [0.89544895 0.10455105]\n",
      " [0.93571132 0.06428868]\n",
      " ...\n",
      " [0.53596698 0.46403302]\n",
      " [0.73550966 0.26449034]\n",
      " [0.77968338 0.22031662]]\n",
      "distinct y_pred: [0 1]\n",
      "distinct y_test: [0 1]\n",
      "confusion matrix:\n",
      " [[9695  498]\n",
      " [1427 1947]]\n",
      "auc: 0.7641014054125851\n",
      "Accuracy: 0.8581115943097222\n",
      "Precision: 0.7963190184049079\n",
      "Recall: 0.5770598695909899\n",
      "F1: 0.6691871455576559\n",
      "classification_report\n",
      "              precision    recall  f1-score   support\n",
      "\n",
      "           0       0.87      0.95      0.91     10193\n",
      "           1       0.80      0.58      0.67      3374\n",
      "\n",
      "    accuracy                           0.86     13567\n",
      "   macro avg       0.83      0.76      0.79     13567\n",
      "weighted avg       0.85      0.86      0.85     13567\n",
      "\n",
      "model persisted at ./CART.joblib\n",
      "Computational time:1.1031742095947266\n"
     ]
    }
   ],
   "source": [
    "! python $script_folder/train_adult_CART.py --max-leaf-nodes 30 \\\n",
    "                   --model-dir ./ \\\n",
    "                   --train ./data/ \\\n",
    "                   --features 'age workclass fnlwgt education education-num marital-status occupation relationship race sex capital-gain capital-loss hours-per-week native-country'"
   ]
  },
  {
   "cell_type": "markdown",
   "metadata": {},
   "source": [
    "<a id=\"3_2_2\"></a>\n",
    "##### 3.2.2 Submit the Training Job to the Compute Cluster\n",
    "Here we can run model Training in SageMaker training hardware.\n",
    "- Training job will show up in the Amazon SageMaker under Training section.\n",
    "- Launching a training job with the Python SDK\n",
    "- Create a sagemaker.sklearn.SKLearn Estimator"
   ]
  },
  {
   "cell_type": "code",
   "execution_count": 10,
   "metadata": {},
   "outputs": [],
   "source": [
    "# We use the Estimator from the SageMaker Python SDK\n",
    "from sagemaker.sklearn.estimator import SKLearn\n",
    "\n",
    "sklearn_estimator = SKLearn(\n",
    "    source_dir=\"./script/\",\n",
    "    entry_point='train_adult_CART.py',\n",
    "    role = get_execution_role(),\n",
    "    instance_type='ml.m5.4xlarge', \n",
    "    framework_version='0.20.0',\n",
    "    base_job_name='binary-classifiation-scikit-cart',\n",
    "    hyperparameters = {'max-leaf-nodes': 30,\n",
    "                       'features': 'age workclass fnlwgt education education-num marital-status occupation relationship race sex capital-gain capital-loss hours-per-week native-country'\n",
    "                      })"
   ]
  },
  {
   "cell_type": "markdown",
   "metadata": {},
   "source": [
    "###### Call the estimator’s fit method"
   ]
  },
  {
   "cell_type": "code",
   "execution_count": 11,
   "metadata": {},
   "outputs": [
    {
     "data": {
      "text/plain": [
       "'s3://sagemaker-us-east-2-359732627051/Scikit-adults/data'"
      ]
     },
     "execution_count": 11,
     "metadata": {},
     "output_type": "execute_result"
    }
   ],
   "source": [
    "train_input = 's3://sagemaker-us-east-2-359732627051/Scikit-adults/data'\n",
    "train_input"
   ]
  },
  {
   "cell_type": "code",
   "execution_count": 12,
   "metadata": {
    "collapsed": false,
    "gather": {
     "logged": 1606177246034
    },
    "jupyter": {
     "outputs_hidden": false,
     "source_hidden": false
    },
    "nteract": {
     "transient": {
      "deleting": false
     }
    }
   },
   "outputs": [],
   "source": [
    "# launch training job, with asynchronous call\n",
    "sklearn_estimator.fit({'train': train_input}, wait=False)"
   ]
  },
  {
   "cell_type": "markdown",
   "metadata": {},
   "source": [
    "<a id=\"3_2_3\"></a>\n",
    "##### 3.2.3 Run locally (My Desktop hardware)\n",
    "Here we can run model Training locally use my desktop hardware:\n",
    "\n",
    "- 3.2.3.1 [Setup](#3_2_3_1)\n",
    "- 3.2.3.2 [Data Preparation](#3_2_3_2)\n",
    "- 3.2.3.3 [Model Training](#3_2_3_3)"
   ]
  },
  {
   "cell_type": "markdown",
   "metadata": {},
   "source": [
    "<a id=\"3_2_3_1\"></a>\n",
    "###### 3.2.3.1 Setup"
   ]
  },
  {
   "cell_type": "code",
   "execution_count": 17,
   "metadata": {},
   "outputs": [
    {
     "name": "stdout",
     "output_type": "stream",
     "text": [
      "Author: Habtamu desalegn\n",
      "\n",
      "Last updated: 2020-12-10\n",
      "\n",
      "Python implementation: CPython\n",
      "Python version       : 3.8.3\n",
      "IPython version      : 7.19.0\n",
      "\n",
      "numpy  : 1.19.4\n",
      "pandas : 1.1.4\n",
      "scipy  : 1.5.3\n",
      "sklearn: 0.23.2\n",
      "\n",
      "Compiler    : MSC v.1916 64 bit (AMD64)\n",
      "OS          : Windows\n",
      "Release     : 7\n",
      "Machine     : AMD64\n",
      "Processor   : Intel64 Family 6 Model 37 Stepping 5, GenuineIntel\n",
      "CPU cores   : 4\n",
      "Architecture: 64bit\n",
      "\n",
      "Hostname: Hade-PC\n",
      "\n"
     ]
    }
   ],
   "source": [
    "#! pip install watermark\n",
    "%reload_ext watermark\n",
    "%watermark  -d -u -h -m -a \"Habtamu desalegn\" -v -p numpy,pandas,scipy,sklearn"
   ]
  },
  {
   "cell_type": "code",
   "execution_count": 12,
   "metadata": {},
   "outputs": [],
   "source": [
    "# Python libraries \n",
    "import os\n",
    "import time\n",
    "import collections\n",
    "import joblib\n",
    "import pandas as pd\n",
    "import numpy as np\n",
    "from sklearn.preprocessing import LabelEncoder\n",
    "from sklearn.preprocessing import OneHotEncoder\n",
    "from sklearn.preprocessing import MinMaxScaler\n",
    "from sklearn.pipeline import Pipeline\n",
    "from sklearn.compose import ColumnTransformer\n",
    "from sklearn.model_selection import train_test_split\n",
    "from sklearn import metrics\n",
    "from sklearn.tree import DecisionTreeClassifier"
   ]
  },
  {
   "cell_type": "markdown",
   "metadata": {},
   "source": [
    "<a id=\"3_2_3_2\"></a>\n",
    "###### 3.2.3.2 Data Preparation\n",
    "\n",
    "**Reference: Exp-2_train_adult_SVC_SageMaker-v3.ipynb**"
   ]
  },
  {
   "cell_type": "markdown",
   "metadata": {},
   "source": [
    "<a id=\"3_2_3_3\"></a>\n",
    "###### 3.2.3.3 Model Training"
   ]
  },
  {
   "cell_type": "code",
   "execution_count": 13,
   "metadata": {},
   "outputs": [
    {
     "name": "stdout",
     "output_type": "stream",
     "text": [
      "building datasets\n",
      "cat_ix: Index(['workclass', 'education', 'marital-status', 'occupation',\n",
      "       'relationship', 'race', 'sex', 'native-country'],\n",
      "      dtype='object')\n",
      "num_ix: Index(['age', 'fnlwgt', 'education-num', 'capital-gain', 'capital-loss',\n",
      "       'hours-per-week'],\n",
      "      dtype='object')\n",
      "X_train:(31655, 14)\n",
      "X_test: (13567, 14)\n",
      "y_train:(31655,)\n",
      "y_test: (13567,)\n",
      "training model\n",
      "model: Pipeline(steps=[('transformer',\n",
      "                 ColumnTransformer(transformers=[('c',\n",
      "                                                  OneHotEncoder(handle_unknown='ignore'),\n",
      "                                                  Index(['workclass', 'education', 'marital-status', 'occupation',\n",
      "       'relationship', 'race', 'sex', 'native-country'],\n",
      "      dtype='object')),\n",
      "                                                 ('n', MinMaxScaler(),\n",
      "                                                  Index(['age', 'fnlwgt', 'education-num', 'capital-gain', 'capital-loss',\n",
      "       'hours-per-week'],\n",
      "      dtype='object'))])),\n",
      "                ('cart',\n",
      "                 DecisionTreeClassifier(max_leaf_nodes=30, random_state=42))])\n",
      "y_pred: [0 0 0 ... 0 0 0]\n",
      "Misclassified examples:1925\n",
      "[[0.62882096 0.37117904]\n",
      " [0.89544895 0.10455105]\n",
      " [0.93571132 0.06428868]\n",
      " ...\n",
      " [0.53596698 0.46403302]\n",
      " [0.73550966 0.26449034]\n",
      " [0.77968338 0.22031662]]\n",
      "distinct y_pred: [0 1]\n",
      "distinct y_test: [0 1]\n",
      "confusion matrix:\n",
      " [[9695  498]\n",
      " [1427 1947]]\n",
      "auc: 0.7641014054125851\n",
      "Accuracy: 0.8581115943097222\n",
      "Precision: 0.7963190184049079\n",
      "Recall: 0.5770598695909899\n",
      "F1: 0.6691871455576559\n",
      "classification_report\n",
      "              precision    recall  f1-score   support\n",
      "\n",
      "           0       0.87      0.95      0.91     10193\n",
      "           1       0.80      0.58      0.67      3374\n",
      "\n",
      "    accuracy                           0.86     13567\n",
      "   macro avg       0.83      0.76      0.79     13567\n",
      "weighted avg       0.85      0.86      0.85     13567\n",
      "\n",
      "model persisted at models/SageMaker/Adult/local/desktop/CART.joblib\n",
      "Computational time:13.398766279220581\n"
     ]
    }
   ],
   "source": [
    "start_time = time.time()\n",
    "\n",
    "df = pd.read_csv(\"./data/adult.csv\")\n",
    "df.head()\n",
    "        \n",
    "#Prepocessing\n",
    "\n",
    "print('building datasets')\n",
    "features = 'age workclass fnlwgt education education-num marital-status occupation relationship race sex capital-gain capital-loss hours-per-week native-country'\n",
    "target = 'IncomeGroup'\n",
    "X = df[features.split()]\n",
    "y = df[target]\n",
    "\n",
    "# label encode the target variable to have the classes 0 and 1\n",
    "y = LabelEncoder().fit_transform(y)\n",
    "\n",
    "cat_ix = X.select_dtypes(include=['object', 'bool']).columns\n",
    "print(f\"cat_ix: {cat_ix}\")\n",
    "num_ix = X.select_dtypes(include=['int64', 'float64']).columns\n",
    "print(f\"num_ix: {num_ix}\")\n",
    "\n",
    "#use stratify for un balanced number of examples for each class label\n",
    "X_train, X_test, y_train, y_test = train_test_split(X, y, test_size=0.3,random_state=42,shuffle=True)\n",
    "print(f\"X_train:{X_train.shape}\")\n",
    "print(f\"X_test: {X_test.shape}\")\n",
    "print(f\"y_train:{y_train.shape}\")\n",
    "print(f\"y_test: {y_test.shape}\")\n",
    "\n",
    "# Model Training: DecisionTreeClassifier\n",
    "print('training model')\n",
    "MODEL = 'CART'\n",
    "# define steps\n",
    "model = DecisionTreeClassifier(max_leaf_nodes=30, random_state=42)\n",
    "    \n",
    "steps = [('c',OneHotEncoder(handle_unknown='ignore'),cat_ix), ('n',MinMaxScaler(),num_ix)]\n",
    "# one hot encode categorical, normalize numerical\n",
    "ct = ColumnTransformer(steps)\n",
    "# wrap the model a pipeline\n",
    "pipe  = Pipeline(steps=[('transformer',ct),('cart',model)])\n",
    "pipe.fit(X_train, y_train)\n",
    "print(f\"model: {pipe}\")\n",
    "  \n",
    "## Evaluate the model\n",
    "# using threshold\n",
    "threshold = 0.5 # set threshold as 0.5\n",
    "y_pred = (pipe.predict_proba(X_test)[:,1] >= threshold).astype(int) \n",
    "print(f\"y_pred: {y_pred}\")\n",
    "print(f'Misclassified examples:{(y_test != y_pred).sum()}')\n",
    "print(pipe.predict_proba(X_test))\n",
    "  \n",
    "print(f\"distinct y_pred: {np.unique(y_pred)}\")\n",
    "print(f\"distinct y_test: {np.unique(y_test)}\")\n",
    "  \n",
    "# Confusion Matrix\n",
    "conf_mat = metrics.confusion_matrix(y_test, y_pred)\n",
    "print(f\"confusion matrix:\\n {conf_mat}\")\n",
    "\n",
    "# AUC\n",
    "auc = metrics.roc_auc_score(y_test, y_pred)\n",
    "print(f\"auc: {auc}\")\n",
    "\n",
    "# Accuracy\n",
    "accuracy = metrics.accuracy_score(y_test, y_pred)\n",
    "print(f\"Accuracy: {accuracy}\") \n",
    "\n",
    "# Precision\n",
    "precision = metrics.precision_score(y_test, y_pred)\n",
    "print(f\"Precision: {precision}\")\n",
    "\n",
    "# Recall\n",
    "recall = metrics.recall_score(y_test, y_pred)\n",
    "print(f\"Recall: {recall}\")\n",
    "\n",
    "# F1\n",
    "f1 = metrics.f1_score(y_test, y_pred)\n",
    "print(f\"F1: {f1}\")\n",
    "\n",
    "# classification_report\n",
    "print('classification_report')\n",
    "print(metrics.classification_report(y_test, y_pred))\n",
    "\n",
    "# persist model\n",
    "path = f\"models/SageMaker/Adult/local/desktop/{MODEL}.joblib\"\n",
    "joblib.dump(pipe, path)\n",
    "print('model persisted at ' + path)\n",
    "\n",
    "time_elapsed = (time.time() - start_time)\n",
    "print(\"Computational time:{}\".format(time_elapsed))"
   ]
  },
  {
   "cell_type": "markdown",
   "metadata": {},
   "source": [
    "<a id=\"compaire\"></a>\n",
    "### 4 Model Comparison\n",
    "\n",
    "\n",
    "<a id=\"result\"></a>\n",
    "Note: **similar**"
   ]
  },
  {
   "cell_type": "code",
   "execution_count": 16,
   "metadata": {},
   "outputs": [
    {
     "data": {
      "image/png": "[encoded data removed]",
      "text/plain": [
       "<IPython.core.display.Image object>"
      ]
     },
     "execution_count": 16,
     "metadata": {},
     "output_type": "execute_result"
    }
   ],
   "source": [
    "from IPython.display import Image\n",
    "\n",
    "Image(filename='images/SageMaker/Exp-2/CART/metric-compair.png')"
   ]
  },
  {
   "cell_type": "markdown",
   "metadata": {},
   "source": [
    "#### some screenshots from SageMaker Training hardware"
   ]
  },
  {
   "cell_type": "code",
   "execution_count": 14,
   "metadata": {},
   "outputs": [
    {
     "data": {
      "image/png": "[encoded data removed]",
      "text/plain": [
       "<IPython.core.display.Image object>"
      ]
     },
     "execution_count": 14,
     "metadata": {},
     "output_type": "execute_result"
    }
   ],
   "source": [
    "Image(filename='images/SageMaker/Exp-2/CART/metric.png')"
   ]
  },
  {
   "cell_type": "code",
   "execution_count": 15,
   "metadata": {},
   "outputs": [
    {
     "data": {
      "image/png": "[encoded data removed]",
      "text/plain": [
       "<IPython.core.display.Image object>"
      ]
     },
     "execution_count": 15,
     "metadata": {},
     "output_type": "execute_result"
    }
   ],
   "source": [
    "Image(filename='images/SageMaker/Exp-2/CART/hyperparameter.png')"
   ]
  },
  {
   "cell_type": "markdown",
   "metadata": {},
   "source": [
    "<a id=\"adv_training\"></a>\n",
    "### 5. Adversarially train a robust classifier\n",
    "\n",
    "Adversarial-Robustness-Toolbox for scikit-learn DecisionTree"
   ]
  },
  {
   "cell_type": "code",
   "execution_count": 3,
   "metadata": {},
   "outputs": [],
   "source": [
    "#!pip install tqdm"
   ]
  },
  {
   "cell_type": "code",
   "execution_count": 4,
   "metadata": {},
   "outputs": [],
   "source": [
    "from sklearn.tree import DecisionTreeClassifier\n",
    "from art.estimators.classification import SklearnClassifier\n",
    "from art.attacks.evasion import ZooAttack"
   ]
  },
  {
   "cell_type": "markdown",
   "metadata": {},
   "source": [
    "##### Prepare dataset"
   ]
  },
  {
   "cell_type": "code",
   "execution_count": 18,
   "metadata": {},
   "outputs": [
    {
     "name": "stdout",
     "output_type": "stream",
     "text": [
      "data_combined.shape: (48842, 15)\n",
      "data_combined.shape (After dropna): (45222, 15)\n",
      "shape:(45222, 15)\n",
      "X_train:(31655, 11)\n",
      "X_test: (13567, 11)\n",
      "y_train:(31655,)\n",
      "y_test: (13567,)\n"
     ]
    },
    {
     "name": "stderr",
     "output_type": "stream",
     "text": [
      "C:\\Users\\Hade\\.conda\\envs\\azml\\lib\\site-packages\\pandas\\core\\indexing.py:1745: SettingWithCopyWarning: \n",
      "A value is trying to be set on a copy of a slice from a DataFrame.\n",
      "Try using .loc[row_indexer,col_indexer] = value instead\n",
      "\n",
      "See the caveats in the documentation: https://pandas.pydata.org/pandas-docs/stable/user_guide/indexing.html#returning-a-view-versus-a-copy\n",
      "  isetter(ilocs[0], value)\n"
     ]
    }
   ],
   "source": [
    "import pandas as pd\n",
    "import numpy as np\n",
    "from sklearn.preprocessing import LabelEncoder\n",
    "from sklearn.model_selection import train_test_split\n",
    "\n",
    "## read the data\n",
    "data = pd.read_csv(\"https://archive.ics.uci.edu/ml/machine-learning-databases/adult/adult.data\", header = None, na_values=' ?')\n",
    "## read test data\n",
    "data_test = pd.read_csv(\"https://archive.ics.uci.edu/ml/machine-learning-databases/adult/adult.test\", header = None, skiprows=1, na_values=' ?')\n",
    "\n",
    "## set column names\n",
    "data.columns = ['age', 'workclass','fnlwgt', 'education', 'education-num', 'marital-status', 'occupation', 'relationship', 'race', \n",
    "'sex', 'capital-gain', 'capital-loss', 'hours-per-week', 'native-country', 'IncomeGroup']\n",
    "data_test.columns = ['age', 'workclass','fnlwgt', 'education', 'education-num', 'marital-status', 'occupation', 'relationship', 'race', \n",
    "'sex', 'capital-gain', 'capital-loss', 'hours-per-week', 'native-country', 'IncomeGroup']\n",
    "\n",
    "# preprocess\n",
    "\n",
    "d = {' <=50K': 0,\n",
    "     ' >50K': 1}\n",
    "data['IncomeGroup'] = data['IncomeGroup'].map(d)\n",
    "\n",
    "t = {' <=50K.': 0,\n",
    "     ' >50K.': 1}\n",
    "data_test['IncomeGroup'] = data_test['IncomeGroup'].map(t)\n",
    "\n",
    "# Combine the two datasets to convert the categorical values to binary indicators\n",
    "data_combined = pd.concat([data, data_test])\n",
    "c = {0 : ' <=50K',\n",
    "     1 : ' >50K'}\n",
    "data_combined['IncomeGroup'] = data_combined['IncomeGroup'].map(c)\n",
    "print(f\"data_combined.shape: {data_combined.shape}\")\n",
    "\n",
    "# drop rows with missing\n",
    "data_combined = data_combined.dropna()\n",
    "print(f\"data_combined.shape (After dropna): {data_combined.shape}\")\n",
    "\n",
    "# display data\n",
    "print(f\"shape:{data_combined.shape}\")\n",
    "\n",
    "le = LabelEncoder()\n",
    "\n",
    "new_df = data_combined.loc[:, ~data_combined.columns.isin(['workclass','occupation','native-country'])]\n",
    "new_df.loc[:,'education'] = le.fit_transform(new_df.loc[:,'education'].values)\n",
    "new_df.loc[:,'marital-status'] = le.fit_transform(new_df.loc[:,'marital-status'].values)\n",
    "new_df.loc[:,'relationship'] = le.fit_transform(new_df.loc[:,'relationship'].values)\n",
    "new_df.loc[:,'race'] = le.fit_transform(new_df.loc[:,'race'].values)\n",
    "new_df.loc[:,'sex'] = le.fit_transform(new_df.loc[:,'sex'].values)\n",
    "new_df.loc[:,'IncomeGroup'] = le.fit_transform(new_df.loc[:,'IncomeGroup'].values)\n",
    "\n",
    "X = new_df.drop('IncomeGroup', axis=1).values\n",
    "y = new_df['IncomeGroup'].values\n",
    "\n",
    "#use stratify for un balanced number of examples for each class label\n",
    "X_train, X_test, y_train, y_test = train_test_split(X, y, test_size=0.3,random_state=42,shuffle=True)\n",
    "print(f\"X_train:{X_train.shape}\")\n",
    "print(f\"X_test: {X_test.shape}\")\n",
    "print(f\"y_train:{y_train.shape}\")\n",
    "print(f\"y_test: {y_test.shape}\")\n"
   ]
  },
  {
   "cell_type": "markdown",
   "metadata": {},
   "source": [
    "#### 1. Train DecisionTreeClassifier classifier"
   ]
  },
  {
   "cell_type": "code",
   "execution_count": 40,
   "metadata": {},
   "outputs": [],
   "source": [
    "model = DecisionTreeClassifier(criterion='gini', splitter='best', max_depth=None, min_samples_split=2, \n",
    "                               min_samples_leaf=1, min_weight_fraction_leaf=0.0, max_features=None, \n",
    "                               random_state=None, max_leaf_nodes=50, min_impurity_decrease=0.0, \n",
    "                               min_impurity_split=None, class_weight=None)"
   ]
  },
  {
   "cell_type": "code",
   "execution_count": 41,
   "metadata": {},
   "outputs": [
    {
     "data": {
      "text/plain": [
       "DecisionTreeClassifier(max_leaf_nodes=50)"
      ]
     },
     "execution_count": 41,
     "metadata": {},
     "output_type": "execute_result"
    }
   ],
   "source": [
    "model.fit(X=X_train, y=y_train)"
   ]
  },
  {
   "cell_type": "markdown",
   "metadata": {},
   "source": [
    "#### 2. Create and apply Zeroth Order Optimization Attack with ART"
   ]
  },
  {
   "cell_type": "code",
   "execution_count": 42,
   "metadata": {},
   "outputs": [],
   "source": [
    "# Create ART classifier for scikit-learn DecisionTreeClassifier\n",
    "art_classifier = SklearnClassifier(model=model)"
   ]
  },
  {
   "cell_type": "code",
   "execution_count": 43,
   "metadata": {},
   "outputs": [],
   "source": [
    "# from art.attacks.evasion import ZooAttack\n",
    "# Create ART Zeroth Order Optimization attack\n",
    "zoo = ZooAttack(classifier=art_classifier, confidence=0.0, targeted=False, learning_rate=1e-1, max_iter=100,\n",
    "                binary_search_steps=20, initial_const=1e-3, abort_early=True, use_resize=False, \n",
    "                use_importance=False, nb_parallel=10, batch_size=1, variable_h=0.25)"
   ]
  },
  {
   "cell_type": "code",
   "execution_count": 44,
   "metadata": {},
   "outputs": [
    {
     "name": "stderr",
     "output_type": "stream",
     "text": [
      "ZOO: 100%|████████████████████████████████████████████████████████████████████████████████████| 31655/31655 [1:55:54<00:00,  4.55it/s]\n"
     ]
    }
   ],
   "source": [
    "# Generate adversarial samples with ART Zeroth Order Optimization attack\n",
    "x_train_adv = zoo.generate(X_train)"
   ]
  },
  {
   "cell_type": "code",
   "execution_count": 45,
   "metadata": {},
   "outputs": [
    {
     "name": "stderr",
     "output_type": "stream",
     "text": [
      "ZOO: 100%|██████████████████████████████████████████████████████████████████████████████████████| 13567/13567 [49:50<00:00,  4.54it/s]\n"
     ]
    }
   ],
   "source": [
    "# Generate adversarial samples with ART Zeroth Order Optimization attack\n",
    "x_test_adv = zoo.generate(X_test)"
   ]
  },
  {
   "cell_type": "markdown",
   "metadata": {},
   "source": [
    "#### 3. Evaluate DecisionTreeClassifier on benign and adversarial samples"
   ]
  },
  {
   "cell_type": "code",
   "execution_count": 46,
   "metadata": {},
   "outputs": [
    {
     "name": "stdout",
     "output_type": "stream",
     "text": [
      "Benign Training Score: 0.8546\n",
      "Benign Training Predicted Label: [0 0 0 0 0]\n",
      "Adversarial Training Score: 0.8546\n",
      "Adversarial Training Predicted Label: [0 0 0 0 0]\n"
     ]
    }
   ],
   "source": [
    "## evaluate performance on those:\n",
    "# Training score on Benign\n",
    "score = model.score(X_train, y_train)\n",
    "print(\"Benign Training Score: %.4f\" % score)\n",
    "\n",
    "# Training Predict\n",
    "prediction = model.predict(X_train[0:5, :])\n",
    "print(f\"Benign Training Predicted Label: {prediction}\")\n",
    "\n",
    "# Training score on Adversarial\n",
    "score_adv = model.score(X_train_adv, y_train)\n",
    "print(\"Adversarial Training Score: %.4f\" % score_adv)\n",
    "\n",
    "prediction_adv = model.predict(X_train_adv[0:5, :])\n",
    "print(f\"Adversarial Training Predicted Label: {prediction_adv}\")"
   ]
  },
  {
   "cell_type": "code",
   "execution_count": 47,
   "metadata": {},
   "outputs": [
    {
     "name": "stdout",
     "output_type": "stream",
     "text": [
      "Benign Test Score: 0.8520\n",
      "Benign Test Predicted Label: [0 0 0 0 1]\n",
      "Adversarial Test Score: 0.8520\n",
      "Adversarial Test Predicted Label: [0 0 0 0 1]\n"
     ]
    }
   ],
   "source": [
    "##### Test score\n",
    "score = model.score(X_test, y_test)\n",
    "print(\"Benign Test Score: %.4f\" % score)\n",
    "\n",
    "prediction = model.predict(X_test[:5, :])\n",
    "print(f\"Benign Test Predicted Label: {prediction}\")\n",
    "\n",
    "score = model.score(X_test_adv, y_test)\n",
    "print(\"Adversarial Test Score: %.4f\" % score)\n",
    "\n",
    "prediction = model.predict(X_test_adv[0:5, :])\n",
    "print(f\"Adversarial Test Predicted Label: {prediction}\")"
   ]
  },
  {
   "cell_type": "code",
   "execution_count": 48,
   "metadata": {},
   "outputs": [
    {
     "name": "stdout",
     "output_type": "stream",
     "text": [
      "X_Train\n",
      "[[    20 250165     11      9      2      0      4      1      0      0\n",
      "      40]\n",
      " [    61 170278     14     15      4      1      4      0      0      0\n",
      "      30]\n",
      " [    22 191265     15     10      4      1      4      1      0      0\n",
      "      30]\n",
      " [    36 193855     11      9      2      0      4      1      0      0\n",
      "      40]\n",
      " [    26 211435     11      9      4      4      4      0      0      0\n",
      "      40]]\n",
      "X_Train_adv\n",
      "[[    20 250165     11      9      2      0      4      1      0      0\n",
      "      40]\n",
      " [    61 170278     14     15      4      1      4      0      0      0\n",
      "      30]\n",
      " [    22 191265     15     10      4      1      4      1      0      0\n",
      "      30]\n",
      " [    36 193855     11      9      2      0      4      1      0      0\n",
      "      40]\n",
      " [    26 211435     11      9      4      4      4      0      0      0\n",
      "      40]]\n"
     ]
    }
   ],
   "source": [
    "print(\"X_Train\")\n",
    "print(X_train[0:5, :])\n",
    "print(\"X_Train_adv\")\n",
    "print(X_train_adv[0:5, :])"
   ]
  },
  {
   "cell_type": "code",
   "execution_count": 49,
   "metadata": {},
   "outputs": [
    {
     "data": {
      "image/png": "[encoded data removed]",
      "text/plain": [
       "<IPython.core.display.Image object>"
      ]
     },
     "execution_count": 49,
     "metadata": {},
     "output_type": "execute_result"
    }
   ],
   "source": [
    "from IPython.display import Image\n",
    "\n",
    "Image(filename='images/ART.png')"
   ]
  },
  {
   "cell_type": "code",
   "execution_count": null,
   "metadata": {},
   "outputs": [],
   "source": [
    "def get_data(num_classes):\n",
    "    x_train, y_train = load_iris(return_X_y=True)\n",
    "    x_train = x_train[y_train < num_classes][:, [0, 1]]\n",
    "    y_train = y_train[y_train < num_classes]\n",
    "    x_train[:, 0][y_train == 0] *= 2\n",
    "    x_train[:, 1][y_train == 2] *= 2\n",
    "    x_train[:, 0][y_train == 0] -= 3\n",
    "    x_train[:, 1][y_train == 2] -= 2\n",
    "    \n",
    "    x_train[:, 0] = (x_train[:, 0] - 4) / (9 - 4)\n",
    "    x_train[:, 1] = (x_train[:, 1] - 1) / (6 - 1)\n",
    "    \n",
    "    return x_train, y_train"
   ]
  },
  {
   "cell_type": "markdown",
   "metadata": {},
   "source": [
    "https://github.com/Trusted-AI/adversarial-robustness-toolbox/blob/main/art/attacks/poisoning/perturbations/image_perturbations.py"
   ]
  },
  {
   "cell_type": "code",
   "execution_count": 50,
   "metadata": {},
   "outputs": [
    {
     "data": {
      "image/png": "[encoded data removed]",
      "text/plain": [
       "<IPython.core.display.Image object>"
      ]
     },
     "execution_count": 50,
     "metadata": {},
     "output_type": "execute_result"
    }
   ],
   "source": [
    "Image(filename='images/backdoor.png')"
   ]
  }
 ],
 "metadata": {
  "kernel_info": {
   "name": "python3"
  },
  "kernelspec": {
   "display_name": "Python 3",
   "language": "python",
   "name": "python3"
  },
  "language_info": {
   "codemirror_mode": {
    "name": "ipython",
    "version": 3
   },
   "file_extension": ".py",
   "mimetype": "text/x-python",
   "name": "python",
   "nbconvert_exporter": "python",
   "pygments_lexer": "ipython3",
   "version": "3.8.3"
  },
  "nteract": {
   "version": "nteract-front-end@1.0.0"
  }
 },
 "nbformat": 4,
 "nbformat_minor": 4
}
