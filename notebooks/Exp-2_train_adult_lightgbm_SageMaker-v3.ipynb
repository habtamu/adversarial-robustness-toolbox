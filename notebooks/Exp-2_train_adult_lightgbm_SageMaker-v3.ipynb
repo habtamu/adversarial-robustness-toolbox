{
 "cells": [
  {
   "cell_type": "markdown",
   "metadata": {
    "nteract": {
     "transient": {
      "deleting": false
     }
    }
   },
   "source": [
    "# Adults Census Model Training with Sagemaker \n",
    "## LightGBM"
   ]
  },
  {
   "cell_type": "markdown",
   "metadata": {},
   "source": [
    "This notebook used to experiment Scikit-learn with Sagemaker by utilizing the pre-built container.\n",
    "\n",
    "Scikit-learn is on of Python machine learning framework, that composed of algorithms for classification, regression, clustering, dimensionality reduction, and data/feature pre-processing.\n",
    "Scikit-learn container: https://github.com/aws/sagemaker-scikit-learn-container\n",
    "\n",
    "SageMaker Python SDK is an open source library for training and deploying machine learning models on Amazon SageMaker: https://github.com/aws/sagemaker-python-sdk\n",
    "\n",
    "With SageMaker Python SDK:\n",
    "- train and deploy models using popular deep learning frameworks eg. MXNet, TensorFlow, PyTorch\n",
    "- train and deploy models with built in Amazon algorithms eg. Scikit-learn, XGBoost\n",
    "- train and deploy model using your own algorithms built into SageMaker compatible Docker containers.\n",
    "\n",
    "using Sagemaker python sdk with existing scikit-learn code to train model on the Adult Census Income Binary classfication dataset and evaluate the performance of the model.\n",
    "\n",
    "## Outline\n",
    "\n",
    "1. Setup Development Environment\n",
    "2. Data Preparation\n",
    "3. Model Training\n",
    "4. Model comparison"
   ]
  },
  {
   "cell_type": "markdown",
   "metadata": {
    "nteract": {
     "transient": {
      "deleting": false
     }
    }
   },
   "source": [
    "### 1 Set up Development Environment"
   ]
  },
  {
   "cell_type": "markdown",
   "metadata": {
    "nteract": {
     "transient": {
      "deleting": false
     }
    }
   },
   "source": [
    "Steps:\n",
    "- Import base Amazon SageMaker ML packages\n",
    "- Check the SDK version\n",
    "- Create S3 bucket"
   ]
  },
  {
   "cell_type": "code",
   "execution_count": 1,
   "metadata": {
    "gather": {
     "logged": 1606173132065
    }
   },
   "outputs": [
    {
     "name": "stdout",
     "output_type": "stream",
     "text": [
      "Ready to use Amazon SageMaker 2.16.4.dev0\n"
     ]
    }
   ],
   "source": [
    "# base packages to work with SageMaker\n",
    "import boto3\n",
    "from sagemaker import get_execution_role\n",
    "import sagemaker\n",
    "\n",
    "# check core SDK version number\n",
    "print(\"Ready to use Amazon SageMaker\", sagemaker.__version__)"
   ]
  },
  {
   "cell_type": "code",
   "execution_count": 2,
   "metadata": {},
   "outputs": [
    {
     "name": "stdout",
     "output_type": "stream",
     "text": [
      "Using S3 bucket: sagemaker-us-east-2-359732627051\n"
     ]
    }
   ],
   "source": [
    "# S3 prefix\n",
    "prefix = 'Scikit-adults'\n",
    "\n",
    "# Now let's define the S3 bucket\n",
    "sm_boto3 = boto3.client('sagemaker')\n",
    "sess = sagemaker.Session()\n",
    "region = sess.boto_session.region_name\n",
    "bucket = sess.default_bucket()  # this could also be a hard-coded bucket name\n",
    "print(f'Using S3 bucket: {bucket}' )"
   ]
  },
  {
   "cell_type": "code",
   "execution_count": 3,
   "metadata": {},
   "outputs": [],
   "source": [
    "# Python libraries that we'll use throughout the analysis\n",
    "import os\n",
    "import datetime\n",
    "import time\n",
    "import tarfile\n",
    "import pandas as pd\n",
    "import numpy as np"
   ]
  },
  {
   "cell_type": "markdown",
   "metadata": {},
   "source": [
    "### 2. Data Preparation\n",
    "We download Adult Census Income Binary classfication dataset from github, prepreocessing, split it and send it to S3\n",
    "\n",
    "- 2.1 Download dataset\n",
    "\n",
    "- 2.2 Upload data to Amazon S3 bucket\n",
    "\n",
    "Dataset: https://archive.ics.uci.edu/ml/datasets/Adult\n",
    "\n",
    "#### 2.1 Download Adult Data Set"
   ]
  },
  {
   "cell_type": "code",
   "execution_count": 4,
   "metadata": {
    "collapsed": false,
    "gather": {
     "logged": 1606173180548
    },
    "jupyter": {
     "outputs_hidden": false,
     "source_hidden": false
    },
    "nteract": {
     "transient": {
      "deleting": false
     }
    }
   },
   "outputs": [],
   "source": [
    "## read the data\n",
    "data = pd.read_csv(\"https://archive.ics.uci.edu/ml/machine-learning-databases/adult/adult.data\", header = None, na_values=' ?')\n",
    "\n",
    "## read test data\n",
    "data_test = pd.read_csv(\"https://archive.ics.uci.edu/ml/machine-learning-databases/adult/adult.test\", header = None, skiprows=1, na_values=' ?')\n",
    "\n",
    "## set column names\n",
    "data.columns = ['age', 'workclass','fnlwgt', 'education', 'education-num', 'marital-status', 'occupation', 'relationship', 'race', \n",
    "'sex', 'capital-gain', 'capital-loss', 'hours-per-week', 'native-country', 'IncomeGroup']\n",
    "\n",
    "data_test.columns = ['age', 'workclass','fnlwgt', 'education', 'education-num', 'marital-status', 'occupation', 'relationship', 'race', \n",
    "'sex', 'capital-gain', 'capital-loss', 'hours-per-week', 'native-country', 'IncomeGroup']"
   ]
  },
  {
   "cell_type": "code",
   "execution_count": 5,
   "metadata": {},
   "outputs": [
    {
     "data": {
      "text/plain": [
       "array([' <=50K', ' >50K'], dtype='<U6')"
      ]
     },
     "execution_count": 5,
     "metadata": {},
     "output_type": "execute_result"
    }
   ],
   "source": [
    "np.unique(data.loc[:,'IncomeGroup'].values.tolist())"
   ]
  },
  {
   "cell_type": "code",
   "execution_count": 6,
   "metadata": {},
   "outputs": [
    {
     "data": {
      "text/plain": [
       "array([' <=50K.', ' >50K.'], dtype='<U7')"
      ]
     },
     "execution_count": 6,
     "metadata": {},
     "output_type": "execute_result"
    }
   ],
   "source": [
    "np.unique(data_test.loc[:,'IncomeGroup'].values.tolist())"
   ]
  },
  {
   "cell_type": "code",
   "execution_count": 7,
   "metadata": {},
   "outputs": [
    {
     "data": {
      "text/plain": [
       "(48842, 15)"
      ]
     },
     "execution_count": 7,
     "metadata": {},
     "output_type": "execute_result"
    }
   ],
   "source": [
    "from sklearn.preprocessing import LabelEncoder\n",
    "\n",
    "# preprocess\n",
    "le = LabelEncoder()\n",
    "data.loc[:,'IncomeGroup'] = le.fit_transform(data.loc[:,'IncomeGroup'].values.tolist())\n",
    "data_test.loc[:,'IncomeGroup'] = le.fit_transform(data_test.loc[:,'IncomeGroup'].values.tolist())\n",
    "\n",
    "# Combine the two datasets to convert the categorical values to binary indicators\n",
    "data_combined = pd.concat([data, data_test])\n",
    "data_combined.shape"
   ]
  },
  {
   "cell_type": "code",
   "execution_count": 8,
   "metadata": {},
   "outputs": [
    {
     "data": {
      "text/plain": [
       "(45222, 15)"
      ]
     },
     "execution_count": 8,
     "metadata": {},
     "output_type": "execute_result"
    }
   ],
   "source": [
    "# drop rows with missing\n",
    "data_combined = data_combined.dropna()\n",
    "data_combined.shape"
   ]
  },
  {
   "cell_type": "code",
   "execution_count": 9,
   "metadata": {},
   "outputs": [
    {
     "data": {
      "text/html": [
       "<div>\n",
       "<style scoped>\n",
       "    .dataframe tbody tr th:only-of-type {\n",
       "        vertical-align: middle;\n",
       "    }\n",
       "\n",
       "    .dataframe tbody tr th {\n",
       "        vertical-align: top;\n",
       "    }\n",
       "\n",
       "    .dataframe thead th {\n",
       "        text-align: right;\n",
       "    }\n",
       "</style>\n",
       "<table border=\"1\" class=\"dataframe\">\n",
       "  <thead>\n",
       "    <tr style=\"text-align: right;\">\n",
       "      <th></th>\n",
       "      <th>age</th>\n",
       "      <th>workclass</th>\n",
       "      <th>fnlwgt</th>\n",
       "      <th>education</th>\n",
       "      <th>education-num</th>\n",
       "      <th>marital-status</th>\n",
       "      <th>occupation</th>\n",
       "      <th>relationship</th>\n",
       "      <th>race</th>\n",
       "      <th>sex</th>\n",
       "      <th>capital-gain</th>\n",
       "      <th>capital-loss</th>\n",
       "      <th>hours-per-week</th>\n",
       "      <th>native-country</th>\n",
       "      <th>IncomeGroup</th>\n",
       "    </tr>\n",
       "  </thead>\n",
       "  <tbody>\n",
       "    <tr>\n",
       "      <th>0</th>\n",
       "      <td>39</td>\n",
       "      <td>State-gov</td>\n",
       "      <td>77516</td>\n",
       "      <td>Bachelors</td>\n",
       "      <td>13</td>\n",
       "      <td>Never-married</td>\n",
       "      <td>Adm-clerical</td>\n",
       "      <td>Not-in-family</td>\n",
       "      <td>White</td>\n",
       "      <td>Male</td>\n",
       "      <td>2174</td>\n",
       "      <td>0</td>\n",
       "      <td>40</td>\n",
       "      <td>United-States</td>\n",
       "      <td>0</td>\n",
       "    </tr>\n",
       "    <tr>\n",
       "      <th>1</th>\n",
       "      <td>50</td>\n",
       "      <td>Self-emp-not-inc</td>\n",
       "      <td>83311</td>\n",
       "      <td>Bachelors</td>\n",
       "      <td>13</td>\n",
       "      <td>Married-civ-spouse</td>\n",
       "      <td>Exec-managerial</td>\n",
       "      <td>Husband</td>\n",
       "      <td>White</td>\n",
       "      <td>Male</td>\n",
       "      <td>0</td>\n",
       "      <td>0</td>\n",
       "      <td>13</td>\n",
       "      <td>United-States</td>\n",
       "      <td>0</td>\n",
       "    </tr>\n",
       "    <tr>\n",
       "      <th>2</th>\n",
       "      <td>38</td>\n",
       "      <td>Private</td>\n",
       "      <td>215646</td>\n",
       "      <td>HS-grad</td>\n",
       "      <td>9</td>\n",
       "      <td>Divorced</td>\n",
       "      <td>Handlers-cleaners</td>\n",
       "      <td>Not-in-family</td>\n",
       "      <td>White</td>\n",
       "      <td>Male</td>\n",
       "      <td>0</td>\n",
       "      <td>0</td>\n",
       "      <td>40</td>\n",
       "      <td>United-States</td>\n",
       "      <td>0</td>\n",
       "    </tr>\n",
       "    <tr>\n",
       "      <th>3</th>\n",
       "      <td>53</td>\n",
       "      <td>Private</td>\n",
       "      <td>234721</td>\n",
       "      <td>11th</td>\n",
       "      <td>7</td>\n",
       "      <td>Married-civ-spouse</td>\n",
       "      <td>Handlers-cleaners</td>\n",
       "      <td>Husband</td>\n",
       "      <td>Black</td>\n",
       "      <td>Male</td>\n",
       "      <td>0</td>\n",
       "      <td>0</td>\n",
       "      <td>40</td>\n",
       "      <td>United-States</td>\n",
       "      <td>0</td>\n",
       "    </tr>\n",
       "    <tr>\n",
       "      <th>4</th>\n",
       "      <td>28</td>\n",
       "      <td>Private</td>\n",
       "      <td>338409</td>\n",
       "      <td>Bachelors</td>\n",
       "      <td>13</td>\n",
       "      <td>Married-civ-spouse</td>\n",
       "      <td>Prof-specialty</td>\n",
       "      <td>Wife</td>\n",
       "      <td>Black</td>\n",
       "      <td>Female</td>\n",
       "      <td>0</td>\n",
       "      <td>0</td>\n",
       "      <td>40</td>\n",
       "      <td>Cuba</td>\n",
       "      <td>0</td>\n",
       "    </tr>\n",
       "  </tbody>\n",
       "</table>\n",
       "</div>"
      ],
      "text/plain": [
       "   age          workclass  fnlwgt   education  education-num  \\\n",
       "0   39          State-gov   77516   Bachelors             13   \n",
       "1   50   Self-emp-not-inc   83311   Bachelors             13   \n",
       "2   38            Private  215646     HS-grad              9   \n",
       "3   53            Private  234721        11th              7   \n",
       "4   28            Private  338409   Bachelors             13   \n",
       "\n",
       "        marital-status          occupation    relationship    race      sex  \\\n",
       "0        Never-married        Adm-clerical   Not-in-family   White     Male   \n",
       "1   Married-civ-spouse     Exec-managerial         Husband   White     Male   \n",
       "2             Divorced   Handlers-cleaners   Not-in-family   White     Male   \n",
       "3   Married-civ-spouse   Handlers-cleaners         Husband   Black     Male   \n",
       "4   Married-civ-spouse      Prof-specialty            Wife   Black   Female   \n",
       "\n",
       "   capital-gain  capital-loss  hours-per-week  native-country  IncomeGroup  \n",
       "0          2174             0              40   United-States            0  \n",
       "1             0             0              13   United-States            0  \n",
       "2             0             0              40   United-States            0  \n",
       "3             0             0              40   United-States            0  \n",
       "4             0             0              40            Cuba            0  "
      ]
     },
     "execution_count": 9,
     "metadata": {},
     "output_type": "execute_result"
    }
   ],
   "source": [
    "data_combined.head()"
   ]
  },
  {
   "cell_type": "code",
   "execution_count": 10,
   "metadata": {},
   "outputs": [
    {
     "data": {
      "text/plain": [
       "array([0, 1])"
      ]
     },
     "execution_count": 10,
     "metadata": {},
     "output_type": "execute_result"
    }
   ],
   "source": [
    "np.unique(data_combined.loc[:,'IncomeGroup'].values.tolist())"
   ]
  },
  {
   "cell_type": "code",
   "execution_count": 11,
   "metadata": {},
   "outputs": [
    {
     "name": "stdout",
     "output_type": "stream",
     "text": [
      "Class=0, Count=34014, Percentage=75.216%\n",
      "Class=1, Count=11208, Percentage=24.784%\n"
     ]
    }
   ],
   "source": [
    "# summarize the class distribution\n",
    "import collections\n",
    "\n",
    "target = data_combined.values[:,-1]\n",
    "counter = collections.Counter(target)\n",
    "for k,v in counter.items():\n",
    "    per = v / len(target) * 100\n",
    "    print('Class=%s, Count=%d, Percentage=%.3f%%' % (k, v, per))"
   ]
  },
  {
   "cell_type": "code",
   "execution_count": 13,
   "metadata": {},
   "outputs": [
    {
     "data": {
      "text/plain": [
       "Index(['workclass', 'education', 'marital-status', 'occupation',\n",
       "       'relationship', 'race', 'sex', 'native-country'],\n",
       "      dtype='object')"
      ]
     },
     "execution_count": 13,
     "metadata": {},
     "output_type": "execute_result"
    }
   ],
   "source": [
    "cat_ix = data_combined.select_dtypes(include=['object', 'bool']).columns\n",
    "cat_ix"
   ]
  },
  {
   "cell_type": "code",
   "execution_count": 14,
   "metadata": {},
   "outputs": [
    {
     "data": {
      "text/plain": [
       "Index(['IncomeGroup', 'age', 'fnlwgt', 'education-num', 'capital-gain',\n",
       "       'capital-loss', 'hours-per-week'],\n",
       "      dtype='object')"
      ]
     },
     "execution_count": 14,
     "metadata": {},
     "output_type": "execute_result"
    }
   ],
   "source": [
    "num_ix = data_combined.select_dtypes(include=['int64', 'float64']).columns\n",
    "num_ix"
   ]
  },
  {
   "cell_type": "code",
   "execution_count": 15,
   "metadata": {},
   "outputs": [],
   "source": [
    "# Create directory\n",
    "os.makedirs('./data', exist_ok=True)\n",
    "\n",
    "# write csv\n",
    "data_combined.to_csv(\"./data/adult.csv\", index = False)"
   ]
  },
  {
   "cell_type": "markdown",
   "metadata": {
    "nteract": {
     "transient": {
      "deleting": false
     }
    }
   },
   "source": [
    "#### 2.2 Upload data to Amazon S3 bucket\n",
    "\n",
    "Here we will send data to S3 and then SageMaker will take training data from s3."
   ]
  },
  {
   "cell_type": "code",
   "execution_count": 16,
   "metadata": {},
   "outputs": [
    {
     "data": {
      "text/plain": [
       "'s3://sagemaker-us-east-2-359732627051/Scikit-adults/data'"
      ]
     },
     "execution_count": 16,
     "metadata": {},
     "output_type": "execute_result"
    }
   ],
   "source": [
    "WORK_DIRECTORY = 'data'\n",
    "\n",
    "train_input = sess.upload_data(WORK_DIRECTORY, key_prefix=\"{}/{}\".format(prefix, WORK_DIRECTORY))\n",
    "train_input"
   ]
  },
  {
   "cell_type": "markdown",
   "metadata": {},
   "source": [
    "### 3 Model Training"
   ]
  },
  {
   "cell_type": "markdown",
   "metadata": {},
   "source": [
    "#### 3.1 Prepare a training script\n",
    "The below script contains training model and can run (model training) both in SageMaker hardware for model training or locally (desktop, SageMaker notebook, etc)"
   ]
  },
  {
   "cell_type": "code",
   "execution_count": 17,
   "metadata": {},
   "outputs": [],
   "source": [
    "# Directory to write training script.\n",
    "# Code Directory\n",
    "import os\n",
    "script_folder = os.path.join(os.getcwd(), \"script\")\n",
    "os.makedirs(script_folder, exist_ok=True)"
   ]
  },
  {
   "cell_type": "code",
   "execution_count": 45,
   "metadata": {},
   "outputs": [
    {
     "name": "stdout",
     "output_type": "stream",
     "text": [
      "Overwriting /home/ec2-user/SageMaker/script/train_adult_lightgbm.py\n"
     ]
    }
   ],
   "source": [
    "%%writefile $script_folder/train_adult_lightgbm.py\n",
    "import os\n",
    "import subprocess\n",
    "import sys\n",
    "import argparse\n",
    "import joblib\n",
    "import pandas as pd\n",
    "import numpy as np\n",
    "\n",
    "from sklearn.preprocessing import LabelEncoder\n",
    "from sklearn.preprocessing import OneHotEncoder\n",
    "from sklearn.preprocessing import MinMaxScaler\n",
    "from sklearn.pipeline import Pipeline\n",
    "from sklearn.compose import ColumnTransformer\n",
    "from sklearn.model_selection import train_test_split\n",
    "from sklearn import metrics\n",
    "\n",
    "def install(package):\n",
    "    subprocess.check_call([sys.executable, \"-q\", \"-m\", \"pip\", \"install\", package])\n",
    "\n",
    "if __name__ =='__main__':\n",
    "    print('installing lightgbm')\n",
    "    install('lightgbm')\n",
    "    \n",
    "    print('extracting arguments')\n",
    "    parser = argparse.ArgumentParser()\n",
    "\n",
    "    # hyperparameters will be passed as arguments to the script.\n",
    "    # example: sklearn lightgbm hyperparameters\n",
    "    parser.add_argument('--learning-rate', type=float, default=0.1)\n",
    "    parser.add_argument('--metric', type=str, default=\"binary_logloss\")\n",
    "    parser.add_argument('--min-child-samples', type=int, default=20)\n",
    "    parser.add_argument('--num-leaves', type=int, default=20)\n",
    "    parser.add_argument('--n-estimators', type=int, default=100)\n",
    "    \n",
    "\n",
    "    # Data, model, and output directories\n",
    "    parser.add_argument('--model-dir', type=str, default=os.environ.get('SM_MODEL_DIR'))\n",
    "    parser.add_argument('--train', type=str, default=os.environ.get('SM_CHANNEL_TRAIN'))\n",
    "    parser.add_argument('--features', type=str)  # required name features for flexibity\n",
    "    parser.add_argument('--target', type=str, default='IncomeGroup')\n",
    "    \n",
    "    args, _ = parser.parse_known_args()\n",
    "    print(f\"--model-dir: {args.model_dir}\")\n",
    "    print(f\"--train: {args.train}\")\n",
    "    print(f\"--learning-rate: {args.learning_rate}\")\n",
    "    print(f\"--metric: {args.metric}\")\n",
    "    print(f\"--min_child_samples: {args.min_child_samples}\")\n",
    "    print(f\"--num_leaves: {args.num_leaves}\")\n",
    "    print(f\"--n-estimators: {args.n_estimators}\")\n",
    "    \n",
    "    # Take the set of files and read them all into a single pandas dataframe\n",
    "    input_files = [ os.path.join(args.train, file) for file in os.listdir(args.train) ]\n",
    "    if len(input_files) == 0:\n",
    "        raise ValueError(('There are no files in {}.\\n' +\n",
    "                          'This usually indicates that the channel ({}) was incorrectly specified,\\n' +\n",
    "                          'the data specification in S3 was incorrectly specified or the role specified\\n' +\n",
    "                          'does not have permission to access the data.').format(args.train, \"train\"))\n",
    "    raw_data = [ pd.read_csv(file, engine=\"python\") for file in input_files ]\n",
    "    df = pd.concat(raw_data)\n",
    "    print(df.head())\n",
    "          \n",
    "    #Prepocessing\n",
    "    X = df.drop('IncomeGroup', axis=1)\n",
    "    y = df['IncomeGroup']\n",
    "    \n",
    "    cat_ix = X.select_dtypes(include=['object', 'bool']).columns\n",
    "    print(f\"cat_ix: {cat_ix}\")\n",
    "    num_ix = X.select_dtypes(include=['int64', 'float64']).columns\n",
    "    print(f\"num_ix: {num_ix}\")\n",
    "    \n",
    "    #use stratify for un balanced number of examples for each class label\n",
    "    X_train, X_test, y_train, y_test = train_test_split(X, y, test_size=0.3,random_state=42,shuffle=True)\n",
    "    print(f\"X_train:{X_train.shape}\")\n",
    "    print(f\"X_test: {X_test.shape}\")\n",
    "    print(f\"y_train:{y_train.shape}\")\n",
    "    print(f\"y_test: {y_test.shape}\")\n",
    "    \n",
    "    import lightgbm as lgb\n",
    "    from lightgbm import LGBMClassifier\n",
    "    # Model Training: gbdt\n",
    "    print('training model')\n",
    "    MODEL = \"gbdt\"\n",
    "    # set training parameters\n",
    "    params = {\n",
    "        \"boosting_type\":'gbdt',     # boosting type, support gbdt for now, alias: boosting, boost\n",
    "        \"objective\": \"binary\",      # binary , binary classification task\n",
    "        \"learning_rate\": args.learning_rate,       # shrinkage rate\n",
    "        \"n_estimators\":  args.n_estimators, #n_estimators (int, optional (default=100)) – Number of boosted trees to fit.\n",
    "        \"num_leaves\": args.num_leaves,           # number of leaves for one tree\n",
    "        \"min_child_samples\": args.min_child_samples,    # min_child_samples (int, optional (default=20)) – Minimum number of data needed in a child (leaf).\n",
    "        \"metric\": args.metric, # binary_logloss , default metric for binary\n",
    "        \"random_state\": 42\n",
    "    }\n",
    "    \n",
    "    model = LGBMClassifier(boosting_type = params[\"boosting_type\"], \n",
    "                           objective = params[\"objective\"],\n",
    "                           learning_rate = params[\"learning_rate\"],                  \n",
    "                           num_leaves = params[\"num_leaves\"], \n",
    "                           min_child_samples = params[\"min_child_samples\"],\n",
    "                           metric = params[\"metric\"],\n",
    "                           random_state = params[\"random_state\"],\n",
    "                           n_estimators = params[\"n_estimators\"])\n",
    "    # define steps\n",
    "    steps = [('c',OneHotEncoder(handle_unknown='ignore'),cat_ix), ('n',MinMaxScaler(),num_ix)]\n",
    "    # one hot encode categorical, normalize numerical\n",
    "    ct = ColumnTransformer(steps)\n",
    "    # wrap the model a pipeline\n",
    "    pipe  = Pipeline(steps=[('transformer',ct),('gbdt',model)])\n",
    "    pipe.fit(X_train, y_train)\n",
    "    print(f\"model: {pipe}\")\n",
    "          \n",
    "    ## Evaluate the model\n",
    "\n",
    "    # using threshold\n",
    "    threshold = 0.5 # set threshold as 0.5\n",
    "    y_pred = (pipe.predict_proba(X_test)[:,1] >= threshold).astype(int) \n",
    "    print(f\"y_pred: {y_pred}\")\n",
    "    print(f'Misclassified examples:{(y_test != y_pred).sum()}')\n",
    "    print(pipe.predict_proba(X_test))\n",
    "          \n",
    "    print(f\"distinct y_pred: {np.unique(y_pred)}\")\n",
    "    print(f\"distinct y_test: {np.unique(y_test)}\")\n",
    "          \n",
    "    # Confusion Matrix\n",
    "    conf_mat = metrics.confusion_matrix(y_test, y_pred)\n",
    "    print(f\"confusion matrix:\\n {conf_mat}\")\n",
    "    \n",
    "    # AUC\n",
    "    auc = metrics.roc_auc_score(y_test, y_pred)\n",
    "    print(f\"auc: {auc}\")\n",
    "    \n",
    "    # Accuracy\n",
    "    accuracy = metrics.accuracy_score(y_test, y_pred)\n",
    "    print(f\"Accuracy: {accuracy}\") \n",
    "    \n",
    "    # Precision\n",
    "    precision = metrics.precision_score(y_test, y_pred)\n",
    "    print(f\"Precision: {precision}\")\n",
    "    \n",
    "    # Recall\n",
    "    recall = metrics.recall_score(y_test, y_pred)\n",
    "    print(f\"Recall: {recall}\")\n",
    "    \n",
    "    # F1\n",
    "    f1 = metrics.f1_score(y_test, y_pred)\n",
    "    print(f\"F1: {f1}\")\n",
    "    \n",
    "    # classification_report\n",
    "    print('classification_report')\n",
    "    print(metrics.classification_report(y_test, y_pred))\n",
    "        \n",
    "    # persist model\n",
    "    path = os.path.join(args.model_dir, f\"{MODEL}.joblib\")\n",
    "    joblib.dump(pipe, path)\n",
    "    print('model persisted at ' + path)\n",
    "    \n",
    "   "
   ]
  },
  {
   "cell_type": "markdown",
   "metadata": {
    "nteract": {
     "transient": {
      "deleting": false
     }
    }
   },
   "source": [
    "#### 3.2 Train Model\n",
    "\n",
    "##### 3.2.1 Run locally\n",
    "Here we can run model Training locally (such as desktop, SageMaker notebook, etc)\n",
    "\n",
    "script arguments allows us to remove from the script any SageMaker-specific configuration, and run locally"
   ]
  },
  {
   "cell_type": "markdown",
   "metadata": {},
   "source": [
    "--features 'age fnlwgt education education-num marital-status relationship race sex capital-gain capital-loss hours-per-week' "
   ]
  },
  {
   "cell_type": "code",
   "execution_count": 46,
   "metadata": {},
   "outputs": [
    {
     "name": "stdout",
     "output_type": "stream",
     "text": [
      "installing lightgbm\n",
      "Collecting lightgbm\n",
      "  Using cached lightgbm-3.1.0-py2.py3-none-manylinux1_x86_64.whl (1.8 MB)\n",
      "Requirement already satisfied: numpy in /home/ec2-user/anaconda3/envs/python3/lib/python3.6/site-packages (from lightgbm) (1.18.1)\n",
      "Requirement already satisfied: scikit-learn!=0.22.0 in /home/ec2-user/anaconda3/envs/python3/lib/python3.6/site-packages (from lightgbm) (0.22.1)\n",
      "Requirement already satisfied: scipy in /home/ec2-user/anaconda3/envs/python3/lib/python3.6/site-packages (from lightgbm) (1.4.1)\n",
      "Requirement already satisfied: joblib>=0.11 in /home/ec2-user/anaconda3/envs/python3/lib/python3.6/site-packages (from scikit-learn!=0.22.0->lightgbm) (0.14.1)\n",
      "Installing collected packages: lightgbm\n",
      "Successfully installed lightgbm-3.1.0\n",
      "\u001b[33mWARNING: You are using pip version 20.0.2; however, version 20.3 is available.\n",
      "You should consider upgrading via the '/home/ec2-user/anaconda3/envs/python3/bin/python -m pip install --upgrade pip' command.\u001b[0m\n",
      "extracting arguments\n",
      "--model-dir: ./\n",
      "--train: ./data/\n",
      "--learning-rate: 0.2\n",
      "--metric: binary_logloss\n",
      "--min_child_samples: 10\n",
      "--num_leaves: 20\n",
      "--n-estimators: 100\n",
      "   age          workclass  fnlwgt  ... hours-per-week  native-country IncomeGroup\n",
      "0   39          State-gov   77516  ...             40   United-States           0\n",
      "1   50   Self-emp-not-inc   83311  ...             13   United-States           0\n",
      "2   38            Private  215646  ...             40   United-States           0\n",
      "3   53            Private  234721  ...             40   United-States           0\n",
      "4   28            Private  338409  ...             40            Cuba           0\n",
      "\n",
      "[5 rows x 15 columns]\n",
      "cat_ix: Index(['workclass', 'education', 'marital-status', 'occupation',\n",
      "       'relationship', 'race', 'sex', 'native-country'],\n",
      "      dtype='object')\n",
      "num_ix: Index(['age', 'fnlwgt', 'education-num', 'capital-gain', 'capital-loss',\n",
      "       'hours-per-week'],\n",
      "      dtype='object')\n",
      "X_train:(31655, 14)\n",
      "X_test: (13567, 14)\n",
      "y_train:(31655,)\n",
      "y_test: (13567,)\n",
      "training model\n",
      "model: Pipeline(memory=None,\n",
      "         steps=[('transformer',\n",
      "                 ColumnTransformer(n_jobs=None, remainder='drop',\n",
      "                                   sparse_threshold=0.3,\n",
      "                                   transformer_weights=None,\n",
      "                                   transformers=[('c',\n",
      "                                                  OneHotEncoder(categories='auto',\n",
      "                                                                drop=None,\n",
      "                                                                dtype=<class 'numpy.float64'>,\n",
      "                                                                handle_unknown='ignore',\n",
      "                                                                sparse=True),\n",
      "                                                  Index(['workclass', 'education', 'marital-status', 'occupation',\n",
      "       'relationship', 'race', 'sex...\n",
      "                                colsample_bytree=1.0, importance_type='split',\n",
      "                                learning_rate=0.2, max_depth=-1,\n",
      "                                metric='binary_logloss', min_child_samples=10,\n",
      "                                min_child_weight=0.001, min_split_gain=0.0,\n",
      "                                n_estimators=100, n_jobs=-1, num_leaves=20,\n",
      "                                objective='binary', random_state=42,\n",
      "                                reg_alpha=0.0, reg_lambda=0.0, silent=True,\n",
      "                                subsample=1.0, subsample_for_bin=200000,\n",
      "                                subsample_freq=0))],\n",
      "         verbose=False)\n",
      "y_pred: [0 0 0 ... 0 0 0]\n",
      "Misclassified examples:1745\n",
      "[[0.53570775 0.46429225]\n",
      " [0.90555827 0.09444173]\n",
      " [0.92430793 0.07569207]\n",
      " ...\n",
      " [0.7814943  0.2185057 ]\n",
      " [0.60741851 0.39258149]\n",
      " [0.68615902 0.31384098]]\n",
      "distinct y_pred: [0 1]\n",
      "distinct y_test: [0 1]\n",
      "confusion matrix:\n",
      " [[9583  610]\n",
      " [1135 2239]]\n",
      "auc: 0.8018795195815019\n",
      "Accuracy: 0.8713790815950468\n",
      "Precision: 0.7858897858897859\n",
      "Recall: 0.6636040308239478\n",
      "F1: 0.7195886228507151\n",
      "classification_report\n",
      "              precision    recall  f1-score   support\n",
      "\n",
      "           0       0.89      0.94      0.92     10193\n",
      "           1       0.79      0.66      0.72      3374\n",
      "\n",
      "    accuracy                           0.87     13567\n",
      "   macro avg       0.84      0.80      0.82     13567\n",
      "weighted avg       0.87      0.87      0.87     13567\n",
      "\n",
      "model persisted at ./gbdt.joblib\n"
     ]
    }
   ],
   "source": [
    "! python $script_folder/train_adult_lightgbm.py --n-estimators 100 \\\n",
    "                   --learning-rate 0.2 \\\n",
    "                   --min-child-samples 10 \\\n",
    "                   --num-leaves 20 \\\n",
    "                   --model-dir ./ \\\n",
    "                   --train ./data/ \\\n",
    "                   --features 'age workclass fnlwgt education education-num marital-status occupation relationship race sex capital-gain capital-loss hours-per-week native-country'"
   ]
  },
  {
   "cell_type": "markdown",
   "metadata": {},
   "source": [
    "##### 3.2.2 Submit the Training Job to the Compute Cluster\n",
    "\n",
    "Here we can run model Training in SageMaker training hardware.\n",
    "\n",
    "Training job will show up in the Amazon SageMaker under Training section.\n",
    "\n",
    "Launching a training job with the Python SDK\n",
    "\n",
    "We use the Estimator from the SageMaker Python SDK"
   ]
  },
  {
   "cell_type": "markdown",
   "metadata": {},
   "source": [
    "###### Create a sagemaker.sklearn.SKLearn Estimator"
   ]
  },
  {
   "cell_type": "code",
   "execution_count": 41,
   "metadata": {},
   "outputs": [],
   "source": [
    "# We use the Estimator from the SageMaker Python SDK\n",
    "from sagemaker.sklearn.estimator import SKLearn\n",
    "\n",
    "sklearn_estimator = SKLearn(\n",
    "    source_dir=\"./script/\",\n",
    "    entry_point='train_adult_lightgbm.py',\n",
    "    role = get_execution_role(),\n",
    "    instance_type='ml.m5.4xlarge', \n",
    "    framework_version='0.20.0',\n",
    "    base_job_name='binary-classifiation-scikit-lightgbm',\n",
    "    hyperparameters = {'n-estimators':100,\n",
    "                       'learning-rate': 0.2,\n",
    "                       'min-child-samples': 10,\n",
    "                       'num-leaves': 20,\n",
    "                       'features': 'age workclass fnlwgt education education-num marital-status occupation relationship race sex capital-gain capital-loss hours-per-week native-country'\n",
    "                      })"
   ]
  },
  {
   "cell_type": "markdown",
   "metadata": {},
   "source": [
    "###### Call the estimator’s fit method"
   ]
  },
  {
   "cell_type": "code",
   "execution_count": 42,
   "metadata": {},
   "outputs": [
    {
     "data": {
      "text/plain": [
       "'s3://sagemaker-us-east-2-359732627051/Scikit-adults/data'"
      ]
     },
     "execution_count": 42,
     "metadata": {},
     "output_type": "execute_result"
    }
   ],
   "source": [
    "train_input"
   ]
  },
  {
   "cell_type": "code",
   "execution_count": 43,
   "metadata": {
    "collapsed": false,
    "gather": {
     "logged": 1606177246034
    },
    "jupyter": {
     "outputs_hidden": false,
     "source_hidden": false
    },
    "nteract": {
     "transient": {
      "deleting": false
     }
    }
   },
   "outputs": [],
   "source": [
    "# launch training job, with asynchronous call\n",
    "sklearn_estimator.fit({'train': train_input}, wait=False)"
   ]
  },
  {
   "cell_type": "markdown",
   "metadata": {},
   "source": [
    "##### 3.2.3 Run locally (My Desktop hardware)\n",
    "Here we can run model Training locally use my desktop hardware:"
   ]
  },
  {
   "cell_type": "markdown",
   "metadata": {},
   "source": [
    "###### 3.2.3.1 Setup"
   ]
  },
  {
   "cell_type": "code",
   "execution_count": 4,
   "metadata": {},
   "outputs": [
    {
     "name": "stdout",
     "output_type": "stream",
     "text": [
      "Last updated: 2020-12-07T15:46:28.794070+01:00\n",
      "\n",
      "Python implementation: CPython\n",
      "Python version       : 3.8.3\n",
      "IPython version      : 7.19.0\n",
      "\n",
      "Compiler    : MSC v.1916 64 bit (AMD64)\n",
      "OS          : Windows\n",
      "Release     : 7\n",
      "Machine     : AMD64\n",
      "Processor   : Intel64 Family 6 Model 37 Stepping 5, GenuineIntel\n",
      "CPU cores   : 4\n",
      "Architecture: 64bit\n",
      "\n"
     ]
    }
   ],
   "source": [
    "#! pip install watermark\n",
    "%reload_ext watermark\n",
    "%watermark"
   ]
  },
  {
   "cell_type": "code",
   "execution_count": 5,
   "metadata": {},
   "outputs": [
    {
     "name": "stdout",
     "output_type": "stream",
     "text": [
      "Requirement already satisfied: lightgbm in c:\\users\\hade\\.conda\\envs\\awml\\lib\\site-packages (3.1.0)\n",
      "Requirement already satisfied: numpy in c:\\users\\hade\\appdata\\roaming\\python\\python38\\site-packages (from lightgbm) (1.19.4)\n",
      "Requirement already satisfied: scipy in c:\\users\\hade\\.conda\\envs\\awml\\lib\\site-packages (from lightgbm) (1.5.3)\n",
      "Requirement already satisfied: scikit-learn!=0.22.0 in c:\\users\\hade\\appdata\\roaming\\python\\python38\\site-packages (from lightgbm) (0.23.2)\n",
      "Requirement already satisfied: joblib>=0.11 in c:\\users\\hade\\.conda\\envs\\awml\\lib\\site-packages (from scikit-learn!=0.22.0->lightgbm) (0.17.0)\n",
      "Requirement already satisfied: scipy in c:\\users\\hade\\.conda\\envs\\awml\\lib\\site-packages (from lightgbm) (1.5.3)\n",
      "Requirement already satisfied: threadpoolctl>=2.0.0 in c:\\users\\hade\\.conda\\envs\\awml\\lib\\site-packages (from scikit-learn!=0.22.0->lightgbm) (2.1.0)\n",
      "Requirement already satisfied: numpy in c:\\users\\hade\\appdata\\roaming\\python\\python38\\site-packages (from lightgbm) (1.19.4)\n",
      "Requirement already satisfied: numpy in c:\\users\\hade\\appdata\\roaming\\python\\python38\\site-packages (from lightgbm) (1.19.4)\n"
     ]
    }
   ],
   "source": [
    "! pip install lightgbm"
   ]
  },
  {
   "cell_type": "code",
   "execution_count": 6,
   "metadata": {},
   "outputs": [
    {
     "name": "stdout",
     "output_type": "stream",
     "text": [
      "Author: Habtamu desalegn\n",
      "\n",
      "Last updated: 2020-12-07\n",
      "\n",
      "Python implementation: CPython\n",
      "Python version       : 3.8.3\n",
      "IPython version      : 7.19.0\n",
      "\n",
      "numpy   : 1.19.4\n",
      "pandas  : 1.1.4\n",
      "scipy   : 1.5.3\n",
      "sklearn : 0.23.2\n",
      "lightgbm: 3.1.0\n",
      "\n"
     ]
    }
   ],
   "source": [
    "%reload_ext watermark\n",
    "%watermark  -d -u -a \"Habtamu desalegn\" -v -p numpy,pandas,scipy,sklearn,lightgbm"
   ]
  },
  {
   "cell_type": "code",
   "execution_count": 7,
   "metadata": {},
   "outputs": [],
   "source": [
    "# Python libraries \n",
    "import os\n",
    "import time\n",
    "import collections\n",
    "import joblib\n",
    "import pandas as pd\n",
    "import numpy as np\n",
    "from sklearn.preprocessing import LabelEncoder\n",
    "from sklearn.preprocessing import OneHotEncoder\n",
    "from sklearn.preprocessing import MinMaxScaler\n",
    "from sklearn.pipeline import Pipeline\n",
    "from sklearn.compose import ColumnTransformer\n",
    "from sklearn.model_selection import train_test_split\n",
    "from sklearn import metrics\n",
    "import lightgbm as lgb\n",
    "from lightgbm import LGBMClassifier\n"
   ]
  },
  {
   "cell_type": "markdown",
   "metadata": {},
   "source": [
    "###### 3.2.3.2 Data Preparation\n",
    "\n",
    "**Reference: Exp-2_train_adult_SVC_SageMaker-v3.ipynb**"
   ]
  },
  {
   "cell_type": "markdown",
   "metadata": {},
   "source": [
    "###### 3.2.3.3 Model Training"
   ]
  },
  {
   "cell_type": "code",
   "execution_count": 11,
   "metadata": {},
   "outputs": [],
   "source": [
    "# train and evaluate a model\n",
    "def train_evaluate_model(features):\n",
    "    start_time = time.time()\n",
    "\n",
    "    df = pd.read_csv(\"./data/adult.csv\")\n",
    "    df.head()\n",
    "\n",
    "    #Prepocessing\n",
    "    # X = df.drop('IncomeGroup', axis=1)\n",
    "    # y = df['IncomeGroup']\n",
    "\n",
    "    print('building datasets')\n",
    "    target = 'IncomeGroup'\n",
    "    X = df[features.split()]\n",
    "    y = df[target]\n",
    "\n",
    "    # label encode the target variable to have the classes 0 and 1\n",
    "    y = LabelEncoder().fit_transform(y)\n",
    "\n",
    "    cat_ix = X.select_dtypes(include=['object', 'bool']).columns\n",
    "    print(f\"cat_ix: {cat_ix}\")\n",
    "    num_ix = X.select_dtypes(include=['int64', 'float64']).columns\n",
    "    print(f\"num_ix: {num_ix}\")\n",
    "\n",
    "    #use stratify for un balanced number of examples for each class label\n",
    "    X_train, X_test, y_train, y_test = train_test_split(X, y, test_size=0.3,random_state=42,shuffle=True)\n",
    "    print(f\"X_train:{X_train.shape}\")\n",
    "    print(f\"X_test: {X_test.shape}\")\n",
    "    print(f\"y_train:{y_train.shape}\")\n",
    "    print(f\"y_test: {y_test.shape}\")\n",
    "\n",
    "\n",
    "    # Model Training: gbdt\n",
    "    print('training model')\n",
    "    MODEL = \"gbdt\"\n",
    "    # set training parameters\n",
    "    params = {\n",
    "        \"boosting_type\":'gbdt',     # boosting type, support gbdt for now, alias: boosting, boost\n",
    "        \"objective\": \"binary\",      # binary , binary classification task\n",
    "        \"learning_rate\": 0.2,       # shrinkage rate\n",
    "        \"n_estimators\":  100,       # n_estimators (int, optional (default=100)) – Number of boosted trees to fit.\n",
    "        \"num_leaves\": 20,           # number of leaves for one tree\n",
    "        \"min_child_samples\": 10,    # min_child_samples (int, optional (default=20)) – Minimum number of data needed in a child (leaf).\n",
    "        \"metric\": \"binary_logloss\", # binary_logloss , default metric for binary\n",
    "        \"random_state\": 42\n",
    "    }\n",
    "\n",
    "    model = LGBMClassifier(boosting_type = params[\"boosting_type\"],\n",
    "                           objective = params[\"objective\"],\n",
    "                           learning_rate = params[\"learning_rate\"],                  \n",
    "                           num_leaves = params[\"num_leaves\"], \n",
    "                           min_child_samples = params[\"min_child_samples\"],\n",
    "                           metric = params[\"metric\"],\n",
    "                           random_state = params[\"random_state\"],\n",
    "                           n_estimators = params[\"n_estimators\"])\n",
    "    # define steps\n",
    "    steps = [('c',OneHotEncoder(handle_unknown='ignore'),cat_ix), ('n',MinMaxScaler(),num_ix)]\n",
    "    # one hot encode categorical, normalize numerical\n",
    "    ct = ColumnTransformer(steps)\n",
    "    # wrap the model a pipeline\n",
    "    pipe  = Pipeline(steps=[('transformer',ct),('gbdt',model)])\n",
    "    pipe.fit(X_train, y_train)\n",
    "    print(f\"model: {pipe}\")\n",
    "\n",
    "    ## Evaluate the model\n",
    "    # using threshold\n",
    "    threshold = 0.5 # set threshold as 0.5\n",
    "    y_pred = (pipe.predict_proba(X_test)[:,1] >= threshold).astype(int) \n",
    "    print(f\"y_pred: {y_pred}\")\n",
    "    print(f'Misclassified examples:{(y_test != y_pred).sum()}')\n",
    "    print(pipe.predict_proba(X_test))\n",
    "\n",
    "    print(f\"distinct y_pred: {np.unique(y_pred)}\")\n",
    "    print(f\"distinct y_test: {np.unique(y_test)}\")\n",
    "\n",
    "    # Confusion Matrix\n",
    "    conf_mat = metrics.confusion_matrix(y_test, y_pred)\n",
    "    print(f\"confusion matrix:\\n {conf_mat}\")\n",
    "\n",
    "    # AUC\n",
    "    auc = metrics.roc_auc_score(y_test, y_pred)\n",
    "    print(f\"auc: {auc}\")\n",
    "\n",
    "    # Accuracy\n",
    "    accuracy = metrics.accuracy_score(y_test, y_pred)\n",
    "    print(f\"Accuracy: {accuracy}\") \n",
    "\n",
    "    # Precision\n",
    "    precision = metrics.precision_score(y_test, y_pred)\n",
    "    print(f\"Precision: {precision}\")\n",
    "\n",
    "    # Recall\n",
    "    recall = metrics.recall_score(y_test, y_pred)\n",
    "    print(f\"Recall: {recall}\")\n",
    "\n",
    "    # F1\n",
    "    f1 = metrics.f1_score(y_test, y_pred)\n",
    "    print(f\"F1: {f1}\")\n",
    "\n",
    "    # classification_report\n",
    "    print('classification_report')\n",
    "    print(metrics.classification_report(y_test, y_pred))\n",
    "\n",
    "    # persist model\n",
    "    path = f\"models/SageMaker/Adult/local/desktop/{MODEL}.joblib\"\n",
    "    joblib.dump(pipe, path)\n",
    "    print('model persisted at ' + path)\n",
    "\n",
    "    time_elapsed = (time.time() - start_time)\n",
    "    print(\"Computational time:{}\".format(time_elapsed))"
   ]
  },
  {
   "cell_type": "code",
   "execution_count": 13,
   "metadata": {},
   "outputs": [
    {
     "name": "stdout",
     "output_type": "stream",
     "text": [
      "building datasets\n",
      "cat_ix: Index(['education', 'marital-status', 'relationship', 'race', 'sex'], dtype='object')\n",
      "num_ix: Index(['age', 'fnlwgt', 'education-num', 'capital-gain', 'capital-loss',\n",
      "       'hours-per-week'],\n",
      "      dtype='object')\n",
      "X_train:(31655, 11)\n",
      "X_test: (13567, 11)\n",
      "y_train:(31655,)\n",
      "y_test: (13567,)\n",
      "training model\n",
      "model: Pipeline(steps=[('transformer',\n",
      "                 ColumnTransformer(transformers=[('c',\n",
      "                                                  OneHotEncoder(handle_unknown='ignore'),\n",
      "                                                  Index(['education', 'marital-status', 'relationship', 'race', 'sex'], dtype='object')),\n",
      "                                                 ('n', MinMaxScaler(),\n",
      "                                                  Index(['age', 'fnlwgt', 'education-num', 'capital-gain', 'capital-loss',\n",
      "       'hours-per-week'],\n",
      "      dtype='object'))])),\n",
      "                ('gbdt',\n",
      "                 LGBMClassifier(learning_rate=0.2, metric='binary_logloss',\n",
      "                                min_child_samples=10, num_leaves=20,\n",
      "                                objective='binary', random_state=42))])\n",
      "y_pred: [1 0 0 ... 0 0 0]\n",
      "Misclassified examples:1870\n",
      "[[0.39897098 0.60102902]\n",
      " [0.87132    0.12868   ]\n",
      " [0.92701237 0.07298763]\n",
      " ...\n",
      " [0.82981225 0.17018775]\n",
      " [0.55009492 0.44990508]\n",
      " [0.52011085 0.47988915]]\n",
      "distinct y_pred: [0 1]\n",
      "distinct y_test: [0 1]\n",
      "confusion matrix:\n",
      " [[9539  654]\n",
      " [1216 2158]]\n",
      "auc: 0.787717619010594\n",
      "Accuracy: 0.8621655487580158\n",
      "Precision: 0.767425320056899\n",
      "Recall: 0.6395969176052163\n",
      "F1: 0.697704494018752\n",
      "classification_report\n",
      "              precision    recall  f1-score   support\n",
      "\n",
      "           0       0.89      0.94      0.91     10193\n",
      "           1       0.77      0.64      0.70      3374\n",
      "\n",
      "    accuracy                           0.86     13567\n",
      "   macro avg       0.83      0.79      0.80     13567\n",
      "weighted avg       0.86      0.86      0.86     13567\n",
      "\n",
      "model persisted at models/SageMaker/Adult/local/desktop/gbdt.joblib\n",
      "Computational time:1.3370764255523682\n"
     ]
    }
   ],
   "source": [
    "# Result 1\n",
    "features = 'age fnlwgt education education-num marital-status relationship race sex capital-gain capital-loss hours-per-week'\n",
    "train_evaluate_model(features)"
   ]
  },
  {
   "cell_type": "code",
   "execution_count": 14,
   "metadata": {},
   "outputs": [
    {
     "name": "stdout",
     "output_type": "stream",
     "text": [
      "building datasets\n",
      "cat_ix: Index(['workclass', 'education', 'marital-status', 'occupation',\n",
      "       'relationship', 'race', 'sex', 'native-country'],\n",
      "      dtype='object')\n",
      "num_ix: Index(['age', 'fnlwgt', 'education-num', 'capital-gain', 'capital-loss',\n",
      "       'hours-per-week'],\n",
      "      dtype='object')\n",
      "X_train:(31655, 14)\n",
      "X_test: (13567, 14)\n",
      "y_train:(31655,)\n",
      "y_test: (13567,)\n",
      "training model\n",
      "model: Pipeline(steps=[('transformer',\n",
      "                 ColumnTransformer(transformers=[('c',\n",
      "                                                  OneHotEncoder(handle_unknown='ignore'),\n",
      "                                                  Index(['workclass', 'education', 'marital-status', 'occupation',\n",
      "       'relationship', 'race', 'sex', 'native-country'],\n",
      "      dtype='object')),\n",
      "                                                 ('n', MinMaxScaler(),\n",
      "                                                  Index(['age', 'fnlwgt', 'education-num', 'capital-gain', 'capital-loss',\n",
      "       'hours-per-week'],\n",
      "      dtype='object'))])),\n",
      "                ('gbdt',\n",
      "                 LGBMClassifier(learning_rate=0.2, metric='binary_logloss',\n",
      "                                min_child_samples=10, num_leaves=20,\n",
      "                                objective='binary', random_state=42))])\n",
      "y_pred: [0 0 0 ... 0 0 0]\n",
      "Misclassified examples:1745\n",
      "[[0.53570775 0.46429225]\n",
      " [0.90555827 0.09444173]\n",
      " [0.92430793 0.07569207]\n",
      " ...\n",
      " [0.7814943  0.2185057 ]\n",
      " [0.60741851 0.39258149]\n",
      " [0.68615902 0.31384098]]\n",
      "distinct y_pred: [0 1]\n",
      "distinct y_test: [0 1]\n",
      "confusion matrix:\n",
      " [[9583  610]\n",
      " [1135 2239]]\n",
      "auc: 0.8018795195815019\n",
      "Accuracy: 0.8713790815950468\n",
      "Precision: 0.7858897858897859\n",
      "Recall: 0.6636040308239478\n",
      "F1: 0.7195886228507151\n",
      "classification_report\n",
      "              precision    recall  f1-score   support\n",
      "\n",
      "           0       0.89      0.94      0.92     10193\n",
      "           1       0.79      0.66      0.72      3374\n",
      "\n",
      "    accuracy                           0.87     13567\n",
      "   macro avg       0.84      0.80      0.82     13567\n",
      "weighted avg       0.87      0.87      0.87     13567\n",
      "\n",
      "model persisted at models/SageMaker/Adult/local/desktop/gbdt.joblib\n",
      "Computational time:1.4650838375091553\n"
     ]
    }
   ],
   "source": [
    "# Result 2\n",
    "features = 'age workclass fnlwgt education education-num marital-status occupation relationship race sex capital-gain capital-loss hours-per-week native-country'\n",
    "train_evaluate_model(features)"
   ]
  },
  {
   "cell_type": "markdown",
   "metadata": {},
   "source": [
    "<a id=\"result\"></a>\n",
    "### 4 Model Comparison\n",
    "\n",
    "Note: **They are similar**"
   ]
  },
  {
   "cell_type": "markdown",
   "metadata": {},
   "source": [
    "#### using local hardware"
   ]
  },
  {
   "cell_type": "markdown",
   "metadata": {},
   "source": [
    "training model\n",
    "model: Pipeline(memory=None,\n",
    "         steps=[('transformer',\n",
    "                 ColumnTransformer(n_jobs=None, remainder='drop',\n",
    "                                   sparse_threshold=0.3,\n",
    "                                   transformer_weights=None,\n",
    "                                   transformers=[('c',\n",
    "                                                  OneHotEncoder(categories='auto',\n",
    "                                                                drop=None,\n",
    "                                                                dtype=<class 'numpy.float64'>,\n",
    "                                                                handle_unknown='ignore',\n",
    "                                                                sparse=True),\n",
    "                                                  Index(['workclass', 'education', 'marital-status', 'occupation',\n",
    "       'relationship', 'race', 'sex...\n",
    "                                colsample_bytree=1.0, importance_type='split',\n",
    "                                learning_rate=0.2, max_depth=-1,\n",
    "                                metric='binary_logloss', min_child_samples=10,\n",
    "                                min_child_weight=0.001, min_split_gain=0.0,\n",
    "                                n_estimators=100, n_jobs=-1, num_leaves=20,\n",
    "                                objective='binary', random_state=42,\n",
    "                                reg_alpha=0.0, reg_lambda=0.0, silent=True,\n",
    "                                subsample=1.0, subsample_for_bin=200000,\n",
    "                                subsample_freq=0))],\n",
    "         verbose=False)\n",
    "y_pred: [0 0 0 ... 0 0 0]\n",
    "Misclassified examples:1745\n",
    "[[0.53570775 0.46429225]\n",
    " [0.90555827 0.09444173]\n",
    " [0.92430793 0.07569207]\n",
    " ...\n",
    " [0.7814943  0.2185057 ]\n",
    " [0.60741851 0.39258149]\n",
    " [0.68615902 0.31384098]]\n",
    "distinct y_pred: [0 1]\n",
    "distinct y_test: [0 1]\n",
    "confusion matrix:\n",
    " [[9583  610]\n",
    " [1135 2239]]\n",
    "auc: 0.8018795195815019\n",
    "Accuracy: 0.8713790815950468\n",
    "Precision: 0.7858897858897859\n",
    "Recall: 0.6636040308239478\n",
    "F1: 0.7195886228507151\n",
    "classification_report\n",
    "              precision    recall  f1-score   support\n",
    "\n",
    "           0       0.89      0.94      0.92     10193\n",
    "           1       0.79      0.66      0.72      3374\n",
    "\n",
    "    accuracy                           0.87     13567\n",
    "   macro avg       0.84      0.80      0.82     13567\n",
    "weighted avg       0.87      0.87      0.87     13567"
   ]
  },
  {
   "cell_type": "code",
   "execution_count": 2,
   "metadata": {},
   "outputs": [
    {
     "data": {
      "image/png": "[encoded data removed]",
      "text/plain": [
       "<IPython.core.display.Image object>"
      ]
     },
     "execution_count": 2,
     "metadata": {},
     "output_type": "execute_result"
    }
   ],
   "source": [
    "from IPython.display import Image\n",
    "\n",
    "Image(filename='images/SageMaker/Exp-2/LGBT/metric.png')"
   ]
  },
  {
   "cell_type": "code",
   "execution_count": 3,
   "metadata": {},
   "outputs": [
    {
     "data": {
      "image/png": "[encoded data removed]",
      "text/plain": [
       "<IPython.core.display.Image object>"
      ]
     },
     "execution_count": 3,
     "metadata": {},
     "output_type": "execute_result"
    }
   ],
   "source": [
    "Image(filename='images/SageMaker/Exp-2/LGBT/hyperparameter.png')"
   ]
  }
 ],
 "metadata": {
  "kernel_info": {
   "name": "python3"
  },
  "kernelspec": {
   "display_name": "Python 3",
   "language": "python",
   "name": "python3"
  },
  "language_info": {
   "codemirror_mode": {
    "name": "ipython",
    "version": 3
   },
   "file_extension": ".py",
   "mimetype": "text/x-python",
   "name": "python",
   "nbconvert_exporter": "python",
   "pygments_lexer": "ipython3",
   "version": "3.8.3"
  },
  "nteract": {
   "version": "nteract-front-end@1.0.0"
  }
 },
 "nbformat": 4,
 "nbformat_minor": 4
}
