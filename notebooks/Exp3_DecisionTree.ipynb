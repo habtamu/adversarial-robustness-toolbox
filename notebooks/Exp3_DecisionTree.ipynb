{
 "cells": [
  {
   "cell_type": "markdown",
   "metadata": {
    "nteract": {
     "transient": {
      "deleting": false
     }
    }
   },
   "source": [
    "# Adults Census Model Training\n",
    "## Scikit-learn: Decision Tree Algorithm"
   ]
  },
  {
   "cell_type": "markdown",
   "metadata": {},
   "source": [
    "## Outline\n",
    "\n",
    "1. [Setup Development Environment](#setup)\n",
    "    - 1.1 [Amazon SageMaker](#aws_setup)\n",
    "    - 1.2 [Azure Machine Learning Service](#amls_setup)\n",
    "    - 1.3 [IBM Watson Machine Learning](#wml_setup)\n",
    "2. [Data Preparation](#data_prep)\n",
    "    - 2.1 [Download and Preprocessing](#data)\n",
    "    - 2.2 [Uploading data to Amazon S3 bucket](#aws_data)\n",
    "    - 2.3 [Uploading data to AMLS data store](#amls_data)\n",
    "3. [Model Training](#train)\n",
    "    - 3.1 [Run locally (My Desktop hardware)](#3_1)\n",
    "        - 3.1.1 [hardware info](#3_1_1)\n",
    "        - 3.1.2 [Model Training](#3_1_2)        \n",
    "    - 3.2 [Submit the Training Job to the SageMaker Compute Cluster](#3_2)\n",
    "        - 3.2.1 [hardware info](#3_2_1)\n",
    "        - 3.2.2 [Model Training](#3_2_2)    \n",
    "    - 3.3 [Submit the Training Job to the AMSL Compute Cluster](#3_3)  \n",
    "        - 3.2.1 [hardware info](#3_3_1)\n",
    "        - 3.2.2 [Model Training](#3_3_2) \n",
    "     - 3.4 [Train Model on IBM runtime environment hardware](#3_4)\n",
    "        - 3.4.1 [hardware info](#3_4_1)\n",
    "        - 3.4.2 [Model Training](#3_4_2)\n",
    "4. [Model Comparison](#compaire)"
   ]
  },
  {
   "cell_type": "markdown",
   "metadata": {
    "nteract": {
     "transient": {
      "deleting": false
     }
    }
   },
   "source": [
    "<a id=\"setup\"></a>\n",
    "### 1 Set up Development Environment\n",
    "   - 1.1 [Amazon SageMaker](#aws_setup)\n",
    "   - 1.2 [Azure Machine Learning Service](#amls_setup)\n",
    "   - 1.3 [IBM Watson Machine Learning](#wml_setup)"
   ]
  },
  {
   "cell_type": "markdown",
   "metadata": {
    "nteract": {
     "transient": {
      "deleting": false
     }
    }
   },
   "source": [
    "<a id=\"aws_setup\"></a> \n",
    "- 1.1 Amazon SageMaker\n",
    "    Steps:\n",
    "    - Import base Amazon SageMaker ML packages\n",
    "    - Check the SDK version\n",
    "    - Create S3 bucket"
   ]
  },
  {
   "cell_type": "code",
   "execution_count": 1,
   "metadata": {
    "gather": {
     "logged": 1606173132065
    }
   },
   "outputs": [
    {
     "name": "stdout",
     "output_type": "stream",
     "text": [
      "Ready to use Amazon SageMaker 2.16.4.dev0\n"
     ]
    }
   ],
   "source": [
    "# base packages to work with SageMaker\n",
    "import boto3\n",
    "from sagemaker import get_execution_role\n",
    "import sagemaker\n",
    "\n",
    "# check core SDK version number\n",
    "print(\"Ready to use Amazon SageMaker\", sagemaker.__version__)"
   ]
  },
  {
   "cell_type": "code",
   "execution_count": 2,
   "metadata": {},
   "outputs": [
    {
     "name": "stdout",
     "output_type": "stream",
     "text": [
      "Using S3 bucket: sagemaker-us-east-2-359732627051\n"
     ]
    }
   ],
   "source": [
    "# S3 prefix\n",
    "prefix = 'Scikit-adults'\n",
    "\n",
    "# Now let's define the S3 bucket\n",
    "sm_boto3 = boto3.client('sagemaker')\n",
    "sess = sagemaker.Session()\n",
    "region = sess.boto_session.region_name\n",
    "bucket = sess.default_bucket()  # this could also be a hard-coded bucket name\n",
    "print(f'Using S3 bucket: {bucket}')"
   ]
  },
  {
   "cell_type": "markdown",
   "metadata": {},
   "source": [
    "<a id=\"amls_setup\"></a> \n",
    "- 1.2 Azure Machine Learning Service\n",
    "    Steps: \n",
    "    - create workspace\n",
    "    - create compute        "
   ]
  },
  {
   "cell_type": "code",
   "execution_count": 1,
   "metadata": {
    "gather": {
     "logged": 1608036754849
    }
   },
   "outputs": [
    {
     "name": "stdout",
     "output_type": "stream",
     "text": [
      "Ready to use Azure ML 1.19.0\n"
     ]
    }
   ],
   "source": [
    "# base packages to work with AMLS\n",
    "import azureml.core\n",
    "from azureml.core import Workspace\n",
    "\n",
    "# check core SDK version number\n",
    "print(\"Ready to use Azure ML\", azureml.core.VERSION)"
   ]
  },
  {
   "cell_type": "code",
   "execution_count": 7,
   "metadata": {},
   "outputs": [
    {
     "name": "stderr",
     "output_type": "stream",
     "text": [
      "get_workspace error using subscription_id=79dab02c-2ae9-417c-ab9d-ca9bdf3a29c5, resource_group_name=unive-resource-group, workspace_name=unive-workspace\n"
     ]
    },
    {
     "name": "stdout",
     "output_type": "stream",
     "text": [
      "Workspace not found.\n",
      "Attempting to create new workspace...\n",
      "Deploying KeyVault with name univeworkeyvault266670b4.\n",
      "Deploying StorageAccount with name univeworstorage40e96b128.\n",
      "Deployed KeyVault with name univeworkeyvault266670b4. Took 19.43 seconds.\n",
      "Deploying AppInsights with name univeworinsights39cc39a9.\n",
      "Deployed AppInsights with name univeworinsights39cc39a9. Took 26.85 seconds.\n",
      "Deploying Workspace with name unive-workspace.\n",
      "Deployed StorageAccount with name univeworstorage40e96b128. Took 47.79 seconds.\n",
      "Deployed Workspace with name unive-workspace. Took 20.08 seconds.\n",
      "unive-workspace created.\n",
      "unive-workspace saved.\n"
     ]
    }
   ],
   "source": [
    "# create a workspace\n",
    "\n",
    "SUBSCRIPTION_ID='79dab02c-2ae9-417c-ab9d-ca9bdf3a29c5' # provide your subscription ID\n",
    "RESOURCE_GROUP_NAME  = 'unive-resource-group' # provide a resource group name\n",
    "WORKSPACE_NAME  = 'unive-workspace' # provide a name for your workspace\n",
    "REGION = 'westeurope' # For example: 'westeurope' or 'eastus2' or 'westus2' or 'southeastasia'.\n",
    "\n",
    "ws = None\n",
    "try:\n",
    "    # Find existing workspace\n",
    "    ws = Workspace(workspace_name=WORKSPACE_NAME,\n",
    "                   subscription_id=SUBSCRIPTION_ID,\n",
    "                   resource_group= RESOURCE_GROUP_NAME)\n",
    "    print (ws.name, \"found.\")\n",
    "except Exception as ex:\n",
    "    # If workspace not found, create it\n",
    "    print(ex.message)\n",
    "    print(\"Attempting to create new workspace...\")\n",
    "    ws = Workspace.create(name=WORKSPACE_NAME, \n",
    "                          subscription_id=SUBSCRIPTION_ID,\n",
    "                          resource_group=RESOURCE_GROUP_NAME,\n",
    "                          create_resource_group=True,\n",
    "                          location=REGION)\n",
    "    print(ws.name, \"created.\")\n",
    "finally:\n",
    "    # Save the workspace configuration for later\n",
    "    if ws != None:\n",
    "        # write out the workspace details to a configuration file: .azureml/config.json\n",
    "        ws.write_config(path='.azureml')\n",
    "        print(ws.name, \"saved.\")"
   ]
  },
  {
   "cell_type": "code",
   "execution_count": 2,
   "metadata": {
    "gather": {
     "logged": 1608036783365
    }
   },
   "outputs": [
    {
     "name": "stdout",
     "output_type": "stream",
     "text": [
      "Performing interactive authentication. Please follow the instructions on the terminal.\n",
      "To sign in, use a web browser to open the page https://microsoft.com/devicelogin and enter the code C9MVV7LX5 to authenticate.\n",
      "You have logged in. Now let us find all the subscriptions to which you have access...\n",
      "Interactive authentication successfully completed.\n",
      "unive-workspace\twesteurope\tunive-resource-group\twesteurope\n"
     ]
    }
   ],
   "source": [
    "# load workspace configuration from the config.json file in the current folder.\n",
    "ws = Workspace.from_config()\n",
    "print(ws.name, ws.location, ws.resource_group, ws.location, sep='\\t')"
   ]
  },
  {
   "cell_type": "code",
   "execution_count": 9,
   "metadata": {},
   "outputs": [
    {
     "name": "stdout",
     "output_type": "stream",
     "text": [
      "Creating\n",
      "Succeeded.......................\n",
      "AmlCompute wait for completion finished\n",
      "\n",
      "Minimum number of nodes requested have been provisioned\n"
     ]
    }
   ],
   "source": [
    "# create compute\n",
    "\n",
    "from azureml.core.compute import ComputeTarget, AmlCompute\n",
    "from azureml.core.compute_target import ComputeTargetException\n",
    "\n",
    "ws = Workspace.from_config() # This automatically looks for a directory .azureml\n",
    "CPU_CLUSTER_NAME = \"cpu-cluster\" # Choose a name for your CPU cluster\n",
    "\n",
    "# Verify that the cluster does not exist already\n",
    "try:\n",
    "    cpu_cluster = ComputeTarget(workspace=ws, name=CPU_CLUSTER_NAME)\n",
    "    print('Found existing cluster, use it.')\n",
    "except ComputeTargetException:\n",
    "    compute_config = AmlCompute.provisioning_configuration(vm_size='Standard_D1_v2',\n",
    "                                                            min_nodes = 1,\n",
    "                                                            max_nodes=2, #will autoscale between zero and two nodes\n",
    "                                                            idle_seconds_before_scaledown=300)\n",
    "    cpu_cluster = ComputeTarget.create(ws, CPU_CLUSTER_NAME, compute_config)\n",
    "\n",
    "cpu_cluster.wait_for_completion(show_output=True)\n",
    "\n",
    "# Virtual machine size: STANDARD_D1_V2 (1 Cores, 3.5 GB RAM, 50 GB Disk)\n",
    "# Processing Unit: CPU - General purpose\n",
    "# Virtual machine priority: Dedicated\n",
    "# Minimum number of nodes: 1\n",
    "# Maximum number of nodes: 2"
   ]
  },
  {
   "cell_type": "markdown",
   "metadata": {},
   "source": [
    "<a id=\"wml_setup\"></a> \n",
    "- 1.3 IBM Watson Studio"
   ]
  },
  {
   "cell_type": "code",
   "execution_count": 1,
   "metadata": {},
   "outputs": [
    {
     "data": {
      "image/png": "[encoded data removed]",
      "text/plain": [
       "<IPython.core.display.Image object>"
      ]
     },
     "execution_count": 1,
     "metadata": {},
     "output_type": "execute_result"
    }
   ],
   "source": [
    "from IPython.display import Image\n",
    "Image(filename='images/Watson/setup.png')"
   ]
  },
  {
   "cell_type": "markdown",
   "metadata": {},
   "source": [
    "<a id=\"data_prep\"></a>\n",
    "### 2. Data Preparation\n",
    "- 2.1 [Download and Preprocessing](#data)\n",
    "- 2.2 [Uploading data to Amazon S3 bucket](#aws_data)\n",
    "- 2.3 [Uploading data to AMLS data store](#amls_data)"
   ]
  },
  {
   "cell_type": "markdown",
   "metadata": {},
   "source": [
    "<a id=\"data\"></a> \n",
    "2.1 Download and Preprocessing\n",
    "\n",
    "- We download Adult Census Income Binary classfication dataset and prepreocessing\n",
    "- Dataset: https://archive.ics.uci.edu/ml/datasets/Adult"
   ]
  },
  {
   "cell_type": "code",
   "execution_count": 3,
   "metadata": {},
   "outputs": [
    {
     "name": "stdout",
     "output_type": "stream",
     "text": [
      "[' <=50K' ' >50K']\n",
      "[' <=50K.' ' >50K.']\n"
     ]
    }
   ],
   "source": [
    "import os\n",
    "import datetime\n",
    "import time\n",
    "import tarfile\n",
    "import pandas as pd\n",
    "import numpy as np\n",
    "\n",
    "## read the data\n",
    "data = pd.read_csv(\"https://archive.ics.uci.edu/ml/machine-learning-databases/adult/adult.data\", header = None, na_values=' ?')\n",
    "\n",
    "## read test data\n",
    "data_test = pd.read_csv(\"https://archive.ics.uci.edu/ml/machine-learning-databases/adult/adult.test\", header = None, skiprows=1, na_values=' ?')\n",
    "\n",
    "## set column names\n",
    "data.columns = ['age', 'workclass','fnlwgt', 'education', 'education-num', 'marital-status', 'occupation', 'relationship', 'race', \n",
    "'sex', 'capital-gain', 'capital-loss', 'hours-per-week', 'native-country', 'IncomeGroup']\n",
    "\n",
    "data_test.columns = ['age', 'workclass','fnlwgt', 'education', 'education-num', 'marital-status', 'occupation', 'relationship', 'race', \n",
    "'sex', 'capital-gain', 'capital-loss', 'hours-per-week', 'native-country', 'IncomeGroup']\n",
    "\n",
    "print(np.unique(data.loc[:,'IncomeGroup'].values.tolist()))\n",
    "print(np.unique(data_test.loc[:,'IncomeGroup'].values.tolist()))"
   ]
  },
  {
   "cell_type": "code",
   "execution_count": 4,
   "metadata": {},
   "outputs": [
    {
     "name": "stdout",
     "output_type": "stream",
     "text": [
      "data_combined.shape: (48842, 15)\n",
      "data_combined.shape (After dropna): (45222, 15)\n"
     ]
    },
    {
     "data": {
      "text/html": [
       "<div>\n",
       "<style scoped>\n",
       "    .dataframe tbody tr th:only-of-type {\n",
       "        vertical-align: middle;\n",
       "    }\n",
       "\n",
       "    .dataframe tbody tr th {\n",
       "        vertical-align: top;\n",
       "    }\n",
       "\n",
       "    .dataframe thead th {\n",
       "        text-align: right;\n",
       "    }\n",
       "</style>\n",
       "<table border=\"1\" class=\"dataframe\">\n",
       "  <thead>\n",
       "    <tr style=\"text-align: right;\">\n",
       "      <th></th>\n",
       "      <th>age</th>\n",
       "      <th>workclass</th>\n",
       "      <th>fnlwgt</th>\n",
       "      <th>education</th>\n",
       "      <th>education-num</th>\n",
       "      <th>marital-status</th>\n",
       "      <th>occupation</th>\n",
       "      <th>relationship</th>\n",
       "      <th>race</th>\n",
       "      <th>sex</th>\n",
       "      <th>capital-gain</th>\n",
       "      <th>capital-loss</th>\n",
       "      <th>hours-per-week</th>\n",
       "      <th>native-country</th>\n",
       "      <th>IncomeGroup</th>\n",
       "    </tr>\n",
       "  </thead>\n",
       "  <tbody>\n",
       "    <tr>\n",
       "      <th>0</th>\n",
       "      <td>39</td>\n",
       "      <td>State-gov</td>\n",
       "      <td>77516</td>\n",
       "      <td>Bachelors</td>\n",
       "      <td>13</td>\n",
       "      <td>Never-married</td>\n",
       "      <td>Adm-clerical</td>\n",
       "      <td>Not-in-family</td>\n",
       "      <td>White</td>\n",
       "      <td>Male</td>\n",
       "      <td>2174</td>\n",
       "      <td>0</td>\n",
       "      <td>40</td>\n",
       "      <td>United-States</td>\n",
       "      <td>&lt;=50K</td>\n",
       "    </tr>\n",
       "    <tr>\n",
       "      <th>1</th>\n",
       "      <td>50</td>\n",
       "      <td>Self-emp-not-inc</td>\n",
       "      <td>83311</td>\n",
       "      <td>Bachelors</td>\n",
       "      <td>13</td>\n",
       "      <td>Married-civ-spouse</td>\n",
       "      <td>Exec-managerial</td>\n",
       "      <td>Husband</td>\n",
       "      <td>White</td>\n",
       "      <td>Male</td>\n",
       "      <td>0</td>\n",
       "      <td>0</td>\n",
       "      <td>13</td>\n",
       "      <td>United-States</td>\n",
       "      <td>&lt;=50K</td>\n",
       "    </tr>\n",
       "    <tr>\n",
       "      <th>2</th>\n",
       "      <td>38</td>\n",
       "      <td>Private</td>\n",
       "      <td>215646</td>\n",
       "      <td>HS-grad</td>\n",
       "      <td>9</td>\n",
       "      <td>Divorced</td>\n",
       "      <td>Handlers-cleaners</td>\n",
       "      <td>Not-in-family</td>\n",
       "      <td>White</td>\n",
       "      <td>Male</td>\n",
       "      <td>0</td>\n",
       "      <td>0</td>\n",
       "      <td>40</td>\n",
       "      <td>United-States</td>\n",
       "      <td>&lt;=50K</td>\n",
       "    </tr>\n",
       "    <tr>\n",
       "      <th>3</th>\n",
       "      <td>53</td>\n",
       "      <td>Private</td>\n",
       "      <td>234721</td>\n",
       "      <td>11th</td>\n",
       "      <td>7</td>\n",
       "      <td>Married-civ-spouse</td>\n",
       "      <td>Handlers-cleaners</td>\n",
       "      <td>Husband</td>\n",
       "      <td>Black</td>\n",
       "      <td>Male</td>\n",
       "      <td>0</td>\n",
       "      <td>0</td>\n",
       "      <td>40</td>\n",
       "      <td>United-States</td>\n",
       "      <td>&lt;=50K</td>\n",
       "    </tr>\n",
       "    <tr>\n",
       "      <th>4</th>\n",
       "      <td>28</td>\n",
       "      <td>Private</td>\n",
       "      <td>338409</td>\n",
       "      <td>Bachelors</td>\n",
       "      <td>13</td>\n",
       "      <td>Married-civ-spouse</td>\n",
       "      <td>Prof-specialty</td>\n",
       "      <td>Wife</td>\n",
       "      <td>Black</td>\n",
       "      <td>Female</td>\n",
       "      <td>0</td>\n",
       "      <td>0</td>\n",
       "      <td>40</td>\n",
       "      <td>Cuba</td>\n",
       "      <td>&lt;=50K</td>\n",
       "    </tr>\n",
       "  </tbody>\n",
       "</table>\n",
       "</div>"
      ],
      "text/plain": [
       "   age          workclass  fnlwgt   education  education-num  \\\n",
       "0   39          State-gov   77516   Bachelors             13   \n",
       "1   50   Self-emp-not-inc   83311   Bachelors             13   \n",
       "2   38            Private  215646     HS-grad              9   \n",
       "3   53            Private  234721        11th              7   \n",
       "4   28            Private  338409   Bachelors             13   \n",
       "\n",
       "        marital-status          occupation    relationship    race      sex  \\\n",
       "0        Never-married        Adm-clerical   Not-in-family   White     Male   \n",
       "1   Married-civ-spouse     Exec-managerial         Husband   White     Male   \n",
       "2             Divorced   Handlers-cleaners   Not-in-family   White     Male   \n",
       "3   Married-civ-spouse   Handlers-cleaners         Husband   Black     Male   \n",
       "4   Married-civ-spouse      Prof-specialty            Wife   Black   Female   \n",
       "\n",
       "   capital-gain  capital-loss  hours-per-week  native-country IncomeGroup  \n",
       "0          2174             0              40   United-States       <=50K  \n",
       "1             0             0              13   United-States       <=50K  \n",
       "2             0             0              40   United-States       <=50K  \n",
       "3             0             0              40   United-States       <=50K  \n",
       "4             0             0              40            Cuba       <=50K  "
      ]
     },
     "execution_count": 4,
     "metadata": {},
     "output_type": "execute_result"
    }
   ],
   "source": [
    "# preprocess\n",
    "\n",
    "d = {' <=50K': 0,\n",
    "     ' >50K': 1}\n",
    "data['IncomeGroup'] = data['IncomeGroup'].map(d)\n",
    "\n",
    "t = {' <=50K.': 0,\n",
    "     ' >50K.': 1}\n",
    "data_test['IncomeGroup'] = data_test['IncomeGroup'].map(t)\n",
    "\n",
    "# Combine the two datasets to convert the categorical values to binary indicators\n",
    "data_combined = pd.concat([data, data_test])\n",
    "c = {0 : ' <=50K',\n",
    "     1 : ' >50K'}\n",
    "data_combined['IncomeGroup'] = data_combined['IncomeGroup'].map(c)\n",
    "print(f\"data_combined.shape: {data_combined.shape}\")\n",
    "\n",
    "# drop rows with missing\n",
    "data_combined = data_combined.dropna()\n",
    "print(f\"data_combined.shape (After dropna): {data_combined.shape}\")\n",
    "\n",
    "# display data\n",
    "data_combined.head()"
   ]
  },
  {
   "cell_type": "code",
   "execution_count": 5,
   "metadata": {},
   "outputs": [
    {
     "data": {
      "text/plain": [
       "array([' <=50K', ' >50K'], dtype='<U6')"
      ]
     },
     "execution_count": 5,
     "metadata": {},
     "output_type": "execute_result"
    }
   ],
   "source": [
    "np.unique(data_combined.loc[:,'IncomeGroup'].values.tolist())"
   ]
  },
  {
   "cell_type": "code",
   "execution_count": 6,
   "metadata": {},
   "outputs": [
    {
     "name": "stdout",
     "output_type": "stream",
     "text": [
      "Class= <=50K, Count=34014, Percentage=75.216%\n",
      "Class= >50K, Count=11208, Percentage=24.784%\n"
     ]
    }
   ],
   "source": [
    "# summarize the class distribution\n",
    "import collections\n",
    "\n",
    "target = data_combined.values[:,-1]\n",
    "counter = collections.Counter(target)\n",
    "for k,v in counter.items():\n",
    "    per = v / len(target) * 100\n",
    "    print('Class=%s, Count=%d, Percentage=%.3f%%' % (k, v, per))"
   ]
  },
  {
   "cell_type": "code",
   "execution_count": 8,
   "metadata": {},
   "outputs": [
    {
     "name": "stdout",
     "output_type": "stream",
     "text": [
      "cat_ix:Index(['workclass', 'education', 'marital-status', 'occupation',\n",
      "       'relationship', 'race', 'sex', 'native-country', 'IncomeGroup'],\n",
      "      dtype='object')\n",
      "num_ix:Index(['age', 'fnlwgt', 'education-num', 'capital-gain', 'capital-loss',\n",
      "       'hours-per-week'],\n",
      "      dtype='object')\n"
     ]
    }
   ],
   "source": [
    "cat_ix = data_combined.select_dtypes(include=['object', 'bool']).columns\n",
    "num_ix = data_combined.select_dtypes(include=['int64', 'float64']).columns\n",
    "\n",
    "print(f\"cat_ix:{cat_ix}\")\n",
    "print(f\"num_ix:{num_ix}\")"
   ]
  },
  {
   "cell_type": "markdown",
   "metadata": {},
   "source": [
    "<a id=\"aws_data\"></a> \n",
    "- 2.2 Uploading data to Amazon S3 bucket"
   ]
  },
  {
   "cell_type": "code",
   "execution_count": 4,
   "metadata": {},
   "outputs": [],
   "source": [
    "import os\n",
    "\n",
    "# Create directory\n",
    "os.makedirs('./data', exist_ok=True)"
   ]
  },
  {
   "cell_type": "code",
   "execution_count": 5,
   "metadata": {},
   "outputs": [
    {
     "data": {
      "text/plain": [
       "'s3://sagemaker-us-east-2-359732627051/Scikit-adults/data'"
      ]
     },
     "execution_count": 5,
     "metadata": {},
     "output_type": "execute_result"
    }
   ],
   "source": [
    "#send data to S3 \n",
    "WORK_DIRECTORY = 'data'\n",
    "train_input = sess.upload_data(WORK_DIRECTORY, key_prefix=\"{}/{}\".format(prefix, WORK_DIRECTORY))\n",
    "train_input"
   ]
  },
  {
   "cell_type": "markdown",
   "metadata": {},
   "source": [
    "<a id=\"amls_data\"></a> \n",
    "- 2.3 Uploading data to AMLS data store"
   ]
  },
  {
   "cell_type": "code",
   "execution_count": 10,
   "metadata": {},
   "outputs": [
    {
     "name": "stdout",
     "output_type": "stream",
     "text": [
      "workspacefilestore - Default = False\n",
      "workspaceblobstore - Default = True\n",
      "Uploading an estimated of 1 files\n",
      "Uploading ./data/adult.csv\n",
      "Uploaded ./data/adult.csv, 1 files out of an estimated total of 1\n",
      "Uploaded 1 files\n"
     ]
    },
    {
     "data": {
      "text/plain": [
       "$AZUREML_DATAREFERENCE_c58799dae0e24a82a18c75238f739fb7"
      ]
     },
     "execution_count": 10,
     "metadata": {},
     "output_type": "execute_result"
    }
   ],
   "source": [
    "## Upload data to datastore\n",
    "\n",
    "# Get the default datastore\n",
    "default_ds = ws.get_default_datastore()\n",
    "\n",
    "# Enumerate all datastores, indicating which is the default\n",
    "for ds_name in ws.datastores:\n",
    "    print(ds_name, \"- Default =\", ds_name == default_ds.name) # workspaceblobstore <- Default\n",
    "\n",
    "# Adult Census Income Binary classfication dataset\n",
    "default_ds.upload_files(files=['./data/adult.csv'], # Upload the data/adults.csv file\n",
    "                       target_path='adults-data/', # Put it in a folder path in the datastore\n",
    "                       overwrite=True, # Replace existing files of the same name\n",
    "                       show_progress=True)"
   ]
  },
  {
   "cell_type": "markdown",
   "metadata": {},
   "source": [
    "<a id=\"train\"></a>\n",
    "### 3 Model Training\n",
    "\n",
    "- 3.1 [Run locally (My Desktop hardware)](#3_1)\n",
    "- 3.2 [Submit the Training Job to the SageMaker Compute Cluster](#3_2)\n",
    "- 3.3 [Submit the Training Job to the AMSL Compute Cluster](#3_3)\n",
    "- 3.4 [Train Model on IBM runtime environment hardware](#3_4)\n"
   ]
  },
  {
   "cell_type": "markdown",
   "metadata": {},
   "source": [
    "<a id=\"3_1\"></a>\n",
    "##### 3.1 Run locally (My Desktop hardware)\n",
    "Here we can run model Training locally use my desktop hardware:\n",
    "\n",
    "- 3.1.1 [hardware info](#3_1_1)\n",
    "- 3.1.2 [Model Training](#3_1_2)"
   ]
  },
  {
   "cell_type": "markdown",
   "metadata": {},
   "source": [
    "<a id=\"3_1_1\"></a>\n",
    "###### 3.1.1 hardware info"
   ]
  },
  {
   "cell_type": "code",
   "execution_count": 9,
   "metadata": {},
   "outputs": [
    {
     "name": "stdout",
     "output_type": "stream",
     "text": [
      "last updated: 2020-12-13 \n",
      "\n",
      "CPython 3.8.3\n",
      "IPython 7.19.0\n",
      "\n",
      "numpy 1.19.4\n",
      "pandas 1.1.3\n",
      "scipy 1.5.3\n",
      "sklearn 0.23.2\n",
      "\n",
      "compiler   : MSC v.1916 64 bit (AMD64)\n",
      "system     : Windows\n",
      "release    : 7\n",
      "machine    : AMD64\n",
      "processor  : Intel64 Family 6 Model 37 Stepping 5, GenuineIntel\n",
      "CPU cores  : 4\n",
      "interpreter: 64bit\n",
      "host name  : Hade-PC\n"
     ]
    }
   ],
   "source": [
    "#! pip install watermark\n",
    "%reload_ext watermark\n",
    "%watermark  -d -u -h -m -v -p numpy,pandas,scipy,sklearn"
   ]
  },
  {
   "cell_type": "markdown",
   "metadata": {},
   "source": [
    "<a id=\"3_1_2\"></a>\n",
    "###### 3.1.2 Model Training"
   ]
  },
  {
   "cell_type": "code",
   "execution_count": 112,
   "metadata": {},
   "outputs": [
    {
     "name": "stdout",
     "output_type": "stream",
     "text": [
      "--optimal depth of tree--\n",
      "Computational time [optimal_depth_of_tree]:300.0390613079071\n"
     ]
    },
    {
     "data": {
      "image/png": "[encoded data removed]",
      "text/plain": [
       "<Figure size 432x288 with 1 Axes>"
      ]
     },
     "metadata": {
      "needs_background": "light"
     },
     "output_type": "display_data"
    },
    {
     "name": "stdout",
     "output_type": "stream",
     "text": [
      "dict_items([(3, 0.8389722697143795), (4, 0.8390164808176914), (5, 0.8445889819661826), (6, 0.850161473335079), (7, 0.8504047309767933), (8, 0.8521957977570009), (9, 0.8541418955641958), (10, 0.8545399446328238), (11, 0.8536553607215775), (12, 0.850802733592346), (13, 0.8486798793882571), (14, 0.8476405871766529), (15, 0.8451859993364546), (16, 0.8436159416197307), (17, 0.8397903670501978), (18, 0.8366945238425301), (19, 0.835411937315731), (20, 0.8310777260192722), (21, 0.8282914289919512), (22, 0.8258590090483257), (23, 0.826610837404701), (24, 0.8237362648646783), (25, 0.821392181556222), (26, 0.8211489141349129), (27, 0.8202644475788047), (28, 0.8184512422408083), (29, 0.8169695627225316), (30, 0.8159081441776328), (31, 0.8139843193976553), (32, 0.8132324837065837), (33, 0.8119499925308343), (34, 0.8122816454852867), (35, 0.8119941962994502), (36, 0.8101589110812343), (37, 0.8104905591458893), (38, 0.810070410637852), (39, 0.8098934830980486), (40, 0.8096059996836301)])\n",
      "The best depth was found to be: 10\n",
      "Accuracy, Training Set: 86.60%\n",
      "Accuracy, Testing Set: 85.63%\n",
      "Computational time [evaluate_depth_of_tree]:0.9030516147613525\n",
      "Predicted      0     1    All\n",
      "Actual                       \n",
      "0           9596   597  10193\n",
      "1           1359  2015   3374\n",
      "All        10955  2612  13567\n",
      "confusion matrix:\n",
      " [[9596  597]\n",
      " [1359 2015]]\n",
      "--optimal leaf nodes--\n",
      "Computational time [optimal_leaf_nodes]:74.49724841117859\n"
     ]
    },
    {
     "data": {
      "image/png": "[encoded data removed]",
      "text/plain": [
       "<Figure size 432x288 with 1 Axes>"
      ]
     },
     "metadata": {
      "needs_background": "light"
     },
     "output_type": "display_data"
    },
    {
     "name": "stdout",
     "output_type": "stream",
     "text": [
      "dict_items([(3, 0.814647798894368), (4, 0.8238911002997691), (5, 0.8389722697143795), (6, 0.8389722697143795), (7, 0.8415596204441451), (8, 0.8435497508770462), (9, 0.8438814258355869), (10, 0.8438814258355869), (11, 0.8444121277733402), (12, 0.84531878423011), (13, 0.8453408958940127), (14, 0.8454734803059741), (15, 0.8459378765908039), (16, 0.8464022630960388), (17, 0.8469771883615976), (18, 0.8472867858848174), (19, 0.847684812949357), (20, 0.8492106864566548), (21, 0.8492106864566548), (22, 0.8501836192275636), (23, 0.8507364254945236), (24, 0.8508912046969439), (25, 0.851112328670667), (26, 0.8514218895204063), (27, 0.8519526232418426), (28, 0.8513113849886642), (29, 0.8514440500822831), (30, 0.8514440549720804), (31, 0.8520632182348369), (32, 0.8520632182348369), (33, 0.8520853396783344), (34, 0.8523728230927528), (35, 0.852770845267495), (36, 0.853390006085353), (37, 0.8534342269682597), (38, 0.853566911621068), (39, 0.8538322515879007), (40, 0.8536111202794812)])\n",
      "The best leaf node was found to be: 39\n",
      "---parameter\n",
      "best_depth: 10\n",
      "best_leaf_node: 39\n",
      "Accuracy, Training Set: 85.64%\n",
      "Accuracy, Testing Set: 85.81%\n",
      "Computational time [evaluate_optimal_leaf_nodes]:0.476027250289917\n",
      "Predicted      0     1    All\n",
      "Actual                       \n",
      "0           9671   522  10193\n",
      "1           1403  1971   3374\n",
      "All        11074  2493  13567\n",
      "confusion matrix:\n",
      " [[9671  522]\n",
      " [1403 1971]]\n",
      "--optimal depth of tree on Xtrain feature set--\n",
      "--optimal n_estimators--\n",
      "ntrees: [25, 50, 75, 100, 125, 150, 175, 200]\n",
      "Computational time [optimal_leaf_nodes]:628.1829302310944\n",
      "n_tree --> Training score --> cvmeans\n",
      "(25 --> 0.8588216711419997 --> 0.8560101089875216)\n",
      "(50 --> 0.8590743958300426 --> 0.8565155583636075)\n",
      "(75 --> 0.8591375770020534 --> 0.8560101089875216)\n",
      "(100 --> 0.8589796240720265 --> 0.8561996525035539)\n",
      "(125 --> 0.8589164429000158 --> 0.8562628336755648)\n",
      "(150 --> 0.8590428052440373 --> 0.8564207866055916)\n",
      "(175 --> 0.8589164429000158 --> 0.8562628336755648)\n",
      "(200 --> 0.8590112146580319 --> 0.8562312430895593)\n"
     ]
    },
    {
     "data": {
      "image/png": "[encoded data removed]",
      "text/plain": [
       "<Figure size 960x480 with 1 Axes>"
      ]
     },
     "metadata": {},
     "output_type": "display_data"
    },
    {
     "data": {
      "text/plain": [
       "<Figure size 72x72 with 0 Axes>"
      ]
     },
     "metadata": {},
     "output_type": "display_data"
    },
    {
     "data": {
      "image/png": "[encoded data removed]",
      "text/plain": [
       "<Figure size 1050x420 with 1 Axes>"
      ]
     },
     "metadata": {},
     "output_type": "display_data"
    },
    {
     "data": {
      "text/plain": [
       "<Figure size 72x72 with 0 Axes>"
      ]
     },
     "metadata": {},
     "output_type": "display_data"
    }
   ],
   "source": [
    "# credit: https://harvard-iacs.github.io/2018-CS109A/pages/materials.html\n",
    "\n",
    "# Python libraries \n",
    "import os\n",
    "import time\n",
    "import collections\n",
    "import joblib\n",
    "import pandas as pd\n",
    "import numpy as np\n",
    "import matplotlib\n",
    "import matplotlib.pyplot as plt\n",
    "\n",
    "from sklearn.preprocessing import LabelEncoder\n",
    "from sklearn.preprocessing import OneHotEncoder\n",
    "from sklearn.preprocessing import MinMaxScaler\n",
    "from sklearn.pipeline import Pipeline\n",
    "from sklearn.compose import ColumnTransformer\n",
    "from sklearn.model_selection import train_test_split\n",
    "from sklearn.model_selection import cross_val_score\n",
    "\n",
    "from sklearn import metrics\n",
    "from sklearn.tree import DecisionTreeClassifier\n",
    "from sklearn.ensemble import BaggingClassifier\n",
    "\n",
    "class Model:\n",
    "    def __init__(self, X, y):\n",
    "        self.X = X\n",
    "        self.y = y\n",
    "        self.cat_ix = X.select_dtypes(include=['object', 'bool']).columns\n",
    "        self.num_ix = X.select_dtypes(include=['int64', 'float64']).columns\n",
    "        self.best_depth = 0\n",
    "        self.best_leaf_node = 0\n",
    "\n",
    "# optimal_depth_of_tree        \n",
    "    def find_optimal_depth_of_tree(self):\n",
    "        print('--optimal depth of tree--')\n",
    "        depths = list(range(3, 41))\n",
    "        depth_result = {}\n",
    "        steps = [('c',OneHotEncoder(handle_unknown='ignore'),self.cat_ix), ('n',MinMaxScaler(),self.num_ix)]\n",
    "        # one hot encode categorical, normalize numerical\n",
    "        ct = ColumnTransformer(steps)\n",
    "        start_time = time.time()\n",
    "        for depth in depths:\n",
    "            dtree = DecisionTreeClassifier(max_depth=depth, random_state=42)\n",
    "            pipe  = Pipeline(steps=[('transformer',ct),('cart',dtree)])\n",
    "            scores = cross_val_score(estimator=pipe, X=self.X, y=self.y, cv=5, n_jobs=-1)\n",
    "            depth_result[depth] = scores.mean()\n",
    "\n",
    "        time_elapsed = (time.time() - start_time)\n",
    "        print(\"Computational time [optimal_depth_of_tree]:{}\".format(time_elapsed))\n",
    "        return depth_result\n",
    "    \n",
    "    # Perform 5-fold cross-validation to determine what the best max_depth\n",
    "    def find_optimal_depth_of_tree_on_Xtrain(self):\n",
    "        print('--optimal depth of tree on Xtrain feature set--')\n",
    "        depths = list(range(1, 41))\n",
    "        train_scores = []\n",
    "        cvmeans = []\n",
    "        cvstds = []\n",
    "        cv_scores = []\n",
    "        #use stratify for un balanced number of examples for each class label\n",
    "        X_train, X_test, y_train, y_test = train_test_split(self.X, self.y, test_size=0.3,random_state=42,shuffle=True)\n",
    "        steps = [('c',OneHotEncoder(handle_unknown='ignore'),self.cat_ix), ('n',MinMaxScaler(),self.num_ix)]\n",
    "        # one hot encode categorical, normalize numerical\n",
    "        ct = ColumnTransformer(steps)\n",
    "        for depth in depths:\n",
    "            dtree = DecisionTreeClassifier(max_depth=depth, random_state=42)\n",
    "            # wrap the model a pipeline\n",
    "            pipe  = Pipeline(steps=[('transformer',ct),('cart',dtree)])\n",
    "            # Perform 5-fold cross validation and store results\n",
    "            train_scores.append(pipe.fit(X_train, y_train).score(X_train, y_train))\n",
    "            scores = cross_val_score(estimator=pipe, X=X_train, y=y_train, cv=5)\n",
    "            cvmeans.append(scores.mean())\n",
    "            cvstds.append(scores.std())\n",
    "\n",
    "        cvmeans = np.array(cvmeans)\n",
    "        cvstds = np.array(cvstds)\n",
    "        \n",
    "        return depths, cvmeans, cvstds, train_scores\n",
    "    \n",
    "    # Visualize the results with mean & sd across the validation sets\n",
    "    def plot_optimal_depth_of_tree_on_Xtrain(self, depths, cvmeans, cvstds, train_scores):\n",
    "        from matplotlib.pyplot import figure\n",
    "        figure(num=None, figsize=(12, 6), dpi=80, facecolor='w', edgecolor='k')\n",
    "        plt.plot(depths, cvmeans, '*-', label=\"Mean CV\")\n",
    "        plt.fill_between(depths, cvmeans - 2*cvstds, cvmeans + 2*cvstds, alpha=0.3)\n",
    "        ylim = plt.ylim()\n",
    "        plt.plot(depths, train_scores, '-+', label=\"Train\")\n",
    "        plt.legend()\n",
    "        plt.ylabel(\"Accuracy\")\n",
    "        plt.xlabel(\"Max Depth\")\n",
    "        plt.xticks(depths);\n",
    "        plt.figure(figsize=(1,1))\n",
    "    \n",
    "    def plot_optimal_depth_of_tree(self, depth):\n",
    "        lists = sorted(depth.items())\n",
    "        x, y = zip(*lists) \n",
    "        plt.ylabel(\"Cross Validation Accuracy\")\n",
    "        plt.xlabel(\"Maximum Depth\")\n",
    "        plt.title('Variation of Accuracy with Depth')\n",
    "        plt.plot(x, y, 'b-', marker='o')\n",
    "        plt.show()\n",
    "    \n",
    "    def evaluate_optimal_depth_of_tree(self, depth):\n",
    "        # To find the optimal depth \n",
    "        print(depth.items())\n",
    "        self.best_depth = sorted(depth, key=depth.get, reverse=True)[0]\n",
    "        print(\"The best depth was found to be:\", self.best_depth)\n",
    "        \n",
    "        #use stratify for un balanced number of examples for each class label\n",
    "        X_train, X_test, y_train, y_test = train_test_split(self.X, self.y, test_size=0.3,random_state=42,shuffle=True)\n",
    "        \n",
    "        start_time = time.time()\n",
    "        dtree = DecisionTreeClassifier(max_depth=self.best_depth, random_state=42)\n",
    "        pipe  = Pipeline(steps=[('transformer',ct),('cart',dtree)])\n",
    "        pipe.fit(X_train, y_train)\n",
    "        time_elapsed = (time.time() - start_time)\n",
    "        \n",
    "        #Check Accuracy of income prediction in Train and Test Set\n",
    "        print(\"Accuracy, Training Set: {:.2%}\".format(metrics.accuracy_score(y_train, pipe.predict(X_train))))\n",
    "        print(\"Accuracy, Testing Set: {:.2%}\".format(metrics.accuracy_score(y_test, pipe.predict(X_test))))\n",
    "        print(\"Computational time [evaluate_depth_of_tree]:{}\".format(time_elapsed))\n",
    "        \n",
    "        #Get Performance by Class (Lookup Confusion Matrix)\n",
    "        threshold = 0.5 # set threshold as 0.5\n",
    "        y_pred = (pipe.predict_proba(X_test)[:,1] >= threshold).astype(int)\n",
    "        print(pd.crosstab(y_test, y_pred, margins=True, rownames=['Actual'], colnames=['Predicted']))\n",
    "        \n",
    "        # Confusion Matrix\n",
    "        conf_mat = metrics.confusion_matrix(y_test, y_pred)\n",
    "        print(f\"confusion matrix:\\n {conf_mat}\")\n",
    "        \n",
    "# optimal_leaf_nodes    \n",
    "    def find_optimal_leaf_nodes(self):\n",
    "        print('--optimal leaf nodes--')\n",
    "        #Find optimal leaf nodes\n",
    "        leaf_nodes = list(range(3, 41))\n",
    "        leaf_nodes_result = {}\n",
    "        steps = [('c',OneHotEncoder(handle_unknown='ignore'),self.cat_ix), ('n',MinMaxScaler(),self.num_ix)]\n",
    "        # one hot encode categorical, normalize numerical\n",
    "        ct = ColumnTransformer(steps)\n",
    "        start_time = time.time()\n",
    "        for leaf_node in leaf_nodes:\n",
    "            dtree = DecisionTreeClassifier(max_depth=self.best_depth, max_leaf_nodes=leaf_node,random_state=42)\n",
    "            pipe  = Pipeline(steps=[('transformer',ct),('cart',dtree)])\n",
    "            scores = cross_val_score(estimator=pipe, X=self.X, y=self.y, cv=5, n_jobs=-1)\n",
    "            leaf_nodes_result[leaf_node] = scores.mean()\n",
    "        \n",
    "        time_elapsed = (time.time() - start_time)\n",
    "        print(\"Computational time [optimal_leaf_nodes]:{}\".format(time_elapsed))\n",
    "        return leaf_nodes_result\n",
    "    \n",
    "    def plot_optimal_leaf_nodes(self, leaf_nodes):\n",
    "        lists = sorted(leaf_nodes.items())\n",
    "        x, y = zip(*lists) \n",
    "        plt.ylabel(\"Cross Validation Accuracy\")\n",
    "        plt.xlabel(\"Maximum leaf nodes\")\n",
    "        plt.title('Variation of Accuracy with leaf nodes')\n",
    "        plt.plot(x, y, 'b-', marker='o')\n",
    "        plt.show()\n",
    "        \n",
    "    def evaluate_optimal_leaf_nodes(self, leaf_nodes):\n",
    "        # To find the optimal leaf node \n",
    "        print(leaf_nodes.items())\n",
    "        self.best_leaf_node = sorted(leaf_nodes, key=leaf_nodes.get, reverse=True)[0]\n",
    "        print(\"The best leaf node was found to be:\", self.best_leaf_node)\n",
    "        \n",
    "        #use stratify for un balanced number of examples for each class label\n",
    "        X_train, X_test, y_train, y_test = train_test_split(self.X, self.y, test_size=0.3,random_state=42,shuffle=True)\n",
    "        \n",
    "        start_time = time.time()\n",
    "        dtree = DecisionTreeClassifier(max_depth=self.best_depth, max_leaf_nodes=self.best_leaf_node, random_state=42)\n",
    "        pipe  = Pipeline(steps=[('transformer',ct),('cart',dtree)])\n",
    "        pipe.fit(X_train, y_train)\n",
    "        time_elapsed = (time.time() - start_time)\n",
    "        print(\"---parameter\")\n",
    "        print(f\"best_depth: {self.best_depth}\")\n",
    "        print(f\"best_leaf_node: {self.best_leaf_node}\")\n",
    "        \n",
    "        #Check Accuracy of income prediction in Train and Test Set\n",
    "        print(\"Accuracy, Training Set: {:.2%}\".format(metrics.accuracy_score(y_train, pipe.predict(X_train))))\n",
    "        print(\"Accuracy, Testing Set: {:.2%}\".format(metrics.accuracy_score(y_test, pipe.predict(X_test))))\n",
    "        print(\"Computational time [evaluate_optimal_leaf_nodes]:{}\".format(time_elapsed))\n",
    "        \n",
    "        #Get Performance by Class (Lookup Confusion Matrix)\n",
    "        threshold = 0.5 # set threshold as 0.5\n",
    "        y_pred = (pipe.predict_proba(X_test)[:,1] >= threshold).astype(int)\n",
    "        print(pd.crosstab(y_test, y_pred, margins=True, rownames=['Actual'], colnames=['Predicted']))\n",
    "        \n",
    "        # Confusion Matrix\n",
    "        conf_mat = metrics.confusion_matrix(y_test, y_pred)\n",
    "        print(f\"confusion matrix:\\n {conf_mat}\")\n",
    "\n",
    "# optimal_n_estimators        \n",
    "# ensemble\n",
    "    def find_optimal_n_estimators(self):\n",
    "        print('--optimal n_estimators--')\n",
    "        \n",
    "        ntrees = list(range(25, 201, 25))\n",
    "        print(f\"ntrees: {ntrees}\")\n",
    "        train_scores = []\n",
    "        cvmeans = []\n",
    "        cvstds = []\n",
    "        cv_scores = []\n",
    "        #use stratify for un balanced number of examples for each class label\n",
    "        X_train, X_test, y_train, y_test = train_test_split(self.X, self.y, test_size=0.3,random_state=42,shuffle=True)\n",
    "        steps = [('c',OneHotEncoder(handle_unknown='ignore'),self.cat_ix), ('n',MinMaxScaler(),self.num_ix)]\n",
    "        # one hot encode categorical, normalize numerical\n",
    "        ct = ColumnTransformer(steps)\n",
    "        start_time = time.time()\n",
    "        \n",
    "        for tree in ntrees:\n",
    "            clf  = DecisionTreeClassifier(max_leaf_nodes=self.best_leaf_node,\n",
    "                                       criterion=\"gini\", \n",
    "                                       max_depth=self.best_depth,\n",
    "                                       random_state=42)\n",
    "            \n",
    "            bag = BaggingClassifier(base_estimator=clf,\n",
    "                                    n_estimators=tree,\n",
    "                                    oob_score=True,\n",
    "                                    bootstrap=True,\n",
    "                                    bootstrap_features=False,\n",
    "                                    n_jobs=-1,\n",
    "                                    random_state=42)\n",
    "            \n",
    "            pipe  = Pipeline(steps=[('transformer',ct),('bag',bag)])\n",
    "            # Perform 5-fold cross validation and store results\n",
    "            train_scores.append(pipe.fit(X_train, y_train).score(X_train, y_train))\n",
    "            scores = cross_val_score(estimator=pipe, X=X_train, y=y_train, cv=5)\n",
    "            cvmeans.append(scores.mean())\n",
    "            cvstds.append(scores.std())\n",
    "\n",
    "        cvmeans = np.array(cvmeans)\n",
    "        cvstds = np.array(cvstds)\n",
    "        \n",
    "        time_elapsed = (time.time() - start_time)\n",
    "        print(\"Computational time [optimal_leaf_nodes]:{}\".format(time_elapsed))\n",
    "        \n",
    "        print(\"n_tree --> Training score --> cvmeans\")\n",
    "        for tree, train_score, cvmean in zip(list(ntrees), list(train_scores), list(cvmeans)):\n",
    "            print(f\"({tree} --> {train_score} --> {cvmean})\")\n",
    "    \n",
    "        return ntrees, cvmeans, cvstds, train_scores\n",
    "    \n",
    "    def plot_optimal_n_estimators(self, ntrees, cvmeans, cvstds, train_scores):\n",
    "        from matplotlib.pyplot import figure\n",
    "        figure(num=None, figsize=(15, 6), dpi=70, facecolor='w', edgecolor='k')\n",
    "        # plot means and shade the 2 SD interval\n",
    "        plt.plot(ntrees, cvmeans, '*-', label=\"Mean CV\")\n",
    "        plt.fill_between(ntrees, cvmeans - 2*cvstds, cvmeans + 2*cvstds, alpha=0.3)\n",
    "        ylim = plt.ylim()\n",
    "        plt.plot(ntrees, train_scores, '-+', label=\"Train\")\n",
    "        plt.legend()\n",
    "        plt.ylabel(\"Accuracy\")\n",
    "        plt.xlabel(\"Number of Tree\")\n",
    "        plt.xticks(ntrees);\n",
    "        plt.figure(figsize=(1,1))\n",
    "        \n",
    "if __name__ =='__main__':\n",
    "\n",
    "    df = pd.read_csv(\"./data/adult.csv\")\n",
    "    \n",
    "    #Prepocessing\n",
    "    features = 'age workclass fnlwgt education education-num marital-status occupation relationship race sex capital-gain capital-loss hours-per-week native-country'\n",
    "    target = 'IncomeGroup'\n",
    "    X = df[features.split()]\n",
    "    y = df[target]\n",
    "    # label encode the target variable to have the classes 0 and 1\n",
    "    y = LabelEncoder().fit_transform(y)\n",
    "    \n",
    "    model = Model(X,y)\n",
    "    \n",
    "    #Find optimal depth of trees\n",
    "    depth = model.find_optimal_depth_of_tree()\n",
    "    model.plot_optimal_depth_of_tree(depth)\n",
    "    model.evaluate_optimal_depth_of_tree(depth)\n",
    "    \n",
    "    #Find optimal leaf nodes\n",
    "    leaf_nodes = model.find_optimal_leaf_nodes()\n",
    "    model.plot_optimal_leaf_nodes(leaf_nodes)\n",
    "    model.evaluate_optimal_leaf_nodes(leaf_nodes)\n",
    "    \n",
    "    #Find optimal depth of trees on Xtrain feature set\n",
    "    depths, cvmeans, cvstds, train_scores = model.find_optimal_depth_of_tree_on_Xtrain()\n",
    "    model.plot_optimal_depth_of_tree_on_Xtrain(depths, cvmeans, cvstds, train_scores)\n",
    "    \n",
    "    #Find optimal number of trees on Xtrain feature set\n",
    "    ntrees, cvmeans, cvstds, train_scores = model.find_optimal_n_estimators()\n",
    "    model.plot_optimal_n_estimators(ntrees, cvmeans, cvstds, train_scores)\n",
    "    "
   ]
  },
  {
   "cell_type": "markdown",
   "metadata": {},
   "source": [
    "<a id=\"3_2\"></a>\n",
    "##### 3.2 Submit the Training Job to the SageMaker Compute Cluster\n",
    "- 3.2.1 [hardware info](#3_2_1)\n",
    "- 3.2.2 [Model Training](#3_2_2)"
   ]
  },
  {
   "cell_type": "markdown",
   "metadata": {},
   "source": [
    "<a id=\"3_2_1\"></a>\n",
    "###### 3.2.1 hardware info"
   ]
  },
  {
   "cell_type": "code",
   "execution_count": null,
   "metadata": {},
   "outputs": [],
   "source": [
    "# Locally\n",
    "#--------------------------------------------\n",
    "# Python implementation: CPython\n",
    "# Python version       : 3.6.10\n",
    "\n",
    "# Compiler    : GCC 7.3.0\n",
    "# OS          : Linux\n",
    "# Release     : 4.14.200-116.320.amzn1.x86_64\n",
    "# Machine     : x86_64\n",
    "# Processor   : x86_64\n",
    "# CPU cores   : 2\n",
    "# Architecture: 64bit\n",
    "\n",
    "# Hostname: ip-172-16-43-237\n",
    "#--------------------------------------------\n",
    "\n",
    "# Model Training hardware\n",
    "# Python implementation: CPython\n",
    "# Python version       : 3.7.9\n",
    "\n",
    "# Compiler    : GCC 7.3.0\n",
    "# OS          : Linux\n",
    "# Release     : 4.14.203-116.332.amzn1.x86_64\n",
    "# Machine     : x86_64\n",
    "# Processor   : x86_64\n",
    "# CPU cores   : 16\n",
    "# Architecture: 64bit\n",
    "# Hostname: ip-10-0-162-243.us-east-2.compute.internal\n",
    "    "
   ]
  },
  {
   "cell_type": "markdown",
   "metadata": {},
   "source": [
    "<a id=\"3_2_2\"></a>\n",
    "###### 3.2.2 Model Training"
   ]
  },
  {
   "cell_type": "code",
   "execution_count": 7,
   "metadata": {
    "gather": {
     "logged": 1607988327980
    }
   },
   "outputs": [
    {
     "name": "stdout",
     "output_type": "stream",
     "text": [
      "/home/ec2-user/SageMaker/script\n"
     ]
    }
   ],
   "source": [
    "## Prepare a training script\n",
    "\n",
    "# Directory to write training script: Code Directory\n",
    "import os\n",
    "script_folder = os.path.join(os.getcwd(), \"script\")\n",
    "os.makedirs(script_folder, exist_ok=True)\n",
    "print(script_folder)"
   ]
  },
  {
   "cell_type": "code",
   "execution_count": 46,
   "metadata": {},
   "outputs": [
    {
     "name": "stdout",
     "output_type": "stream",
     "text": [
      "Overwriting /home/ec2-user/SageMaker/script/train_dept_of_tree.py\n"
     ]
    }
   ],
   "source": [
    "%%writefile $script_folder/train_dept_of_tree.py\n",
    "\n",
    "# Python libraries \n",
    "import os\n",
    "import argparse\n",
    "import time\n",
    "import collections\n",
    "import joblib\n",
    "import pandas as pd\n",
    "import numpy as np\n",
    "import matplotlib\n",
    "import matplotlib.pyplot as plt\n",
    "\n",
    "from sklearn.preprocessing import LabelEncoder\n",
    "from sklearn.preprocessing import OneHotEncoder\n",
    "from sklearn.preprocessing import MinMaxScaler\n",
    "from sklearn.pipeline import Pipeline\n",
    "from sklearn.compose import ColumnTransformer\n",
    "from sklearn.model_selection import train_test_split\n",
    "from sklearn.model_selection import cross_val_score\n",
    "\n",
    "from sklearn import metrics\n",
    "from sklearn.tree import DecisionTreeClassifier\n",
    "from sklearn.ensemble import BaggingClassifier\n",
    "\n",
    "\n",
    "class Model:\n",
    "    def __init__(self, X, y, file_path):\n",
    "        self.X = X\n",
    "        self.y = y\n",
    "        self.cat_ix = X.select_dtypes(include=['object', 'bool']).columns\n",
    "        self.num_ix = X.select_dtypes(include=['int64', 'float64']).columns\n",
    "        self.file_path = file_path\n",
    "        \n",
    "    # optimal_depth_of_tree        \n",
    "    def find_optimal_depth_of_tree(self):\n",
    "        print('--optimal depth of tree--')\n",
    "        depths = list(range(3, 41))\n",
    "        depth_result = {}\n",
    "        steps = [('c',OneHotEncoder(handle_unknown='ignore'),self.cat_ix), ('n',MinMaxScaler(),self.num_ix)]\n",
    "        # one hot encode categorical, normalize numerical\n",
    "        ct = ColumnTransformer(steps)\n",
    "        start_time = time.time()\n",
    "        for depth in depths:\n",
    "            dtree = DecisionTreeClassifier(max_depth=depth, random_state=42)\n",
    "            pipe  = Pipeline(steps=[('transformer',ct),('cart',dtree)])\n",
    "            scores = cross_val_score(estimator=pipe, X=self.X, y=self.y, cv=5, n_jobs=-1)\n",
    "            depth_result[depth] = scores.mean()\n",
    "\n",
    "        time_elapsed = (time.time() - start_time)\n",
    "        print(\"Computational time [optimal_depth_of_tree]:{}\".format(time_elapsed))\n",
    "        return depth_result\n",
    "    \n",
    "    # Perform 5-fold cross-validation to determine what the best max_depth\n",
    "    def find_optimal_depth_of_tree_on_Xtrain(self):\n",
    "        print('--optimal depth of tree on Xtrain feature set--')\n",
    "        depths = list(range(1, 41))\n",
    "        train_scores = []\n",
    "        cvmeans = []\n",
    "        cvstds = []\n",
    "        cv_scores = []\n",
    "        #use stratify for un balanced number of examples for each class label\n",
    "        X_train, X_test, y_train, y_test = train_test_split(self.X, self.y, test_size=0.3,random_state=42,shuffle=True)\n",
    "        steps = [('c',OneHotEncoder(handle_unknown='ignore'),self.cat_ix), ('n',MinMaxScaler(),self.num_ix)]\n",
    "        # one hot encode categorical, normalize numerical\n",
    "        ct = ColumnTransformer(steps)\n",
    "        for depth in depths:\n",
    "            dtree = DecisionTreeClassifier(max_depth=depth, random_state=42)\n",
    "            # wrap the model a pipeline\n",
    "            pipe  = Pipeline(steps=[('transformer',ct),('cart',dtree)])\n",
    "            # Perform 5-fold cross validation and store results\n",
    "            train_scores.append(pipe.fit(X_train, y_train).score(X_train, y_train))\n",
    "            scores = cross_val_score(estimator=pipe, X=X_train, y=y_train, cv=5)\n",
    "            cvmeans.append(scores.mean())\n",
    "            cvstds.append(scores.std())\n",
    "\n",
    "        cvmeans = np.array(cvmeans)\n",
    "        cvstds = np.array(cvstds)\n",
    "        \n",
    "        return depths, cvmeans, cvstds, train_scores\n",
    "    \n",
    "    # Visualize the results with mean & sd across the validation sets\n",
    "    def plot_optimal_depth_of_tree_on_Xtrain(self, depths, cvmeans, cvstds, train_scores):\n",
    "        from matplotlib.pyplot import figure\n",
    "        figure(num=None, figsize=(12, 6), dpi=80, facecolor='w', edgecolor='k')\n",
    "        plt.plot(depths, cvmeans, '*-', label=\"Mean CV\")\n",
    "        plt.fill_between(depths, cvmeans - 2*cvstds, cvmeans + 2*cvstds, alpha=0.3)\n",
    "        ylim = plt.ylim()\n",
    "        plt.plot(depths, train_scores, '-+', label=\"Train\")\n",
    "        plt.legend()\n",
    "        plt.ylabel(\"Accuracy\")\n",
    "        plt.xlabel(\"Max Depth\")\n",
    "        plt.xticks(depths);\n",
    "        plt.savefig(f'{file_path}/depth_of_tree_Xtrain.png', dpi=300)\n",
    "    \n",
    "    def plot_optimal_depth_of_tree(self, depth):\n",
    "        \n",
    "        lists = sorted(depth.items())\n",
    "        x, y = zip(*lists) \n",
    "        plt.ylabel(\"Cross Validation Accuracy\")\n",
    "        plt.xlabel(\"Maximum Depth\")\n",
    "        plt.title('Variation of Accuracy with Depth')\n",
    "        plt.plot(x, y, 'b-', marker='o')\n",
    "        plt.savefig(f'{file_path}/depth_of_tree.png', dpi=300)\n",
    "    \n",
    "    def evaluate_optimal_depth_of_tree(self, depth):\n",
    "        # To find the optimal depth \n",
    "        print(depth.items())\n",
    "        self.best_depth = sorted(depth, key=depth.get, reverse=True)[0]\n",
    "        print(\"The best depth was found to be:\", self.best_depth)\n",
    "        \n",
    "        #use stratify for un balanced number of examples for each class label\n",
    "        X_train, X_test, y_train, y_test = train_test_split(self.X, self.y, test_size=0.3,random_state=42,shuffle=True)\n",
    "        steps = [('c',OneHotEncoder(handle_unknown='ignore'),self.cat_ix), ('n',MinMaxScaler(),self.num_ix)]\n",
    "        # one hot encode categorical, normalize numerical\n",
    "        ct = ColumnTransformer(steps)\n",
    "\n",
    "        start_time = time.time()\n",
    "        dtree = DecisionTreeClassifier(max_depth=self.best_depth, random_state=42)\n",
    "        pipe  = Pipeline(steps=[('transformer',ct),('cart',dtree)])\n",
    "        pipe.fit(X_train, y_train)\n",
    "        time_elapsed = (time.time() - start_time)\n",
    "        \n",
    "        #Check Accuracy of income prediction in Train and Test Set\n",
    "        print(\"Accuracy, Training Set: {:.2%}\".format(metrics.accuracy_score(y_train, pipe.predict(X_train))))\n",
    "        print(\"Accuracy, Testing Set: {:.2%}\".format(metrics.accuracy_score(y_test, pipe.predict(X_test))))\n",
    "        print(\"Computational time [evaluate_depth_of_tree]:{}\".format(time_elapsed))\n",
    "        \n",
    "        #Get Performance by Class (Lookup Confusion Matrix)\n",
    "        threshold = 0.5 # set threshold as 0.5\n",
    "        y_pred = (pipe.predict_proba(X_test)[:,1] >= threshold).astype(int)\n",
    "        print(pd.crosstab(y_test, y_pred, margins=True, rownames=['Actual'], colnames=['Predicted']))\n",
    "        \n",
    "        # Confusion Matrix\n",
    "        conf_mat = metrics.confusion_matrix(y_test, y_pred)\n",
    "        print(f\"confusion matrix:\\n {conf_mat}\")\n",
    "        \n",
    "\n",
    "if __name__ =='__main__':\n",
    "    \n",
    "    parser = argparse.ArgumentParser()\n",
    "    \n",
    "    # Data, model, and output directories\n",
    "    parser.add_argument('--model-dir', type=str, default=os.environ.get('SM_MODEL_DIR'))\n",
    "    parser.add_argument('--train', type=str, default=os.environ.get('SM_CHANNEL_TRAIN'))\n",
    "    parser.add_argument('--features', type=str)  # required name features for flexibity\n",
    "    parser.add_argument('--target', type=str, default='IncomeGroup')\n",
    "\n",
    "    args, _ = parser.parse_known_args()\n",
    "    print(f\"train-dir: {args.train}\")\n",
    "    \n",
    "    # Take the set of files and read them all into a single pandas dataframe\n",
    "    input_files = [ os.path.join(args.train, file) for file in os.listdir(args.train) ]\n",
    "    if len(input_files) == 0:\n",
    "        raise ValueError(('There are no files in {}.\\n' +\n",
    "                          'This usually indicates that the channel ({}) was incorrectly specified,\\n' +\n",
    "                          'the data specification in S3 was incorrectly specified or the role specified\\n' +\n",
    "                          'does not have permission to access the data.').format(args.train, \"train\"))\n",
    "    raw_data = [ pd.read_csv(file, engine=\"python\") for file in input_files ]\n",
    "    df = pd.concat(raw_data)\n",
    "    print(f\"df.shape:{df.shape}\")\n",
    "          \n",
    "    #Prepocessing\n",
    "    print('building datasets')\n",
    "    X = df[args.features.split()]\n",
    "    y = df[args.target]\n",
    "\n",
    "    # label encode the target variable to have the classes 0 and 1\n",
    "    y = LabelEncoder().fit_transform(y)\n",
    "    \n",
    "    file_path = args.model_dir\n",
    "    print(f\"file_path: {file_path}\")\n",
    "    model = Model(X,y,file_path)\n",
    "    \n",
    "    #Find optimal depth of trees\n",
    "    depth = model.find_optimal_depth_of_tree()\n",
    "    #model.plot_optimal_depth_of_tree(depth)\n",
    "    model.evaluate_optimal_depth_of_tree(depth)\n",
    "    \n",
    "    #Find optimal depth of trees on Xtrain feature set\n",
    "    depths, cvmeans, cvstds, train_scores = model.find_optimal_depth_of_tree_on_Xtrain()\n",
    "    #model.plot_optimal_depth_of_tree_on_Xtrain(depths, cvmeans, cvstds, train_scores)\n"
   ]
  },
  {
   "cell_type": "code",
   "execution_count": 34,
   "metadata": {},
   "outputs": [
    {
     "name": "stdout",
     "output_type": "stream",
     "text": [
      "df.shape:(45222, 15)\n",
      "building datasets\n",
      "file_path: ./\n",
      "--optimal depth of tree--\n",
      "Computational time [optimal_depth_of_tree]:148.05697679519653\n",
      "dict_items([(3, 0.8389722697143795), (4, 0.8390164808176914), (5, 0.8445889819661826), (6, 0.850161473335079), (7, 0.8504047309767933), (8, 0.8521957977570009), (9, 0.8541418955641958), (10, 0.8545399446328238), (11, 0.8536553607215775), (12, 0.850802733592346), (13, 0.8486798793882571), (14, 0.8476405871766529), (15, 0.8451859993364546), (16, 0.8436159416197307), (17, 0.8397903670501978), (18, 0.8366945238425301), (19, 0.835411937315731), (20, 0.8310777260192722), (21, 0.8282914289919512), (22, 0.8258590090483257), (23, 0.826610837404701), (24, 0.8237362648646783), (25, 0.821392181556222), (26, 0.8211489141349129), (27, 0.8202644475788047), (28, 0.8184512422408083), (29, 0.8169695627225316), (30, 0.8159081441776328), (31, 0.8139843193976553), (32, 0.8132324837065837), (33, 0.8119499925308343), (34, 0.8122816454852867), (35, 0.8119941962994502), (36, 0.8101589110812343), (37, 0.8104905591458893), (38, 0.810070410637852), (39, 0.8098934830980486), (40, 0.8096059996836301)])\n",
      "The best depth was found to be: 10\n",
      "Accuracy, Training Set: 86.60%\n",
      "Accuracy, Testing Set: 85.63%\n",
      "Computational time [evaluate_depth_of_tree]:0.4273808002471924\n",
      "Predicted      0     1    All\n",
      "Actual                       \n",
      "0           9596   597  10193\n",
      "1           1359  2015   3374\n",
      "All        10955  2612  13567\n",
      "confusion matrix:\n",
      " [[9596  597]\n",
      " [1359 2015]]\n",
      "--optimal depth of tree on Xtrain feature set--\n"
     ]
    }
   ],
   "source": [
    "! python $script_folder/train_dept_of_tree.py --features 'age workclass fnlwgt education education-num marital-status occupation relationship race sex capital-gain capital-loss hours-per-week native-country' \\\n",
    "                   --model-dir ./ \\\n",
    "                   --train ./data/ "
   ]
  },
  {
   "cell_type": "code",
   "execution_count": 47,
   "metadata": {},
   "outputs": [],
   "source": [
    "## Submit the Training Job to the Compute Cluster\n",
    "\n",
    "# We use the Estimator from the SageMaker Python SDK\n",
    "from sagemaker.sklearn.estimator import SKLearn\n",
    "\n",
    "sklearn_estimator = SKLearn(\n",
    "    source_dir=\"./script/\",\n",
    "    entry_point='train_dept_of_tree.py',\n",
    "    role = get_execution_role(),\n",
    "    instance_type='ml.m5.4xlarge', \n",
    "    framework_version='0.20.0',\n",
    "    base_job_name='binary-classifiation-scikit-cart',\n",
    "    hyperparameters = {\n",
    "                        'features': 'age workclass fnlwgt education education-num marital-status occupation relationship race sex capital-gain capital-loss hours-per-week native-country'\n",
    "                      })\n",
    "\n",
    "## Call the estimator’s fit method\n",
    "\n",
    "# launch training job, with asynchronous call\n",
    "train_input = 's3://sagemaker-us-east-2-359732627051/Scikit-adults/data'\n",
    "sklearn_estimator.fit({'train': train_input}, wait=False)"
   ]
  },
  {
   "cell_type": "code",
   "execution_count": null,
   "metadata": {},
   "outputs": [],
   "source": [
    "# train_dept_of_tree.py\n",
    "#Computational time [optimal_depth_of_tree]:55.183103799819946\n",
    "#dict_items([(3, 0.8389721246802198), (4, 0.8390163406717068), (5, 0.8445889909957887), (6, 0.8501614921751012), (7, 0.8504046593452896), (8, 0.852195772587765), (9, 0.8541417946095887), (10, 0.8545398192276077), (11, 0.8536552891057549), (12, 0.8508025690454991), (13, 0.8486797735108682), (14, 0.8476404030538539), (15, 0.8451857638486127), (16, 0.8436157843670253), (17, 0.8397902195608655), (18, 0.8366942174050417), (19, 0.8354116039730017), (20, 0.831077329078355), (21, 0.8281362185956992), (22, 0.8259028891916232), (23, 0.8266547835743225), (24, 0.8235810544484196), (25, 0.821480370590128), (26, 0.8210379612593602), (27, 0.8201756308188453), (28, 0.8184729837927923), (29, 0.8171682366895171), (30, 0.8163058720166351), (31, 0.8139840568493837), (32, 0.8129667687061323), (33, 0.8117063549635409), (34, 0.8124582028839724), (35, 0.8118169597393743), (36, 0.8100258318318321), (37, 0.8102469435810619), (38, 0.8100700184829128), (39, 0.8098930909393239), (40, 0.8096941055282558)])\n",
    "#The best depth was found to be: 10\n",
    "\n",
    "#Computational time [evaluate_depth_of_tree]:0.37671375274658203\n",
    "#Accuracy, Training Set: 86.60%\n",
    "#Accuracy, Testing Set: 85.63%\n",
    "\n",
    "Predicted      0     1    All\n",
    "Actual\n",
    "0           9596   597  10193\n",
    "1           1359  2015   3374\n",
    "All        10955  2612  13567\n",
    "\n",
    "confusion matrix:\n",
    " [[9596  597]\n",
    " [1359 2015]]\n"
   ]
  },
  {
   "cell_type": "code",
   "execution_count": 54,
   "metadata": {},
   "outputs": [
    {
     "name": "stdout",
     "output_type": "stream",
     "text": [
      "Overwriting /home/ec2-user/SageMaker/script/train_leaf_nodes.py\n"
     ]
    }
   ],
   "source": [
    "%%writefile $script_folder/train_leaf_nodes.py\n",
    "\n",
    "# Python libraries \n",
    "import os\n",
    "import argparse\n",
    "import time\n",
    "import collections\n",
    "import joblib\n",
    "import pandas as pd\n",
    "import numpy as np\n",
    "import matplotlib\n",
    "import matplotlib.pyplot as plt\n",
    "\n",
    "from sklearn.preprocessing import LabelEncoder\n",
    "from sklearn.preprocessing import OneHotEncoder\n",
    "from sklearn.preprocessing import MinMaxScaler\n",
    "from sklearn.pipeline import Pipeline\n",
    "from sklearn.compose import ColumnTransformer\n",
    "from sklearn.model_selection import train_test_split\n",
    "from sklearn.model_selection import cross_val_score\n",
    "\n",
    "from sklearn import metrics\n",
    "from sklearn.tree import DecisionTreeClassifier\n",
    "from sklearn.ensemble import BaggingClassifier\n",
    "\n",
    "\n",
    "class Model:\n",
    "    def __init__(self, X, y, file_path):\n",
    "        self.X = X\n",
    "        self.y = y\n",
    "        self.cat_ix = X.select_dtypes(include=['object', 'bool']).columns\n",
    "        self.num_ix = X.select_dtypes(include=['int64', 'float64']).columns\n",
    "        self.file_path = file_path\n",
    "        \n",
    "    # optimal_leaf_nodes        \n",
    "    def find_optimal_leaf_nodes(self, best_depth):\n",
    "        print('--optimal leaf nodes--')\n",
    "        #Find optimal leaf nodes\n",
    "        leaf_nodes = list(range(3, 41))\n",
    "        leaf_nodes_result = {}\n",
    "        steps = [('c',OneHotEncoder(handle_unknown='ignore'),self.cat_ix), ('n',MinMaxScaler(),self.num_ix)]\n",
    "        # one hot encode categorical, normalize numerical\n",
    "        ct = ColumnTransformer(steps)\n",
    "        start_time = time.time()\n",
    "        for leaf_node in leaf_nodes:\n",
    "            dtree = DecisionTreeClassifier(max_depth=best_depth, max_leaf_nodes=leaf_node,random_state=42)\n",
    "            pipe  = Pipeline(steps=[('transformer',ct),('cart',dtree)])\n",
    "            scores = cross_val_score(estimator=pipe, X=self.X, y=self.y, cv=5, n_jobs=-1)\n",
    "            leaf_nodes_result[leaf_node] = scores.mean()\n",
    "        \n",
    "        time_elapsed = (time.time() - start_time)\n",
    "        print(\"Computational time [optimal_leaf_nodes]:{}\".format(time_elapsed))\n",
    "        return leaf_nodes_result\n",
    "    \n",
    "    def plot_optimal_leaf_nodes(self, leaf_nodes):\n",
    "        lists = sorted(leaf_nodes.items())\n",
    "        x, y = zip(*lists) \n",
    "        plt.ylabel(\"Cross Validation Accuracy\")\n",
    "        plt.xlabel(\"Maximum leaf nodes\")\n",
    "        plt.title('Variation of Accuracy with leaf nodes')\n",
    "        plt.plot(x, y, 'b-', marker='o')\n",
    "        plt.savefig(f'{file_path}/leaf_node.png', dpi=300)\n",
    "    \n",
    "    def evaluate_optimal_leaf_nodes(self, leaf_nodes, best_depth):\n",
    "        # To find the optimal leaf node \n",
    "        print(leaf_nodes.items())\n",
    "        best_leaf_node = sorted(leaf_nodes, key=leaf_nodes.get, reverse=True)[0]\n",
    "        print(\"The best leaf node was found to be:\", best_leaf_node)\n",
    "        \n",
    "        #use stratify for un balanced number of examples for each class label\n",
    "        X_train, X_test, y_train, y_test = train_test_split(self.X, self.y, test_size=0.3,random_state=42,shuffle=True)\n",
    "        steps = [('c',OneHotEncoder(handle_unknown='ignore'),self.cat_ix), ('n',MinMaxScaler(),self.num_ix)]\n",
    "        # one hot encode categorical, normalize numerical\n",
    "        ct = ColumnTransformer(steps)\n",
    "\n",
    "        start_time = time.time()\n",
    "        dtree = DecisionTreeClassifier(max_depth=best_depth, max_leaf_nodes=best_leaf_node, random_state=42)\n",
    "        pipe  = Pipeline(steps=[('transformer',ct),('cart',dtree)])\n",
    "        pipe.fit(X_train, y_train)\n",
    "        time_elapsed = (time.time() - start_time)\n",
    "        print(\"---parameter\")\n",
    "        print(f\"best_depth: {best_depth}\")\n",
    "        print(f\"best_leaf_node: {best_leaf_node}\")\n",
    "        \n",
    "        #Check Accuracy of income prediction in Train and Test Set\n",
    "        print(\"Accuracy, Training Set: {:.2%}\".format(metrics.accuracy_score(y_train, pipe.predict(X_train))))\n",
    "        print(\"Accuracy, Testing Set: {:.2%}\".format(metrics.accuracy_score(y_test, pipe.predict(X_test))))\n",
    "        print(\"Computational time [evaluate_optimal_leaf_nodes]:{}\".format(time_elapsed))\n",
    "        \n",
    "        #Get Performance by Class (Lookup Confusion Matrix)\n",
    "        threshold = 0.5 # set threshold as 0.5\n",
    "        y_pred = (pipe.predict_proba(X_test)[:,1] >= threshold).astype(int)\n",
    "        print(pd.crosstab(y_test, y_pred, margins=True, rownames=['Actual'], colnames=['Predicted']))\n",
    "        \n",
    "        # Confusion Matrix\n",
    "        conf_mat = metrics.confusion_matrix(y_test, y_pred)\n",
    "        print(f\"confusion matrix:\\n {conf_mat}\")\n",
    "        \n",
    "\n",
    "if __name__ =='__main__':\n",
    "    \n",
    "    parser = argparse.ArgumentParser()\n",
    "    \n",
    "    # Data, model, and output directories\n",
    "    parser.add_argument('--model-dir', type=str, default=os.environ.get('SM_MODEL_DIR'))\n",
    "    parser.add_argument('--train', type=str, default=os.environ.get('SM_CHANNEL_TRAIN'))\n",
    "    parser.add_argument('--features', type=str)  # required name features for flexibity\n",
    "    parser.add_argument('--target', type=str, default='IncomeGroup')\n",
    "    parser.add_argument('--best-depth', type=int)\n",
    "    \n",
    "    args, _ = parser.parse_known_args()\n",
    "    print(f\"best-depth: {args.best_depth}\")\n",
    "    \n",
    "    # Take the set of files and read them all into a single pandas dataframe\n",
    "    input_files = [ os.path.join(args.train, file) for file in os.listdir(args.train) ]\n",
    "    if len(input_files) == 0:\n",
    "        raise ValueError(('There are no files in {}.\\n' +\n",
    "                          'This usually indicates that the channel ({}) was incorrectly specified,\\n' +\n",
    "                          'the data specification in S3 was incorrectly specified or the role specified\\n' +\n",
    "                          'does not have permission to access the data.').format(args.train, \"train\"))\n",
    "    raw_data = [ pd.read_csv(file, engine=\"python\") for file in input_files ]\n",
    "    df = pd.concat(raw_data)\n",
    "    print(f\"df.shape:{df.shape}\")\n",
    "          \n",
    "    #Prepocessing\n",
    "    print('building datasets')\n",
    "    X = df[args.features.split()]\n",
    "    y = df[args.target]\n",
    "\n",
    "    # label encode the target variable to have the classes 0 and 1\n",
    "    y = LabelEncoder().fit_transform(y)\n",
    "    \n",
    "    file_path = args.model_dir\n",
    "    print(f\"file_path: {file_path}\")\n",
    "    model = Model(X,y,file_path)\n",
    "    \n",
    "    #Find optimal leaf nodes\n",
    "    best_depth = args.best_depth\n",
    "    print(f\"best_depth:{best_depth}\")\n",
    "    leaf_nodes = model.find_optimal_leaf_nodes(best_depth)\n",
    "    model.plot_optimal_leaf_nodes(leaf_nodes)\n",
    "    model.evaluate_optimal_leaf_nodes(leaf_nodes,best_depth)"
   ]
  },
  {
   "cell_type": "code",
   "execution_count": 55,
   "metadata": {},
   "outputs": [
    {
     "name": "stdout",
     "output_type": "stream",
     "text": [
      "best-depth: 10\n",
      "df.shape:(45222, 15)\n",
      "building datasets\n",
      "file_path: ./\n",
      "best_depth:10\n",
      "--optimal leaf nodes--\n",
      "Computational time [optimal_leaf_nodes]:37.243335247039795\n",
      "dict_items([(3, 0.814647798894368), (4, 0.8238911002997691), (5, 0.8389722697143795), (6, 0.8389722697143795), (7, 0.8415596204441451), (8, 0.8435497508770462), (9, 0.8438814258355869), (10, 0.8438814258355869), (11, 0.8444121277733402), (12, 0.84531878423011), (13, 0.8453408958940127), (14, 0.8454734803059741), (15, 0.8459378765908039), (16, 0.8464022630960388), (17, 0.8469771883615976), (18, 0.8472867858848174), (19, 0.847684812949357), (20, 0.8492106864566548), (21, 0.8492106864566548), (22, 0.8501836192275636), (23, 0.8507364254945236), (24, 0.8508912046969439), (25, 0.851112328670667), (26, 0.8514218895204063), (27, 0.8519526232418426), (28, 0.8513113849886642), (29, 0.8514440500822831), (30, 0.8514440549720804), (31, 0.8520632182348369), (32, 0.8520632182348369), (33, 0.8520853396783344), (34, 0.8523728230927528), (35, 0.852770845267495), (36, 0.853390006085353), (37, 0.8534342269682597), (38, 0.853566911621068), (39, 0.8538322515879007), (40, 0.8536111202794812)])\n",
      "The best leaf node was found to be: 39\n",
      "---parameter\n",
      "best_depth: 10\n",
      "best_leaf_node: 39\n",
      "Accuracy, Training Set: 85.64%\n",
      "Accuracy, Testing Set: 85.81%\n",
      "Computational time [evaluate_optimal_leaf_nodes]:0.28771066665649414\n",
      "Predicted      0     1    All\n",
      "Actual                       \n",
      "0           9671   522  10193\n",
      "1           1403  1971   3374\n",
      "All        11074  2493  13567\n",
      "confusion matrix:\n",
      " [[9671  522]\n",
      " [1403 1971]]\n"
     ]
    }
   ],
   "source": [
    "! python $script_folder/train_leaf_nodes.py --best-depth 10 \\\n",
    "                   --features 'age workclass fnlwgt education education-num marital-status occupation relationship race sex capital-gain capital-loss hours-per-week native-country' \\\n",
    "                   --model-dir ./ \\\n",
    "                   --train ./data/"
   ]
  },
  {
   "cell_type": "code",
   "execution_count": 61,
   "metadata": {},
   "outputs": [],
   "source": [
    "## Submit the Training Job to the Compute Cluster\n",
    "\n",
    "# We use the Estimator from the SageMaker Python SDK\n",
    "from sagemaker.sklearn.estimator import SKLearn\n",
    "\n",
    "sklearn_estimator = SKLearn(\n",
    "    source_dir=\"./script/\",\n",
    "    entry_point='train_leaf_nodes.py',\n",
    "    role = get_execution_role(),\n",
    "    instance_type='ml.m5.4xlarge', \n",
    "    framework_version='0.20.0',\n",
    "    base_job_name='binary-classifiation-scikit-cart',\n",
    "    hyperparameters = {\n",
    "                        'best-depth': '10',\n",
    "                        'features': 'age workclass fnlwgt education education-num marital-status occupation relationship race sex capital-gain capital-loss hours-per-week native-country'\n",
    "                      })\n",
    "\n",
    "## Call the estimator’s fit method\n",
    "\n",
    "# launch training job, with asynchronous call\n",
    "train_input = 's3://sagemaker-us-east-2-359732627051/Scikit-adults/data'\n",
    "sklearn_estimator.fit({'train': train_input}, wait=False)"
   ]
  },
  {
   "cell_type": "code",
   "execution_count": null,
   "metadata": {},
   "outputs": [],
   "source": [
    "# train_leaf_nodes.py\n",
    "# Computational time [optimal_leaf_nodes]:21.19389033317566\n",
    "# dict_items([(3, 0.8146476855265534), (4, 0.8238909918687952), (5, 0.8389721246802198), (6, 0.8389721246802198), (7, 0.8415596123545936), (8, 0.8435496621058375), (9, 0.8438813370643782), (10, 0.8438813370643782), (11, 0.8444120610110863), (12, 0.8453186783494768), (13, 0.8453407900133796), (14, 0.8454734453257812), (15, 0.8459378562832475), (16, 0.8464022843609529), (17, 0.8469771876224232), (18, 0.8472868487238241), (19, 0.8476848733450872), (20, 0.8492106930646134), (21, 0.8492106930646134), (22, 0.8501836258355221), (23, 0.8507364149881911), (24, 0.8508911379514524), (25, 0.8511122619251758), (26, 0.8514218252198136), (27, 0.8514881602115217), (28, 0.851311369597401), (29, 0.8515988334526299), (30, 0.8514440224627412), (31, 0.8520631514969157), (32, 0.8520631514969157), (33, 0.8520852631608185), (34, 0.8521294864886239), (35, 0.8524170016937548), (36, 0.85305829129251), (37, 0.853412090141069), (38, 0.8535226582412587), (39, 0.8531688325004361), (40, 0.8533678521449527)])\n",
    "# Given best_depth: 10\n",
    "# The best leaf node was found to be: 38\n",
    "\n",
    "# Computational time [evaluate_optimal_leaf_nodes]:0.2408466339111328\n",
    "# Accuracy, Training Set: 85.85%\n",
    "# Accuracy, Testing Set: 85.66%\n",
    "\n",
    "Predicted      0     1    All\n",
    "Actual                       \n",
    "0           9519   674  10193\n",
    "1           1271  2103   3374\n",
    "All        10790  2777  13567\n",
    "\n",
    "confusion matrix:\n",
    " [[9519  674]\n",
    " [1271 2103]]\n",
    "\n"
   ]
  },
  {
   "cell_type": "code",
   "execution_count": 59,
   "metadata": {},
   "outputs": [
    {
     "name": "stdout",
     "output_type": "stream",
     "text": [
      "Overwriting /home/ec2-user/SageMaker/script/train_n_estimators.py\n"
     ]
    }
   ],
   "source": [
    "%%writefile $script_folder/train_n_estimators.py\n",
    "\n",
    "# Python libraries \n",
    "import os\n",
    "import argparse\n",
    "import time\n",
    "import collections\n",
    "import joblib\n",
    "import pandas as pd\n",
    "import numpy as np\n",
    "import matplotlib\n",
    "import matplotlib.pyplot as plt\n",
    "\n",
    "from sklearn.preprocessing import LabelEncoder\n",
    "from sklearn.preprocessing import OneHotEncoder\n",
    "from sklearn.preprocessing import MinMaxScaler\n",
    "from sklearn.pipeline import Pipeline\n",
    "from sklearn.compose import ColumnTransformer\n",
    "from sklearn.model_selection import train_test_split\n",
    "from sklearn.model_selection import cross_val_score\n",
    "\n",
    "from sklearn import metrics\n",
    "from sklearn.tree import DecisionTreeClassifier\n",
    "from sklearn.ensemble import BaggingClassifier\n",
    "\n",
    "\n",
    "class Model:\n",
    "    def __init__(self, X, y, file_path):\n",
    "        self.X = X\n",
    "        self.y = y\n",
    "        self.cat_ix = X.select_dtypes(include=['object', 'bool']).columns\n",
    "        self.num_ix = X.select_dtypes(include=['int64', 'float64']).columns\n",
    "        self.file_path = file_path\n",
    "        \n",
    "    # optimal_n_estimators\n",
    "    def find_optimal_n_estimators(self, best_depth, best_leaf_node):\n",
    "        print('--optimal n_estimators--')\n",
    "        \n",
    "        ntrees = list(range(25, 201, 25))\n",
    "        print(f\"ntrees: {ntrees}\")\n",
    "        train_scores = []\n",
    "        cvmeans = []\n",
    "        cvstds = []\n",
    "        cv_scores = []\n",
    "        #use stratify for un balanced number of examples for each class label\n",
    "        X_train, X_test, y_train, y_test = train_test_split(self.X, self.y, test_size=0.3,random_state=42,shuffle=True)\n",
    "        steps = [('c',OneHotEncoder(handle_unknown='ignore'),self.cat_ix), ('n',MinMaxScaler(),self.num_ix)]\n",
    "        # one hot encode categorical, normalize numerical\n",
    "        ct = ColumnTransformer(steps)\n",
    "        start_time = time.time()\n",
    "        \n",
    "        for tree in ntrees:\n",
    "            clf  = DecisionTreeClassifier(max_leaf_nodes=best_leaf_node,\n",
    "                                       criterion=\"gini\", \n",
    "                                       max_depth=best_depth,\n",
    "                                       random_state=42)\n",
    "            \n",
    "            bag = BaggingClassifier(base_estimator=clf,\n",
    "                                    n_estimators=tree,\n",
    "                                    oob_score=True,\n",
    "                                    bootstrap=True,\n",
    "                                    bootstrap_features=False,\n",
    "                                    n_jobs=-1,\n",
    "                                    random_state=42)\n",
    "            \n",
    "            pipe  = Pipeline(steps=[('transformer',ct),('bag',bag)])\n",
    "            # Perform 5-fold cross validation and store results\n",
    "            train_scores.append(pipe.fit(X_train, y_train).score(X_train, y_train))\n",
    "            scores = cross_val_score(estimator=pipe, X=X_train, y=y_train, cv=5)\n",
    "            cvmeans.append(scores.mean())\n",
    "            cvstds.append(scores.std())\n",
    "\n",
    "        cvmeans = np.array(cvmeans)\n",
    "        cvstds = np.array(cvstds)\n",
    "        \n",
    "        time_elapsed = (time.time() - start_time)\n",
    "        print(\"Computational time [optimal_leaf_nodes]:{}\".format(time_elapsed))\n",
    "        \n",
    "        print(\"n_tree --> Training score --> cvmeans\")\n",
    "        for tree, train_score, cvmean in zip(list(ntrees), list(train_scores), list(cvmeans)):\n",
    "            print(f\"({tree} --> {train_score} --> {cvmean})\")\n",
    "    \n",
    "        return ntrees, cvmeans, cvstds, train_scores\n",
    "    \n",
    "    def plot_optimal_n_estimators(self, ntrees, cvmeans, cvstds, train_scores):\n",
    "        from matplotlib.pyplot import figure\n",
    "        figure(num=None, figsize=(15, 6), dpi=70, facecolor='w', edgecolor='k')\n",
    "        # plot means and shade the 2 SD interval\n",
    "        plt.plot(ntrees, cvmeans, '*-', label=\"Mean CV\")\n",
    "        plt.fill_between(ntrees, cvmeans - 2*cvstds, cvmeans + 2*cvstds, alpha=0.3)\n",
    "        ylim = plt.ylim()\n",
    "        plt.plot(ntrees, train_scores, '-+', label=\"Train\")\n",
    "        plt.legend()\n",
    "        plt.ylabel(\"Accuracy\")\n",
    "        plt.xlabel(\"Number of Tree\")\n",
    "        plt.xticks(ntrees);\n",
    "        plt.savefig(f'{file_path}/n_estimator.png', dpi=300)\n",
    "        \n",
    "\n",
    "if __name__ =='__main__':\n",
    "    \n",
    "    parser = argparse.ArgumentParser()\n",
    "    \n",
    "    # Data, model, and output directories\n",
    "    parser.add_argument('--model-dir', type=str, default=os.environ.get('SM_MODEL_DIR'))\n",
    "    parser.add_argument('--train', type=str, default=os.environ.get('SM_CHANNEL_TRAIN'))\n",
    "    parser.add_argument('--features', type=str)  # required name features for flexibity\n",
    "    parser.add_argument('--target', type=str, default='IncomeGroup')\n",
    "    parser.add_argument('--best-depth', type=int)\n",
    "    parser.add_argument('--best-leaf-node', type=int)\n",
    "    \n",
    "    args, _ = parser.parse_known_args()\n",
    "    print(f\"--best-depth: {args.best_depth}\")\n",
    "    print(f\"--best-leaf-node: {args.best_leaf_node}\")\n",
    "    \n",
    "    # Take the set of files and read them all into a single pandas dataframe\n",
    "    input_files = [ os.path.join(args.train, file) for file in os.listdir(args.train) ]\n",
    "    if len(input_files) == 0:\n",
    "        raise ValueError(('There are no files in {}.\\n' +\n",
    "                          'This usually indicates that the channel ({}) was incorrectly specified,\\n' +\n",
    "                          'the data specification in S3 was incorrectly specified or the role specified\\n' +\n",
    "                          'does not have permission to access the data.').format(args.train, \"train\"))\n",
    "    raw_data = [ pd.read_csv(file, engine=\"python\") for file in input_files ]\n",
    "    df = pd.concat(raw_data)\n",
    "    print(f\"df.shape:{df.shape}\")\n",
    "          \n",
    "    #Prepocessing\n",
    "    print('building datasets')\n",
    "    X = df[args.features.split()]\n",
    "    y = df[args.target]\n",
    "\n",
    "    # label encode the target variable to have the classes 0 and 1\n",
    "    y = LabelEncoder().fit_transform(y)\n",
    "    \n",
    "    file_path = args.model_dir\n",
    "    print(f\"file_path: {file_path}\")\n",
    "    model = Model(X,y,file_path)\n",
    "    \n",
    "    #Find optimal leaf nodes\n",
    "    best_depth = args.best_depth\n",
    "    best_leaf_node = args.best_leaf_node\n",
    "    \n",
    "    #Find optimal number of trees on Xtrain feature set\n",
    "    ntrees, cvmeans, cvstds, train_scores = model.find_optimal_n_estimators(best_depth, best_leaf_node)\n",
    "    model.plot_optimal_n_estimators(ntrees, cvmeans, cvstds, train_scores)"
   ]
  },
  {
   "cell_type": "code",
   "execution_count": 60,
   "metadata": {},
   "outputs": [
    {
     "name": "stdout",
     "output_type": "stream",
     "text": [
      "--best-depth: 10\n",
      "--best-leaf-node: 39\n",
      "df.shape:(45222, 15)\n",
      "building datasets\n",
      "file_path: ./\n",
      "--optimal n_estimators--\n",
      "ntrees: [25, 50, 75, 100, 125, 150, 175, 200]\n",
      "Computational time [optimal_leaf_nodes]:399.4837255477905\n",
      "n_tree --> Training score --> cvmeans\n",
      "(25 --> 0.8588216711419997 --> 0.8560732901595325)\n",
      "(50 --> 0.8590743958300426 --> 0.8564839677776023)\n",
      "(75 --> 0.8591375770020534 --> 0.856041699573527)\n",
      "(100 --> 0.8590112146580319 --> 0.8562628336755648)\n",
      "(125 --> 0.8589480334860211 --> 0.8561680619175485)\n",
      "(150 --> 0.8590743958300426 --> 0.8564523771915971)\n",
      "(175 --> 0.8590112146580319 --> 0.85629442426157)\n",
      "(200 --> 0.8590112146580319 --> 0.8561996525035539)\n"
     ]
    }
   ],
   "source": [
    "! python $script_folder/train_n_estimators.py --best-depth 10 \\\n",
    "                   --best-leaf-node 39 \\\n",
    "                   --features 'age workclass fnlwgt education education-num marital-status occupation relationship race sex capital-gain capital-loss hours-per-week native-country' \\\n",
    "                   --model-dir ./ \\\n",
    "                   --train ./data/ "
   ]
  },
  {
   "cell_type": "code",
   "execution_count": 62,
   "metadata": {},
   "outputs": [],
   "source": [
    "## Submit the Training Job to the Compute Cluster\n",
    "\n",
    "# We use the Estimator from the SageMaker Python SDK\n",
    "from sagemaker.sklearn.estimator import SKLearn\n",
    "\n",
    "sklearn_estimator = SKLearn(\n",
    "    source_dir=\"./script/\",\n",
    "    entry_point='train_n_estimators.py',\n",
    "    role = get_execution_role(),\n",
    "    instance_type='ml.m5.4xlarge', \n",
    "    framework_version='0.20.0',\n",
    "    base_job_name='binary-classifiation-scikit-cart',\n",
    "    hyperparameters = {\n",
    "                         'best-depth' : '10',\n",
    "                         'best-leaf-node' : '38',\n",
    "                         'features': 'age workclass fnlwgt education education-num marital-status occupation relationship race sex capital-gain capital-loss hours-per-week native-country'\n",
    "                      })\n",
    "\n",
    "## Call the estimator’s fit method\n",
    "\n",
    "# launch training job, with asynchronous call\n",
    "train_input = 's3://sagemaker-us-east-2-359732627051/Scikit-adults/data'\n",
    "sklearn_estimator.fit({'train': train_input}, wait=False)"
   ]
  },
  {
   "cell_type": "code",
   "execution_count": null,
   "metadata": {},
   "outputs": [],
   "source": [
    "# Computational time [optimal_leaf_nodes]:512.5468833446503\n",
    "n_tree --> Training score --> cvmeans\n",
    "(25 --> 0.860211656926236 --> 0.8558521596231199)\n",
    "(50 --> 0.8600221134102037 --> 0.8571790291306657)\n",
    "(75 --> 0.8605275627862897 --> 0.8568947088691559)\n",
    "(100 --> 0.8603380192702574 --> 0.8569578800646678)\n",
    "(125 --> 0.8604327910282735 --> 0.8568315576376762)\n",
    "(150 --> 0.8598641604801769 --> 0.8571158828929522)\n",
    "(175 --> 0.8596746169641447 --> 0.8570842823288716)\n",
    "(200 --> 0.8595798452061286 --> 0.8571159028538317)"
   ]
  },
  {
   "cell_type": "markdown",
   "metadata": {},
   "source": [
    "<a id=\"3_3\"></a>\n",
    "##### 3.3 Submit the Training Job to the AMSL Compute Cluster\n",
    "\n",
    "- 3.3.1 [hardware info](#3_3_1)\n",
    "- 3.3.2 [Model Training](#3_3_2)"
   ]
  },
  {
   "cell_type": "markdown",
   "metadata": {
    "nteract": {
     "transient": {
      "deleting": false
     }
    }
   },
   "source": [
    "Notebook Instance"
   ]
  },
  {
   "cell_type": "code",
   "execution_count": 5,
   "metadata": {
    "gather": {
     "logged": 1607984765327
    },
    "nteract": {
     "transient": {
      "deleting": false
     }
    }
   },
   "outputs": [
    {
     "name": "stdout",
     "output_type": "stream",
     "text": [
      "last updated: 2020-12-14 \n",
      "\n",
      "CPython 3.6.9\n",
      "IPython 7.16.1\n",
      "\n",
      "numpy 1.18.5\n",
      "pandas 0.25.3\n",
      "scipy 1.5.2\n",
      "sklearn 0.0\n",
      "\n",
      "compiler   : GCC 7.3.0\n",
      "system     : Linux\n",
      "release    : 4.15.0-1100-azure\n",
      "machine    : x86_64\n",
      "processor  : x86_64\n",
      "CPU cores  : 1\n",
      "interpreter: 64bit\n",
      "host name  : cpu-standard-ds1v2\n"
     ]
    }
   ],
   "source": [
    "#! pip install watermark\n",
    "%reload_ext watermark\n",
    "%watermark  -d -u -h -m -v -p numpy,pandas,scipy,sklearn\n"
   ]
  },
  {
   "cell_type": "code",
   "execution_count": 14,
   "metadata": {
    "gather": {
     "logged": 1607990941171
    },
    "nteract": {
     "transient": {
      "deleting": false
     }
    }
   },
   "outputs": [
    {
     "name": "stdout",
     "output_type": "stream",
     "text": [
      "--optimal depth of tree--\n",
      "Computational time [optimal_depth_of_tree]:554.976931810379\n",
      "dict_items([(3, 0.8389722697143795), (4, 0.8390164808176914), (5, 0.8445889819661826), (6, 0.850161473335079), (7, 0.8504047309767933), (8, 0.8521957977570009), (9, 0.8541418955641958), (10, 0.8545399446328238), (11, 0.8536553607215775), (12, 0.850802733592346), (13, 0.8486798793882571), (14, 0.8476405871766529), (15, 0.8451859993364546), (16, 0.8436159416197307), (17, 0.8397903670501978), (18, 0.8366945238425301), (19, 0.835411937315731), (20, 0.8310777260192722), (21, 0.8282914289919512), (22, 0.8258590090483257), (23, 0.826610837404701), (24, 0.8237362648646783), (25, 0.821392181556222), (26, 0.8211489141349129), (27, 0.8202644475788047), (28, 0.8184512422408083), (29, 0.8169695627225316), (30, 0.8159081441776328), (31, 0.8139843193976553), (32, 0.8132324837065837), (33, 0.8119499925308343), (34, 0.8122816454852867), (35, 0.8119941962994502), (36, 0.8101589110812343), (37, 0.8104905591458893), (38, 0.810070410637852), (39, 0.8098934830980486), (40, 0.8096059996836301)])\n",
      "The best depth was found to be: 10\n"
     ]
    },
    {
     "data": {
      "image/png": "[encoded data removed]",
      "text/plain": [
       "<Figure size 432x288 with 1 Axes>"
      ]
     },
     "metadata": {
      "needs_background": "light"
     },
     "output_type": "display_data"
    },
    {
     "name": "stdout",
     "output_type": "stream",
     "text": [
      "Accuracy, Training Set: 86.60%\n",
      "Accuracy, Testing Set: 85.63%\n",
      "Computational time [evaluate_depth_of_tree]:0.8807802200317383\n",
      "Predicted      0     1    All\n",
      "Actual                       \n",
      "0           9596   597  10193\n",
      "1           1359  2015   3374\n",
      "All        10955  2612  13567\n",
      "confusion matrix:\n",
      " [[9596  597]\n",
      " [1359 2015]]\n",
      "--optimal leaf nodes--\n",
      "Computational time [optimal_leaf_nodes]:146.7857310771942\n"
     ]
    },
    {
     "data": {
      "image/png": "[encoded data removed]",
      "text/plain": [
       "<Figure size 432x288 with 1 Axes>"
      ]
     },
     "metadata": {
      "needs_background": "light"
     },
     "output_type": "display_data"
    },
    {
     "name": "stdout",
     "output_type": "stream",
     "text": [
      "dict_items([(3, 0.814647798894368), (4, 0.8238911002997691), (5, 0.8389722697143795), (6, 0.8389722697143795), (7, 0.8415596204441451), (8, 0.8435497508770462), (9, 0.8438814258355869), (10, 0.8438814258355869), (11, 0.8444121277733402), (12, 0.84531878423011), (13, 0.8453408958940127), (14, 0.8454734803059741), (15, 0.8459378765908039), (16, 0.8464022630960388), (17, 0.8469771883615976), (18, 0.8472867858848174), (19, 0.847684812949357), (20, 0.8492106864566548), (21, 0.8492106864566548), (22, 0.8501836192275636), (23, 0.8507364254945236), (24, 0.8508912046969439), (25, 0.851112328670667), (26, 0.8514218895204063), (27, 0.8519526232418426), (28, 0.8513113849886642), (29, 0.8514440500822831), (30, 0.8514440549720804), (31, 0.8520632182348369), (32, 0.8520632182348369), (33, 0.8520853396783344), (34, 0.8523728230927528), (35, 0.852770845267495), (36, 0.853390006085353), (37, 0.8534342269682597), (38, 0.853566911621068), (39, 0.8538322515879007), (40, 0.8536111202794812)])\n",
      "The best leaf node was found to be: 39\n",
      "---parameter\n",
      "best_depth: 10\n",
      "best_leaf_node: 39\n",
      "Accuracy, Training Set: 85.64%\n",
      "Accuracy, Testing Set: 85.81%\n",
      "Computational time [evaluate_optimal_leaf_nodes]:0.6888904571533203\n",
      "Predicted      0     1    All\n",
      "Actual                       \n",
      "0           9671   522  10193\n",
      "1           1403  1971   3374\n",
      "All        11074  2493  13567\n",
      "confusion matrix:\n",
      " [[9671  522]\n",
      " [1403 1971]]\n",
      "--optimal depth of tree on Xtrain feature set--\n",
      "--optimal n_estimators--\n",
      "ntrees: [25, 50, 75, 100, 125, 150, 175, 200]\n",
      "Computational time [optimal_leaf_nodes]:1094.419101715088\n",
      "n_tree --> Training score --> cvmeans\n",
      "(25 --> 0.8588216711419997 --> 0.8560732901595325)\n",
      "(50 --> 0.8590743958300426 --> 0.8564839677776023)\n",
      "(75 --> 0.8591375770020534 --> 0.856041699573527)\n",
      "(100 --> 0.8590112146580319 --> 0.8562628336755648)\n",
      "(125 --> 0.8589480334860211 --> 0.8561680619175485)\n",
      "(150 --> 0.8590743958300426 --> 0.8564523771915971)\n",
      "(175 --> 0.8590112146580319 --> 0.85629442426157)\n",
      "(200 --> 0.8590112146580319 --> 0.8561996525035539)\n"
     ]
    },
    {
     "data": {
      "image/png": "[encoded data removed]",
      "text/plain": [
       "<Figure size 960x480 with 1 Axes>"
      ]
     },
     "metadata": {},
     "output_type": "display_data"
    },
    {
     "data": {
      "text/plain": [
       "<Figure size 72x72 with 0 Axes>"
      ]
     },
     "metadata": {},
     "output_type": "display_data"
    },
    {
     "data": {
      "image/png": "[encoded data removed]",
      "text/plain": [
       "<Figure size 1050x420 with 1 Axes>"
      ]
     },
     "metadata": {},
     "output_type": "display_data"
    },
    {
     "data": {
      "text/plain": [
       "<Figure size 72x72 with 0 Axes>"
      ]
     },
     "metadata": {},
     "output_type": "display_data"
    }
   ],
   "source": [
    "# Python libraries \n",
    "import os\n",
    "import time\n",
    "import collections\n",
    "import joblib\n",
    "import pandas as pd\n",
    "import numpy as np\n",
    "import matplotlib\n",
    "import matplotlib.pyplot as plt\n",
    "\n",
    "from sklearn.preprocessing import LabelEncoder\n",
    "from sklearn.preprocessing import OneHotEncoder\n",
    "from sklearn.preprocessing import MinMaxScaler\n",
    "from sklearn.pipeline import Pipeline\n",
    "from sklearn.compose import ColumnTransformer\n",
    "from sklearn.model_selection import train_test_split\n",
    "from sklearn.model_selection import cross_val_score\n",
    "\n",
    "from sklearn import metrics\n",
    "from sklearn.tree import DecisionTreeClassifier\n",
    "from sklearn.ensemble import BaggingClassifier\n",
    "\n",
    "class Model:\n",
    "    def __init__(self, X, y):\n",
    "        self.X = X\n",
    "        self.y = y\n",
    "        self.cat_ix = X.select_dtypes(include=['object', 'bool']).columns\n",
    "        self.num_ix = X.select_dtypes(include=['int64', 'float64']).columns\n",
    "        self.best_depth = 0\n",
    "        self.best_leaf_node = 0\n",
    "\n",
    "# optimal_depth_of_tree        \n",
    "    def find_optimal_depth_of_tree(self):\n",
    "        print('--optimal depth of tree--')\n",
    "        depths = list(range(3, 41))\n",
    "        depth_result = {}\n",
    "        steps = [('c',OneHotEncoder(handle_unknown='ignore'),self.cat_ix), ('n',MinMaxScaler(),self.num_ix)]\n",
    "        # one hot encode categorical, normalize numerical\n",
    "        ct = ColumnTransformer(steps)\n",
    "        start_time = time.time()\n",
    "        for depth in depths:\n",
    "            dtree = DecisionTreeClassifier(max_depth=depth, random_state=42)\n",
    "            pipe  = Pipeline(steps=[('transformer',ct),('cart',dtree)])\n",
    "            scores = cross_val_score(estimator=pipe, X=self.X, y=self.y, cv=5, n_jobs=-1)\n",
    "            depth_result[depth] = scores.mean()\n",
    "\n",
    "        time_elapsed = (time.time() - start_time)\n",
    "        print(\"Computational time [optimal_depth_of_tree]:{}\".format(time_elapsed))\n",
    "        return depth_result\n",
    "    \n",
    "    # Perform 5-fold cross-validation to determine what the best max_depth\n",
    "    def find_optimal_depth_of_tree_on_Xtrain(self):\n",
    "        print('--optimal depth of tree on Xtrain feature set--')\n",
    "        depths = list(range(1, 41))\n",
    "        train_scores = []\n",
    "        cvmeans = []\n",
    "        cvstds = []\n",
    "        cv_scores = []\n",
    "        #use stratify for un balanced number of examples for each class label\n",
    "        X_train, X_test, y_train, y_test = train_test_split(self.X, self.y, test_size=0.3,random_state=42,shuffle=True)\n",
    "        steps = [('c',OneHotEncoder(handle_unknown='ignore'),self.cat_ix), ('n',MinMaxScaler(),self.num_ix)]\n",
    "        # one hot encode categorical, normalize numerical\n",
    "        ct = ColumnTransformer(steps)\n",
    "        for depth in depths:\n",
    "            dtree = DecisionTreeClassifier(max_depth=depth, random_state=42)\n",
    "            # wrap the model a pipeline\n",
    "            pipe  = Pipeline(steps=[('transformer',ct),('cart',dtree)])\n",
    "            # Perform 5-fold cross validation and store results\n",
    "            train_scores.append(pipe.fit(X_train, y_train).score(X_train, y_train))\n",
    "            scores = cross_val_score(estimator=pipe, X=X_train, y=y_train, cv=5)\n",
    "            cvmeans.append(scores.mean())\n",
    "            cvstds.append(scores.std())\n",
    "\n",
    "        cvmeans = np.array(cvmeans)\n",
    "        cvstds = np.array(cvstds)\n",
    "        \n",
    "        return depths, cvmeans, cvstds, train_scores\n",
    "    \n",
    "    # Visualize the results with mean & sd across the validation sets\n",
    "    def plot_optimal_depth_of_tree_on_Xtrain(self, depths, cvmeans, cvstds, train_scores):\n",
    "        from matplotlib.pyplot import figure\n",
    "        figure(num=None, figsize=(12, 6), dpi=80, facecolor='w', edgecolor='k')\n",
    "        plt.plot(depths, cvmeans, '*-', label=\"Mean CV\")\n",
    "        plt.fill_between(depths, cvmeans - 2*cvstds, cvmeans + 2*cvstds, alpha=0.3)\n",
    "        ylim = plt.ylim()\n",
    "        plt.plot(depths, train_scores, '-+', label=\"Train\")\n",
    "        plt.legend()\n",
    "        plt.ylabel(\"Accuracy\")\n",
    "        plt.xlabel(\"Max Depth\")\n",
    "        plt.xticks(depths);\n",
    "        plt.figure(figsize=(1,1))\n",
    "    \n",
    "    def plot_optimal_depth_of_tree(self, depth):\n",
    "        lists = sorted(depth.items())\n",
    "        x, y = zip(*lists) \n",
    "        plt.ylabel(\"Cross Validation Accuracy\")\n",
    "        plt.xlabel(\"Maximum Depth\")\n",
    "        plt.title('Variation of Accuracy with Depth')\n",
    "        plt.plot(x, y, 'b-', marker='o')\n",
    "        plt.show()\n",
    "    \n",
    "    def evaluate_optimal_depth_of_tree(self, depth):\n",
    "        # To find the optimal depth \n",
    "        print(depth.items())\n",
    "        self.best_depth = sorted(depth, key=depth.get, reverse=True)[0]\n",
    "        print(\"The best depth was found to be:\", self.best_depth)\n",
    "        \n",
    "        #use stratify for un balanced number of examples for each class label\n",
    "        X_train, X_test, y_train, y_test = train_test_split(self.X, self.y, test_size=0.3,random_state=42,shuffle=True)\n",
    "        steps = [('c',OneHotEncoder(handle_unknown='ignore'),self.cat_ix), ('n',MinMaxScaler(),self.num_ix)]\n",
    "        # one hot encode categorical, normalize numerical\n",
    "        ct = ColumnTransformer(steps)\n",
    "\n",
    "        start_time = time.time()\n",
    "        dtree = DecisionTreeClassifier(max_depth=self.best_depth, random_state=42)\n",
    "        pipe  = Pipeline(steps=[('transformer',ct),('cart',dtree)])\n",
    "        pipe.fit(X_train, y_train)\n",
    "        time_elapsed = (time.time() - start_time)\n",
    "        \n",
    "        #Check Accuracy of income prediction in Train and Test Set\n",
    "        print(\"Accuracy, Training Set: {:.2%}\".format(metrics.accuracy_score(y_train, pipe.predict(X_train))))\n",
    "        print(\"Accuracy, Testing Set: {:.2%}\".format(metrics.accuracy_score(y_test, pipe.predict(X_test))))\n",
    "        print(\"Computational time [evaluate_depth_of_tree]:{}\".format(time_elapsed))\n",
    "        \n",
    "        #Get Performance by Class (Lookup Confusion Matrix)\n",
    "        threshold = 0.5 # set threshold as 0.5\n",
    "        y_pred = (pipe.predict_proba(X_test)[:,1] >= threshold).astype(int)\n",
    "        print(pd.crosstab(y_test, y_pred, margins=True, rownames=['Actual'], colnames=['Predicted']))\n",
    "        \n",
    "        # Confusion Matrix\n",
    "        conf_mat = metrics.confusion_matrix(y_test, y_pred)\n",
    "        print(f\"confusion matrix:\\n {conf_mat}\")\n",
    "        \n",
    "# optimal_leaf_nodes    \n",
    "    def find_optimal_leaf_nodes(self):\n",
    "        print('--optimal leaf nodes--')\n",
    "        #Find optimal leaf nodes\n",
    "        leaf_nodes = list(range(3, 41))\n",
    "        leaf_nodes_result = {}\n",
    "        steps = [('c',OneHotEncoder(handle_unknown='ignore'),self.cat_ix), ('n',MinMaxScaler(),self.num_ix)]\n",
    "        # one hot encode categorical, normalize numerical\n",
    "        ct = ColumnTransformer(steps)\n",
    "        start_time = time.time()\n",
    "        for leaf_node in leaf_nodes:\n",
    "            dtree = DecisionTreeClassifier(max_depth=self.best_depth, max_leaf_nodes=leaf_node,random_state=42)\n",
    "            pipe  = Pipeline(steps=[('transformer',ct),('cart',dtree)])\n",
    "            scores = cross_val_score(estimator=pipe, X=self.X, y=self.y, cv=5, n_jobs=-1)\n",
    "            leaf_nodes_result[leaf_node] = scores.mean()\n",
    "        \n",
    "        time_elapsed = (time.time() - start_time)\n",
    "        print(\"Computational time [optimal_leaf_nodes]:{}\".format(time_elapsed))\n",
    "        return leaf_nodes_result\n",
    "    \n",
    "    def plot_optimal_leaf_nodes(self, leaf_nodes):\n",
    "        lists = sorted(leaf_nodes.items())\n",
    "        x, y = zip(*lists) \n",
    "        plt.ylabel(\"Cross Validation Accuracy\")\n",
    "        plt.xlabel(\"Maximum leaf nodes\")\n",
    "        plt.title('Variation of Accuracy with leaf nodes')\n",
    "        plt.plot(x, y, 'b-', marker='o')\n",
    "        plt.show()\n",
    "        \n",
    "    def evaluate_optimal_leaf_nodes(self, leaf_nodes):\n",
    "        # To find the optimal leaf node \n",
    "        print(leaf_nodes.items())\n",
    "        self.best_leaf_node = sorted(leaf_nodes, key=leaf_nodes.get, reverse=True)[0]\n",
    "        print(\"The best leaf node was found to be:\", self.best_leaf_node)\n",
    "        \n",
    "        #use stratify for un balanced number of examples for each class label\n",
    "        X_train, X_test, y_train, y_test = train_test_split(self.X, self.y, test_size=0.3,random_state=42,shuffle=True)\n",
    "        steps = [('c',OneHotEncoder(handle_unknown='ignore'),self.cat_ix), ('n',MinMaxScaler(),self.num_ix)]\n",
    "        # one hot encode categorical, normalize numerical\n",
    "        ct = ColumnTransformer(steps)\n",
    "\n",
    "        start_time = time.time()\n",
    "        dtree = DecisionTreeClassifier(max_depth=self.best_depth, max_leaf_nodes=self.best_leaf_node, random_state=42)\n",
    "        pipe  = Pipeline(steps=[('transformer',ct),('cart',dtree)])\n",
    "        pipe.fit(X_train, y_train)\n",
    "        time_elapsed = (time.time() - start_time)\n",
    "        print(\"---parameter\")\n",
    "        print(f\"best_depth: {self.best_depth}\")\n",
    "        print(f\"best_leaf_node: {self.best_leaf_node}\")\n",
    "        \n",
    "        #Check Accuracy of income prediction in Train and Test Set\n",
    "        print(\"Accuracy, Training Set: {:.2%}\".format(metrics.accuracy_score(y_train, pipe.predict(X_train))))\n",
    "        print(\"Accuracy, Testing Set: {:.2%}\".format(metrics.accuracy_score(y_test, pipe.predict(X_test))))\n",
    "        print(\"Computational time [evaluate_optimal_leaf_nodes]:{}\".format(time_elapsed))\n",
    "        \n",
    "        #Get Performance by Class (Lookup Confusion Matrix)\n",
    "        threshold = 0.5 # set threshold as 0.5\n",
    "        y_pred = (pipe.predict_proba(X_test)[:,1] >= threshold).astype(int)\n",
    "        print(pd.crosstab(y_test, y_pred, margins=True, rownames=['Actual'], colnames=['Predicted']))\n",
    "        \n",
    "        # Confusion Matrix\n",
    "        conf_mat = metrics.confusion_matrix(y_test, y_pred)\n",
    "        print(f\"confusion matrix:\\n {conf_mat}\")\n",
    "\n",
    "# optimal_n_estimators        \n",
    "# ensemble\n",
    "    def find_optimal_n_estimators(self):\n",
    "        print('--optimal n_estimators--')\n",
    "        \n",
    "        ntrees = list(range(25, 201, 25))\n",
    "        print(f\"ntrees: {ntrees}\")\n",
    "        train_scores = []\n",
    "        cvmeans = []\n",
    "        cvstds = []\n",
    "        cv_scores = []\n",
    "        #use stratify for un balanced number of examples for each class label\n",
    "        X_train, X_test, y_train, y_test = train_test_split(self.X, self.y, test_size=0.3,random_state=42,shuffle=True)\n",
    "        steps = [('c',OneHotEncoder(handle_unknown='ignore'),self.cat_ix), ('n',MinMaxScaler(),self.num_ix)]\n",
    "        # one hot encode categorical, normalize numerical\n",
    "        ct = ColumnTransformer(steps)\n",
    "        start_time = time.time()\n",
    "        \n",
    "        for tree in ntrees:\n",
    "            clf  = DecisionTreeClassifier(max_leaf_nodes=self.best_leaf_node,\n",
    "                                       criterion=\"gini\", \n",
    "                                       max_depth=self.best_depth,\n",
    "                                       random_state=42)\n",
    "            \n",
    "            bag = BaggingClassifier(base_estimator=clf,\n",
    "                                    n_estimators=tree,\n",
    "                                    oob_score=True,\n",
    "                                    bootstrap=True,\n",
    "                                    bootstrap_features=False,\n",
    "                                    n_jobs=-1,\n",
    "                                    random_state=42)\n",
    "            \n",
    "            pipe  = Pipeline(steps=[('transformer',ct),('bag',bag)])\n",
    "            # Perform 5-fold cross validation and store results\n",
    "            train_scores.append(pipe.fit(X_train, y_train).score(X_train, y_train))\n",
    "            scores = cross_val_score(estimator=pipe, X=X_train, y=y_train, cv=5)\n",
    "            cvmeans.append(scores.mean())\n",
    "            cvstds.append(scores.std())\n",
    "\n",
    "        cvmeans = np.array(cvmeans)\n",
    "        cvstds = np.array(cvstds)\n",
    "        \n",
    "        time_elapsed = (time.time() - start_time)\n",
    "        print(\"Computational time [optimal_leaf_nodes]:{}\".format(time_elapsed))\n",
    "        \n",
    "        print(\"n_tree --> Training score --> cvmeans\")\n",
    "        for tree, train_score, cvmean in zip(list(ntrees), list(train_scores), list(cvmeans)):\n",
    "            print(f\"({tree} --> {train_score} --> {cvmean})\")\n",
    "    \n",
    "        return ntrees, cvmeans, cvstds, train_scores\n",
    "    \n",
    "    def plot_optimal_n_estimators(self, ntrees, cvmeans, cvstds, train_scores):\n",
    "        from matplotlib.pyplot import figure\n",
    "        figure(num=None, figsize=(15, 6), dpi=70, facecolor='w', edgecolor='k')\n",
    "        # plot means and shade the 2 SD interval\n",
    "        plt.plot(ntrees, cvmeans, '*-', label=\"Mean CV\")\n",
    "        plt.fill_between(ntrees, cvmeans - 2*cvstds, cvmeans + 2*cvstds, alpha=0.3)\n",
    "        ylim = plt.ylim()\n",
    "        plt.plot(ntrees, train_scores, '-+', label=\"Train\")\n",
    "        plt.legend()\n",
    "        plt.ylabel(\"Accuracy\")\n",
    "        plt.xlabel(\"Number of Tree\")\n",
    "        plt.xticks(ntrees);\n",
    "        plt.figure(figsize=(1,1))\n",
    "        \n",
    "if __name__ =='__main__':\n",
    "\n",
    "    df = pd.read_csv(\"./data/adult.csv\")\n",
    "    \n",
    "    #Prepocessing\n",
    "    features = 'age workclass fnlwgt education education-num marital-status occupation relationship race sex capital-gain capital-loss hours-per-week native-country'\n",
    "    target = 'IncomeGroup'\n",
    "    X = df[features.split()]\n",
    "    y = df[target]\n",
    "    # label encode the target variable to have the classes 0 and 1\n",
    "    y = LabelEncoder().fit_transform(y)\n",
    "    \n",
    "    model = Model(X,y)\n",
    "    \n",
    "    #Find optimal depth of trees\n",
    "    depth = model.find_optimal_depth_of_tree()\n",
    "    model.plot_optimal_depth_of_tree(depth)\n",
    "    model.evaluate_optimal_depth_of_tree(depth)\n",
    "    \n",
    "    #Find optimal leaf nodes\n",
    "    leaf_nodes = model.find_optimal_leaf_nodes()\n",
    "    model.plot_optimal_leaf_nodes(leaf_nodes)\n",
    "    model.evaluate_optimal_leaf_nodes(leaf_nodes)\n",
    "    \n",
    "    #Find optimal depth of trees on Xtrain feature set\n",
    "    depths, cvmeans, cvstds, train_scores = model.find_optimal_depth_of_tree_on_Xtrain()\n",
    "    model.plot_optimal_depth_of_tree_on_Xtrain(depths, cvmeans, cvstds, train_scores)\n",
    "    \n",
    "    #Find optimal number of trees on Xtrain feature set\n",
    "    ntrees, cvmeans, cvstds, train_scores = model.find_optimal_n_estimators()\n",
    "    model.plot_optimal_n_estimators(ntrees, cvmeans, cvstds, train_scores)"
   ]
  },
  {
   "cell_type": "markdown",
   "metadata": {},
   "source": [
    "<a id=\"3.3_1\"></a>\n",
    "###### 3.3.1 hardware info"
   ]
  },
  {
   "cell_type": "code",
   "execution_count": null,
   "metadata": {},
   "outputs": [],
   "source": [
    "# Virtual machine size: STANDARD_D1_V2 (1 Cores, 3.5 GB RAM, 50 GB Disk)\n",
    "# Processing Unit: CPU - General purpose\n",
    "# Virtual machine priority: Dedicated\n",
    "# Minimum number of nodes: 1\n",
    "# Maximum number of nodes: 2"
   ]
  },
  {
   "cell_type": "markdown",
   "metadata": {},
   "source": [
    "<a id=\"3_3_2\"></a>\n",
    "###### 3.3.2 Model Training"
   ]
  },
  {
   "cell_type": "code",
   "execution_count": 4,
   "metadata": {
    "gather": {
     "logged": 1608036989177
    }
   },
   "outputs": [
    {
     "name": "stdout",
     "output_type": "stream",
     "text": [
      "/mnt/batch/tasks/shared/LS_root/mounts/clusters/cpu-standardds1v2/code/Users/877159/script\n"
     ]
    }
   ],
   "source": [
    "# Directory to write training script.\n",
    "# Code Directory\n",
    "import os\n",
    "script_folder = os.path.join(os.getcwd(), \"script\")\n",
    "os.makedirs(script_folder, exist_ok=True)\n",
    "print(script_folder)"
   ]
  },
  {
   "cell_type": "code",
   "execution_count": 13,
   "metadata": {
    "nteract": {
     "transient": {
      "deleting": false
     }
    }
   },
   "outputs": [
    {
     "name": "stdout",
     "output_type": "stream",
     "text": [
      "Overwriting /mnt/batch/tasks/shared/LS_root/mounts/clusters/cpu-standardds1v2/code/Users/877159/script/train_depth_of_tree.py\n"
     ]
    }
   ],
   "source": [
    "%%writefile $script_folder/train_depth_of_tree.py\n",
    "\n",
    "# Python libraries \n",
    "import os\n",
    "import time\n",
    "import collections\n",
    "import joblib\n",
    "import pandas as pd\n",
    "import numpy as np\n",
    "\n",
    "from sklearn.preprocessing import LabelEncoder\n",
    "from sklearn.preprocessing import OneHotEncoder\n",
    "from sklearn.preprocessing import MinMaxScaler\n",
    "from sklearn.pipeline import Pipeline\n",
    "from sklearn.compose import ColumnTransformer\n",
    "from sklearn.model_selection import train_test_split\n",
    "from sklearn.model_selection import cross_val_score\n",
    "\n",
    "from sklearn import metrics\n",
    "from sklearn.tree import DecisionTreeClassifier\n",
    "from sklearn.ensemble import BaggingClassifier\n",
    "from azureml.core import Run, Dataset\n",
    "\n",
    "class Model:\n",
    "    def __init__(self, X, y):\n",
    "        self.X = X\n",
    "        self.y = y\n",
    "        self.cat_ix = X.select_dtypes(include=['object', 'bool']).columns\n",
    "        self.num_ix = X.select_dtypes(include=['int64', 'float64']).columns\n",
    "        self.best_depth = 0\n",
    "        self.best_leaf_node = 0\n",
    "        \n",
    "\n",
    "# optimal_depth_of_tree        \n",
    "    def find_optimal_depth_of_tree(self):\n",
    "        print('--optimal depth of tree--')\n",
    "        depths = list(range(3, 41))\n",
    "        depth_result = {}\n",
    "        steps = [('c',OneHotEncoder(handle_unknown='ignore'),self.cat_ix), ('n',MinMaxScaler(),self.num_ix)]\n",
    "        # one hot encode categorical, normalize numerical\n",
    "        ct = ColumnTransformer(steps)\n",
    "        start_time = time.time()\n",
    "        for depth in depths:\n",
    "            dtree = DecisionTreeClassifier(max_depth=depth, random_state=42)\n",
    "            pipe  = Pipeline(steps=[('transformer',ct),('cart',dtree)])\n",
    "            scores = cross_val_score(estimator=pipe, X=self.X, y=self.y, cv=5, n_jobs=-1)\n",
    "            depth_result[depth] = scores.mean()\n",
    "\n",
    "        time_elapsed = (time.time() - start_time)\n",
    "        print(\"Computational time [optimal_depth_of_tree]:{}\".format(time_elapsed))\n",
    "        \n",
    "        return depth_result\n",
    "    \n",
    "    # Perform 5-fold cross-validation to determine what the best max_depth\n",
    "    def find_optimal_depth_of_tree_on_Xtrain(self):\n",
    "        print('--optimal depth of tree on Xtrain feature set--')\n",
    "        depths = list(range(1, 41))\n",
    "        train_scores = []\n",
    "        cvmeans = []\n",
    "        cvstds = []\n",
    "        cv_scores = []\n",
    "        #use stratify for un balanced number of examples for each class label\n",
    "        X_train, X_test, y_train, y_test = train_test_split(self.X, self.y, test_size=0.3,random_state=42,shuffle=True)\n",
    "        steps = [('c',OneHotEncoder(handle_unknown='ignore'),self.cat_ix), ('n',MinMaxScaler(),self.num_ix)]\n",
    "        # one hot encode categorical, normalize numerical\n",
    "        ct = ColumnTransformer(steps)\n",
    "        for depth in depths:\n",
    "            dtree = DecisionTreeClassifier(max_depth=depth, random_state=42)\n",
    "            # wrap the model a pipeline\n",
    "            pipe  = Pipeline(steps=[('transformer',ct),('cart',dtree)])\n",
    "            # Perform 5-fold cross validation and store results\n",
    "            train_scores.append(pipe.fit(X_train, y_train).score(X_train, y_train))\n",
    "            scores = cross_val_score(estimator=pipe, X=X_train, y=y_train, cv=5)\n",
    "            cvmeans.append(scores.mean())\n",
    "            cvstds.append(scores.std())\n",
    "\n",
    "        cvmeans = np.array(cvmeans)\n",
    "        cvstds = np.array(cvstds)\n",
    "        \n",
    "        return depths, cvmeans, cvstds, train_scores\n",
    "    \n",
    "    # Visualize the results with mean & sd across the validation sets\n",
    "    def plot_optimal_depth_of_tree_on_Xtrain(self, depths, cvmeans, cvstds, train_scores, run):\n",
    "        import matplotlib\n",
    "        import matplotlib.pyplot as plt\n",
    "        # from matplotlib.pyplot import figure\n",
    "        # figure(num=None, figsize=(12, 6), dpi=80, facecolor='w', edgecolor='k')\n",
    "        plt.plot(depths, cvmeans, '*-', label=\"Mean CV\")\n",
    "        plt.fill_between(depths, cvmeans - 2*cvstds, cvmeans + 2*cvstds, alpha=0.3)\n",
    "        ylim = plt.ylim()\n",
    "        plt.plot(depths, train_scores, '-+', label=\"Train\")\n",
    "        plt.legend()\n",
    "        plt.ylabel(\"Accuracy\")\n",
    "        plt.xlabel(\"Max Depth\")\n",
    "        plt.xticks(depths);\n",
    "        plt.show()\n",
    "        run.log_image('depth_X', plot=plt)\n",
    "    \n",
    "    def evaluate_optimal_depth_of_tree(self, depth):\n",
    "        # To find the optimal depth \n",
    "        print(depth.items())\n",
    "        self.best_depth = sorted(depth, key=depth.get, reverse=True)[0]\n",
    "        print(\"The best depth was found to be:\", self.best_depth)\n",
    "        \n",
    "        #use stratify for un balanced number of examples for each class label\n",
    "        X_train, X_test, y_train, y_test = train_test_split(self.X, self.y, test_size=0.3,random_state=42,shuffle=True)\n",
    "        steps = [('c',OneHotEncoder(handle_unknown='ignore'),self.cat_ix), ('n',MinMaxScaler(),self.num_ix)]\n",
    "        # one hot encode categorical, normalize numerical\n",
    "        ct = ColumnTransformer(steps)\n",
    "\n",
    "        start_time = time.time()\n",
    "        dtree = DecisionTreeClassifier(max_depth=self.best_depth, random_state=42)\n",
    "        pipe  = Pipeline(steps=[('transformer',ct),('cart',dtree)])\n",
    "        pipe.fit(X_train, y_train)\n",
    "        time_elapsed = (time.time() - start_time)\n",
    "        \n",
    "        #Check Accuracy of income prediction in Train and Test Set\n",
    "        print(\"Accuracy, Training Set: {:.2%}\".format(metrics.accuracy_score(y_train, pipe.predict(X_train))))\n",
    "        print(\"Accuracy, Testing Set: {:.2%}\".format(metrics.accuracy_score(y_test, pipe.predict(X_test))))\n",
    "        print(\"Computational time [evaluate_depth_of_tree]:{}\".format(time_elapsed))\n",
    "        \n",
    "        #Get Performance by Class (Lookup Confusion Matrix)\n",
    "        threshold = 0.5 # set threshold as 0.5\n",
    "        y_pred = (pipe.predict_proba(X_test)[:,1] >= threshold).astype(int)\n",
    "        print(pd.crosstab(y_test, y_pred, margins=True, rownames=['Actual'], colnames=['Predicted']))\n",
    "        \n",
    "        # Confusion Matrix\n",
    "        conf_mat = metrics.confusion_matrix(y_test, y_pred)\n",
    "        run.log('conf_mat:', conf_mat)\n",
    "        print(f\"confusion matrix:\\n {conf_mat}\")\n",
    "        \n",
    "    def plot_optimal_depth_of_tree(self, depth, run):\n",
    "        import matplotlib\n",
    "        import matplotlib.pyplot as plt\n",
    "        lists = sorted(depth.items())\n",
    "        x, y = zip(*lists) \n",
    "        plt.ylabel(\"Cross Validation Accuracy\")\n",
    "        plt.xlabel(\"Maximum Depth\")\n",
    "        plt.title('Variation of Accuracy with Depth')\n",
    "        plt.plot(x, y, 'b-', marker='o')\n",
    "        plt.show()\n",
    "        run.log_image('depth', plot=plt)\n",
    "\n",
    "        \n",
    "if __name__ =='__main__':\n",
    "    os.makedirs('outputs', exist_ok=True)\n",
    "    run = Run.get_context()\n",
    "\n",
    "    dataset_name = 'adult-dataset'\n",
    "    print(\"Loading data from \" + dataset_name)\n",
    "    df = Dataset.get_by_name(workspace=run.experiment.workspace, name=dataset_name).to_pandas_dataframe()\n",
    "\n",
    "    #Prepocessing\n",
    "    features = 'age workclass fnlwgt education education-num marital-status occupation relationship race sex capital-gain capital-loss hours-per-week native-country'\n",
    "    target = 'IncomeGroup'\n",
    "    X = df[features.split()]\n",
    "    y = df[target]\n",
    "    # label encode the target variable to have the classes 0 and 1\n",
    "    y = LabelEncoder().fit_transform(y)\n",
    "    \n",
    "    model = Model(X,y)\n",
    "    \n",
    "    #Find optimal depth of trees\n",
    "    \n",
    "    depth = model.find_optimal_depth_of_tree()\n",
    "    #model.plot_optimal_depth_of_tree(depth,run)\n",
    "    model.evaluate_optimal_depth_of_tree(depth)\n",
    "    \n",
    "    #Find optimal depth of trees on Xtrain feature set\n",
    "    depths, cvmeans, cvstds, train_scores = model.find_optimal_depth_of_tree_on_Xtrain()\n",
    "    model.plot_optimal_depth_of_tree_on_Xtrain(depths, cvmeans, cvstds, train_scores,run)\n",
    "\n",
    "    "
   ]
  },
  {
   "cell_type": "code",
   "execution_count": 15,
   "metadata": {
    "nteract": {
     "transient": {
      "deleting": false
     }
    }
   },
   "outputs": [
    {
     "name": "stdout",
     "output_type": "stream",
     "text": [
      "Writing /mnt/batch/tasks/shared/LS_root/mounts/clusters/cpu-standardds1v2/code/Users/877159/script/train_leaf_nodes.py\n"
     ]
    }
   ],
   "source": [
    "%%writefile $script_folder/train_leaf_nodes.py\n",
    "\n",
    "# Python libraries \n",
    "import os\n",
    "import time\n",
    "import collections\n",
    "import joblib\n",
    "import pandas as pd\n",
    "import numpy as np\n",
    "\n",
    "from sklearn.preprocessing import LabelEncoder\n",
    "from sklearn.preprocessing import OneHotEncoder\n",
    "from sklearn.preprocessing import MinMaxScaler\n",
    "from sklearn.pipeline import Pipeline\n",
    "from sklearn.compose import ColumnTransformer\n",
    "from sklearn.model_selection import train_test_split\n",
    "from sklearn.model_selection import cross_val_score\n",
    "\n",
    "from sklearn import metrics\n",
    "from sklearn.tree import DecisionTreeClassifier\n",
    "from sklearn.ensemble import BaggingClassifier\n",
    "from azureml.core import Run, Dataset\n",
    "\n",
    "class Model:\n",
    "    def __init__(self, X, y):\n",
    "        self.X = X\n",
    "        self.y = y\n",
    "        self.cat_ix = X.select_dtypes(include=['object', 'bool']).columns\n",
    "        self.num_ix = X.select_dtypes(include=['int64', 'float64']).columns\n",
    "\n",
    "# optimal_leaf_nodes    \n",
    "    def find_optimal_leaf_nodes(self, best_depth):\n",
    "        print('--optimal leaf nodes--')\n",
    "        #Find optimal leaf nodes\n",
    "        leaf_nodes = list(range(3, 41))\n",
    "        leaf_nodes_result = {}\n",
    "        steps = [('c',OneHotEncoder(handle_unknown='ignore'),self.cat_ix), ('n',MinMaxScaler(),self.num_ix)]\n",
    "        # one hot encode categorical, normalize numerical\n",
    "        ct = ColumnTransformer(steps)\n",
    "        start_time = time.time()\n",
    "        for leaf_node in leaf_nodes:\n",
    "            dtree = DecisionTreeClassifier(max_depth=best_depth, max_leaf_nodes=leaf_node,random_state=42)\n",
    "            pipe  = Pipeline(steps=[('transformer',ct),('cart',dtree)])\n",
    "            scores = cross_val_score(estimator=pipe, X=self.X, y=self.y, cv=5, n_jobs=-1)\n",
    "            leaf_nodes_result[leaf_node] = scores.mean()\n",
    "        \n",
    "        time_elapsed = (time.time() - start_time)\n",
    "        print(\"Computational time [optimal_leaf_nodes]:{}\".format(time_elapsed))\n",
    "        return leaf_nodes_result\n",
    "    \n",
    "    def plot_optimal_leaf_nodes(self, leaf_nodes, run):\n",
    "        import matplotlib\n",
    "        import matplotlib.pyplot as plt\n",
    "        lists = sorted(leaf_nodes.items())\n",
    "        x, y = zip(*lists) \n",
    "        plt.ylabel(\"Cross Validation Accuracy\")\n",
    "        plt.xlabel(\"Maximum leaf nodes\")\n",
    "        plt.title('Variation of Accuracy with leaf nodes')\n",
    "        plt.plot(x, y, 'b-', marker='o')\n",
    "        plt.show()\n",
    "        run.log_image('nodes', plot=plt)\n",
    "        \n",
    "        \n",
    "    def evaluate_optimal_leaf_nodes(self, leaf_nodes,best_depth):\n",
    "        # To find the optimal leaf node \n",
    "        print(leaf_nodes.items())\n",
    "        best_leaf_node = sorted(leaf_nodes, key=leaf_nodes.get, reverse=True)[0]\n",
    "        print(\"The best leaf node was found to be:\", best_leaf_node)\n",
    "        \n",
    "        #use stratify for un balanced number of examples for each class label\n",
    "        X_train, X_test, y_train, y_test = train_test_split(self.X, self.y, test_size=0.3,random_state=42,shuffle=True)\n",
    "        steps = [('c',OneHotEncoder(handle_unknown='ignore'),self.cat_ix), ('n',MinMaxScaler(),self.num_ix)]\n",
    "        # one hot encode categorical, normalize numerical\n",
    "        ct = ColumnTransformer(steps)\n",
    "\n",
    "        start_time = time.time()\n",
    "        dtree = DecisionTreeClassifier(max_depth=best_depth, max_leaf_nodes=best_leaf_node, random_state=42)\n",
    "        pipe  = Pipeline(steps=[('transformer',ct),('cart',dtree)])\n",
    "        pipe.fit(X_train, y_train)\n",
    "        time_elapsed = (time.time() - start_time)\n",
    "        print(\"---parameter\")\n",
    "        print(f\"best_depth: {best_depth}\")\n",
    "        print(f\"best_leaf_node: {best_leaf_node}\")\n",
    "        \n",
    "        #Check Accuracy of income prediction in Train and Test Set\n",
    "        print(\"Accuracy, Training Set: {:.2%}\".format(metrics.accuracy_score(y_train, pipe.predict(X_train))))\n",
    "        print(\"Accuracy, Testing Set: {:.2%}\".format(metrics.accuracy_score(y_test, pipe.predict(X_test))))\n",
    "        print(\"Computational time [evaluate_optimal_leaf_nodes]:{}\".format(time_elapsed))\n",
    "        \n",
    "        #Get Performance by Class (Lookup Confusion Matrix)\n",
    "        threshold = 0.5 # set threshold as 0.5\n",
    "        y_pred = (pipe.predict_proba(X_test)[:,1] >= threshold).astype(int)\n",
    "        print(pd.crosstab(y_test, y_pred, margins=True, rownames=['Actual'], colnames=['Predicted']))\n",
    "        \n",
    "        # Confusion Matrix\n",
    "        conf_mat = metrics.confusion_matrix(y_test, y_pred)\n",
    "        print(f\"confusion matrix:\\n {conf_mat}\")\n",
    "\n",
    "\n",
    "        \n",
    "if __name__ =='__main__':\n",
    "    os.makedirs('outputs', exist_ok=True)\n",
    "    run = Run.get_context()\n",
    "\n",
    "    dataset_name = 'adult-dataset'\n",
    "    print(\"Loading data from \" + dataset_name)\n",
    "    df = Dataset.get_by_name(workspace=run.experiment.workspace, name=dataset_name).to_pandas_dataframe()\n",
    "\n",
    "    #Prepocessing\n",
    "    features = 'age workclass fnlwgt education education-num marital-status occupation relationship race sex capital-gain capital-loss hours-per-week native-country'\n",
    "    target = 'IncomeGroup'\n",
    "    X = df[features.split()]\n",
    "    y = df[target]\n",
    "    # label encode the target variable to have the classes 0 and 1\n",
    "    y = LabelEncoder().fit_transform(y)\n",
    "    \n",
    "    model = Model(X,y)\n",
    "    \n",
    "    #Find optimal leaf nodes\n",
    "    best_depth = 10\n",
    "    leaf_nodes = model.find_optimal_leaf_nodes(best_depth)\n",
    "    model.plot_optimal_leaf_nodes(leaf_nodes,run)\n",
    "    model.evaluate_optimal_leaf_nodes(leaf_nodes,best_depth)"
   ]
  },
  {
   "cell_type": "code",
   "execution_count": 17,
   "metadata": {
    "nteract": {
     "transient": {
      "deleting": false
     }
    }
   },
   "outputs": [
    {
     "name": "stdout",
     "output_type": "stream",
     "text": [
      "Writing /mnt/batch/tasks/shared/LS_root/mounts/clusters/cpu-standardds1v2/code/Users/877159/script/train_n_estimators.py\n"
     ]
    }
   ],
   "source": [
    "%%writefile $script_folder/train_n_estimators.py\n",
    "\n",
    "# Python libraries \n",
    "import os\n",
    "import time\n",
    "import collections\n",
    "import joblib\n",
    "import pandas as pd\n",
    "import numpy as np\n",
    "\n",
    "from sklearn.preprocessing import LabelEncoder\n",
    "from sklearn.preprocessing import OneHotEncoder\n",
    "from sklearn.preprocessing import MinMaxScaler\n",
    "from sklearn.pipeline import Pipeline\n",
    "from sklearn.compose import ColumnTransformer\n",
    "from sklearn.model_selection import train_test_split\n",
    "from sklearn.model_selection import cross_val_score\n",
    "\n",
    "from sklearn import metrics\n",
    "from sklearn.tree import DecisionTreeClassifier\n",
    "from sklearn.ensemble import BaggingClassifier\n",
    "from azureml.core import Run, Dataset\n",
    "\n",
    "class Model:\n",
    "    def __init__(self, X, y):\n",
    "        self.X = X\n",
    "        self.y = y\n",
    "        self.cat_ix = X.select_dtypes(include=['object', 'bool']).columns\n",
    "        self.num_ix = X.select_dtypes(include=['int64', 'float64']).columns\n",
    "\n",
    "# optimal_n_estimators        \n",
    "# ensemble\n",
    "    def find_optimal_n_estimators(self, best_depth, best_leaf_node):\n",
    "        print('--optimal n_estimators--')\n",
    "        \n",
    "        ntrees = list(range(25, 201, 25))\n",
    "        print(f\"ntrees: {ntrees}\")\n",
    "        train_scores = []\n",
    "        cvmeans = []\n",
    "        cvstds = []\n",
    "        cv_scores = []\n",
    "        #use stratify for un balanced number of examples for each class label\n",
    "        X_train, X_test, y_train, y_test = train_test_split(self.X, self.y, test_size=0.3,random_state=42,shuffle=True)\n",
    "        steps = [('c',OneHotEncoder(handle_unknown='ignore'),self.cat_ix), ('n',MinMaxScaler(),self.num_ix)]\n",
    "        # one hot encode categorical, normalize numerical\n",
    "        ct = ColumnTransformer(steps)\n",
    "        start_time = time.time()\n",
    "        \n",
    "        for tree in ntrees:\n",
    "            clf  = DecisionTreeClassifier(max_leaf_nodes=best_leaf_node,\n",
    "                                       criterion=\"gini\", \n",
    "                                       max_depth=best_depth,\n",
    "                                       random_state=42)\n",
    "            \n",
    "            bag = BaggingClassifier(base_estimator=clf,\n",
    "                                    n_estimators=tree,\n",
    "                                    oob_score=True,\n",
    "                                    bootstrap=True,\n",
    "                                    bootstrap_features=False,\n",
    "                                    n_jobs=-1,\n",
    "                                    random_state=42)\n",
    "            \n",
    "            pipe  = Pipeline(steps=[('transformer',ct),('bag',bag)])\n",
    "            # Perform 5-fold cross validation and store results\n",
    "            train_scores.append(pipe.fit(X_train, y_train).score(X_train, y_train))\n",
    "            scores = cross_val_score(estimator=pipe, X=X_train, y=y_train, cv=5)\n",
    "            cvmeans.append(scores.mean())\n",
    "            cvstds.append(scores.std())\n",
    "\n",
    "        cvmeans = np.array(cvmeans)\n",
    "        cvstds = np.array(cvstds)\n",
    "        \n",
    "        time_elapsed = (time.time() - start_time)\n",
    "        print(\"Computational time [optimal_leaf_nodes]:{}\".format(time_elapsed))\n",
    "        \n",
    "        print(\"n_tree --> Training score --> cvmeans\")\n",
    "        for tree, train_score, cvmean in zip(list(ntrees), list(train_scores), list(cvmeans)):\n",
    "            print(f\"({tree} --> {train_score} --> {cvmean})\")\n",
    "    \n",
    "        return ntrees, cvmeans, cvstds, train_scores\n",
    "    \n",
    "    def plot_optimal_n_estimators(self, ntrees, cvmeans, cvstds, train_scores, run):\n",
    "        import matplotlib\n",
    "        import matplotlib.pyplot as plt\n",
    "        from matplotlib.pyplot import figure\n",
    "        figure(num=None, figsize=(15, 6), dpi=70, facecolor='w', edgecolor='k')\n",
    "        # plot means and shade the 2 SD interval\n",
    "        plt.plot(ntrees, cvmeans, '*-', label=\"Mean CV\")\n",
    "        plt.fill_between(ntrees, cvmeans - 2*cvstds, cvmeans + 2*cvstds, alpha=0.3)\n",
    "        ylim = plt.ylim()\n",
    "        plt.plot(ntrees, train_scores, '-+', label=\"Train\")\n",
    "        plt.legend()\n",
    "        plt.ylabel(\"Accuracy\")\n",
    "        plt.xlabel(\"Number of Tree\")\n",
    "        plt.xticks(ntrees);\n",
    "        plt.show()\n",
    "        # plt.figure(figsize=(1,1))\n",
    "        run.log_image('n_estimator', plot=plt)\n",
    "  \n",
    "\n",
    "        \n",
    "if __name__ =='__main__':\n",
    "    os.makedirs('outputs', exist_ok=True)\n",
    "    run = Run.get_context()\n",
    "\n",
    "    dataset_name = 'adult-dataset'\n",
    "    print(\"Loading data from \" + dataset_name)\n",
    "    df = Dataset.get_by_name(workspace=run.experiment.workspace, name=dataset_name).to_pandas_dataframe()\n",
    "\n",
    "    #Prepocessing\n",
    "    features = 'age workclass fnlwgt education education-num marital-status occupation relationship race sex capital-gain capital-loss hours-per-week native-country'\n",
    "    target = 'IncomeGroup'\n",
    "    X = df[features.split()]\n",
    "    y = df[target]\n",
    "    # label encode the target variable to have the classes 0 and 1\n",
    "    y = LabelEncoder().fit_transform(y)\n",
    "    \n",
    "    model = Model(X,y)\n",
    "    \n",
    "    #Find optimal leaf nodes\n",
    "    best_depth = 10\n",
    "    best_leaf_node = 39\n",
    "    \n",
    "    #Find optimal number of trees on Xtrain feature set\n",
    "    ntrees, cvmeans, cvstds, train_scores = model.find_optimal_n_estimators(best_depth, best_leaf_node)\n",
    "    model.plot_optimal_n_estimators(ntrees, cvmeans, cvstds, train_scores,run)\n",
    "    "
   ]
  },
  {
   "cell_type": "code",
   "execution_count": 6,
   "metadata": {
    "gather": {
     "logged": 1608037035461
    },
    "nteract": {
     "transient": {
      "deleting": false
     }
    }
   },
   "outputs": [
    {
     "name": "stdout",
     "output_type": "stream",
     "text": [
      "Experiment: Exp-3\n"
     ]
    }
   ],
   "source": [
    "# Initialize an Experiment.\n",
    "experiment_name = 'Exp-3'\n",
    "\n",
    "from azureml.core import Experiment\n",
    "experiment = Experiment(workspace=ws, name=experiment_name)\n",
    "print(f\"Experiment: {experiment.name}\")"
   ]
  },
  {
   "cell_type": "code",
   "execution_count": 7,
   "metadata": {
    "gather": {
     "logged": 1608037051785
    },
    "nteract": {
     "transient": {
      "deleting": false
     }
    }
   },
   "outputs": [
    {
     "name": "stdout",
     "output_type": "stream",
     "text": [
      "AzureBlob univeworstorage40e96b128 azureml-blobstore-d833ba34-357e-43c7-92fa-4a004756f306\n",
      "adult-dataset\n"
     ]
    }
   ],
   "source": [
    "# Initialize dataset\n",
    "from azureml.core import Dataset\n",
    "\n",
    "ds = ws.get_default_datastore()\n",
    "print(ds.datastore_type, ds.account_name, ds.container_name)\n",
    "\n",
    "#Create a tabular dataset from the path on the datastore (this may take a short while)\n",
    "data_set = Dataset.Tabular.from_delimited_files(path=(ds, 'adults-data/adult.csv'))\n",
    "\n",
    "# Register the dataset\n",
    "dataset_name = 'adult-dataset'\n",
    "data_set = data_set.register(workspace=ws, \n",
    "                           name=dataset_name,\n",
    "                           description='UCI Adult \"Census Income\" dataset',\n",
    "                           tags = {'Number of Instances':'45222',\n",
    "                                   'Number of Attributes':'14'},\n",
    "                           create_new_version=True)\n",
    "\n",
    "# List the datasets registered in the workspace\n",
    "for ds in ws.datasets:\n",
    "    print(ds)\n"
   ]
  },
  {
   "cell_type": "code",
   "execution_count": 8,
   "metadata": {
    "gather": {
     "logged": 1608037060741
    },
    "nteract": {
     "transient": {
      "deleting": false
     }
    }
   },
   "outputs": [
    {
     "name": "stdout",
     "output_type": "stream",
     "text": [
      "AzureML-Scikit-learn-0.20.3 packages: # Conda environment specification. The dependencies defined in this file will\n",
      "# be automatically provisioned for runs with userManagedDependencies=False.\n",
      "\n",
      "# Details about the Conda environment file format:\n",
      "# https://conda.io/docs/user-guide/tasks/manage-environments.html#create-env-file-manually\n",
      "\n",
      "name: project_environment\n",
      "dependencies:\n",
      "  # The python interpreter version.\n",
      "  # Currently Azure ML only supports 3.5.2 and later.\n",
      "- python=3.6.2\n",
      "\n",
      "- pip:\n",
      "  - azureml-sdk~=1.19.0\n",
      "  - argparse\n",
      "  - pyarrow\n",
      "  - watermark\n",
      "- pandas\n",
      "- numpy\n",
      "- scikit-learn\n",
      "- joblib\n",
      "- ipykernel\n",
      "- matplotlib\n",
      "- lightgbm\n",
      "channels:\n",
      "- anaconda\n",
      "- conda-forge\n",
      "\n"
     ]
    }
   ],
   "source": [
    "## Create environment\n",
    "# These environments are backed by cached Docker images which reduces the run preparation cost.\n",
    "\n",
    "from azureml.core import Environment\n",
    "from azureml.core.conda_dependencies import CondaDependencies\n",
    "\n",
    "# select sklearn Python environment\n",
    "env = Environment(\"azml-Scikitlearn-env\")\n",
    "# Create a set of package dependencies (conda or pip as required)\n",
    "conda_dep =  CondaDependencies.create(conda_packages=['pandas','numpy','scikit-learn','joblib','ipykernel','matplotlib','lightgbm'],\n",
    "                                          pip_packages=['azureml-sdk','argparse','pyarrow','watermark'])\n",
    "\n",
    "\n",
    "# Adds dependencies to PythonSection of env\n",
    "env.python.conda_dependencies=conda_dep\n",
    "env.register(workspace=ws)\n",
    "\n",
    "print(\"AzureML-Scikit-learn-0.20.3 packages:\", env.python.conda_dependencies.serialize_to_string())"
   ]
  },
  {
   "cell_type": "code",
   "execution_count": 9,
   "metadata": {
    "gather": {
     "logged": 1608037067668
    },
    "nteract": {
     "transient": {
      "deleting": false
     }
    }
   },
   "outputs": [
    {
     "name": "stdout",
     "output_type": "stream",
     "text": [
      "found compute target: cpu-cluster\n",
      "Cluster: AmlCompute(workspace=Workspace.create(name='unive-workspace', subscription_id='79dab02c-2ae9-417c-ab9d-ca9bdf3a29c5', resource_group='unive-resource-group'), name=cpu-cluster, id=/subscriptions/79dab02c-2ae9-417c-ab9d-ca9bdf3a29c5/resourceGroups/unive-resource-group/providers/Microsoft.MachineLearningServices/workspaces/unive-workspace/computes/cpu-cluster, type=AmlCompute, provisioning_state=Succeeded, location=westeurope, tags=None)\n"
     ]
    }
   ],
   "source": [
    "from azureml.core.compute import AmlCompute\n",
    "\n",
    "cluster = None\n",
    "for compute_name  in ws.compute_targets:\n",
    "    cluster = ws.compute_targets[compute_name]\n",
    "    if cluster and type(cluster) is AmlCompute:\n",
    "        print(\"found compute target: \" + compute_name)\n",
    "        break\n",
    "\n",
    "print(f\"Cluster: {cluster}\")"
   ]
  },
  {
   "cell_type": "code",
   "execution_count": 18,
   "metadata": {
    "gather": {
     "logged": 1608041632835
    },
    "nteract": {
     "transient": {
      "deleting": false
     }
    },
    "scrolled": true
   },
   "outputs": [
    {
     "data": {
      "text/html": [
       "<table style=\"width:100%\"><tr><th>Experiment</th><th>Id</th><th>Type</th><th>Status</th><th>Details Page</th><th>Docs Page</th></tr><tr><td>Exp-3</td><td>Exp-3_1608041628_642df8ef</td><td>azureml.scriptrun</td><td>Starting</td><td><a href=\"https://ml.azure.com/experiments/Exp-3/runs/Exp-3_1608041628_642df8ef?wsid=/subscriptions/79dab02c-2ae9-417c-ab9d-ca9bdf3a29c5/resourcegroups/unive-resource-group/workspaces/unive-workspace\" target=\"_blank\" rel=\"noopener\">Link to Azure Machine Learning studio</a></td><td><a href=\"https://docs.microsoft.com/en-us/python/api/azureml-core/azureml.core.script_run.ScriptRun?view=azure-ml-py\" target=\"_blank\" rel=\"noopener\">Link to Documentation</a></td></tr></table>"
      ],
      "text/plain": [
       "Run(Experiment: Exp-3,\n",
       "Id: Exp-3_1608041628_642df8ef,\n",
       "Type: azureml.scriptrun,\n",
       "Status: Starting)"
      ]
     },
     "execution_count": 18,
     "metadata": {},
     "output_type": "execute_result"
    }
   ],
   "source": [
    "from azureml.core.compute import AmlCompute\n",
    "from azureml.core import ScriptRunConfig, Experiment\n",
    "\n",
    "# retrieve an environment\n",
    "env = Environment.get(ws, name=env.name)\n",
    "\n",
    "# load an experiment\n",
    "experiment = Experiment(ws, experiment_name)\n",
    "\n",
    "# retrieve a compute target\n",
    "cluster = ws.compute_targets['cpu-cluster']\n",
    "\n",
    "# configure and submit your training run\n",
    "config = ScriptRunConfig(source_directory=script_folder,\n",
    "                         command=['python', 'train_n_estimators.py'],\n",
    "                         compute_target=cluster,\n",
    "                         environment=env)\n",
    "\n",
    "script_run = experiment.submit(config)\n",
    "script_run"
   ]
  },
  {
   "cell_type": "code",
   "execution_count": null,
   "metadata": {},
   "outputs": [],
   "source": [
    "# Results\n",
    "\n",
    "The best depth was found to be: 10\n",
    "Accuracy, Training Set: 86.60%\n",
    "Accuracy, Testing Set: 85.63%\n",
    "    \n",
    "confusion matrix:\n",
    " [[9596  597]\n",
    " [1359 2015]]\n",
    "\n",
    "best_depth: 10\n",
    "best_leaf_node: 39\n",
    "Accuracy, Training Set: 85.64%\n",
    "Accuracy, Testing Set: 85.81%\n",
    "\n",
    "confusion matrix:\n",
    " [[9671  522]\n",
    " [1403 1971]]\n",
    "\n",
    "n_tree --> Training score --> cvmeans\n",
    "(25 --> 0.8588216711419997 --> 0.8560101089875216)\n",
    "(50 --> 0.8590743958300426 --> 0.8565155583636075)\n",
    "(75 --> 0.8591375770020534 --> 0.8560101089875216)\n",
    "(100 --> 0.8589796240720265 --> 0.8561996525035539)\n",
    "(125 --> 0.8589164429000158 --> 0.8562628336755648)\n",
    "(150 --> 0.8590428052440373 --> 0.8564207866055916)\n",
    "(175 --> 0.8589164429000158 --> 0.8562628336755648)\n",
    "(200 --> 0.8590112146580319 --> 0.8562312430895593)\n",
    "\n",
    "\n",
    "    "
   ]
  },
  {
   "cell_type": "markdown",
   "metadata": {},
   "source": [
    "<a id=\"3_4\"></a>\n",
    "##### 3.4 Train Model on IBM runtime environment hardware \n",
    "\n",
    "- 3.4.1 [hardware info](#3_4_1)\n",
    "- 3.4.2 [Model Training](#3_4_2)\n",
    "        "
   ]
  },
  {
   "cell_type": "markdown",
   "metadata": {},
   "source": [
    "<a id=\"3_4_1\"></a>\n",
    "###### hardware info"
   ]
  },
  {
   "cell_type": "code",
   "execution_count": 8,
   "metadata": {},
   "outputs": [
    {
     "name": "stdout",
     "output_type": "stream",
     "text": [
      "Author: IBM Watson Studio\n",
      "\n",
      "Last updated: 2020-12-16\n",
      "\n",
      "Compiler    : GCC 7.3.0\n",
      "OS          : Linux\n",
      "Release     : 4.4.0-194-generic\n",
      "Machine     : x86_64\n",
      "Processor   : x86_64\n",
      "CPU cores   : 56\n",
      "Architecture: 64bit\n",
      "\n",
      "Hostname: notebook-conda2py3739bfc4b24a4143d1b5502cd9a51e97ed-dd4948nxxzp\n",
      "\n"
     ]
    }
   ],
   "source": [
    "#! pip install watermark\n",
    "%reload_ext watermark\n",
    "%watermark  -d -u -h -m -a \"IBM Watson Studio\""
   ]
  },
  {
   "cell_type": "markdown",
   "metadata": {},
   "source": [
    "<a id=\"3_4_2\"></a>\n",
    "###### Model Training"
   ]
  },
  {
   "cell_type": "code",
   "execution_count": 4,
   "metadata": {},
   "outputs": [
    {
     "name": "stdout",
     "output_type": "stream",
     "text": [
      "df.shape:(45222, 15)\n",
      "--optimal depth of tree--\n",
      "Computational time [optimal_depth_of_tree]:156.83328413963318\n"
     ]
    },
    {
     "data": {
      "image/png": "[encoded data removed]",
      "text/plain": [
       "<Figure size 432x288 with 1 Axes>"
      ]
     },
     "metadata": {
      "needs_background": "light"
     },
     "output_type": "display_data"
    },
    {
     "name": "stdout",
     "output_type": "stream",
     "text": [
      "dict_items([(3, 0.8389722697143795), (4, 0.8390164808176914), (5, 0.8445889819661826), (6, 0.850161473335079), (7, 0.8504047309767933), (8, 0.8521957977570009), (9, 0.8541418955641958), (10, 0.8545399446328238), (11, 0.8536553607215775), (12, 0.850802733592346), (13, 0.8486798793882571), (14, 0.8476405871766529), (15, 0.8451859993364546), (16, 0.8436159416197307), (17, 0.8397903670501978), (18, 0.8366945238425301), (19, 0.835411937315731), (20, 0.8310777260192722), (21, 0.8282914289919512), (22, 0.8258590090483257), (23, 0.826610837404701), (24, 0.8237362648646783), (25, 0.821392181556222), (26, 0.8211489141349129), (27, 0.8202644475788047), (28, 0.8184512422408083), (29, 0.8169695627225316), (30, 0.8159081441776328), (31, 0.8139843193976553), (32, 0.8132324837065837), (33, 0.8119499925308343), (34, 0.8122816454852867), (35, 0.8119941962994502), (36, 0.8101589110812343), (37, 0.8104905591458893), (38, 0.810070410637852), (39, 0.8098934830980486), (40, 0.8096059996836301)])\n",
      "The best depth was found to be: 10\n",
      "Accuracy, Training Set: 86.60%\n",
      "Accuracy, Testing Set: 85.63%\n",
      "Computational time [evaluate_depth_of_tree]:0.4456632137298584\n",
      "Predicted      0     1    All\n",
      "Actual                       \n",
      "0           9596   597  10193\n",
      "1           1359  2015   3374\n",
      "All        10955  2612  13567\n",
      "confusion matrix:\n",
      " [[9596  597]\n",
      " [1359 2015]]\n",
      "--optimal leaf nodes--\n",
      "Computational time [optimal_leaf_nodes]:45.51190948486328\n"
     ]
    },
    {
     "data": {
      "image/png": "[encoded data removed]",
      "text/plain": [
       "<Figure size 432x288 with 1 Axes>"
      ]
     },
     "metadata": {
      "needs_background": "light"
     },
     "output_type": "display_data"
    },
    {
     "name": "stdout",
     "output_type": "stream",
     "text": [
      "dict_items([(3, 0.814647798894368), (4, 0.8238911002997691), (5, 0.8389722697143795), (6, 0.8389722697143795), (7, 0.8415596204441451), (8, 0.8435497508770462), (9, 0.8438814258355869), (10, 0.8438814258355869), (11, 0.8444121277733402), (12, 0.84531878423011), (13, 0.8453408958940127), (14, 0.8454734803059741), (15, 0.8459378765908039), (16, 0.8464022630960388), (17, 0.8469771883615976), (18, 0.8472867858848174), (19, 0.847684812949357), (20, 0.8492106864566548), (21, 0.8492106864566548), (22, 0.8501836192275636), (23, 0.8507364254945236), (24, 0.8508912046969439), (25, 0.851112328670667), (26, 0.8514218895204063), (27, 0.8519526232418426), (28, 0.8513113849886642), (29, 0.8514440500822831), (30, 0.8514440549720804), (31, 0.8520632182348369), (32, 0.8520632182348369), (33, 0.8520853396783344), (34, 0.8523728230927528), (35, 0.852770845267495), (36, 0.853390006085353), (37, 0.8534342269682597), (38, 0.853566911621068), (39, 0.8538322515879007), (40, 0.8536111202794812)])\n",
      "The best leaf node was found to be: 39\n",
      "---parameter\n",
      "best_depth: 10\n",
      "best_leaf_node: 39\n",
      "Accuracy, Training Set: 85.64%\n",
      "Accuracy, Testing Set: 85.81%\n",
      "Computational time [evaluate_optimal_leaf_nodes]:0.3066294193267822\n",
      "Predicted      0     1    All\n",
      "Actual                       \n",
      "0           9671   522  10193\n",
      "1           1403  1971   3374\n",
      "All        11074  2493  13567\n",
      "confusion matrix:\n",
      " [[9671  522]\n",
      " [1403 1971]]\n",
      "--optimal depth of tree on Xtrain feature set--\n",
      "Computational time [optimal depth of tree on Xtrain]:202.50372052192688\n",
      "--optimal n_estimators--\n",
      "ntrees: [25, 50, 75, 100, 125, 150, 175, 200]\n",
      "Computational time [optimal_leaf_nodes]:423.41325402259827\n",
      "n_tree --> Training score --> cvmeans\n",
      "(25 --> 0.8588216711419997 --> 0.8560101089875216)\n",
      "(50 --> 0.8590743958300426 --> 0.8565155583636075)\n",
      "(75 --> 0.8591375770020534 --> 0.8560101089875216)\n",
      "(100 --> 0.8589796240720265 --> 0.8561996525035539)\n",
      "(125 --> 0.8589164429000158 --> 0.8562628336755648)\n",
      "(150 --> 0.8590428052440373 --> 0.8564207866055916)\n",
      "(175 --> 0.8589164429000158 --> 0.8562628336755648)\n",
      "(200 --> 0.8590112146580319 --> 0.8562312430895593)\n"
     ]
    },
    {
     "data": {
      "image/png": "[encoded data removed]",
      "text/plain": [
       "<Figure size 960x480 with 1 Axes>"
      ]
     },
     "metadata": {},
     "output_type": "display_data"
    },
    {
     "data": {
      "text/plain": [
       "<Figure size 72x72 with 0 Axes>"
      ]
     },
     "metadata": {},
     "output_type": "display_data"
    },
    {
     "data": {
      "image/png": "[encoded data removed]",
      "text/plain": [
       "<Figure size 1050x420 with 1 Axes>"
      ]
     },
     "metadata": {},
     "output_type": "display_data"
    },
    {
     "data": {
      "text/plain": [
       "<Figure size 72x72 with 0 Axes>"
      ]
     },
     "metadata": {},
     "output_type": "display_data"
    }
   ],
   "source": [
    "# Python libraries \n",
    "import os\n",
    "import time\n",
    "import collections\n",
    "import joblib\n",
    "import pandas as pd\n",
    "import numpy as np\n",
    "import numpy as np\n",
    "import matplotlib\n",
    "import matplotlib.pyplot as plt\n",
    "\n",
    "from sklearn.preprocessing import LabelEncoder\n",
    "from sklearn.preprocessing import OneHotEncoder\n",
    "from sklearn.preprocessing import MinMaxScaler\n",
    "from sklearn.pipeline import Pipeline\n",
    "from sklearn.compose import ColumnTransformer\n",
    "from sklearn.model_selection import train_test_split\n",
    "from sklearn.model_selection import cross_val_score\n",
    "\n",
    "from sklearn import metrics\n",
    "from sklearn.tree import DecisionTreeClassifier\n",
    "from sklearn.ensemble import BaggingClassifier\n",
    "\n",
    "import types\n",
    "from botocore.client import Config\n",
    "import ibm_boto3\n",
    "\n",
    "class Model:\n",
    "    def __init__(self, X, y):\n",
    "        self.X = X\n",
    "        self.y = y\n",
    "        self.cat_ix = X.select_dtypes(include=['object', 'bool']).columns\n",
    "        self.num_ix = X.select_dtypes(include=['int64', 'float64']).columns\n",
    "        self.best_depth = 0\n",
    "        self.best_leaf_node = 0\n",
    "\n",
    "# optimal_depth_of_tree        \n",
    "    def find_optimal_depth_of_tree(self):\n",
    "        print('--optimal depth of tree--')\n",
    "        depths = list(range(3, 41))\n",
    "        depth_result = {}\n",
    "        steps = [('c',OneHotEncoder(handle_unknown='ignore'),self.cat_ix), ('n',MinMaxScaler(),self.num_ix)]\n",
    "        # one hot encode categorical, normalize numerical\n",
    "        ct = ColumnTransformer(steps)\n",
    "        \n",
    "        start_time = time.time()\n",
    "        for depth in depths:\n",
    "            dtree = DecisionTreeClassifier(max_depth=depth, random_state=42)\n",
    "            pipe  = Pipeline(steps=[('transformer',ct),('cart',dtree)])\n",
    "            scores = cross_val_score(estimator=pipe, X=self.X, y=self.y, cv=5, n_jobs=-1)\n",
    "            depth_result[depth] = scores.mean()\n",
    "\n",
    "        time_elapsed = (time.time() - start_time)\n",
    "        print(\"Computational time [optimal_depth_of_tree]:{}\".format(time_elapsed))\n",
    "        return depth_result\n",
    "    \n",
    "    # Perform 5-fold cross-validation to determine what the best max_depth\n",
    "    def find_optimal_depth_of_tree_on_Xtrain(self):\n",
    "        print('--optimal depth of tree on Xtrain feature set--')\n",
    "        depths = list(range(1, 41))\n",
    "        train_scores = []\n",
    "        cvmeans = []\n",
    "        cvstds = []\n",
    "        cv_scores = []\n",
    "        steps = [('c',OneHotEncoder(handle_unknown='ignore'),self.cat_ix), ('n',MinMaxScaler(),self.num_ix)]\n",
    "        # one hot encode categorical, normalize numerical\n",
    "        ct = ColumnTransformer(steps)\n",
    "        \n",
    "        #use stratify for un balanced number of examples for each class label\n",
    "        X_train, X_test, y_train, y_test = train_test_split(self.X, self.y, test_size=0.3,random_state=42,shuffle=True)\n",
    "        \n",
    "        start_time = time.time()\n",
    "        for depth in depths:\n",
    "            dtree = DecisionTreeClassifier(max_depth=depth, random_state=42)\n",
    "            # wrap the model a pipeline\n",
    "            pipe  = Pipeline(steps=[('transformer',ct),('cart',dtree)])\n",
    "            # Perform 5-fold cross validation and store results\n",
    "            train_scores.append(pipe.fit(X_train, y_train).score(X_train, y_train))\n",
    "            scores = cross_val_score(estimator=pipe, X=X_train, y=y_train, cv=5)\n",
    "            cvmeans.append(scores.mean())\n",
    "            cvstds.append(scores.std())\n",
    "\n",
    "        cvmeans = np.array(cvmeans)\n",
    "        cvstds = np.array(cvstds)\n",
    "        time_elapsed = (time.time() - start_time)\n",
    "        print(\"Computational time [optimal depth of tree on Xtrain]:{}\".format(time_elapsed))\n",
    "        return depths, cvmeans, cvstds, train_scores\n",
    "    \n",
    "    # Visualize the results with mean & sd across the validation sets\n",
    "    def plot_optimal_depth_of_tree_on_Xtrain(self, depths, cvmeans, cvstds, train_scores):\n",
    "        from matplotlib.pyplot import figure\n",
    "        figure(num=None, figsize=(12, 6), dpi=80, facecolor='w', edgecolor='k')\n",
    "        plt.plot(depths, cvmeans, '*-', label=\"Mean CV\")\n",
    "        plt.fill_between(depths, cvmeans - 2*cvstds, cvmeans + 2*cvstds, alpha=0.3)\n",
    "        ylim = plt.ylim()\n",
    "        plt.plot(depths, train_scores, '-+', label=\"Train\")\n",
    "        plt.legend()\n",
    "        plt.ylabel(\"Accuracy\")\n",
    "        plt.xlabel(\"Max Depth\")\n",
    "        plt.xticks(depths);\n",
    "        plt.figure(figsize=(1,1))\n",
    "    \n",
    "    def plot_optimal_depth_of_tree(self, depth):\n",
    "        lists = sorted(depth.items())\n",
    "        x, y = zip(*lists) \n",
    "        plt.ylabel(\"Cross Validation Accuracy\")\n",
    "        plt.xlabel(\"Maximum Depth\")\n",
    "        plt.title('Variation of Accuracy with Depth')\n",
    "        plt.plot(x, y, 'b-', marker='o')\n",
    "        plt.show()\n",
    "    \n",
    "    def evaluate_optimal_depth_of_tree(self, depth):\n",
    "        # To find the optimal depth \n",
    "        print(depth.items())\n",
    "        self.best_depth = sorted(depth, key=depth.get, reverse=True)[0]\n",
    "        print(\"The best depth was found to be:\", self.best_depth)\n",
    "        steps = [('c',OneHotEncoder(handle_unknown='ignore'),self.cat_ix), ('n',MinMaxScaler(),self.num_ix)]\n",
    "        # one hot encode categorical, normalize numerical\n",
    "        ct = ColumnTransformer(steps)\n",
    "        #use stratify for un balanced number of examples for each class label\n",
    "        X_train, X_test, y_train, y_test = train_test_split(self.X, self.y, test_size=0.3,random_state=42,shuffle=True)\n",
    "        \n",
    "        start_time = time.time()\n",
    "        dtree = DecisionTreeClassifier(max_depth=self.best_depth, random_state=42)\n",
    "        pipe  = Pipeline(steps=[('transformer',ct),('cart',dtree)])\n",
    "        pipe.fit(X_train, y_train)\n",
    "        time_elapsed = (time.time() - start_time)\n",
    "        \n",
    "        #Check Accuracy of income prediction in Train and Test Set\n",
    "        print(\"Accuracy, Training Set: {:.2%}\".format(metrics.accuracy_score(y_train, pipe.predict(X_train))))\n",
    "        print(\"Accuracy, Testing Set: {:.2%}\".format(metrics.accuracy_score(y_test, pipe.predict(X_test))))\n",
    "        print(\"Computational time [evaluate_depth_of_tree]:{}\".format(time_elapsed))\n",
    "        \n",
    "        #Get Performance by Class (Lookup Confusion Matrix)\n",
    "        threshold = 0.5 # set threshold as 0.5\n",
    "        y_pred = (pipe.predict_proba(X_test)[:,1] >= threshold).astype(int)\n",
    "        print(pd.crosstab(y_test, y_pred, margins=True, rownames=['Actual'], colnames=['Predicted']))\n",
    "        \n",
    "        # Confusion Matrix\n",
    "        conf_mat = metrics.confusion_matrix(y_test, y_pred)\n",
    "        print(f\"confusion matrix:\\n {conf_mat}\")\n",
    "        \n",
    "# optimal_leaf_nodes    \n",
    "    def find_optimal_leaf_nodes(self):\n",
    "        print('--optimal leaf nodes--')\n",
    "        #Find optimal leaf nodes\n",
    "        leaf_nodes = list(range(3, 41))\n",
    "        leaf_nodes_result = {}\n",
    "        steps = [('c',OneHotEncoder(handle_unknown='ignore'),self.cat_ix), ('n',MinMaxScaler(),self.num_ix)]\n",
    "        # one hot encode categorical, normalize numerical\n",
    "        ct = ColumnTransformer(steps)\n",
    "        \n",
    "        start_time = time.time()\n",
    "        for leaf_node in leaf_nodes:\n",
    "            dtree = DecisionTreeClassifier(max_depth=self.best_depth, max_leaf_nodes=leaf_node,random_state=42)\n",
    "            pipe  = Pipeline(steps=[('transformer',ct),('cart',dtree)])\n",
    "            scores = cross_val_score(estimator=pipe, X=self.X, y=self.y, cv=5, n_jobs=-1)\n",
    "            leaf_nodes_result[leaf_node] = scores.mean()\n",
    "        \n",
    "        time_elapsed = (time.time() - start_time)\n",
    "        print(\"Computational time [optimal_leaf_nodes]:{}\".format(time_elapsed))\n",
    "        return leaf_nodes_result\n",
    "    \n",
    "    def plot_optimal_leaf_nodes(self, leaf_nodes):\n",
    "        lists = sorted(leaf_nodes.items())\n",
    "        x, y = zip(*lists) \n",
    "        plt.ylabel(\"Cross Validation Accuracy\")\n",
    "        plt.xlabel(\"Maximum leaf nodes\")\n",
    "        plt.title('Variation of Accuracy with leaf nodes')\n",
    "        plt.plot(x, y, 'b-', marker='o')\n",
    "        plt.show()\n",
    "        \n",
    "    def evaluate_optimal_leaf_nodes(self, leaf_nodes):\n",
    "        # To find the optimal leaf node \n",
    "        print(leaf_nodes.items())\n",
    "        self.best_leaf_node = sorted(leaf_nodes, key=leaf_nodes.get, reverse=True)[0]\n",
    "        print(\"The best leaf node was found to be:\", self.best_leaf_node)\n",
    "        steps = [('c',OneHotEncoder(handle_unknown='ignore'),self.cat_ix), ('n',MinMaxScaler(),self.num_ix)]\n",
    "        # one hot encode categorical, normalize numerical\n",
    "        ct = ColumnTransformer(steps)\n",
    "        #use stratify for un balanced number of examples for each class label\n",
    "        X_train, X_test, y_train, y_test = train_test_split(self.X, self.y, test_size=0.3,random_state=42,shuffle=True)\n",
    "        \n",
    "        start_time = time.time()\n",
    "        dtree = DecisionTreeClassifier(max_depth=self.best_depth, max_leaf_nodes=self.best_leaf_node, random_state=42)\n",
    "        pipe  = Pipeline(steps=[('transformer',ct),('cart',dtree)])\n",
    "        pipe.fit(X_train, y_train)\n",
    "        time_elapsed = (time.time() - start_time)\n",
    "        print(\"---parameter\")\n",
    "        print(f\"best_depth: {self.best_depth}\")\n",
    "        print(f\"best_leaf_node: {self.best_leaf_node}\")\n",
    "        \n",
    "        #Check Accuracy of income prediction in Train and Test Set\n",
    "        print(\"Accuracy, Training Set: {:.2%}\".format(metrics.accuracy_score(y_train, pipe.predict(X_train))))\n",
    "        print(\"Accuracy, Testing Set: {:.2%}\".format(metrics.accuracy_score(y_test, pipe.predict(X_test))))\n",
    "        print(\"Computational time [evaluate_optimal_leaf_nodes]:{}\".format(time_elapsed))\n",
    "        \n",
    "        #Get Performance by Class (Lookup Confusion Matrix)\n",
    "        threshold = 0.5 # set threshold as 0.5\n",
    "        y_pred = (pipe.predict_proba(X_test)[:,1] >= threshold).astype(int)\n",
    "        print(pd.crosstab(y_test, y_pred, margins=True, rownames=['Actual'], colnames=['Predicted']))\n",
    "        \n",
    "        # Confusion Matrix\n",
    "        conf_mat = metrics.confusion_matrix(y_test, y_pred)\n",
    "        print(f\"confusion matrix:\\n {conf_mat}\")\n",
    "\n",
    "# optimal_n_estimators        \n",
    "# ensemble\n",
    "    def find_optimal_n_estimators(self):\n",
    "        print('--optimal n_estimators--')\n",
    "        \n",
    "        ntrees = list(range(25, 201, 25))\n",
    "        print(f\"ntrees: {ntrees}\")\n",
    "        train_scores = []\n",
    "        cvmeans = []\n",
    "        cvstds = []\n",
    "        cv_scores = []\n",
    "        steps = [('c',OneHotEncoder(handle_unknown='ignore'),self.cat_ix), ('n',MinMaxScaler(),self.num_ix)]\n",
    "        # one hot encode categorical, normalize numerical\n",
    "        ct = ColumnTransformer(steps)\n",
    "        #use stratify for un balanced number of examples for each class label\n",
    "        X_train, X_test, y_train, y_test = train_test_split(self.X, self.y, test_size=0.3,random_state=42,shuffle=True)\n",
    "        \n",
    "        start_time = time.time()\n",
    "        for tree in ntrees:\n",
    "            clf  = DecisionTreeClassifier(max_leaf_nodes=self.best_leaf_node,\n",
    "                                       criterion=\"gini\", \n",
    "                                       max_depth=self.best_depth,\n",
    "                                       random_state=42)\n",
    "            \n",
    "            bag = BaggingClassifier(base_estimator=clf,\n",
    "                                    n_estimators=tree,\n",
    "                                    oob_score=True,\n",
    "                                    bootstrap=True,\n",
    "                                    bootstrap_features=False,\n",
    "                                    n_jobs=-1,\n",
    "                                    random_state=42)\n",
    "            \n",
    "            pipe  = Pipeline(steps=[('transformer',ct),('bag',bag)])\n",
    "            # Perform 5-fold cross validation and store results\n",
    "            train_scores.append(pipe.fit(X_train, y_train).score(X_train, y_train))\n",
    "            scores = cross_val_score(estimator=pipe, X=X_train, y=y_train, cv=5)\n",
    "            cvmeans.append(scores.mean())\n",
    "            cvstds.append(scores.std())\n",
    "\n",
    "        cvmeans = np.array(cvmeans)\n",
    "        cvstds = np.array(cvstds)\n",
    "        \n",
    "        time_elapsed = (time.time() - start_time)\n",
    "        print(\"Computational time [optimal_leaf_nodes]:{}\".format(time_elapsed))\n",
    "        \n",
    "        print(\"n_tree --> Training score --> cvmeans\")\n",
    "        for tree, train_score, cvmean in zip(list(ntrees), list(train_scores), list(cvmeans)):\n",
    "            print(f\"({tree} --> {train_score} --> {cvmean})\")\n",
    "    \n",
    "        return ntrees, cvmeans, cvstds, train_scores\n",
    "    \n",
    "    def plot_optimal_n_estimators(self, ntrees, cvmeans, cvstds, train_scores):\n",
    "        from matplotlib.pyplot import figure\n",
    "        figure(num=None, figsize=(15, 6), dpi=70, facecolor='w', edgecolor='k')\n",
    "        # plot means and shade the 2 SD interval\n",
    "        plt.plot(ntrees, cvmeans, '*-', label=\"Mean CV\")\n",
    "        plt.fill_between(ntrees, cvmeans - 2*cvstds, cvmeans + 2*cvstds, alpha=0.3)\n",
    "        ylim = plt.ylim()\n",
    "        plt.plot(ntrees, train_scores, '-+', label=\"Train\")\n",
    "        plt.legend()\n",
    "        plt.ylabel(\"Accuracy\")\n",
    "        plt.xlabel(\"Number of Tree\")\n",
    "        plt.xticks(ntrees);\n",
    "        plt.figure(figsize=(1,1))\n",
    "        \n",
    "if __name__ =='__main__':\n",
    "\n",
    "    client = ibm_boto3.client(service_name='s3',\n",
    "                              ibm_api_key_id='qOYLX9hHTq5wVFsyqqoueS5Rpvfz2_j08TnpS4qBJKrf',\n",
    "                              ibm_auth_endpoint=\"https://iam.cloud.ibm.com/oidc/token\",\n",
    "                              config=Config(signature_version='oauth'),\n",
    "                              endpoint_url='https://s3.eu-geo.objectstorage.service.networklayer.com')\n",
    "\n",
    "    body = client.get_object(Bucket='mlproject-donotdelete-pr-g6j7hl10bonvf1',Key='adult.csv')['Body']\n",
    "    df = pd.read_csv(body)\n",
    "    print(f\"df.shape:{df.shape}\")\n",
    "    \n",
    "    #Prepocessing\n",
    "    features = 'age workclass fnlwgt education education-num marital-status occupation relationship race sex capital-gain capital-loss hours-per-week native-country'\n",
    "    target = 'IncomeGroup'\n",
    "    X = df[features.split()]\n",
    "    y = df[target]\n",
    "    # label encode the target variable to have the classes 0 and 1\n",
    "    y = LabelEncoder().fit_transform(y)\n",
    "    \n",
    "    model = Model(X,y)\n",
    "    \n",
    "    #Find optimal depth of trees\n",
    "    depth = model.find_optimal_depth_of_tree()\n",
    "    model.plot_optimal_depth_of_tree(depth)\n",
    "    model.evaluate_optimal_depth_of_tree(depth)\n",
    "    \n",
    "    #Find optimal leaf nodes\n",
    "    leaf_nodes = model.find_optimal_leaf_nodes()\n",
    "    model.plot_optimal_leaf_nodes(leaf_nodes)\n",
    "    model.evaluate_optimal_leaf_nodes(leaf_nodes)\n",
    "    \n",
    "    #Find optimal depth of trees on Xtrain feature set\n",
    "    depths, cvmeans, cvstds, train_scores = model.find_optimal_depth_of_tree_on_Xtrain()\n",
    "    model.plot_optimal_depth_of_tree_on_Xtrain(depths, cvmeans, cvstds, train_scores)\n",
    "    \n",
    "    #Find optimal number of trees on Xtrain feature set\n",
    "    ntrees, cvmeans, cvstds, train_scores = model.find_optimal_n_estimators()\n",
    "    model.plot_optimal_n_estimators(ntrees, cvmeans, cvstds, train_scores)"
   ]
  },
  {
   "cell_type": "markdown",
   "metadata": {},
   "source": [
    "<a id=\"compaire\"></a>\n",
    "### 4 Model Comparison"
   ]
  },
  {
   "cell_type": "code",
   "execution_count": 6,
   "metadata": {},
   "outputs": [
    {
     "data": {
      "image/png": "[encoded data removed]",
      "text/plain": [
       "<IPython.core.display.Image object>"
      ]
     },
     "execution_count": 6,
     "metadata": {},
     "output_type": "execute_result"
    }
   ],
   "source": [
    "from IPython.display import Image\n",
    "\n",
    "Image(filename='images/Exp3/compare.png')"
   ]
  },
  {
   "cell_type": "code",
   "execution_count": 2,
   "metadata": {},
   "outputs": [
    {
     "data": {
      "image/png": "[encoded data removed]",
      "text/plain": [
       "<IPython.core.display.Image object>"
      ]
     },
     "execution_count": 2,
     "metadata": {},
     "output_type": "execute_result"
    }
   ],
   "source": [
    "Image(filename='images/Exp3/result.png')\n",
    "\n",
    "# Here we perform 5-fold cross-validation to determine what the best max_depth would be for a single decision tree\n",
    "  # - Visualize the results with mean +/- 2 sd's across the validation sets\n",
    "  # - Based on the plot below, the best depth was found at 10.\n",
    "\n"
   ]
  },
  {
   "cell_type": "code",
   "execution_count": 4,
   "metadata": {},
   "outputs": [
    {
     "data": {
      "image/png": "[encoded data removed]",
      "text/plain": [
       "<IPython.core.display.Image object>"
      ]
     },
     "execution_count": 4,
     "metadata": {},
     "output_type": "execute_result"
    }
   ],
   "source": [
    "Image(filename='images/Exp3/result2.png')\n",
    "\n",
    "# Here we perform 5-fold cross-validation to determine what the best max_depth would be for a single decision tree\n",
    "  # - Visualize the results with mean +/- 2 sd's across the validation sets\n",
    "  # - the deeper the tree, the more prone to overfitting.\n",
    "  # - Based on the plot below, the test set's accuracy maximum around 85-86% around a max_depth of 9-11. Any of those values would be reasonable to choose for a best predictive model. "
   ]
  },
  {
   "cell_type": "code",
   "execution_count": 5,
   "metadata": {},
   "outputs": [
    {
     "data": {
      "image/png": "[encoded data removed]",
      "text/plain": [
       "<IPython.core.display.Image object>"
      ]
     },
     "execution_count": 5,
     "metadata": {},
     "output_type": "execute_result"
    }
   ],
   "source": [
    "Image(filename='images/Exp3/result3.png')\n",
    "\n",
    "# - fit many bagged trees on the entire Xtrain feature set.\n"
   ]
  }
 ],
 "metadata": {
  "kernel_info": {
   "name": "python3"
  },
  "kernelspec": {
   "display_name": "Python 3",
   "language": "python",
   "name": "python3"
  },
  "language_info": {
   "codemirror_mode": {
    "name": "ipython",
    "version": 3
   },
   "file_extension": ".py",
   "mimetype": "text/x-python",
   "name": "python",
   "nbconvert_exporter": "python",
   "pygments_lexer": "ipython3",
   "version": "3.8.3"
  },
  "nteract": {
   "version": "nteract-front-end@1.0.0"
  }
 },
 "nbformat": 4,
 "nbformat_minor": 4
}
