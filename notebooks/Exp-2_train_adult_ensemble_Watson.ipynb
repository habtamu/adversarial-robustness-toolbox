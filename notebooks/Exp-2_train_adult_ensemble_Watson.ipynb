{
 "cells": [
  {
   "cell_type": "markdown",
   "metadata": {},
   "source": [
    "# Adults Census Model Training with IBM Watson Studio\n",
    "## Scikit-learn: Ensemble learning"
   ]
  },
  {
   "cell_type": "markdown",
   "metadata": {},
   "source": [
    "This notebook used to experiment Scikit-learn with WML by utilizing the pre-built container.\n",
    "\n",
    "[Analysis](#compaire)\n",
    "\n",
    "- **Performance metrics for Local and WML training hardware are similar.**\n",
    "\n",
    "## Outline\n",
    "\n",
    "1. [Data Preparation](#data_prep)\n",
    "    - 1.1 Download dataset\n",
    "    - 1.2 Data preprocessing\n",
    "2. [Model Training](#train)\n",
    "    - 2.1 [Runtime Information](#runtime)\n",
    "    - 2.2 [Setup](#runtime_setup)\n",
    "    - 2.3 [Model Training](#model_train)\n",
    "    - 2.4 [Save model](#save_model)\n",
    "3. [Model Comparison](#compaire)"
   ]
  },
  {
   "cell_type": "markdown",
   "metadata": {},
   "source": [
    "<a id=\"data_prep\"></a>\n",
    "### 1. Data Preparation\n",
    "   - 1.1 Download dataset\n",
    "   - 1.2 Data preprocessing\n",
    "\n",
    "We download Adult Census Income Binary classfication dataset and preprocessing.\n",
    "- Dataset: https://archive.ics.uci.edu/ml/datasets/Adult\n",
    "- **Ref: Exp-2_train_adult_SVC_Watson-v3.ipynb**"
   ]
  },
  {
   "cell_type": "code",
   "execution_count": 80,
   "metadata": {},
   "outputs": [],
   "source": [
    "# Python libraries that we'll use throughout the analysis\n",
    "import os\n",
    "import types\n",
    "import numpy as np\n",
    "import pandas as pd\n",
    "from botocore.client import Config\n",
    "import ibm_boto3"
   ]
  },
  {
   "cell_type": "code",
   "execution_count": 81,
   "metadata": {},
   "outputs": [
    {
     "data": {
      "text/html": [
       "<div>\n",
       "<style scoped>\n",
       "    .dataframe tbody tr th:only-of-type {\n",
       "        vertical-align: middle;\n",
       "    }\n",
       "\n",
       "    .dataframe tbody tr th {\n",
       "        vertical-align: top;\n",
       "    }\n",
       "\n",
       "    .dataframe thead th {\n",
       "        text-align: right;\n",
       "    }\n",
       "</style>\n",
       "<table border=\"1\" class=\"dataframe\">\n",
       "  <thead>\n",
       "    <tr style=\"text-align: right;\">\n",
       "      <th></th>\n",
       "      <th>age</th>\n",
       "      <th>workclass</th>\n",
       "      <th>fnlwgt</th>\n",
       "      <th>education</th>\n",
       "      <th>education-num</th>\n",
       "      <th>marital-status</th>\n",
       "      <th>occupation</th>\n",
       "      <th>relationship</th>\n",
       "      <th>race</th>\n",
       "      <th>sex</th>\n",
       "      <th>capital-gain</th>\n",
       "      <th>capital-loss</th>\n",
       "      <th>hours-per-week</th>\n",
       "      <th>native-country</th>\n",
       "      <th>IncomeGroup</th>\n",
       "    </tr>\n",
       "  </thead>\n",
       "  <tbody>\n",
       "    <tr>\n",
       "      <th>0</th>\n",
       "      <td>39</td>\n",
       "      <td>State-gov</td>\n",
       "      <td>77516</td>\n",
       "      <td>Bachelors</td>\n",
       "      <td>13</td>\n",
       "      <td>Never-married</td>\n",
       "      <td>Adm-clerical</td>\n",
       "      <td>Not-in-family</td>\n",
       "      <td>White</td>\n",
       "      <td>Male</td>\n",
       "      <td>2174</td>\n",
       "      <td>0</td>\n",
       "      <td>40</td>\n",
       "      <td>United-States</td>\n",
       "      <td>&lt;=50K</td>\n",
       "    </tr>\n",
       "    <tr>\n",
       "      <th>1</th>\n",
       "      <td>50</td>\n",
       "      <td>Self-emp-not-inc</td>\n",
       "      <td>83311</td>\n",
       "      <td>Bachelors</td>\n",
       "      <td>13</td>\n",
       "      <td>Married-civ-spouse</td>\n",
       "      <td>Exec-managerial</td>\n",
       "      <td>Husband</td>\n",
       "      <td>White</td>\n",
       "      <td>Male</td>\n",
       "      <td>0</td>\n",
       "      <td>0</td>\n",
       "      <td>13</td>\n",
       "      <td>United-States</td>\n",
       "      <td>&lt;=50K</td>\n",
       "    </tr>\n",
       "    <tr>\n",
       "      <th>2</th>\n",
       "      <td>38</td>\n",
       "      <td>Private</td>\n",
       "      <td>215646</td>\n",
       "      <td>HS-grad</td>\n",
       "      <td>9</td>\n",
       "      <td>Divorced</td>\n",
       "      <td>Handlers-cleaners</td>\n",
       "      <td>Not-in-family</td>\n",
       "      <td>White</td>\n",
       "      <td>Male</td>\n",
       "      <td>0</td>\n",
       "      <td>0</td>\n",
       "      <td>40</td>\n",
       "      <td>United-States</td>\n",
       "      <td>&lt;=50K</td>\n",
       "    </tr>\n",
       "    <tr>\n",
       "      <th>3</th>\n",
       "      <td>53</td>\n",
       "      <td>Private</td>\n",
       "      <td>234721</td>\n",
       "      <td>11th</td>\n",
       "      <td>7</td>\n",
       "      <td>Married-civ-spouse</td>\n",
       "      <td>Handlers-cleaners</td>\n",
       "      <td>Husband</td>\n",
       "      <td>Black</td>\n",
       "      <td>Male</td>\n",
       "      <td>0</td>\n",
       "      <td>0</td>\n",
       "      <td>40</td>\n",
       "      <td>United-States</td>\n",
       "      <td>&lt;=50K</td>\n",
       "    </tr>\n",
       "    <tr>\n",
       "      <th>4</th>\n",
       "      <td>28</td>\n",
       "      <td>Private</td>\n",
       "      <td>338409</td>\n",
       "      <td>Bachelors</td>\n",
       "      <td>13</td>\n",
       "      <td>Married-civ-spouse</td>\n",
       "      <td>Prof-specialty</td>\n",
       "      <td>Wife</td>\n",
       "      <td>Black</td>\n",
       "      <td>Female</td>\n",
       "      <td>0</td>\n",
       "      <td>0</td>\n",
       "      <td>40</td>\n",
       "      <td>Cuba</td>\n",
       "      <td>&lt;=50K</td>\n",
       "    </tr>\n",
       "  </tbody>\n",
       "</table>\n",
       "</div>"
      ],
      "text/plain": [
       "   age          workclass  fnlwgt   education  education-num  \\\n",
       "0   39          State-gov   77516   Bachelors             13   \n",
       "1   50   Self-emp-not-inc   83311   Bachelors             13   \n",
       "2   38            Private  215646     HS-grad              9   \n",
       "3   53            Private  234721        11th              7   \n",
       "4   28            Private  338409   Bachelors             13   \n",
       "\n",
       "        marital-status          occupation    relationship    race      sex  \\\n",
       "0        Never-married        Adm-clerical   Not-in-family   White     Male   \n",
       "1   Married-civ-spouse     Exec-managerial         Husband   White     Male   \n",
       "2             Divorced   Handlers-cleaners   Not-in-family   White     Male   \n",
       "3   Married-civ-spouse   Handlers-cleaners         Husband   Black     Male   \n",
       "4   Married-civ-spouse      Prof-specialty            Wife   Black   Female   \n",
       "\n",
       "   capital-gain  capital-loss  hours-per-week  native-country IncomeGroup  \n",
       "0          2174             0              40   United-States       <=50K  \n",
       "1             0             0              13   United-States       <=50K  \n",
       "2             0             0              40   United-States       <=50K  \n",
       "3             0             0              40   United-States       <=50K  \n",
       "4             0             0              40            Cuba       <=50K  "
      ]
     },
     "execution_count": 81,
     "metadata": {},
     "output_type": "execute_result"
    }
   ],
   "source": [
    "# The following code accesses a file in your IBM Cloud Object Storage. It includes your credentials.\n",
    "# You might want to remove those credentials before you share the notebook.\n",
    "client = ibm_boto3.client(service_name='s3',\n",
    "                          ibm_api_key_id='',\n",
    "                          ibm_auth_endpoint=\"https://iam.cloud.ibm.com/oidc/token\",\n",
    "                          config=Config(signature_version='oauth'),\n",
    "endpoint_url='https://s3-api.us-geo.objectstorage.service.networklayer.com')\n",
    "\n",
    "body = client.get_object(Bucket='adultscensusproject-donotdelete-pr-7nekr9yeith2lc',Key='adult.csv')['Body']\n",
    "df = pd.read_csv(body)\n",
    "\n",
    "df.head()"
   ]
  },
  {
   "cell_type": "code",
   "execution_count": 82,
   "metadata": {},
   "outputs": [
    {
     "name": "stdout",
     "output_type": "stream",
     "text": [
      "Class= <=50K, Count=34014, Percentage=75.216%\n",
      "Class= >50K, Count=11208, Percentage=24.784%\n"
     ]
    }
   ],
   "source": [
    "# summarize the class distribution\n",
    "import collections\n",
    "\n",
    "target = df.values[:,-1]\n",
    "counter = collections.Counter(target)\n",
    "for k,v in counter.items():\n",
    "    per = v / len(target) * 100\n",
    "    print('Class=%s, Count=%d, Percentage=%.3f%%' % (k, v, per))\n"
   ]
  },
  {
   "cell_type": "markdown",
   "metadata": {},
   "source": [
    "<a id=\"train\"></a>\n",
    "### 2 Model Training\n",
    "   - 2.1 [Runtime Information](#runtime)\n",
    "   - 2.2 [Setup](#runtime_setup)\n",
    "   - 2.3 [Model Training](#model_train)\n",
    "   - 2.4 [Save model](#save_model)\n",
    "   - 2.5 [Deploy model](#deploy_model)"
   ]
  },
  {
   "cell_type": "markdown",
   "metadata": {},
   "source": [
    "<a id=\"runtime\"></a>\n",
    "##### 2.1 Runtime Information\n",
    "\n",
    "**The runtime has 1 vCPU and 4 GB RAM.**"
   ]
  },
  {
   "cell_type": "markdown",
   "metadata": {},
   "source": [
    "<a id=\"runtime_setup\"></a>\n",
    "##### 2.2 Setup"
   ]
  },
  {
   "cell_type": "code",
   "execution_count": 83,
   "metadata": {},
   "outputs": [
    {
     "name": "stdout",
     "output_type": "stream",
     "text": [
      "Requirement already satisfied: watson-machine-learning-client-v4 in /opt/conda/envs/Python-3.7-main/lib/python3.7/site-packages (1.0.126)\n",
      "Requirement already satisfied: tabulate in /opt/conda/envs/Python-3.7-main/lib/python3.7/site-packages (from watson-machine-learning-client-v4) (0.8.3)\n",
      "Requirement already satisfied: ibm-cos-sdk==2.7.* in /opt/conda/envs/Python-3.7-main/lib/python3.7/site-packages (from watson-machine-learning-client-v4) (2.7.0)\n",
      "Requirement already satisfied: certifi in /opt/conda/envs/Python-3.7-main/lib/python3.7/site-packages (from watson-machine-learning-client-v4) (2020.11.8)\n",
      "Requirement already satisfied: lomond in /opt/conda/envs/Python-3.7-main/lib/python3.7/site-packages (from watson-machine-learning-client-v4) (0.3.3)\n",
      "Requirement already satisfied: urllib3 in /opt/conda/envs/Python-3.7-main/lib/python3.7/site-packages (from watson-machine-learning-client-v4) (1.25.9)\n",
      "Requirement already satisfied: pandas<=1.0.5 in /opt/conda/envs/Python-3.7-main/lib/python3.7/site-packages (from watson-machine-learning-client-v4) (1.0.5)\n",
      "Requirement already satisfied: requests in /opt/conda/envs/Python-3.7-main/lib/python3.7/site-packages (from watson-machine-learning-client-v4) (2.24.0)\n",
      "Requirement already satisfied: ibm-cos-sdk-core==2.7.0 in /opt/conda/envs/Python-3.7-main/lib/python3.7/site-packages (from ibm-cos-sdk==2.7.*->watson-machine-learning-client-v4) (2.7.0)\n",
      "Requirement already satisfied: jmespath<1.0.0,>=0.7.1 in /opt/conda/envs/Python-3.7-main/lib/python3.7/site-packages (from ibm-cos-sdk==2.7.*->watson-machine-learning-client-v4) (0.9.4)\n",
      "Requirement already satisfied: ibm-cos-sdk-s3transfer==2.7.0 in /opt/conda/envs/Python-3.7-main/lib/python3.7/site-packages (from ibm-cos-sdk==2.7.*->watson-machine-learning-client-v4) (2.7.0)\n",
      "Requirement already satisfied: six>=1.10.0 in /opt/conda/envs/Python-3.7-main/lib/python3.7/site-packages (from lomond->watson-machine-learning-client-v4) (1.15.0)\n",
      "Requirement already satisfied: numpy>=1.13.3 in /opt/conda/envs/Python-3.7-main/lib/python3.7/site-packages (from pandas<=1.0.5->watson-machine-learning-client-v4) (1.18.5)\n",
      "Requirement already satisfied: python-dateutil>=2.6.1 in /opt/conda/envs/Python-3.7-main/lib/python3.7/site-packages (from pandas<=1.0.5->watson-machine-learning-client-v4) (2.8.1)\n",
      "Requirement already satisfied: pytz>=2017.2 in /opt/conda/envs/Python-3.7-main/lib/python3.7/site-packages (from pandas<=1.0.5->watson-machine-learning-client-v4) (2020.1)\n",
      "Requirement already satisfied: idna<3,>=2.5 in /opt/conda/envs/Python-3.7-main/lib/python3.7/site-packages (from requests->watson-machine-learning-client-v4) (2.9)\n",
      "Requirement already satisfied: chardet<4,>=3.0.2 in /opt/conda/envs/Python-3.7-main/lib/python3.7/site-packages (from requests->watson-machine-learning-client-v4) (3.0.4)\n",
      "Requirement already satisfied: docutils<0.16,>=0.10 in /opt/conda/envs/Python-3.7-main/lib/python3.7/site-packages (from ibm-cos-sdk-core==2.7.0->ibm-cos-sdk==2.7.*->watson-machine-learning-client-v4) (0.15.2)\n"
     ]
    }
   ],
   "source": [
    "!pip install watson-machine-learning-client-v4"
   ]
  },
  {
   "cell_type": "code",
   "execution_count": 84,
   "metadata": {},
   "outputs": [
    {
     "name": "stdout",
     "output_type": "stream",
     "text": [
      "Author: WML Notebook Instance\n",
      "\n",
      "Last updated: 2020-12-10\n",
      "\n",
      "Python implementation: CPython\n",
      "Python version       : 3.7.9\n",
      "IPython version      : 7.15.0\n",
      "\n",
      "numpy                            : 1.18.5\n",
      "pandas                           : 1.0.5\n",
      "scipy                            : 1.5.0\n",
      "sklearn                          : 0.23.1\n",
      "ibm_boto3                        : 2.7.0\n",
      "botocore                         : 1.16.11\n",
      "ibm_watson_machine_learning      : 1.0.43\n",
      "watson_machine_learning_client_v4: not installed\n",
      "\n",
      "Compiler    : GCC 7.3.0\n",
      "OS          : Linux\n",
      "Release     : 4.15.0-122-generic\n",
      "Machine     : x86_64\n",
      "Processor   : x86_64\n",
      "CPU cores   : 56\n",
      "Architecture: 64bit\n",
      "\n",
      "Hostname: notebook-conda1py3725f880f6ada9447e8629ea063173a606-54c7956bhrd\n",
      "\n"
     ]
    }
   ],
   "source": [
    "%reload_ext watermark\n",
    "%watermark  -d -u -h -m -a \"WML Notebook Instance\" -v -p numpy,pandas,scipy,sklearn,ibm_boto3,botocore,ibm_watson_machine_learning,watson_machine_learning_client_v4"
   ]
  },
  {
   "cell_type": "markdown",
   "metadata": {},
   "source": [
    "<a id=\"model_train\"></a>\n",
    "##### 2.3 Model training"
   ]
  },
  {
   "cell_type": "code",
   "execution_count": 85,
   "metadata": {},
   "outputs": [],
   "source": [
    "# Python libraries \n",
    "import time\n",
    "import joblib\n",
    "from sklearn.preprocessing import LabelEncoder\n",
    "from sklearn.preprocessing import OneHotEncoder\n",
    "from sklearn.preprocessing import MinMaxScaler\n",
    "from sklearn.pipeline import Pipeline\n",
    "from sklearn.compose import ColumnTransformer\n",
    "from sklearn.model_selection import train_test_split\n",
    "from sklearn import metrics\n",
    "from sklearn.tree import DecisionTreeClassifier\n",
    "from sklearn.ensemble import BaggingClassifier"
   ]
  },
  {
   "cell_type": "code",
   "execution_count": 86,
   "metadata": {},
   "outputs": [
    {
     "name": "stdout",
     "output_type": "stream",
     "text": [
      "building datasets\n",
      "cat_ix: Index(['workclass', 'education', 'marital-status', 'occupation',\n",
      "       'relationship', 'race', 'sex', 'native-country'],\n",
      "      dtype='object')\n",
      "num_ix: Index(['age', 'fnlwgt', 'education-num', 'capital-gain', 'capital-loss',\n",
      "       'hours-per-week'],\n",
      "      dtype='object')\n",
      "X_train:(31655, 14)\n",
      "X_test: (13567, 14)\n",
      "y_train:(31655,)\n",
      "y_test: (13567,)\n",
      "training model\n",
      "model: Pipeline(steps=[('transformer',\n",
      "                 ColumnTransformer(transformers=[('c',\n",
      "                                                  OneHotEncoder(handle_unknown='ignore'),\n",
      "                                                  Index(['workclass', 'education', 'marital-status', 'occupation',\n",
      "       'relationship', 'race', 'sex', 'native-country'],\n",
      "      dtype='object')),\n",
      "                                                 ('n', MinMaxScaler(),\n",
      "                                                  Index(['age', 'fnlwgt', 'education-num', 'capital-gain', 'capital-loss',\n",
      "       'hours-per-week'],\n",
      "      dtype='object'))])),\n",
      "                ('bag',\n",
      "                 BaggingClassifier(base_estimator=DecisionTreeClassifier(max_depth=32,\n",
      "                                                                         max_leaf_nodes=30,\n",
      "                                                                         random_state=42),\n",
      "                                   n_estimators=100, n_jobs=1, oob_score=True,\n",
      "                                   random_state=42))])\n",
      "y_pred: [0 0 0 ... 0 0 0]\n",
      "Misclassified examples:1905\n",
      "[[0.50957217 0.49042783]\n",
      " [0.89364988 0.10635012]\n",
      " [0.93725205 0.06274795]\n",
      " ...\n",
      " [0.57364036 0.42635964]\n",
      " [0.70675479 0.29324521]\n",
      " [0.72065933 0.27934067]]\n",
      "distinct y_pred: [0 1]\n",
      "distinct y_test: [0 1]\n",
      "confusion matrix:\n",
      " [[9678  515]\n",
      " [1390 1984]]\n",
      "auc: 0.768750605896593\n",
      "Accuracy: 0.8595857595636471\n",
      "Precision: 0.7939175670268107\n",
      "Recall: 0.5880260818020154\n",
      "F1: 0.6756342584709689\n",
      "classification_report\n",
      "              precision    recall  f1-score   support\n",
      "\n",
      "           0       0.87      0.95      0.91     10193\n",
      "           1       0.79      0.59      0.68      3374\n",
      "\n",
      "    accuracy                           0.86     13567\n",
      "   macro avg       0.83      0.77      0.79     13567\n",
      "weighted avg       0.85      0.86      0.85     13567\n",
      "\n",
      "Computational time:16.446779012680054\n"
     ]
    }
   ],
   "source": [
    "start_time = time.time()\n",
    "\n",
    "#Prepocessing\n",
    "print('building datasets')\n",
    "features = 'age workclass fnlwgt education education-num marital-status occupation relationship race sex capital-gain capital-loss hours-per-week native-country'\n",
    "target = 'IncomeGroup'\n",
    "X = df[features.split()]\n",
    "y = df[target]\n",
    "\n",
    "# label encode the target variable to have the classes 0 and 1\n",
    "y = LabelEncoder().fit_transform(y)\n",
    "\n",
    "cat_ix = X.select_dtypes(include=['object', 'bool']).columns\n",
    "print(f\"cat_ix: {cat_ix}\")\n",
    "num_ix = X.select_dtypes(include=['int64', 'float64']).columns\n",
    "print(f\"num_ix: {num_ix}\")\n",
    "\n",
    "#use stratify for un balanced number of examples for each class label\n",
    "X_train, X_test, y_train, y_test = train_test_split(X, y, test_size=0.3,random_state=42,shuffle=True)\n",
    "print(f\"X_train:{X_train.shape}\")\n",
    "print(f\"X_test: {X_test.shape}\")\n",
    "print(f\"y_train:{y_train.shape}\")\n",
    "print(f\"y_test: {y_test.shape}\")\n",
    "\n",
    "# Model Training\n",
    "print('training model')\n",
    "MODEL = 'Ensemble'\n",
    "    \n",
    "tree  = DecisionTreeClassifier(max_leaf_nodes=30,\n",
    "                               criterion=\"gini\", \n",
    "                               max_depth=32, \n",
    "                               min_samples_leaf=1, \n",
    "                               random_state=42)\n",
    "\n",
    "bag = BaggingClassifier(base_estimator=tree,\n",
    "                        n_estimators=100,\n",
    "                        oob_score=True,\n",
    "                        bootstrap=True,\n",
    "                        bootstrap_features=False,\n",
    "                        n_jobs=1,\n",
    "                        random_state=42)\n",
    "\n",
    "# define steps\n",
    "steps = [('c',OneHotEncoder(handle_unknown='ignore'),cat_ix), ('n',MinMaxScaler(),num_ix)]\n",
    "# one hot encode categorical, normalize numerical\n",
    "ct = ColumnTransformer(steps)\n",
    "# wrap the model a pipeline\n",
    "pipe  = Pipeline(steps=[('transformer',ct),('bag',bag)])\n",
    "pipe.fit(X_train, y_train)\n",
    "print(f\"model: {pipe}\")\n",
    "  \n",
    "## Evaluate the model\n",
    "\n",
    "# using threshold\n",
    "threshold = 0.5 # set threshold as 0.5\n",
    "y_pred = (pipe.predict_proba(X_test)[:,1] >= threshold).astype(int) \n",
    "print(f\"y_pred: {y_pred}\")\n",
    "print(f'Misclassified examples:{(y_test != y_pred).sum()}')\n",
    "print(pipe.predict_proba(X_test))\n",
    "  \n",
    "print(f\"distinct y_pred: {np.unique(y_pred)}\")\n",
    "print(f\"distinct y_test: {np.unique(y_test)}\")\n",
    "  \n",
    "# Confusion Matrix\n",
    "conf_mat = metrics.confusion_matrix(y_test, y_pred)\n",
    "print(f\"confusion matrix:\\n {conf_mat}\")\n",
    "\n",
    "# AUC\n",
    "auc = metrics.roc_auc_score(y_test, y_pred)\n",
    "print(f\"auc: {auc}\")\n",
    "\n",
    "# Accuracy\n",
    "accuracy = metrics.accuracy_score(y_test, y_pred)\n",
    "print(f\"Accuracy: {accuracy}\") \n",
    "\n",
    "# Precision\n",
    "precision = metrics.precision_score(y_test, y_pred)\n",
    "print(f\"Precision: {precision}\")\n",
    "\n",
    "# Recall\n",
    "recall = metrics.recall_score(y_test, y_pred)\n",
    "print(f\"Recall: {recall}\")\n",
    "\n",
    "# F1\n",
    "f1 = metrics.f1_score(y_test, y_pred)\n",
    "print(f\"F1: {f1}\")\n",
    "\n",
    "# classification_report\n",
    "print('classification_report')\n",
    "print(metrics.classification_report(y_test, y_pred))\n",
    "\n",
    "\n",
    "\n",
    "time_elapsed = (time.time() - start_time)\n",
    "print(\"Computational time:{}\".format(time_elapsed))"
   ]
  },
  {
   "cell_type": "markdown",
   "metadata": {},
   "source": [
    "<a id=\"save_model\"></a>\n",
    "##### 2.4 Save model"
   ]
  },
  {
   "cell_type": "code",
   "execution_count": 123,
   "metadata": {},
   "outputs": [],
   "source": [
    "# persist model\n",
    "joblib.dump(pipe, f\"{MODEL}.joblib\")\n",
    "client.upload_file(Filename=f\"{MODEL}.joblib\",\n",
    "                   Bucket='adultscensusproject-donotdelete-pr-7nekr9yeith2lc',\n",
    "                   Key=f\"{MODEL}.joblib\")"
   ]
  },
  {
   "cell_type": "markdown",
   "metadata": {},
   "source": [
    "<a id=\"deploy_model\"></a>\n",
    "##### 2.5 Deploy model"
   ]
  },
  {
   "cell_type": "code",
   "execution_count": null,
   "metadata": {},
   "outputs": [],
   "source": []
  },
  {
   "cell_type": "code",
   "execution_count": 52,
   "metadata": {},
   "outputs": [],
   "source": [
    "wml_credentials = {\n",
    "                      \"apikey\":\"\",\n",
    "                      \"url\": \"https://us-south.ml.cloud.ibm.com\"\n",
    "}\n",
    "from ibm_watson_machine_learning import APIClient\n",
    "wml_client = APIClient(wml_credentials)"
   ]
  },
  {
   "cell_type": "code",
   "execution_count": 53,
   "metadata": {},
   "outputs": [
    {
     "data": {
      "text/plain": [
       "<ibm_watson_machine_learning.client.APIClient at 0x7f534d234710>"
      ]
     },
     "execution_count": 53,
     "metadata": {},
     "output_type": "execute_result"
    }
   ],
   "source": [
    "wml_client"
   ]
  },
  {
   "cell_type": "code",
   "execution_count": 71,
   "metadata": {},
   "outputs": [
    {
     "data": {
      "text/plain": [
       "'SUCCESS'"
      ]
     },
     "execution_count": 71,
     "metadata": {},
     "output_type": "execute_result"
    }
   ],
   "source": [
    "space_uid = '437e6cb6-88cf-4168-a40d-d703b8f6c174'\n",
    "\n",
    "wml_client.set.default_space(space_uid)"
   ]
  },
  {
   "cell_type": "markdown",
   "metadata": {},
   "source": [
    "Create the model metadata."
   ]
  },
  {
   "cell_type": "code",
   "execution_count": 97,
   "metadata": {},
   "outputs": [
    {
     "data": {
      "text/plain": [
       "'3.7.9 (default, Aug 31 2020, 12:42:55) \\n[GCC 7.3.0]'"
      ]
     },
     "execution_count": 97,
     "metadata": {},
     "output_type": "execute_result"
    }
   ],
   "source": [
    "import sys\n",
    "sys.version"
   ]
  },
  {
   "cell_type": "code",
   "execution_count": 113,
   "metadata": {},
   "outputs": [
    {
     "data": {
      "text/plain": [
       "'75a3a4b0-6aa0-41b3-a618-48b1f56332a6'"
      ]
     },
     "execution_count": 113,
     "metadata": {},
     "output_type": "execute_result"
    }
   ],
   "source": [
    "softwareSpecificationName = \"do_12.9\"\n",
    "sofware_spec_uid = wml_client.software_specifications.get_uid_by_name(softwareSpecificationName)\n",
    "sofware_spec_uid"
   ]
  },
  {
   "cell_type": "code",
   "execution_count": 118,
   "metadata": {},
   "outputs": [],
   "source": [
    "# Model Metadata.\n",
    "meta_props={\n",
    "    wml_client.repository.ModelMetaNames.NAME: \"Adults Census Ensemble model\",\n",
    "    wml_client.repository.ModelMetaNames.SOFTWARE_SPEC_UID: sofware_spec_uid,\n",
    "    wml_client.repository.ModelMetaNames.TYPE: \"scikit-learn_0.22\"\n",
    "}"
   ]
  },
  {
   "cell_type": "code",
   "execution_count": 119,
   "metadata": {},
   "outputs": [
    {
     "name": "stdout",
     "output_type": "stream",
     "text": [
      "Note: Warnings!! :  Model type scikit-learn_0.22 is deprecated. We recommend you use a supported model type. See Supported Frameworks https://dataplatform.cloud.ibm.com/docs/content/wsj/analyze-data/pm_service_supported_frameworks.html.\n"
     ]
    }
   ],
   "source": [
    "# Create the model artifact.\n",
    "model_artifact = wml_client.repository.store_model(model=pipe,\n",
    "                                                   meta_props=meta_props,\n",
    "                                                   training_data=X_train,\n",
    "                                                   training_target=y_train)\n"
   ]
  },
  {
   "cell_type": "code",
   "execution_count": 120,
   "metadata": {},
   "outputs": [
    {
     "name": "stdout",
     "output_type": "stream",
     "text": [
      "Model UID = b83517f2-8c94-4c6e-b449-afbf0202cde8\n"
     ]
    }
   ],
   "source": [
    "model_uid = wml_client.repository.get_model_uid(model_artifact)\n",
    "print(\"Model UID = \" + model_uid)"
   ]
  },
  {
   "cell_type": "code",
   "execution_count": 121,
   "metadata": {},
   "outputs": [
    {
     "name": "stdout",
     "output_type": "stream",
     "text": [
      "{'entity': {'label_column': 'l1',\n",
      "            'software_spec': {'id': '75a3a4b0-6aa0-41b3-a618-48b1f56332a6',\n",
      "                              'name': 'do_12.9'},\n",
      "            'training_data_references': [{'connection': {'access_key_id': 'not_applicable',\n",
      "                                                         'endpoint_url': 'not_applicable',\n",
      "                                                         'secret_access_key': 'not_applicable'},\n",
      "                                          'id': '1',\n",
      "                                          'location': {},\n",
      "                                          'schema': {'fields': [{'name': 'age',\n",
      "                                                                 'type': 'int64'},\n",
      "                                                                {'name': 'workclass',\n",
      "                                                                 'type': 'object'},\n",
      "                                                                {'name': 'fnlwgt',\n",
      "                                                                 'type': 'int64'},\n",
      "                                                                {'name': 'education',\n",
      "                                                                 'type': 'object'},\n",
      "                                                                {'name': 'education-num',\n",
      "                                                                 'type': 'int64'},\n",
      "                                                                {'name': 'marital-status',\n",
      "                                                                 'type': 'object'},\n",
      "                                                                {'name': 'occupation',\n",
      "                                                                 'type': 'object'},\n",
      "                                                                {'name': 'relationship',\n",
      "                                                                 'type': 'object'},\n",
      "                                                                {'name': 'race',\n",
      "                                                                 'type': 'object'},\n",
      "                                                                {'name': 'sex',\n",
      "                                                                 'type': 'object'},\n",
      "                                                                {'name': 'capital-gain',\n",
      "                                                                 'type': 'int64'},\n",
      "                                                                {'name': 'capital-loss',\n",
      "                                                                 'type': 'int64'},\n",
      "                                                                {'name': 'hours-per-week',\n",
      "                                                                 'type': 'int64'},\n",
      "                                                                {'name': 'native-country',\n",
      "                                                                 'type': 'object'}],\n",
      "                                                     'id': '1',\n",
      "                                                     'type': 'DataFrame'},\n",
      "                                          'type': 'fs'}],\n",
      "            'type': 'scikit-learn_0.22'},\n",
      " 'metadata': {'created_at': '2020-12-10T03:19:39.118Z',\n",
      "              'id': 'b83517f2-8c94-4c6e-b449-afbf0202cde8',\n",
      "              'modified_at': '2020-12-10T03:19:41.997Z',\n",
      "              'name': 'Adults Census Ensemble model',\n",
      "              'owner': 'IBMid-550009FFP7',\n",
      "              'space_id': '437e6cb6-88cf-4168-a40d-d703b8f6c174'},\n",
      " 'system': {'warnings': [{'message': 'Model type scikit-learn_0.22 is '\n",
      "                                     'deprecated. We recommend you use a '\n",
      "                                     'supported model type. See Supported '\n",
      "                                     'Frameworks '\n",
      "                                     'https://dataplatform.cloud.ibm.com/docs/content/wsj/analyze-data/pm_service_supported_frameworks.html.'}]}}\n"
     ]
    }
   ],
   "source": [
    "# Details about the model.\n",
    "model_details = wml_client.repository.get_details(model_uid)\n",
    "from pprint import pprint\n",
    "pprint(model_details)"
   ]
  },
  {
   "cell_type": "code",
   "execution_count": 122,
   "metadata": {},
   "outputs": [
    {
     "name": "stdout",
     "output_type": "stream",
     "text": [
      "------------------------------------  ----------------------------  ------------------------  -----------------\n",
      "ID                                    NAME                          CREATED                   TYPE\n",
      "b83517f2-8c94-4c6e-b449-afbf0202cde8  Adults Census Ensemble model  2020-12-10T03:19:39.002Z  scikit-learn_0.22\n",
      "05442617-cc5b-4a25-83c2-8a536e043c86  Adults Census Ensemble model  2020-12-10T03:18:29.002Z  scikit-learn_0.22\n",
      "------------------------------------  ----------------------------  ------------------------  -----------------\n"
     ]
    }
   ],
   "source": [
    "# Display a list of all the models.\n",
    "wml_client.repository.list_models()"
   ]
  },
  {
   "cell_type": "markdown",
   "metadata": {},
   "source": [
    "<a id=\"compaire\"></a>\n",
    "#### 3. Model Comparison\n",
    "\n",
    "Note: **same**"
   ]
  },
  {
   "cell_type": "code",
   "execution_count": 1,
   "metadata": {},
   "outputs": [
    {
     "data": {
      "image/png": "[encoded data removed]",
      "text/plain": [
       "<IPython.core.display.Image object>"
      ]
     },
     "execution_count": 1,
     "metadata": {},
     "output_type": "execute_result"
    }
   ],
   "source": [
    "from IPython.display import Image\n",
    "\n",
    "Image(filename='images/Watson/Exp-2/BAG/compare.png')"
   ]
  }
 ],
 "metadata": {
  "kernelspec": {
   "display_name": "Python 3",
   "language": "python",
   "name": "python3"
  },
  "language_info": {
   "codemirror_mode": {
    "name": "ipython",
    "version": 3
   },
   "file_extension": ".py",
   "mimetype": "text/x-python",
   "name": "python",
   "nbconvert_exporter": "python",
   "pygments_lexer": "ipython3",
   "version": "3.8.3"
  }
 },
 "nbformat": 4,
 "nbformat_minor": 4
}
