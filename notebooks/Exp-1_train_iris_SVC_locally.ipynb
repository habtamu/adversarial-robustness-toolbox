{
 "cells": [
  {
   "cell_type": "markdown",
   "metadata": {},
   "source": [
    "<table style=\"border: none\" align=\"center\">\n",
    "   <tr style=\"border: none\">\n",
    "      <th style=\"border: none\"><font face=\"verdana\" size=\"4\" color=\"black\"><b>  EXP:1 LinearSVC  </b></font></font></th>\n",
    "   </tr> \n",
    "</table>"
   ]
  },
  {
   "cell_type": "markdown",
   "metadata": {},
   "source": [
    "In this notebook we demonstrate Model training and adversarial training using ART on the IRIS dataset.\n",
    "\n",
    "Sensitivity to training set details:\n",
    "https://nbviewer.jupyter.org/github/Azure/azureml-examples/blob/main/notebooks/train-lightgbm-local.ipynb\n",
    "\n",
    "\n",
    "## Contents\n",
    "\n",
    "1.\t[Load prereqs and data](#prereqs)\n",
    "2.  [Exploratory Data Analysis](#eda)\n",
    "2.  [Data scale, Train and evaluate a baseline classifier](#classifier)\n",
    "3.  [Adversarially train a robust classifier](#adv_training)\n",
    "4.\t[Evaluate the robust classifier](#evaluation)"
   ]
  },
  {
   "cell_type": "markdown",
   "metadata": {},
   "source": [
    "<a id=\"prereqs\"></a>\n",
    "## 1. Load prereqs and data"
   ]
  },
  {
   "cell_type": "code",
   "execution_count": 1,
   "metadata": {},
   "outputs": [
    {
     "name": "stdin",
     "output_type": "stream",
     "text": [
      "Once deleted, variables cannot be recovered. Proceed (y/[n])?  y\n"
     ]
    }
   ],
   "source": [
    "%reset"
   ]
  },
  {
   "cell_type": "code",
   "execution_count": 2,
   "metadata": {},
   "outputs": [
    {
     "name": "stdout",
     "output_type": "stream",
     "text": [
      "2020-11-25T16:08:03+01:00\n",
      "\n",
      "CPython 3.8.3\n",
      "IPython 7.19.0\n",
      "\n",
      "compiler   : MSC v.1916 64 bit (AMD64)\n",
      "system     : Windows\n",
      "release    : 7\n",
      "machine    : AMD64\n",
      "processor  : Intel64 Family 6 Model 37 Stepping 5, GenuineIntel\n",
      "CPU cores  : 4\n",
      "interpreter: 64bit\n"
     ]
    }
   ],
   "source": [
    "%reload_ext watermark\n",
    "%watermark"
   ]
  },
  {
   "cell_type": "code",
   "execution_count": 70,
   "metadata": {},
   "outputs": [],
   "source": [
    "# Initialization:\n",
    "%reload_ext autoreload\n",
    "%autoreload 2\n",
    "\n",
    "# import warnings filter\n",
    "import warnings\n",
    "warnings.filterwarnings('ignore')\n",
    "# ignore all future warnings\n",
    "warnings.simplefilter(action='ignore', category=FutureWarning)"
   ]
  },
  {
   "cell_type": "code",
   "execution_count": 71,
   "metadata": {},
   "outputs": [
    {
     "name": "stdout",
     "output_type": "stream",
     "text": [
      "Habtamu desalegn \n",
      "last updated: 2020-11-25 \n",
      "\n",
      "CPython 3.8.3\n",
      "IPython 7.19.0\n",
      "\n",
      "numpy 1.19.4\n",
      "pandas 1.1.3\n",
      "scipy 1.5.3\n",
      "matplotlib 3.3.3\n",
      "sklearn 0.23.2\n",
      "mlxtend 0.17.3\n"
     ]
    }
   ],
   "source": [
    "%reload_ext watermark\n",
    "%watermark  -d -u -a \"Habtamu desalegn\" -v -p numpy,pandas,scipy,matplotlib,sklearn,mlxtend"
   ]
  },
  {
   "cell_type": "code",
   "execution_count": 72,
   "metadata": {},
   "outputs": [],
   "source": [
    "# Downloading the Libraries and Dependencies:\n",
    "import os\n",
    "import numpy as np\n",
    "import pandas as pd\n",
    "from IPython.display import Image\n",
    "from typing import Tuple\n",
    "\n",
    "%matplotlib inline\n",
    "import matplotlib.pyplot as plt"
   ]
  },
  {
   "cell_type": "markdown",
   "metadata": {},
   "source": [
    "#### Loading the IRIS dataset"
   ]
  },
  {
   "cell_type": "code",
   "execution_count": 73,
   "metadata": {},
   "outputs": [
    {
     "data": {
      "text/html": [
       "<div>\n",
       "<style scoped>\n",
       "    .dataframe tbody tr th:only-of-type {\n",
       "        vertical-align: middle;\n",
       "    }\n",
       "\n",
       "    .dataframe tbody tr th {\n",
       "        vertical-align: top;\n",
       "    }\n",
       "\n",
       "    .dataframe thead th {\n",
       "        text-align: right;\n",
       "    }\n",
       "</style>\n",
       "<table border=\"1\" class=\"dataframe\">\n",
       "  <thead>\n",
       "    <tr style=\"text-align: right;\">\n",
       "      <th></th>\n",
       "      <th>sepal_length</th>\n",
       "      <th>sepal_width</th>\n",
       "      <th>petal_length</th>\n",
       "      <th>petal_width</th>\n",
       "      <th>species</th>\n",
       "    </tr>\n",
       "  </thead>\n",
       "  <tbody>\n",
       "    <tr>\n",
       "      <th>0</th>\n",
       "      <td>5.1</td>\n",
       "      <td>3.5</td>\n",
       "      <td>1.4</td>\n",
       "      <td>0.2</td>\n",
       "      <td>Iris-setosa</td>\n",
       "    </tr>\n",
       "    <tr>\n",
       "      <th>1</th>\n",
       "      <td>4.9</td>\n",
       "      <td>3.0</td>\n",
       "      <td>1.4</td>\n",
       "      <td>0.2</td>\n",
       "      <td>Iris-setosa</td>\n",
       "    </tr>\n",
       "    <tr>\n",
       "      <th>2</th>\n",
       "      <td>4.7</td>\n",
       "      <td>3.2</td>\n",
       "      <td>1.3</td>\n",
       "      <td>0.2</td>\n",
       "      <td>Iris-setosa</td>\n",
       "    </tr>\n",
       "    <tr>\n",
       "      <th>3</th>\n",
       "      <td>4.6</td>\n",
       "      <td>3.1</td>\n",
       "      <td>1.5</td>\n",
       "      <td>0.2</td>\n",
       "      <td>Iris-setosa</td>\n",
       "    </tr>\n",
       "    <tr>\n",
       "      <th>4</th>\n",
       "      <td>5.0</td>\n",
       "      <td>3.6</td>\n",
       "      <td>1.4</td>\n",
       "      <td>0.2</td>\n",
       "      <td>Iris-setosa</td>\n",
       "    </tr>\n",
       "  </tbody>\n",
       "</table>\n",
       "</div>"
      ],
      "text/plain": [
       "   sepal_length  sepal_width  petal_length  petal_width      species\n",
       "0           5.1          3.5           1.4          0.2  Iris-setosa\n",
       "1           4.9          3.0           1.4          0.2  Iris-setosa\n",
       "2           4.7          3.2           1.3          0.2  Iris-setosa\n",
       "3           4.6          3.1           1.5          0.2  Iris-setosa\n",
       "4           5.0          3.6           1.4          0.2  Iris-setosa"
      ]
     },
     "execution_count": 73,
     "metadata": {},
     "output_type": "execute_result"
    }
   ],
   "source": [
    "COLUMNS = [\"sepal_length\",\"sepal_width\",\"petal_length\",\"petal_width\",\"species\"]\n",
    "PATH = 'https://archive.ics.uci.edu/ml/machine-learning-databases/iris/iris.data'\n",
    "df = pd.read_csv(PATH, header=None, names=COLUMNS)\n",
    "df.head()"
   ]
  },
  {
   "cell_type": "code",
   "execution_count": 74,
   "metadata": {},
   "outputs": [],
   "source": [
    "from sklearn.preprocessing import LabelEncoder\n",
    "\n",
    "X = df.drop('species', axis=1).values\n",
    "y = df['species']\n",
    "\n",
    "enc = LabelEncoder()\n",
    "y = enc.fit_transform(y)"
   ]
  },
  {
   "cell_type": "code",
   "execution_count": 87,
   "metadata": {},
   "outputs": [],
   "source": [
    "# Transformed dataframe\n",
    "df_transformed = pd.DataFrame(\n",
    "    data=X,\n",
    "    columns=[\"sepal_length\",\"sepal_width\",\"petal_length\",\"petal_width\"])\n",
    "df_transformed[\"species\"] = y\n",
    "\n",
    "# save csv file\n",
    "df_transformed.to_csv(\"./data/iris_transformed.csv\", index=False)"
   ]
  },
  {
   "cell_type": "markdown",
   "metadata": {},
   "source": [
    "<a id=\"eda\"></a>\n",
    "## Exploratory Data Analysis"
   ]
  },
  {
   "cell_type": "code",
   "execution_count": 60,
   "metadata": {},
   "outputs": [
    {
     "data": {
      "image/png": "[encoded data removed]",
      "text/plain": [
       "<Figure size 720x576 with 16 Axes>"
      ]
     },
     "metadata": {
      "needs_background": "light"
     },
     "output_type": "display_data"
    }
   ],
   "source": [
    "from mlxtend.plotting import scatterplotmatrix\n",
    "\n",
    "names = ['sepal length [cm]', 'sepal width [cm]',\n",
    "         'petal length [cm]', 'petal width [cm]']\n",
    "\n",
    "fig, axes = scatterplotmatrix(X[y==0], figsize=(10, 8), alpha=0.5)\n",
    "fig, axes = scatterplotmatrix(X[y==1], fig_axes=(fig, axes), alpha=0.5)\n",
    "fig, axes = scatterplotmatrix(X[y==2], fig_axes=(fig, axes), alpha=0.5, names=names)\n",
    "\n",
    "plt.tight_layout()\n",
    "plt.show()"
   ]
  },
  {
   "cell_type": "code",
   "execution_count": 61,
   "metadata": {},
   "outputs": [
    {
     "data": {
      "image/png": "[encoded data removed]",
      "text/plain": [
       "<Figure size 432x288 with 1 Axes>"
      ]
     },
     "metadata": {
      "needs_background": "light"
     },
     "output_type": "display_data"
    }
   ],
   "source": [
    "# select setosa and versicolor\n",
    "y_temp = y[0:100]\n",
    "# extract sepal length and petal length\n",
    "X_temp = X[0:100, [0, 2]]\n",
    "\n",
    "# plot data\n",
    "plt.scatter(X_temp[:50, 0], X_temp[:50, 1],\n",
    "            color='red', marker='o', label='setosa')\n",
    "plt.scatter(X_temp[50:100, 0], X_temp[50:100, 1],\n",
    "            color='blue', marker='x', label='versicolor')\n",
    "\n",
    "plt.xlabel('sepal length [cm]')\n",
    "plt.ylabel('petal length [cm]')\n",
    "plt.legend(loc='upper left')\n",
    "plt.show()"
   ]
  },
  {
   "cell_type": "markdown",
   "metadata": {},
   "source": [
    "<a id=\"classifier\"></a>\n",
    "## 2. Preprocess ,Train and Evaluate a classifier\n",
    "\n",
    "1. [Data Scaling](#2_1)\n",
    "2. [Train a model: SVM](#2_2)\n",
    "3. [Evaluate the model](#2_3)"
   ]
  },
  {
   "cell_type": "markdown",
   "metadata": {},
   "source": [
    "<a id=\"2_1\"></a>\n",
    "### 1. Data Scaling\n",
    "\n",
    "Bringing features onto the same scale"
   ]
  },
  {
   "cell_type": "code",
   "execution_count": 62,
   "metadata": {},
   "outputs": [],
   "source": [
    "from sklearn.preprocessing import MinMaxScaler\n",
    "from sklearn.preprocessing import StandardScaler\n",
    "\n",
    "def preprocess_minmax(X_train: np.ndarray, X_test: np.ndarray) -> Tuple[np.ndarray, np.ndarray]:\n",
    "    \"\"\"\n",
    "    Normalization -- Min-max scaling\n",
    "\n",
    "    Scales `X_train` to [0, 1] , `X_test` to [0, 1]\n",
    "\n",
    "    :param X_train: Data instances.\n",
    "    :param X_test: Data instances.\n",
    "    :return: Rescaled values of `X_train`, `X_test`.\n",
    "    \"\"\"\n",
    "    \n",
    "    # normalize\n",
    "    #print('normalized:', (ex - ex.min()) / (ex.max() - ex.min()))\n",
    "    \n",
    "    mms = MinMaxScaler()\n",
    "    X_train_norm = mms.fit_transform(X_train)\n",
    "    X_test_norm = mms.transform(X_test)\n",
    "    \n",
    "    return X_train_norm, X_test_norm\n",
    "\n",
    "def preprocess_standard(X_train: np.ndarray, X_test: np.ndarray) -> Tuple[np.ndarray, np.ndarray]:\n",
    "    \"\"\"\n",
    "    Standard scaling: Gaussian with zero mean and unit variance\n",
    "\n",
    "    Scales `X_train` to [0, 1] , `X_test` to [0, 1]\n",
    "\n",
    "    :param x: Data instances.\n",
    "    :param y: Labels.\n",
    "    :return: Rescaled values of `x`, `y`.\n",
    "    \"\"\"\n",
    "    \n",
    "    stdsc = StandardScaler()\n",
    "    X_train_std = stdsc.fit_transform(X_train)\n",
    "    X_test_std = stdsc.transform(X_test)\n",
    "    \n",
    "    return X_train_std, X_test_std"
   ]
  },
  {
   "cell_type": "markdown",
   "metadata": {},
   "source": [
    "#### Get the dataset"
   ]
  },
  {
   "cell_type": "code",
   "execution_count": 123,
   "metadata": {},
   "outputs": [],
   "source": [
    "X = df_transformed.drop(['sepal_length','sepal_width','species'], axis=1).values #0=sepal_length, 1=sepal_width 2=petal_length, 3=petal_width\n",
    "y = df_transformed['species']"
   ]
  },
  {
   "cell_type": "code",
   "execution_count": 124,
   "metadata": {},
   "outputs": [
    {
     "data": {
      "text/plain": [
       "(150, 2)"
      ]
     },
     "execution_count": 124,
     "metadata": {},
     "output_type": "execute_result"
    }
   ],
   "source": [
    "X.shape"
   ]
  },
  {
   "cell_type": "code",
   "execution_count": 125,
   "metadata": {},
   "outputs": [
    {
     "data": {
      "text/plain": [
       "(150,)"
      ]
     },
     "execution_count": 125,
     "metadata": {},
     "output_type": "execute_result"
    }
   ],
   "source": [
    "y.shape"
   ]
  },
  {
   "cell_type": "markdown",
   "metadata": {},
   "source": [
    "#### Split in into train/test sets"
   ]
  },
  {
   "cell_type": "code",
   "execution_count": 126,
   "metadata": {},
   "outputs": [],
   "source": [
    "from sklearn.model_selection import train_test_split\n",
    "X_train, X_test, y_train, y_test = train_test_split(X, y, test_size=0.3,random_state=42,shuffle=True)"
   ]
  },
  {
   "cell_type": "markdown",
   "metadata": {},
   "source": [
    "#### Normalize it using Z-Score"
   ]
  },
  {
   "cell_type": "code",
   "execution_count": 127,
   "metadata": {},
   "outputs": [],
   "source": [
    "# Preprocess - Training and testing set\n",
    "### standard\n",
    "(X_train, X_test) = preprocess_standard(X_train, X_test)\n",
    "\n",
    "### normalize\n",
    "#(X_train, X_test) = preprocess_minmax(X_train, X_test)"
   ]
  },
  {
   "cell_type": "code",
   "execution_count": 128,
   "metadata": {},
   "outputs": [
    {
     "name": "stdout",
     "output_type": "stream",
     "text": [
      "X_train.shape: (105, 2)\n",
      "y_train.shape: (105,)\n",
      "X_test.shape: (45, 2)\n",
      "y_test.shape: (45,)\n"
     ]
    }
   ],
   "source": [
    "print(f'X_train.shape: {X_train.shape}')\n",
    "print(f'y_train.shape: {y_train.shape}')\n",
    "print(f'X_test.shape: {X_test.shape}')\n",
    "print(f'y_test.shape: {y_test.shape}')"
   ]
  },
  {
   "cell_type": "code",
   "execution_count": 129,
   "metadata": {},
   "outputs": [
    {
     "data": {
      "text/plain": [
       "array([1, 2, 2, 1, 2, 1, 2, 1, 0, 2, 1, 0, 0, 0, 1, 2, 0, 0, 0, 1, 0, 1,\n",
       "       2, 0, 1, 2, 0, 2, 2, 1, 1, 2, 1, 0, 1, 2, 0, 0, 1, 1, 0, 2, 0, 0,\n",
       "       1, 1, 2, 1, 2, 2, 1, 0, 0, 2, 2, 0, 0, 0, 1, 2, 0, 2, 2, 0, 1, 1,\n",
       "       2, 1, 2, 0, 2, 1, 2, 1, 1, 1, 0, 1, 1, 0, 1, 2, 2, 0, 1, 2, 2, 0,\n",
       "       2, 0, 1, 2, 2, 1, 2, 1, 1, 2, 2, 0, 1, 2, 0, 1, 2])"
      ]
     },
     "execution_count": 129,
     "metadata": {},
     "output_type": "execute_result"
    }
   ],
   "source": [
    "np.array(y_train)"
   ]
  },
  {
   "cell_type": "code",
   "execution_count": 136,
   "metadata": {},
   "outputs": [],
   "source": [
    "# Transformed Train_Std dataframe\n",
    "df_Train_Std = pd.DataFrame(\n",
    "    data=X_train,\n",
    "    columns=[\"petal_length\",\"petal_width\"])\n",
    "df_Train_Std[\"species\"] = y_train.values\n",
    "\n",
    "# save csv file\n",
    "df_Train_Std.to_csv(\"./data/iris_Train_Std.csv\", index=False)"
   ]
  },
  {
   "cell_type": "code",
   "execution_count": 138,
   "metadata": {},
   "outputs": [
    {
     "data": {
      "text/plain": [
       "(105, 3)"
      ]
     },
     "execution_count": 138,
     "metadata": {},
     "output_type": "execute_result"
    }
   ],
   "source": [
    "df_Train_Std.shape"
   ]
  },
  {
   "cell_type": "code",
   "execution_count": 137,
   "metadata": {},
   "outputs": [
    {
     "data": {
      "text/html": [
       "<div>\n",
       "<style scoped>\n",
       "    .dataframe tbody tr th:only-of-type {\n",
       "        vertical-align: middle;\n",
       "    }\n",
       "\n",
       "    .dataframe tbody tr th {\n",
       "        vertical-align: top;\n",
       "    }\n",
       "\n",
       "    .dataframe thead th {\n",
       "        text-align: right;\n",
       "    }\n",
       "</style>\n",
       "<table border=\"1\" class=\"dataframe\">\n",
       "  <thead>\n",
       "    <tr style=\"text-align: right;\">\n",
       "      <th></th>\n",
       "      <th>petal_length</th>\n",
       "      <th>petal_width</th>\n",
       "      <th>species</th>\n",
       "    </tr>\n",
       "  </thead>\n",
       "  <tbody>\n",
       "    <tr>\n",
       "      <th>0</th>\n",
       "      <td>-0.100146</td>\n",
       "      <td>-0.321500</td>\n",
       "      <td>1</td>\n",
       "    </tr>\n",
       "    <tr>\n",
       "      <th>1</th>\n",
       "      <td>0.717711</td>\n",
       "      <td>0.353650</td>\n",
       "      <td>2</td>\n",
       "    </tr>\n",
       "    <tr>\n",
       "      <th>2</th>\n",
       "      <td>0.951384</td>\n",
       "      <td>0.758740</td>\n",
       "      <td>2</td>\n",
       "    </tr>\n",
       "    <tr>\n",
       "      <th>3</th>\n",
       "      <td>0.308783</td>\n",
       "      <td>0.218620</td>\n",
       "      <td>1</td>\n",
       "    </tr>\n",
       "    <tr>\n",
       "      <th>4</th>\n",
       "      <td>1.301894</td>\n",
       "      <td>1.703949</td>\n",
       "      <td>2</td>\n",
       "    </tr>\n",
       "  </tbody>\n",
       "</table>\n",
       "</div>"
      ],
      "text/plain": [
       "   petal_length  petal_width  species\n",
       "0     -0.100146    -0.321500        1\n",
       "1      0.717711     0.353650        2\n",
       "2      0.951384     0.758740        2\n",
       "3      0.308783     0.218620        1\n",
       "4      1.301894     1.703949        2"
      ]
     },
     "execution_count": 137,
     "metadata": {},
     "output_type": "execute_result"
    }
   ],
   "source": [
    "df_Train_Std.head()"
   ]
  },
  {
   "cell_type": "code",
   "execution_count": 139,
   "metadata": {},
   "outputs": [],
   "source": [
    "# Transformed Train_Std dataframe\n",
    "df_Test_Std = pd.DataFrame(\n",
    "    data=X_test,\n",
    "    columns=[\"petal_length\",\"petal_width\"])\n",
    "df_Test_Std[\"species\"] = y_test.values\n",
    "\n",
    "# save csv file\n",
    "df_Test_Std.to_csv(\"./data/iris_Test_Std.csv\", index=False)"
   ]
  },
  {
   "cell_type": "code",
   "execution_count": 140,
   "metadata": {},
   "outputs": [
    {
     "data": {
      "text/plain": [
       "(45, 3)"
      ]
     },
     "execution_count": 140,
     "metadata": {},
     "output_type": "execute_result"
    }
   ],
   "source": [
    "df_Test_Std.shape"
   ]
  },
  {
   "cell_type": "code",
   "execution_count": 141,
   "metadata": {},
   "outputs": [
    {
     "data": {
      "text/html": [
       "<div>\n",
       "<style scoped>\n",
       "    .dataframe tbody tr th:only-of-type {\n",
       "        vertical-align: middle;\n",
       "    }\n",
       "\n",
       "    .dataframe tbody tr th {\n",
       "        vertical-align: top;\n",
       "    }\n",
       "\n",
       "    .dataframe thead th {\n",
       "        text-align: right;\n",
       "    }\n",
       "</style>\n",
       "<table border=\"1\" class=\"dataframe\">\n",
       "  <thead>\n",
       "    <tr style=\"text-align: right;\">\n",
       "      <th></th>\n",
       "      <th>petal_length</th>\n",
       "      <th>petal_width</th>\n",
       "      <th>species</th>\n",
       "    </tr>\n",
       "  </thead>\n",
       "  <tbody>\n",
       "    <tr>\n",
       "      <th>0</th>\n",
       "      <td>0.484037</td>\n",
       "      <td>-0.051440</td>\n",
       "      <td>1</td>\n",
       "    </tr>\n",
       "    <tr>\n",
       "      <th>1</th>\n",
       "      <td>-1.268512</td>\n",
       "      <td>-1.266709</td>\n",
       "      <td>0</td>\n",
       "    </tr>\n",
       "    <tr>\n",
       "      <th>2</th>\n",
       "      <td>1.769240</td>\n",
       "      <td>1.433889</td>\n",
       "      <td>2</td>\n",
       "    </tr>\n",
       "    <tr>\n",
       "      <th>3</th>\n",
       "      <td>0.367201</td>\n",
       "      <td>0.353650</td>\n",
       "      <td>1</td>\n",
       "    </tr>\n",
       "    <tr>\n",
       "      <th>4</th>\n",
       "      <td>0.542456</td>\n",
       "      <td>0.218620</td>\n",
       "      <td>1</td>\n",
       "    </tr>\n",
       "  </tbody>\n",
       "</table>\n",
       "</div>"
      ],
      "text/plain": [
       "   petal_length  petal_width  species\n",
       "0      0.484037    -0.051440        1\n",
       "1     -1.268512    -1.266709        0\n",
       "2      1.769240     1.433889        2\n",
       "3      0.367201     0.353650        1\n",
       "4      0.542456     0.218620        1"
      ]
     },
     "execution_count": 141,
     "metadata": {},
     "output_type": "execute_result"
    }
   ],
   "source": [
    "df_Test_Std.head()"
   ]
  },
  {
   "cell_type": "markdown",
   "metadata": {},
   "source": [
    "<a id=\"2_2_1\"></a>\n",
    "### 2.1 Training a Logistic Regression via scikit-learn"
   ]
  },
  {
   "cell_type": "code",
   "execution_count": 147,
   "metadata": {},
   "outputs": [
    {
     "data": {
      "text/plain": [
       "LogisticRegression(C=0.001, random_state=42, tol=1e-07)"
      ]
     },
     "execution_count": 147,
     "metadata": {},
     "output_type": "execute_result"
    }
   ],
   "source": [
    "from sklearn.linear_model import LogisticRegression\n",
    "\n",
    "model = LogisticRegression(penalty='l2', C=0.001, tol=1e-07, random_state=42)\n",
    "model.fit(X_train, y_train)"
   ]
  },
  {
   "cell_type": "code",
   "execution_count": 148,
   "metadata": {},
   "outputs": [
    {
     "name": "stdout",
     "output_type": "stream",
     "text": [
      "prediction: [2 1 2 2 2 1 1 2 2 1 2 1 1 1 1 2 2 1 2 2 1 2 1 2 2 2 2 2 1 1 1 1 2 1 1 2 2\n",
      " 1 1 1 2 2 2 1 1]\n",
      "Misclassified examples:29\n",
      "Accuracy: 0.35555555555555557\n",
      "confusion matrix:\n",
      " [[ 0 19  0]\n",
      " [ 0  3 10]\n",
      " [ 0  0 13]]\n",
      "\n",
      "[Precision]\n",
      "Individual: 0.00, 0.14, 0.57\n",
      "micro: 0.35555555555555557\n",
      "macro: 0.23386034255599472\n",
      "\n",
      "[Recall]\n",
      "Individual: 0.00, 0.23, 1.00\n",
      "micro: 0.35555555555555557\n",
      "macro: 0.4102564102564103\n",
      "\n",
      "[F1-score]\n",
      "Individual: 0.00, 0.17, 0.72\n",
      "micro: 0.35555555555555557\n",
      "macro: 0.29788359788359786\n",
      "\n",
      "[ROC AUC]\n",
      "macro: 0.05769230769230771\n",
      "\n",
      "classification_report:\n",
      "               precision    recall  f1-score   support\n",
      "\n",
      "           0       0.00      0.00      0.00        19\n",
      "           1       0.14      0.23      0.17        13\n",
      "           2       0.57      1.00      0.72        13\n",
      "\n",
      "    accuracy                           0.36        45\n",
      "   macro avg       0.23      0.41      0.30        45\n",
      "weighted avg       0.20      0.36      0.26        45\n",
      "\n",
      "\n",
      "X_test:\n",
      " [[ 0.48403749 -0.05143998]\n",
      " [-1.26851205 -1.26670948]\n",
      " [ 1.76924049  1.43388941]\n",
      " [ 0.36720086  0.35364985]\n",
      " [ 0.54245581  0.21861991]]\n",
      "\n",
      "class probabilities:\n",
      " [[0.28920998 0.35376811 0.3570219 ]\n",
      " [0.32712034 0.34951338 0.32336628]\n",
      " [0.25614542 0.35474215 0.38911243]\n",
      " [0.28581934 0.35362905 0.36055161]\n",
      " [0.28523405 0.35387715 0.36088879]]\n",
      "\n",
      "Predicting classes: [2 1 2 2 2]\n"
     ]
    }
   ],
   "source": [
    "from sklearn import metrics\n",
    "from sklearn.preprocessing import LabelBinarizer\n",
    "\n",
    "def multiclass_roc_auc_score(y_test, y_pred, average='macro'):\n",
    "    lb = LabelBinarizer()\n",
    "    y_test_bin = lb.fit_transform(y_test)\n",
    "    y_pred_bin = lb.fit_transform(y_pred)\n",
    "    \n",
    "    return metrics.roc_auc_score(y_test_bin, y_pred_bin, average)\n",
    "\n",
    "y_pred = model.predict(X_test)\n",
    "print(f\"prediction: {y_pred}\")\n",
    "#print(f\"y_true: {y_test}\")\n",
    "print(f'Misclassified examples:{(y_test != y_pred).sum()}')\n",
    "\n",
    "# Accuracy\n",
    "accuracy = metrics.accuracy_score(y_test, y_pred)\n",
    "print(f\"Accuracy: {accuracy}\")\n",
    "\n",
    "# Confusion Matrix\n",
    "conf_mat = metrics.confusion_matrix(y_test, y_pred)\n",
    "print(f\"confusion matrix:\\n {conf_mat}\")\n",
    "\n",
    "# Precision\n",
    "print('\\n[Precision]')\n",
    "precision = metrics.precision_score(y_test, y_pred, average=None)\n",
    "print(f'Individual: {precision[0]:.2f}, {precision[1]:.2f}, {precision[2]:.2f}')\n",
    "precision = metrics.precision_score(y_test, y_pred, average='micro')\n",
    "print(f\"micro: {precision}\")\n",
    "precision = metrics.precision_score(y_test, y_pred, average='macro')\n",
    "print(f\"macro: {precision}\")\n",
    "\n",
    "# Recall\n",
    "print('\\n[Recall]')\n",
    "recall = metrics.recall_score(y_test, y_pred, average=None)\n",
    "print(f'Individual: {recall[0]:.2f}, {recall[1]:.2f}, {recall[2]:.2f}')\n",
    "recall = metrics.recall_score(y_test, y_pred, average='micro')\n",
    "print(f\"micro: {recall}\")\n",
    "recall = metrics.recall_score(y_test, y_pred, average='macro')\n",
    "print(f\"macro: {recall}\")\n",
    "\n",
    "# F1\n",
    "print('\\n[F1-score]')\n",
    "f1 = metrics.f1_score(y_test, y_pred, average=None)\n",
    "print(f'Individual: {f1[0]:.2f}, {f1[1]:.2f}, {f1[2]:.2f}')\n",
    "f1 = metrics.f1_score(y_test, y_pred, average='micro')\n",
    "print(f\"micro: {f1}\")\n",
    "f1 = metrics.f1_score(y_test, y_pred, average='macro')\n",
    "print(f\"macro: {f1}\")\n",
    "\n",
    "# AUC\n",
    "print('\\n[ROC AUC]')\n",
    "auc = multiclass_roc_auc_score(y_test, y_pred, average='macro')\n",
    "print(f\"macro: {auc}\")\n",
    "\n",
    "# classification_report\n",
    "print(f\"\\nclassification_report:\\n {metrics.classification_report(y_test, y_pred)}\")\n",
    "\n",
    "# Predicting classes and class probabilities\n",
    "print(f\"\\nX_test:\\n {X_test[0:5,:]}\")\n",
    "print(f\"\\nclass probabilities:\\n {model.predict_proba(X_test[0:5,:])}\")\n",
    "print(f\"\\nPredicting classes: {model.predict(X_test[0:5,:])}\")\n"
   ]
  },
  {
   "cell_type": "markdown",
   "metadata": {},
   "source": [
    "<a id=\"2_2_1\"></a>\n",
    "### 2.1 Training a SVM via scikit-learn"
   ]
  },
  {
   "cell_type": "code",
   "execution_count": 39,
   "metadata": {},
   "outputs": [
    {
     "data": {
      "text/plain": [
       "SVC(C=0.001, probability=True, random_state=42)"
      ]
     },
     "execution_count": 39,
     "metadata": {},
     "output_type": "execute_result"
    }
   ],
   "source": [
    "from sklearn.svm import SVC\n",
    "\n",
    "model = SVC(kernel='rbf', C=0.001, random_state=42, probability=True)\n",
    "model.fit(X_train, y_train)"
   ]
  },
  {
   "cell_type": "code",
   "execution_count": 31,
   "metadata": {
    "scrolled": true
   },
   "outputs": [
    {
     "data": {
      "image/png": "[encoded data removed]",
      "text/plain": [
       "<Figure size 432x288 with 1 Axes>"
      ]
     },
     "metadata": {
      "needs_background": "light"
     },
     "output_type": "display_data"
    }
   ],
   "source": [
    "plot_decision_regions(X_train, y_train, model)\n",
    "plt.xlabel('petal length [cm]')\n",
    "plt.ylabel('petal width [cm]')\n",
    "plt.legend(loc='upper left')\n",
    "plt.tight_layout()\n",
    "plt.show()"
   ]
  },
  {
   "cell_type": "code",
   "execution_count": 75,
   "metadata": {},
   "outputs": [
    {
     "name": "stderr",
     "output_type": "stream",
     "text": [
      "<ipython-input-64-bb5eb72466a6>:33: MatplotlibDeprecationWarning: Using a string of single character colors as a color sequence is deprecated since 3.2 and will be removed two minor releases later. Use an explicit list instead.\n",
      "  plt.scatter(X_test[:, 0],\n"
     ]
    },
    {
     "data": {
      "image/png": "[encoded data removed]",
      "text/plain": [
       "<Figure size 432x288 with 1 Axes>"
      ]
     },
     "metadata": {
      "needs_background": "light"
     },
     "output_type": "display_data"
    }
   ],
   "source": [
    "from matplotlib.colors import ListedColormap\n",
    "\n",
    "X_combined = np.vstack((X_train, X_test))\n",
    "y_combined = np.hstack((y_train, y_test))\n",
    "plot_decision_regions(X_combined, y_combined, \n",
    "                      classifier=model,\n",
    "                      test_idx=range(105, 150))\n",
    "\n",
    "plt.xlabel('petal length [cm]')\n",
    "plt.ylabel('petal width [cm]')\n",
    "plt.legend(loc='upper left')\n",
    "plt.tight_layout()\n",
    "plt.show()"
   ]
  },
  {
   "cell_type": "markdown",
   "metadata": {},
   "source": [
    "<a id=\"2_3\"></a>\n",
    "### Evaluate the model\n",
    "\n",
    "Looking at different performance evaluation metrics"
   ]
  },
  {
   "cell_type": "code",
   "execution_count": 40,
   "metadata": {},
   "outputs": [
    {
     "name": "stdout",
     "output_type": "stream",
     "text": [
      "prediction: [1 1 2 1 1 1 1 2 1 1 2 1 1 1 1 1 2 1 1 2 1 2 1 2 2 2 2 2 1 1 1 1 1 1 1 2 1\n",
      " 1 1 1 2 1 1 1 1]\n",
      "y_true: [1 0 2 1 1 0 1 2 1 1 2 0 0 0 0 1 2 1 1 2 0 2 0 2 2 2 2 2 0 0 0 0 1 0 0 2 1\n",
      " 0 0 0 2 1 1 0 0]\n",
      "Misclassified examples:19\n",
      "confusion matrix:\n",
      " [[ 0 19  0]\n",
      " [ 0 13  0]\n",
      " [ 0  0 13]]\n",
      "Accuracy: 0.5777777777777777\n",
      "\n",
      "[Precision]\n"
     ]
    },
    {
     "name": "stderr",
     "output_type": "stream",
     "text": [
      "C:\\Users\\Hade\\AppData\\Roaming\\Python\\Python38\\site-packages\\sklearn\\metrics\\_classification.py:1221: UndefinedMetricWarning: Precision is ill-defined and being set to 0.0 in labels with no predicted samples. Use `zero_division` parameter to control this behavior.\n",
      "  _warn_prf(average, modifier, msg_start, len(result))\n",
      "C:\\Users\\Hade\\AppData\\Roaming\\Python\\Python38\\site-packages\\sklearn\\utils\\validation.py:67: FutureWarning: Pass average=macro as keyword args. From version 0.25 passing these as positional arguments will result in an error\n",
      "  warnings.warn(\"Pass {} as keyword args. From version 0.25 \"\n",
      "C:\\Users\\Hade\\AppData\\Roaming\\Python\\Python38\\site-packages\\sklearn\\metrics\\_classification.py:1221: UndefinedMetricWarning: Precision and F-score are ill-defined and being set to 0.0 in labels with no predicted samples. Use `zero_division` parameter to control this behavior.\n",
      "  _warn_prf(average, modifier, msg_start, len(result))\n"
     ]
    },
    {
     "name": "stdout",
     "output_type": "stream",
     "text": [
      "Individual: 0.00, 0.41, 1.00\n",
      "micro: 0.5777777777777777\n",
      "macro: 0.46875\n",
      "\n",
      "[Recall]\n",
      "Individual: 0.00, 1.00, 1.00\n",
      "micro: 0.5777777777777777\n",
      "macro: 0.6666666666666666\n",
      "\n",
      "[F1-score]\n",
      "Individual: 0.00, 0.58, 1.00\n",
      "micro: 0.5777777777777777\n",
      "macro: 0.5259259259259259\n",
      "\n",
      "[ROC AUC]\n",
      "macro: 0.25\n",
      "\n",
      "classification_report:\n",
      "               precision    recall  f1-score   support\n",
      "\n",
      "           0       0.00      0.00      0.00        19\n",
      "           1       0.41      1.00      0.58        13\n",
      "           2       1.00      1.00      1.00        13\n",
      "\n",
      "    accuracy                           0.58        45\n",
      "   macro avg       0.47      0.67      0.53        45\n",
      "weighted avg       0.41      0.58      0.46        45\n",
      "\n",
      "\n",
      "X_test:\n",
      " [[ 0.48403749 -0.05143998]\n",
      " [-1.26851205 -1.26670948]\n",
      " [ 1.76924049  1.43388941]\n",
      " [ 0.36720086  0.35364985]\n",
      " [ 0.54245581  0.21861991]]\n",
      "\n",
      "class probabilities:\n",
      " [[0.33606237 0.34238447 0.32155316]\n",
      " [0.33077704 0.34589579 0.32332717]\n",
      " [0.3353296  0.34525419 0.31941621]\n",
      " [0.33639327 0.3425741  0.32103264]\n",
      " [0.33638159 0.34261136 0.32100704]]\n",
      "\n",
      "Predicting classes: [1 1 2 1 1]\n"
     ]
    }
   ],
   "source": [
    "from sklearn import metrics\n",
    "from sklearn.preprocessing import LabelBinarizer\n",
    "\n",
    "def multiclass_roc_auc_score(y_test, y_pred, average='macro'):\n",
    "    lb = LabelBinarizer()\n",
    "    y_test_bin = lb.fit_transform(y_test)\n",
    "    y_pred_bin = lb.fit_transform(y_pred)\n",
    "    \n",
    "    return metrics.roc_auc_score(y_test_bin, y_pred_bin, average)\n",
    "\n",
    "\n",
    "y_pred = model.predict(X_test)\n",
    "print(f\"prediction: {y_pred}\")\n",
    "print(f\"y_true: {y_test}\")\n",
    "print(f'Misclassified examples:{(y_test != y_pred).sum()}')\n",
    "\n",
    "# Confusion Matrix\n",
    "conf_mat = metrics.confusion_matrix(y_test, y_pred)\n",
    "print(f\"confusion matrix:\\n {conf_mat}\")\n",
    "\n",
    "# Accuracy\n",
    "accuracy = metrics.accuracy_score(y_test, y_pred)\n",
    "print(f\"Accuracy: {accuracy}\")\n",
    "\n",
    "# Precision\n",
    "print('\\n[Precision]')\n",
    "precision = metrics.precision_score(y_test, y_pred, average=None)\n",
    "print(f'Individual: {precision[0]:.2f}, {precision[1]:.2f}, {precision[2]:.2f}')\n",
    "precision = metrics.precision_score(y_test, y_pred, average='micro')\n",
    "print(f\"micro: {precision}\")\n",
    "precision = metrics.precision_score(y_test, y_pred, average='macro')\n",
    "print(f\"macro: {precision}\")\n",
    "\n",
    "# Recall\n",
    "print('\\n[Recall]')\n",
    "recall = metrics.recall_score(y_test, y_pred, average=None)\n",
    "print(f'Individual: {recall[0]:.2f}, {recall[1]:.2f}, {recall[2]:.2f}')\n",
    "recall = metrics.recall_score(y_test, y_pred, average='micro')\n",
    "print(f\"micro: {recall}\")\n",
    "recall = metrics.recall_score(y_test, y_pred, average='macro')\n",
    "print(f\"macro: {recall}\")\n",
    "\n",
    "# F1\n",
    "print('\\n[F1-score]')\n",
    "f1 = metrics.f1_score(y_test, y_pred, average=None)\n",
    "print(f'Individual: {f1[0]:.2f}, {f1[1]:.2f}, {f1[2]:.2f}')\n",
    "f1 = metrics.f1_score(y_test, y_pred, average='micro')\n",
    "print(f\"micro: {f1}\")\n",
    "f1 = metrics.f1_score(y_test, y_pred, average='macro')\n",
    "print(f\"macro: {f1}\")\n",
    "\n",
    "# AUC\n",
    "print('\\n[ROC AUC]')\n",
    "auc = multiclass_roc_auc_score(y_test, y_pred, average='macro')\n",
    "print(f\"macro: {auc}\")\n",
    "\n",
    "# classification_report\n",
    "print(f\"\\nclassification_report:\\n {metrics.classification_report(y_test, y_pred)}\")\n",
    "\n",
    "# Predicting classes and class probabilities\n",
    "print(f\"\\nX_test:\\n {X_test[0:5,:]}\")\n",
    "print(f\"\\nclass probabilities:\\n {model.predict_proba(X_test[0:5,:])}\")\n",
    "print(f\"\\nPredicting classes: {model.predict(X_test[0:5,:])}\")"
   ]
  },
  {
   "cell_type": "code",
   "execution_count": 133,
   "metadata": {},
   "outputs": [
    {
     "data": {
      "image/png": "[encoded data removed]",
      "text/plain": [
       "<Figure size 180x180 with 1 Axes>"
      ]
     },
     "metadata": {
      "needs_background": "light"
     },
     "output_type": "display_data"
    }
   ],
   "source": [
    "fig, ax = plt.subplots(figsize=(2.5, 2.5))\n",
    "ax.matshow(conf_mat, cmap=plt.cm.Blues, alpha=0.3)\n",
    "for i in range(conf_mat.shape[0]):\n",
    "    for j in range(conf_mat.shape[1]):\n",
    "        ax.text(x=j, y=i, s=conf_mat[i, j], va='center', ha='center')\n",
    "\n",
    "plt.xlabel('Predicted label')\n",
    "plt.ylabel('True label')\n",
    "\n",
    "plt.tight_layout()\n",
    "plt.show()"
   ]
  },
  {
   "cell_type": "code",
   "execution_count": 155,
   "metadata": {},
   "outputs": [
    {
     "name": "stdout",
     "output_type": "stream",
     "text": [
      "Max f1_score on C = 0.021  is  1.0\n"
     ]
    },
    {
     "data": {
      "text/plain": [
       "<matplotlib.legend.Legend at 0x14ecca90>"
      ]
     },
     "execution_count": 155,
     "metadata": {},
     "output_type": "execute_result"
    },
    {
     "data": {
      "image/png": "[encoded data removed]",
      "text/plain": [
       "<Figure size 432x288 with 1 Axes>"
      ]
     },
     "metadata": {
      "needs_background": "light"
     },
     "output_type": "display_data"
    }
   ],
   "source": [
    "# imports\n",
    "import time\n",
    "\n",
    "def train_model(regularize, X_train, y_train):\n",
    "    t1 = time.time()\n",
    "    model = SVC(kernel='rbf', C=regularize, random_state=42, probability=True)\n",
    "    model.fit(X_train, y_train)\n",
    "    t2 = time.time()\n",
    "\n",
    "    return model, t2 - t1\n",
    "\n",
    "\n",
    "def evaluate_model(model, X_test, y_test):\n",
    "    y_pred = model.predict(X_test)\n",
    "    acc = metrics.accuracy_score(y_test, y_pred)\n",
    "    recall = metrics.recall_score(y_test, y_pred, average='macro')\n",
    "    precision = metrics.precision_score(y_test, y_pred, average='macro')\n",
    "    auc = multiclass_roc_auc_score(y_test, y_pred, average='macro')\n",
    "    f1 = metrics.f1_score(y_test, y_pred, average='macro')\n",
    "    \n",
    "    return acc, recall, precision, auc, f1\n",
    "\n",
    "\n",
    "max_c = 0.0;\n",
    "max_j = 0.0;\n",
    "\n",
    "y_acc = []\n",
    "y_recall = []\n",
    "y_precision = []\n",
    "y_auc = []\n",
    "y_fsc = []\n",
    "\n",
    "for j in np.linspace(0.001,0.1,100):\n",
    "    x_vals = np.linspace(0.001,0.1,100)\n",
    "    # train model\n",
    "    clf, train_time = train_model(j , X_train, y_train)\n",
    "    acc, recall, precision, auc, f1 = evaluate_model(clf, X_test, y_test)\n",
    "    y_acc.append(acc)\n",
    "    y_recall.append(recall)\n",
    "    y_precision.append(precision)\n",
    "    y_auc.append(auc)\n",
    "    y_fsc.append(f1)\n",
    "    \n",
    "    if f1 > max_c:\n",
    "        max_c = f1\n",
    "        max_j = j\n",
    "        \n",
    "    \n",
    "print(\"Max f1_score on C =\",  max_j , \" is \", max_c)\n",
    "plt.figure()\n",
    "plt.xlabel('Regularization parameter')\n",
    "plt.ylabel('Score')\n",
    "plt.title('Support Vector Machine')\n",
    "plt.plot(x_vals, y_fsc, color = \"green\", label = \"f1_score\")\n",
    "plt.plot(x_vals, y_auc, color = \"red\", label = \"roc_auc_score\")\n",
    "plt.plot(x_vals, y_acc, color = \"black\", label = \"accuracy_score\")\n",
    "\n",
    "plt.legend()"
   ]
  },
  {
   "cell_type": "markdown",
   "metadata": {},
   "source": [
    "#### Receiver Operating Characteristic (ROC) Curve"
   ]
  },
  {
   "cell_type": "code",
   "execution_count": 163,
   "metadata": {},
   "outputs": [
    {
     "data": {
      "image/png": "[encoded data removed]",
      "text/plain": [
       "<Figure size 432x288 with 1 Axes>"
      ]
     },
     "metadata": {
      "needs_background": "light"
     },
     "output_type": "display_data"
    }
   ],
   "source": [
    "def train_model(X_train, y_train):\n",
    "    model = SVC(kernel='rbf', C=0.021, random_state=42, probability=True)\n",
    "    model.fit(X_train, y_train)\n",
    "    return model\n",
    "\n",
    "\n",
    "def evaluate_model(model, X_test, y_test):\n",
    "    probas  = model.predict_proba(X_test)\n",
    "    ## we use feature 1 as positive label\n",
    "    fpr, tpr, thresholds = metrics.roc_curve(y_test,\n",
    "                                 probas[:, 0],\n",
    "                                 pos_label=0)\n",
    "\n",
    "    return fpr, tpr, thresholds\n",
    "\n",
    "clf = train_model(X_train, y_train)\n",
    "fpr, tpr, thresholds = evaluate_model(clf, X_test, y_test)\n",
    "plt.plot(fpr, tpr, lw=2, label='SVM')\n",
    "plt.plot([0, 1],\n",
    "         [0, 1],\n",
    "         linestyle='--',\n",
    "         color='gray',\n",
    "         label='Random guessing')\n",
    "plt.plot([0, 0, 1],\n",
    "         [0, 1, 1],\n",
    "         linestyle='-.',\n",
    "         alpha=0.5,\n",
    "         color='red',\n",
    "         label='Perfect')\n",
    "\n",
    "plt.xlim([-0.05, 1.05])\n",
    "plt.ylim([-0.05, 1.05])\n",
    "plt.xlabel('FPR')\n",
    "plt.ylabel('TPR')\n",
    "plt.title('ROC Curve')\n",
    "plt.legend(loc=\"lower right\")\n",
    "plt.tight_layout()\n",
    "plt.legend(loc=4, prop={'size': 18})\n",
    "for item in ([ax.title, ax.xaxis.label, ax.yaxis.label] +\n",
    "             ax.get_xticklabels() + ax.get_yticklabels()):\n",
    "    item.set_fontsize(20)\n",
    "for item in (ax.get_xticklabels() + ax.get_yticklabels()):\n",
    "    item.set_fontsize(15)\n",
    "plt.show()"
   ]
  },
  {
   "cell_type": "markdown",
   "metadata": {},
   "source": [
    "## 5 Adversarial-Robustness-Toolbox for scikit-learn SVC"
   ]
  }
 ],
 "metadata": {
  "kernelspec": {
   "display_name": "Python 3",
   "language": "python",
   "name": "python3"
  },
  "language_info": {
   "codemirror_mode": {
    "name": "ipython",
    "version": 3
   },
   "file_extension": ".py",
   "mimetype": "text/x-python",
   "name": "python",
   "nbconvert_exporter": "python",
   "pygments_lexer": "ipython3",
   "version": "3.8.3"
  }
 },
 "nbformat": 4,
 "nbformat_minor": 4
}
