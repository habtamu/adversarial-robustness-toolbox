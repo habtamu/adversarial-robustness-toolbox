{
 "cells": [
  {
   "cell_type": "markdown",
   "metadata": {
    "nteract": {
     "transient": {
      "deleting": false
     }
    }
   },
   "source": [
    "# Adults Census Model Training with Sagemaker Scikit-learn \n",
    "## Ensemble learning"
   ]
  },
  {
   "cell_type": "markdown",
   "metadata": {},
   "source": [
    "This notebook used to experiment Scikit-learn with Sagemaker by utilizing the pre-built container.\n",
    "\n",
    "[Analysis](#compaire)\n",
    "\n",
    "- **Performance metrics for Local and sagemaker training hardware are equal.**\n",
    "\n",
    "\n",
    "## Outline\n",
    "\n",
    "1. [Setup Development Environment](#setup)\n",
    "2. [Data Preparation](#data_prep)\n",
    "3. [Model Training](#train)\n",
    "4. [Model Comparison](#compaire)\n",
    "5. [Adversarially train a robust classifier](#adv_training)\n",
    "6. [Evaluate the robust classifier](#evaluation)"
   ]
  },
  {
   "cell_type": "markdown",
   "metadata": {
    "nteract": {
     "transient": {
      "deleting": false
     }
    }
   },
   "source": [
    "<a id=\"setup\"></a>\n",
    "### 1 Set up Development Environment"
   ]
  },
  {
   "cell_type": "markdown",
   "metadata": {
    "nteract": {
     "transient": {
      "deleting": false
     }
    }
   },
   "source": [
    "Steps:\n",
    "- Import base Amazon SageMaker ML packages\n",
    "- Check the SDK version\n",
    "- Create S3 bucket"
   ]
  },
  {
   "cell_type": "code",
   "execution_count": 1,
   "metadata": {
    "gather": {
     "logged": 1606173132065
    }
   },
   "outputs": [
    {
     "name": "stdout",
     "output_type": "stream",
     "text": [
      "Ready to use Amazon SageMaker 2.16.4.dev0\n"
     ]
    }
   ],
   "source": [
    "# base packages to work with SageMaker\n",
    "import boto3\n",
    "from sagemaker import get_execution_role\n",
    "import sagemaker\n",
    "\n",
    "# check core SDK version number\n",
    "print(\"Ready to use Amazon SageMaker\", sagemaker.__version__)"
   ]
  },
  {
   "cell_type": "code",
   "execution_count": 2,
   "metadata": {},
   "outputs": [
    {
     "name": "stdout",
     "output_type": "stream",
     "text": [
      "Using S3 bucket: sagemaker-us-east-2-359732627051\n"
     ]
    }
   ],
   "source": [
    "# S3 prefix\n",
    "prefix = 'Scikit-adults'\n",
    "\n",
    "# Now let's define the S3 bucket\n",
    "sm_boto3 = boto3.client('sagemaker')\n",
    "sess = sagemaker.Session()\n",
    "region = sess.boto_session.region_name\n",
    "bucket = sess.default_bucket()  # this could also be a hard-coded bucket name\n",
    "print(f'Using S3 bucket: {bucket}' )"
   ]
  },
  {
   "cell_type": "code",
   "execution_count": 3,
   "metadata": {},
   "outputs": [],
   "source": [
    "# Python libraries that we'll use throughout the analysis\n",
    "import os\n",
    "import datetime\n",
    "import time\n",
    "import tarfile\n",
    "import pandas as pd\n",
    "import numpy as np"
   ]
  },
  {
   "cell_type": "markdown",
   "metadata": {},
   "source": [
    "<a id=\"data_prep\"></a>\n",
    "### 2. Data Preparation\n",
    "We download Adult Census Income Binary classfication dataset from github, prepreocessing, split it and send it to S3\n",
    "\n",
    "- 2.1 Download dataset\n",
    "- 2.2 Upload data to Amazon S3 bucket\n",
    "\n",
    "Dataset: https://archive.ics.uci.edu/ml/datasets/Adult\n",
    "\n",
    "**Ref:  Exp-2_train_adult_SVC_SageMaker-v3.ipynb**"
   ]
  },
  {
   "cell_type": "markdown",
   "metadata": {},
   "source": [
    "<a id=\"train\"></a>\n",
    "### 3 Model Training\n",
    "\n",
    "- 3.1 [Prepare a training script](#3_1)\n",
    "- 3.2 [Train Model](#3_2)\n",
    "    - 3.2.1 [Run locally](#3_2_1)\n",
    "    - 3.2.2 [Submit the Training Job to the Compute Cluster](#3_2_2)\n",
    "    - 3.2.3 [Run locally (My Desktop hardware)](#3_2_3)\n",
    "        - 3.2.3.1 [Setup](#3_2_3_1)\n",
    "        - 3.2.3.2 [Data Preparation](#3_2_3_2)\n",
    "        - 3.2.3.3 [Model Training](#3_2_3_3)"
   ]
  },
  {
   "cell_type": "markdown",
   "metadata": {},
   "source": [
    "<a id=\"3_1\"></a>\n",
    "#### 3.1 Prepare a training script\n",
    "The below script contains training model and can run (model training) both in SageMaker hardware for model training or locally (desktop, SageMaker notebook, etc)"
   ]
  },
  {
   "cell_type": "code",
   "execution_count": 4,
   "metadata": {},
   "outputs": [],
   "source": [
    "# Directory to write training script.\n",
    "# Code Directory\n",
    "import os\n",
    "script_folder = os.path.join(os.getcwd(), \"script\")\n",
    "os.makedirs(script_folder, exist_ok=True)"
   ]
  },
  {
   "cell_type": "code",
   "execution_count": 5,
   "metadata": {},
   "outputs": [
    {
     "name": "stdout",
     "output_type": "stream",
     "text": [
      "Writing /home/ec2-user/SageMaker/script/train_adult_ensemble.py\n"
     ]
    }
   ],
   "source": [
    "%%writefile $script_folder/train_adult_ensemble.py\n",
    "import os\n",
    "import time\n",
    "import argparse\n",
    "import joblib\n",
    "import pandas as pd\n",
    "import numpy as np\n",
    "\n",
    "from sklearn.preprocessing import LabelEncoder\n",
    "from sklearn.preprocessing import OneHotEncoder\n",
    "from sklearn.preprocessing import MinMaxScaler\n",
    "from sklearn.pipeline import Pipeline\n",
    "from sklearn.compose import ColumnTransformer\n",
    "from sklearn.model_selection import train_test_split\n",
    "from sklearn import metrics\n",
    "from sklearn.tree import DecisionTreeClassifier\n",
    "from sklearn.ensemble import BaggingClassifier\n",
    "\n",
    "\n",
    "if __name__ =='__main__':\n",
    "    start_time = time.time()\n",
    "    print('extracting arguments')\n",
    "    parser = argparse.ArgumentParser()\n",
    "\n",
    "    # hyperparameters will be passed as arguments to the script.\n",
    "    # example: sklearn DecisionTreeClassifier hyperparameters\n",
    "    parser.add_argument('--max-leaf-nodes', type=int, default=30)\n",
    "    parser.add_argument('--criterion', type=str, default=\"gini\")\n",
    "    parser.add_argument('--max-depth', type=int, default=32)\n",
    "    parser.add_argument('--min-samples-leaf', type=int, default=1)\n",
    "    parser.add_argument('--n-estimators', type=int, default=10)\n",
    "    \n",
    "    \n",
    "    # Data, model, and output directories\n",
    "    parser.add_argument('--model-dir', type=str, default=os.environ.get('SM_MODEL_DIR'))\n",
    "    parser.add_argument('--train', type=str, default=os.environ.get('SM_CHANNEL_TRAIN'))\n",
    "    parser.add_argument('--features', type=str)  # required name features for flexibity\n",
    "    parser.add_argument('--target', type=str, default='IncomeGroup')\n",
    "\n",
    "    args, _ = parser.parse_known_args()\n",
    "    print(f\"--model-dir: {args.model_dir}\")\n",
    "    print(f\"--train: {args.train}\")\n",
    "    print(f\"--max-leaf-nodes: {args.max_leaf_nodes}\")\n",
    "    print(f\"--criterion: {args.criterion}\")\n",
    "    print(f\"--max-depth: {args.max_depth}\")\n",
    "    print(f\"--min-samples-leaf: {args.min_samples_leaf}\")\n",
    "    print(f\"--n-estimators: {args.n_estimators}\")\n",
    "    \n",
    "    # Take the set of files and read them all into a single pandas dataframe\n",
    "    input_files = [ os.path.join(args.train, file) for file in os.listdir(args.train) ]\n",
    "    if len(input_files) == 0:\n",
    "        raise ValueError(('There are no files in {}.\\n' +\n",
    "                          'This usually indicates that the channel ({}) was incorrectly specified,\\n' +\n",
    "                          'the data specification in S3 was incorrectly specified or the role specified\\n' +\n",
    "                          'does not have permission to access the data.').format(args.train, \"train\"))\n",
    "    raw_data = [ pd.read_csv(file, engine=\"python\") for file in input_files ]\n",
    "    df = pd.concat(raw_data)\n",
    "    print(df.head())\n",
    "          \n",
    "    #Prepocessing\n",
    "    print('building datasets')\n",
    "    X = df[args.features.split()]\n",
    "    y = df[args.target]\n",
    "\n",
    "    # label encode the target variable to have the classes 0 and 1\n",
    "    y = LabelEncoder().fit_transform(y)\n",
    "    \n",
    "    cat_ix = X.select_dtypes(include=['object', 'bool']).columns\n",
    "    print(f\"cat_ix: {cat_ix}\")\n",
    "    num_ix = X.select_dtypes(include=['int64', 'float64']).columns\n",
    "    print(f\"num_ix: {num_ix}\")\n",
    "    \n",
    "    #use stratify for un balanced number of examples for each class label\n",
    "    X_train, X_test, y_train, y_test = train_test_split(X, y, test_size=0.3,random_state=42,shuffle=True)\n",
    "    print(f\"X_train:{X_train.shape}\")\n",
    "    print(f\"X_test: {X_test.shape}\")\n",
    "    print(f\"y_train:{y_train.shape}\")\n",
    "    print(f\"y_test: {y_test.shape}\")\n",
    "          \n",
    "    # Model Training: Support Vector Machines\n",
    "    print('training model')\n",
    "    MODEL = 'Ensemble'\n",
    "    \n",
    "    tree  = DecisionTreeClassifier(max_leaf_nodes=args.max_leaf_nodes,\n",
    "                                   criterion=args.criterion, \n",
    "                                   max_depth=args.max_depth, \n",
    "                                   min_samples_leaf=args.min_samples_leaf, \n",
    "                                   random_state=42)\n",
    "\n",
    "    bag = BaggingClassifier(base_estimator=tree,\n",
    "                        n_estimators=args.n_estimators,\n",
    "                        oob_score=True,\n",
    "                        bootstrap=True,\n",
    "                        bootstrap_features=False,\n",
    "                        n_jobs=1,\n",
    "                        random_state=42)\n",
    "\n",
    "    # define steps\n",
    "    steps = [('c',OneHotEncoder(handle_unknown='ignore'),cat_ix), ('n',MinMaxScaler(),num_ix)]\n",
    "    # one hot encode categorical, normalize numerical\n",
    "    ct = ColumnTransformer(steps)\n",
    "    # wrap the model a pipeline\n",
    "    pipe  = Pipeline(steps=[('transformer',ct),('bag',bag)])\n",
    "    pipe.fit(X_train, y_train)\n",
    "    print(f\"model: {pipe}\")\n",
    "          \n",
    "    ## Evaluate the model\n",
    "\n",
    "    # using threshold\n",
    "    threshold = 0.5 # set threshold as 0.5\n",
    "    y_pred = (pipe.predict_proba(X_test)[:,1] >= threshold).astype(int) \n",
    "    print(f\"y_pred: {y_pred}\")\n",
    "    print(f'Misclassified examples:{(y_test != y_pred).sum()}')\n",
    "    print(pipe.predict_proba(X_test))\n",
    "          \n",
    "    print(f\"distinct y_pred: {np.unique(y_pred)}\")\n",
    "    print(f\"distinct y_test: {np.unique(y_test)}\")\n",
    "          \n",
    "    # Confusion Matrix\n",
    "    conf_mat = metrics.confusion_matrix(y_test, y_pred)\n",
    "    print(f\"confusion matrix:\\n {conf_mat}\")\n",
    "    \n",
    "    # AUC\n",
    "    auc = metrics.roc_auc_score(y_test, y_pred)\n",
    "    print(f\"auc: {auc}\")\n",
    "    \n",
    "    # Accuracy\n",
    "    accuracy = metrics.accuracy_score(y_test, y_pred)\n",
    "    print(f\"Accuracy: {accuracy}\") \n",
    "    \n",
    "    # Precision\n",
    "    precision = metrics.precision_score(y_test, y_pred)\n",
    "    print(f\"Precision: {precision}\")\n",
    "    \n",
    "    # Recall\n",
    "    recall = metrics.recall_score(y_test, y_pred)\n",
    "    print(f\"Recall: {recall}\")\n",
    "    \n",
    "    # F1\n",
    "    f1 = metrics.f1_score(y_test, y_pred)\n",
    "    print(f\"F1: {f1}\")\n",
    "    \n",
    "    # classification_report\n",
    "    print('classification_report')\n",
    "    print(metrics.classification_report(y_test, y_pred))\n",
    "        \n",
    "    # persist model\n",
    "    path = os.path.join(args.model_dir, f\"{MODEL}.joblib\")\n",
    "    joblib.dump(pipe, path)\n",
    "    print('model persisted at ' + path)\n",
    "    \n",
    "    time_elapsed = (time.time() - start_time)\n",
    "    print(\"Computational time:{}\".format(time_elapsed))"
   ]
  },
  {
   "cell_type": "markdown",
   "metadata": {
    "nteract": {
     "transient": {
      "deleting": false
     }
    }
   },
   "source": [
    "<a id=\"3_2\"></a>\n",
    "#### 3.2 Train Model\n",
    "\n",
    "- 3.2.1 [Run locally](#3_2_1)\n",
    "- 3.2.2 [Submit the Training Job to the Compute Cluster](#3_2_2)\n",
    "- 3.2.3 [Run locally (My Desktop hardware)](#3_2_3)\n",
    "\n",
    "<a id=\"3_2_1\"></a>\n",
    "##### 3.2.1 Run locally\n",
    "Here we can run model Training locally (such as desktop, SageMaker notebook, etc)\n",
    "\n",
    "script arguments allows us to remove from the script any SageMaker-specific configuration, and run locally"
   ]
  },
  {
   "cell_type": "code",
   "execution_count": 7,
   "metadata": {},
   "outputs": [
    {
     "name": "stdout",
     "output_type": "stream",
     "text": [
      "2020-12-07T22:51:36+00:00\n",
      "\n",
      "CPython 3.6.10\n",
      "IPython 7.12.0\n",
      "\n",
      "compiler   : GCC 7.3.0\n",
      "system     : Linux\n",
      "release    : 4.14.200-116.320.amzn1.x86_64\n",
      "machine    : x86_64\n",
      "processor  : x86_64\n",
      "CPU cores  : 2\n",
      "interpreter: 64bit\n"
     ]
    }
   ],
   "source": [
    "#! pip install watermark\n",
    "%reload_ext watermark\n",
    "%watermark"
   ]
  },
  {
   "cell_type": "code",
   "execution_count": 8,
   "metadata": {},
   "outputs": [
    {
     "name": "stdout",
     "output_type": "stream",
     "text": [
      "Amazon SageMaker  \n",
      "last updated: 2020-12-07 \n",
      "\n",
      "CPython 3.6.10\n",
      "IPython 7.12.0\n",
      "\n",
      "numpy 1.18.1\n",
      "pandas 1.0.1\n",
      "scipy 1.4.1\n",
      "sklearn 0.22.1\n",
      "sagemaker 2.16.4.dev0\n"
     ]
    }
   ],
   "source": [
    "%reload_ext watermark\n",
    "%watermark  -d -u -a \"Amazon SageMaker \" -v -p numpy,pandas,scipy,sklearn,sagemaker"
   ]
  },
  {
   "cell_type": "markdown",
   "metadata": {},
   "source": [
    "--features 'age fnlwgt education education-num marital-status relationship race sex capital-gain capital-loss hours-per-week' "
   ]
  },
  {
   "cell_type": "code",
   "execution_count": 6,
   "metadata": {},
   "outputs": [
    {
     "name": "stdout",
     "output_type": "stream",
     "text": [
      "extracting arguments\n",
      "--model-dir: ./\n",
      "--train: ./data/\n",
      "--max-leaf-nodes: 30\n",
      "--criterion: gini\n",
      "--max-depth: 32\n",
      "--min-samples-leaf: 1\n",
      "--n-estimators: 100\n",
      "   age          workclass  fnlwgt  ... hours-per-week  native-country IncomeGroup\n",
      "0   39          State-gov   77516  ...             40   United-States       <=50K\n",
      "1   50   Self-emp-not-inc   83311  ...             13   United-States       <=50K\n",
      "2   38            Private  215646  ...             40   United-States       <=50K\n",
      "3   53            Private  234721  ...             40   United-States       <=50K\n",
      "4   28            Private  338409  ...             40            Cuba       <=50K\n",
      "\n",
      "[5 rows x 15 columns]\n",
      "building datasets\n",
      "cat_ix: Index(['workclass', 'education', 'marital-status', 'occupation',\n",
      "       'relationship', 'race', 'sex', 'native-country'],\n",
      "      dtype='object')\n",
      "num_ix: Index(['age', 'fnlwgt', 'education-num', 'capital-gain', 'capital-loss',\n",
      "       'hours-per-week'],\n",
      "      dtype='object')\n",
      "X_train:(31655, 14)\n",
      "X_test: (13567, 14)\n",
      "y_train:(31655,)\n",
      "y_test: (13567,)\n",
      "training model\n",
      "model: Pipeline(memory=None,\n",
      "         steps=[('transformer',\n",
      "                 ColumnTransformer(n_jobs=None, remainder='drop',\n",
      "                                   sparse_threshold=0.3,\n",
      "                                   transformer_weights=None,\n",
      "                                   transformers=[('c',\n",
      "                                                  OneHotEncoder(categories='auto',\n",
      "                                                                drop=None,\n",
      "                                                                dtype=<class 'numpy.float64'>,\n",
      "                                                                handle_unknown='ignore',\n",
      "                                                                sparse=True),\n",
      "                                                  Index(['workclass', 'education', 'marital-status', 'occupation',\n",
      "       'relationship', 'race', 'sex...\n",
      "                                                                         max_leaf_nodes=30,\n",
      "                                                                         min_impurity_decrease=0.0,\n",
      "                                                                         min_impurity_split=None,\n",
      "                                                                         min_samples_leaf=1,\n",
      "                                                                         min_samples_split=2,\n",
      "                                                                         min_weight_fraction_leaf=0.0,\n",
      "                                                                         presort='deprecated',\n",
      "                                                                         random_state=42,\n",
      "                                                                         splitter='best'),\n",
      "                                   bootstrap=True, bootstrap_features=False,\n",
      "                                   max_features=1.0, max_samples=1.0,\n",
      "                                   n_estimators=100, n_jobs=1, oob_score=True,\n",
      "                                   random_state=42, verbose=0,\n",
      "                                   warm_start=False))],\n",
      "         verbose=False)\n",
      "y_pred: [0 0 0 ... 0 0 0]\n",
      "Misclassified examples:1906\n",
      "[[0.50753153 0.49246847]\n",
      " [0.89365627 0.10634373]\n",
      " [0.937254   0.062746  ]\n",
      " ...\n",
      " [0.57407661 0.42592339]\n",
      " [0.70605063 0.29394937]\n",
      " [0.7206591  0.2793409 ]]\n",
      "distinct y_pred: [0 1]\n",
      "distinct y_test: [0 1]\n",
      "confusion matrix:\n",
      " [[9677  516]\n",
      " [1390 1984]]\n",
      "auc: 0.7687015526247397\n",
      "Accuracy: 0.8595120513009509\n",
      "Precision: 0.7936\n",
      "Recall: 0.5880260818020154\n",
      "F1: 0.6755192373169902\n",
      "classification_report\n",
      "              precision    recall  f1-score   support\n",
      "\n",
      "           0       0.87      0.95      0.91     10193\n",
      "           1       0.79      0.59      0.68      3374\n",
      "\n",
      "    accuracy                           0.86     13567\n",
      "   macro avg       0.83      0.77      0.79     13567\n",
      "weighted avg       0.85      0.86      0.85     13567\n",
      "\n",
      "model persisted at ./Ensemble.joblib\n",
      "Computational time:16.817145347595215\n"
     ]
    }
   ],
   "source": [
    "! python $script_folder/train_adult_ensemble.py --n-estimators 100 \\\n",
    "                   --max-leaf-nodes 30 \\\n",
    "                   --model-dir ./ \\\n",
    "                   --train ./data/ \\\n",
    "                   --features 'age workclass fnlwgt education education-num marital-status occupation relationship race sex capital-gain capital-loss hours-per-week native-country'"
   ]
  },
  {
   "cell_type": "markdown",
   "metadata": {},
   "source": [
    "<a id=\"3_2_2\"></a>\n",
    "##### 3.2.2 Submit the Training Job to the Compute Cluster\n",
    "\n",
    "Here we can run model Training in SageMaker training hardware.\n",
    "- Training job will show up in the Amazon SageMaker under Training section.\n",
    "- Launching a training job with the Python SDK\n",
    "- Create a sagemaker.sklearn.SKLearn Estimator"
   ]
  },
  {
   "cell_type": "code",
   "execution_count": 9,
   "metadata": {},
   "outputs": [],
   "source": [
    "# We use the Estimator from the SageMaker Python SDK\n",
    "from sagemaker.sklearn.estimator import SKLearn\n",
    "\n",
    "sklearn_estimator = SKLearn(\n",
    "    source_dir=\"./script/\",\n",
    "    entry_point='train_adult_ensemble.py',\n",
    "    role = get_execution_role(),\n",
    "    instance_type='ml.m5.4xlarge', \n",
    "    framework_version='0.20.0',\n",
    "    base_job_name='binary-classifiation-scikit-ensemble',\n",
    "    hyperparameters = {'max-leaf-nodes': 30,\n",
    "                       'n-estimators':100,\n",
    "                       'features': 'age workclass fnlwgt education education-num marital-status occupation relationship race sex capital-gain capital-loss hours-per-week native-country'\n",
    "                      })"
   ]
  },
  {
   "cell_type": "markdown",
   "metadata": {},
   "source": [
    "###### Call the estimator’s fit method"
   ]
  },
  {
   "cell_type": "code",
   "execution_count": 10,
   "metadata": {},
   "outputs": [
    {
     "data": {
      "text/plain": [
       "'s3://sagemaker-us-east-2-359732627051/Scikit-adults/data'"
      ]
     },
     "execution_count": 10,
     "metadata": {},
     "output_type": "execute_result"
    }
   ],
   "source": [
    "train_input = 's3://sagemaker-us-east-2-359732627051/Scikit-adults/data'\n",
    "train_input"
   ]
  },
  {
   "cell_type": "code",
   "execution_count": 11,
   "metadata": {
    "collapsed": false,
    "gather": {
     "logged": 1606177246034
    },
    "jupyter": {
     "outputs_hidden": false,
     "source_hidden": false
    },
    "nteract": {
     "transient": {
      "deleting": false
     }
    }
   },
   "outputs": [],
   "source": [
    "# launch training job, with asynchronous call\n",
    "sklearn_estimator.fit({'train': train_input}, wait=False)"
   ]
  },
  {
   "cell_type": "markdown",
   "metadata": {},
   "source": [
    "<a id=\"3_2_3\"></a>\n",
    "##### 3.2.3 Run locally (My Desktop hardware)\n",
    "Here we can run model Training locally use my desktop hardware:\n",
    "\n",
    "- 3.2.3.1 [Setup](#3_2_3_1)\n",
    "- 3.2.3.2 [Data Preparation](#3_2_3_2)\n",
    "- 3.2.3.3 [Model Training](#3_2_3_3)"
   ]
  },
  {
   "cell_type": "markdown",
   "metadata": {},
   "source": [
    "<a id=\"3_2_3_1\"></a>\n",
    "###### 3.2.3.1 Setup"
   ]
  },
  {
   "cell_type": "code",
   "execution_count": 13,
   "metadata": {},
   "outputs": [
    {
     "name": "stdout",
     "output_type": "stream",
     "text": [
      "Author: Habtamu desalegn\n",
      "\n",
      "Last updated: 2020-12-10\n",
      "\n",
      "Python implementation: CPython\n",
      "Python version       : 3.8.3\n",
      "IPython version      : 7.19.0\n",
      "\n",
      "numpy  : 1.19.4\n",
      "pandas : 1.1.4\n",
      "scipy  : 1.5.3\n",
      "sklearn: 0.23.2\n",
      "\n",
      "Compiler    : MSC v.1916 64 bit (AMD64)\n",
      "OS          : Windows\n",
      "Release     : 7\n",
      "Machine     : AMD64\n",
      "Processor   : Intel64 Family 6 Model 37 Stepping 5, GenuineIntel\n",
      "CPU cores   : 4\n",
      "Architecture: 64bit\n",
      "\n",
      "Hostname: Hade-PC\n",
      "\n"
     ]
    }
   ],
   "source": [
    "#! pip install watermark\n",
    "%reload_ext watermark\n",
    "%watermark  -d -u -h -m -a \"Habtamu desalegn\" -v -p numpy,pandas,scipy,sklearn"
   ]
  },
  {
   "cell_type": "code",
   "execution_count": 3,
   "metadata": {},
   "outputs": [],
   "source": [
    "# Python libraries \n",
    "import os\n",
    "import time\n",
    "import collections\n",
    "import joblib\n",
    "import pandas as pd\n",
    "import numpy as np\n",
    "from sklearn.preprocessing import LabelEncoder\n",
    "from sklearn.preprocessing import OneHotEncoder\n",
    "from sklearn.preprocessing import MinMaxScaler\n",
    "from sklearn.pipeline import Pipeline\n",
    "from sklearn.compose import ColumnTransformer\n",
    "from sklearn.model_selection import train_test_split\n",
    "from sklearn import metrics\n",
    "from sklearn.tree import DecisionTreeClassifier\n",
    "from sklearn.ensemble import BaggingClassifier"
   ]
  },
  {
   "cell_type": "markdown",
   "metadata": {},
   "source": [
    "<a id=\"3_2_3_2\"></a>\n",
    "###### 3.2.3.2 Data Preparation\n",
    "\n",
    "**Reference: Exp-2_train_adult_SVC_SageMaker-v3.ipynb**"
   ]
  },
  {
   "cell_type": "markdown",
   "metadata": {},
   "source": [
    "<a id=\"3_2_3_3\"></a>\n",
    "###### 3.2.3.3 Model Training"
   ]
  },
  {
   "cell_type": "code",
   "execution_count": 4,
   "metadata": {},
   "outputs": [
    {
     "name": "stdout",
     "output_type": "stream",
     "text": [
      "building datasets\n",
      "cat_ix: Index(['workclass', 'education', 'marital-status', 'occupation',\n",
      "       'relationship', 'race', 'sex', 'native-country'],\n",
      "      dtype='object')\n",
      "num_ix: Index(['age', 'fnlwgt', 'education-num', 'capital-gain', 'capital-loss',\n",
      "       'hours-per-week'],\n",
      "      dtype='object')\n",
      "X_train:(31655, 14)\n",
      "X_test: (13567, 14)\n",
      "y_train:(31655,)\n",
      "y_test: (13567,)\n",
      "training model\n",
      "model: Pipeline(steps=[('transformer',\n",
      "                 ColumnTransformer(transformers=[('c',\n",
      "                                                  OneHotEncoder(handle_unknown='ignore'),\n",
      "                                                  Index(['workclass', 'education', 'marital-status', 'occupation',\n",
      "       'relationship', 'race', 'sex', 'native-country'],\n",
      "      dtype='object')),\n",
      "                                                 ('n', MinMaxScaler(),\n",
      "                                                  Index(['age', 'fnlwgt', 'education-num', 'capital-gain', 'capital-loss',\n",
      "       'hours-per-week'],\n",
      "      dtype='object'))])),\n",
      "                ('bag',\n",
      "                 BaggingClassifier(base_estimator=DecisionTreeClassifier(max_depth=32,\n",
      "                                                                         max_leaf_nodes=30,\n",
      "                                                                         random_state=42),\n",
      "                                   n_estimators=100, n_jobs=1, oob_score=True,\n",
      "                                   random_state=42))])\n",
      "y_pred: [0 0 0 ... 0 0 0]\n",
      "Misclassified examples:1905\n",
      "[[0.50957217 0.49042783]\n",
      " [0.89364988 0.10635012]\n",
      " [0.93725205 0.06274795]\n",
      " ...\n",
      " [0.57364036 0.42635964]\n",
      " [0.70675479 0.29324521]\n",
      " [0.72065933 0.27934067]]\n",
      "distinct y_pred: [0 1]\n",
      "distinct y_test: [0 1]\n",
      "confusion matrix:\n",
      " [[9678  515]\n",
      " [1390 1984]]\n",
      "auc: 0.768750605896593\n",
      "Accuracy: 0.8595857595636471\n",
      "Precision: 0.7939175670268107\n",
      "Recall: 0.5880260818020154\n",
      "F1: 0.6756342584709689\n",
      "classification_report\n",
      "              precision    recall  f1-score   support\n",
      "\n",
      "           0       0.87      0.95      0.91     10193\n",
      "           1       0.79      0.59      0.68      3374\n",
      "\n",
      "    accuracy                           0.86     13567\n",
      "   macro avg       0.83      0.77      0.79     13567\n",
      "weighted avg       0.85      0.86      0.85     13567\n",
      "\n",
      "model persisted at models/SageMaker/Adult/local/desktop/Ensemble.joblib\n",
      "Computational time:26.993544340133667\n"
     ]
    }
   ],
   "source": [
    "start_time = time.time()\n",
    "\n",
    "df = pd.read_csv(\"./data/adult.csv\")\n",
    "df.head()\n",
    "        \n",
    "#Prepocessing\n",
    "print('building datasets')\n",
    "features = 'age workclass fnlwgt education education-num marital-status occupation relationship race sex capital-gain capital-loss hours-per-week native-country'\n",
    "target = 'IncomeGroup'\n",
    "X = df[features.split()]\n",
    "y = df[target]\n",
    "\n",
    "# label encode the target variable to have the classes 0 and 1\n",
    "y = LabelEncoder().fit_transform(y)\n",
    "\n",
    "cat_ix = X.select_dtypes(include=['object', 'bool']).columns\n",
    "print(f\"cat_ix: {cat_ix}\")\n",
    "num_ix = X.select_dtypes(include=['int64', 'float64']).columns\n",
    "print(f\"num_ix: {num_ix}\")\n",
    "\n",
    "#use stratify for un balanced number of examples for each class label\n",
    "X_train, X_test, y_train, y_test = train_test_split(X, y, test_size=0.3,random_state=42,shuffle=True)\n",
    "print(f\"X_train:{X_train.shape}\")\n",
    "print(f\"X_test: {X_test.shape}\")\n",
    "print(f\"y_train:{y_train.shape}\")\n",
    "print(f\"y_test: {y_test.shape}\")\n",
    "\n",
    "# Model Training\n",
    "print('training model')\n",
    "MODEL = 'Ensemble'\n",
    "    \n",
    "tree  = DecisionTreeClassifier(max_leaf_nodes=30,\n",
    "                               criterion=\"gini\", \n",
    "                               max_depth=32, \n",
    "                               min_samples_leaf=1, \n",
    "                               random_state=42)\n",
    "\n",
    "bag = BaggingClassifier(base_estimator=tree,\n",
    "                        n_estimators=100,\n",
    "                        oob_score=True,\n",
    "                        bootstrap=True,\n",
    "                        bootstrap_features=False,\n",
    "                        n_jobs=1,\n",
    "                        random_state=42)\n",
    "\n",
    "# define steps\n",
    "steps = [('c',OneHotEncoder(handle_unknown='ignore'),cat_ix), ('n',MinMaxScaler(),num_ix)]\n",
    "# one hot encode categorical, normalize numerical\n",
    "ct = ColumnTransformer(steps)\n",
    "# wrap the model a pipeline\n",
    "pipe  = Pipeline(steps=[('transformer',ct),('bag',bag)])\n",
    "pipe.fit(X_train, y_train)\n",
    "print(f\"model: {pipe}\")\n",
    "  \n",
    "## Evaluate the model\n",
    "\n",
    "# using threshold\n",
    "threshold = 0.5 # set threshold as 0.5\n",
    "y_pred = (pipe.predict_proba(X_test)[:,1] >= threshold).astype(int) \n",
    "print(f\"y_pred: {y_pred}\")\n",
    "print(f'Misclassified examples:{(y_test != y_pred).sum()}')\n",
    "print(pipe.predict_proba(X_test))\n",
    "  \n",
    "print(f\"distinct y_pred: {np.unique(y_pred)}\")\n",
    "print(f\"distinct y_test: {np.unique(y_test)}\")\n",
    "  \n",
    "# Confusion Matrix\n",
    "conf_mat = metrics.confusion_matrix(y_test, y_pred)\n",
    "print(f\"confusion matrix:\\n {conf_mat}\")\n",
    "\n",
    "# AUC\n",
    "auc = metrics.roc_auc_score(y_test, y_pred)\n",
    "print(f\"auc: {auc}\")\n",
    "\n",
    "# Accuracy\n",
    "accuracy = metrics.accuracy_score(y_test, y_pred)\n",
    "print(f\"Accuracy: {accuracy}\") \n",
    "\n",
    "# Precision\n",
    "precision = metrics.precision_score(y_test, y_pred)\n",
    "print(f\"Precision: {precision}\")\n",
    "\n",
    "# Recall\n",
    "recall = metrics.recall_score(y_test, y_pred)\n",
    "print(f\"Recall: {recall}\")\n",
    "\n",
    "# F1\n",
    "f1 = metrics.f1_score(y_test, y_pred)\n",
    "print(f\"F1: {f1}\")\n",
    "\n",
    "# classification_report\n",
    "print('classification_report')\n",
    "print(metrics.classification_report(y_test, y_pred))\n",
    "\n",
    "# persist model\n",
    "path = f\"models/SageMaker/Adult/local/desktop/{MODEL}.joblib\"\n",
    "joblib.dump(pipe, path)\n",
    "print('model persisted at ' + path)\n",
    "\n",
    "time_elapsed = (time.time() - start_time)\n",
    "print(\"Computational time:{}\".format(time_elapsed))"
   ]
  },
  {
   "cell_type": "markdown",
   "metadata": {},
   "source": [
    "<a id=\"compaire\"></a>\n",
    "### 4 Model Comparison\n",
    "\n",
    "Note: **similar**"
   ]
  },
  {
   "cell_type": "code",
   "execution_count": 5,
   "metadata": {},
   "outputs": [
    {
     "data": {
      "image/png": "[encoded data removed]",
      "text/plain": [
       "<IPython.core.display.Image object>"
      ]
     },
     "execution_count": 5,
     "metadata": {},
     "output_type": "execute_result"
    }
   ],
   "source": [
    "from IPython.display import Image\n",
    "\n",
    "Image(filename='images/SageMaker/Exp-2/BAG/metric-compair.png')"
   ]
  },
  {
   "cell_type": "markdown",
   "metadata": {},
   "source": [
    "#### some screenshots from SageMaker Training hardware"
   ]
  },
  {
   "cell_type": "code",
   "execution_count": 6,
   "metadata": {},
   "outputs": [
    {
     "data": {
      "image/png": "[encoded data removed]",
      "text/plain": [
       "<IPython.core.display.Image object>"
      ]
     },
     "execution_count": 6,
     "metadata": {},
     "output_type": "execute_result"
    }
   ],
   "source": [
    "Image(filename='images/SageMaker/Exp-2/BAG/metric.png')"
   ]
  },
  {
   "cell_type": "code",
   "execution_count": 7,
   "metadata": {},
   "outputs": [
    {
     "data": {
      "image/png": "[encoded data removed]",
      "text/plain": [
       "<IPython.core.display.Image object>"
      ]
     },
     "execution_count": 7,
     "metadata": {},
     "output_type": "execute_result"
    }
   ],
   "source": [
    "Image(filename='images/SageMaker/Exp-2/BAG/hyperparameter.png')"
   ]
  }
 ],
 "metadata": {
  "kernel_info": {
   "name": "python3"
  },
  "kernelspec": {
   "display_name": "Python 3",
   "language": "python",
   "name": "python3"
  },
  "language_info": {
   "codemirror_mode": {
    "name": "ipython",
    "version": 3
   },
   "file_extension": ".py",
   "mimetype": "text/x-python",
   "name": "python",
   "nbconvert_exporter": "python",
   "pygments_lexer": "ipython3",
   "version": "3.8.3"
  },
  "nteract": {
   "version": "nteract-front-end@1.0.0"
  }
 },
 "nbformat": 4,
 "nbformat_minor": 4
}
